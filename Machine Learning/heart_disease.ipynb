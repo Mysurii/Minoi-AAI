{
 "cells": [
  {
   "cell_type": "markdown",
   "metadata": {},
   "source": [
    "# Heart Disease\n",
    "\n",
    "## Dataset"
   ]
  },
  {
   "cell_type": "markdown",
   "metadata": {},
   "source": [
    "##### Standaard Imports"
   ]
  },
  {
   "cell_type": "code",
   "execution_count": 1,
   "metadata": {},
   "outputs": [],
   "source": [
    "import pandas as pd\n",
    "import seaborn as sns\n",
    "import matplotlib.pyplot as plt\n",
    "from sklearn.model_selection import train_test_split\n",
    "from sklearn.metrics import accuracy_score, recall_score"
   ]
  },
  {
   "cell_type": "markdown",
   "metadata": {},
   "source": [
    "##### Data veroveren\n",
    "\n",
    "Hieronder kun je de eerste vijf rijen van de dataset bekijken. Er is een kolom dat HeartDisease heet. Dit is onze label. Dit bestaat uit twee unieke waarden: 0 en 1. \n",
    "\n",
    "0 = false (geen heartdisease)\n",
    "\n",
    "1 = true  (wel heartdisease)"
   ]
  },
  {
   "cell_type": "code",
   "execution_count": 2,
   "metadata": {},
   "outputs": [
    {
     "data": {
      "text/html": [
       "<div>\n",
       "<style scoped>\n",
       "    .dataframe tbody tr th:only-of-type {\n",
       "        vertical-align: middle;\n",
       "    }\n",
       "\n",
       "    .dataframe tbody tr th {\n",
       "        vertical-align: top;\n",
       "    }\n",
       "\n",
       "    .dataframe thead th {\n",
       "        text-align: right;\n",
       "    }\n",
       "</style>\n",
       "<table border=\"1\" class=\"dataframe\">\n",
       "  <thead>\n",
       "    <tr style=\"text-align: right;\">\n",
       "      <th></th>\n",
       "      <th>Age</th>\n",
       "      <th>Sex</th>\n",
       "      <th>ChestPainType</th>\n",
       "      <th>RestingBP</th>\n",
       "      <th>Cholesterol</th>\n",
       "      <th>FastingBS</th>\n",
       "      <th>RestingECG</th>\n",
       "      <th>MaxHR</th>\n",
       "      <th>ExerciseAngina</th>\n",
       "      <th>Oldpeak</th>\n",
       "      <th>ST_Slope</th>\n",
       "      <th>HeartDisease</th>\n",
       "    </tr>\n",
       "  </thead>\n",
       "  <tbody>\n",
       "    <tr>\n",
       "      <th>0</th>\n",
       "      <td>40</td>\n",
       "      <td>M</td>\n",
       "      <td>ATA</td>\n",
       "      <td>140</td>\n",
       "      <td>289</td>\n",
       "      <td>0</td>\n",
       "      <td>Normal</td>\n",
       "      <td>172</td>\n",
       "      <td>N</td>\n",
       "      <td>0.0</td>\n",
       "      <td>Up</td>\n",
       "      <td>0</td>\n",
       "    </tr>\n",
       "    <tr>\n",
       "      <th>1</th>\n",
       "      <td>49</td>\n",
       "      <td>F</td>\n",
       "      <td>NAP</td>\n",
       "      <td>160</td>\n",
       "      <td>180</td>\n",
       "      <td>0</td>\n",
       "      <td>Normal</td>\n",
       "      <td>156</td>\n",
       "      <td>N</td>\n",
       "      <td>1.0</td>\n",
       "      <td>Flat</td>\n",
       "      <td>1</td>\n",
       "    </tr>\n",
       "    <tr>\n",
       "      <th>2</th>\n",
       "      <td>37</td>\n",
       "      <td>M</td>\n",
       "      <td>ATA</td>\n",
       "      <td>130</td>\n",
       "      <td>283</td>\n",
       "      <td>0</td>\n",
       "      <td>ST</td>\n",
       "      <td>98</td>\n",
       "      <td>N</td>\n",
       "      <td>0.0</td>\n",
       "      <td>Up</td>\n",
       "      <td>0</td>\n",
       "    </tr>\n",
       "    <tr>\n",
       "      <th>3</th>\n",
       "      <td>48</td>\n",
       "      <td>F</td>\n",
       "      <td>ASY</td>\n",
       "      <td>138</td>\n",
       "      <td>214</td>\n",
       "      <td>0</td>\n",
       "      <td>Normal</td>\n",
       "      <td>108</td>\n",
       "      <td>Y</td>\n",
       "      <td>1.5</td>\n",
       "      <td>Flat</td>\n",
       "      <td>1</td>\n",
       "    </tr>\n",
       "    <tr>\n",
       "      <th>4</th>\n",
       "      <td>54</td>\n",
       "      <td>M</td>\n",
       "      <td>NAP</td>\n",
       "      <td>150</td>\n",
       "      <td>195</td>\n",
       "      <td>0</td>\n",
       "      <td>Normal</td>\n",
       "      <td>122</td>\n",
       "      <td>N</td>\n",
       "      <td>0.0</td>\n",
       "      <td>Up</td>\n",
       "      <td>0</td>\n",
       "    </tr>\n",
       "  </tbody>\n",
       "</table>\n",
       "</div>"
      ],
      "text/plain": [
       "   Age Sex ChestPainType  RestingBP  Cholesterol  FastingBS RestingECG  MaxHR  \\\n",
       "0   40   M           ATA        140          289          0     Normal    172   \n",
       "1   49   F           NAP        160          180          0     Normal    156   \n",
       "2   37   M           ATA        130          283          0         ST     98   \n",
       "3   48   F           ASY        138          214          0     Normal    108   \n",
       "4   54   M           NAP        150          195          0     Normal    122   \n",
       "\n",
       "  ExerciseAngina  Oldpeak ST_Slope  HeartDisease  \n",
       "0              N      0.0       Up             0  \n",
       "1              N      1.0     Flat             1  \n",
       "2              N      0.0       Up             0  \n",
       "3              Y      1.5     Flat             1  \n",
       "4              N      0.0       Up             0  "
      ]
     },
     "execution_count": 2,
     "metadata": {},
     "output_type": "execute_result"
    }
   ],
   "source": [
    "data = pd.read_csv('heart.csv')\n",
    "\n",
    "data.head()"
   ]
  },
  {
   "cell_type": "markdown",
   "metadata": {},
   "source": [
    "## Probleem\n",
    "\n",
    "Hart- en vaatziektes is een verzamennaam voor verschillende ziekten aan het het of aan de bloedvaten. Hart en vaatziektes zijn de belangrijkste doodsoorzaak in Nederland. Dertig procent van alle mensen sterft eraan. \n",
    "\n",
    "Ze zijn onder te verdelen in een aantal soorten:\n",
    "- slechte bloedaanleg\n",
    "- hartfalen\n",
    "- hartritmestoornissen\n",
    "- aangeboren hartziektes\n",
    "- aandoenlingen aan de hartkleppen\n",
    "\n",
    "Wat hart- en vaatziekten veroorzaakt verschilt per ziekte. Wel zijn er een aantal factoren die ervoor zorgen dat u meer kans heeft om last te krijgen van hart- en vaatziekten, namelijk: roken, overgewicht, diabetes, hoge bloeddruk en een te hoog cholesterolgehalte.\n",
    "\n",
    "Hoe cool zou het zijn om van te voren te weten of je een hartziekte hebt of niet? Dat is ook het probleem die ik met dit verslag ga aanpakken. Met behulp van een aantal ML classifiers wordt er bepaald of iemand een hartziekte kan hebben of niet. Er worden drie verschillende modellen getrained: \n",
    "- Logistic regression\n",
    "- Decision Tree Classifier\n",
    "- Random Forest Tree. \n",
    "\n",
    "Een subdoel is om te bepalen wat het verschil nou is tussen deze modellen en welke het best geschikt is voor dit probleem.\n",
    "\n",
    "Bij hartfalen diagnotiseren is het belangrijk om te kijken of degene die getest is, ook echt correct geclassificeerd is als 'hartziekte'. Daarom wordt er geporobeerd om de recall metric zo hoog mogelijk te verkrijgen. De False Nagetives zijn dus belangrijker dan False Positives.\n",
    "\n",
    "Formule:\n",
    "Recall = (TP) / (TP + FN)"
   ]
  },
  {
   "cell_type": "code",
   "execution_count": 3,
   "metadata": {},
   "outputs": [
    {
     "data": {
      "text/plain": [
       "(918, 12)"
      ]
     },
     "execution_count": 3,
     "metadata": {},
     "output_type": "execute_result"
    }
   ],
   "source": [
    "data.shape"
   ]
  },
  {
   "cell_type": "code",
   "execution_count": 4,
   "metadata": {},
   "outputs": [
    {
     "data": {
      "text/plain": [
       "Age                 int64\n",
       "Sex                object\n",
       "ChestPainType      object\n",
       "RestingBP           int64\n",
       "Cholesterol         int64\n",
       "FastingBS           int64\n",
       "RestingECG         object\n",
       "MaxHR               int64\n",
       "ExerciseAngina     object\n",
       "Oldpeak           float64\n",
       "ST_Slope           object\n",
       "HeartDisease        int64\n",
       "dtype: object"
      ]
     },
     "execution_count": 4,
     "metadata": {},
     "output_type": "execute_result"
    }
   ],
   "source": [
    "data.dtypes"
   ]
  },
  {
   "cell_type": "markdown",
   "metadata": {},
   "source": [
    "**Insights**\n",
    "- Er zijn 918 rijen en 12 kolommen in de dataset\n",
    "- Er zijn 5 kolommen die geen getallen zijn. Dit zijn: Sex, ChestpainType, RestingECG, ExerciseAngina en ST_Slope. Deze moeten worden veranderd naar getallen"
   ]
  },
  {
   "cell_type": "code",
   "execution_count": 6,
   "metadata": {},
   "outputs": [
    {
     "data": {
      "text/html": [
       "<div>\n",
       "<style scoped>\n",
       "    .dataframe tbody tr th:only-of-type {\n",
       "        vertical-align: middle;\n",
       "    }\n",
       "\n",
       "    .dataframe tbody tr th {\n",
       "        vertical-align: top;\n",
       "    }\n",
       "\n",
       "    .dataframe thead th {\n",
       "        text-align: right;\n",
       "    }\n",
       "</style>\n",
       "<table border=\"1\" class=\"dataframe\">\n",
       "  <thead>\n",
       "    <tr style=\"text-align: right;\">\n",
       "      <th></th>\n",
       "      <th>count</th>\n",
       "      <th>mean</th>\n",
       "      <th>std</th>\n",
       "      <th>min</th>\n",
       "      <th>25%</th>\n",
       "      <th>50%</th>\n",
       "      <th>75%</th>\n",
       "      <th>max</th>\n",
       "    </tr>\n",
       "  </thead>\n",
       "  <tbody>\n",
       "    <tr>\n",
       "      <th>Age</th>\n",
       "      <td>918.0</td>\n",
       "      <td>53.510893</td>\n",
       "      <td>9.432617</td>\n",
       "      <td>28.0</td>\n",
       "      <td>47.00</td>\n",
       "      <td>54.0</td>\n",
       "      <td>60.0</td>\n",
       "      <td>77.0</td>\n",
       "    </tr>\n",
       "    <tr>\n",
       "      <th>RestingBP</th>\n",
       "      <td>918.0</td>\n",
       "      <td>132.396514</td>\n",
       "      <td>18.514154</td>\n",
       "      <td>0.0</td>\n",
       "      <td>120.00</td>\n",
       "      <td>130.0</td>\n",
       "      <td>140.0</td>\n",
       "      <td>200.0</td>\n",
       "    </tr>\n",
       "    <tr>\n",
       "      <th>Cholesterol</th>\n",
       "      <td>918.0</td>\n",
       "      <td>198.799564</td>\n",
       "      <td>109.384145</td>\n",
       "      <td>0.0</td>\n",
       "      <td>173.25</td>\n",
       "      <td>223.0</td>\n",
       "      <td>267.0</td>\n",
       "      <td>603.0</td>\n",
       "    </tr>\n",
       "    <tr>\n",
       "      <th>FastingBS</th>\n",
       "      <td>918.0</td>\n",
       "      <td>0.233115</td>\n",
       "      <td>0.423046</td>\n",
       "      <td>0.0</td>\n",
       "      <td>0.00</td>\n",
       "      <td>0.0</td>\n",
       "      <td>0.0</td>\n",
       "      <td>1.0</td>\n",
       "    </tr>\n",
       "    <tr>\n",
       "      <th>MaxHR</th>\n",
       "      <td>918.0</td>\n",
       "      <td>136.809368</td>\n",
       "      <td>25.460334</td>\n",
       "      <td>60.0</td>\n",
       "      <td>120.00</td>\n",
       "      <td>138.0</td>\n",
       "      <td>156.0</td>\n",
       "      <td>202.0</td>\n",
       "    </tr>\n",
       "    <tr>\n",
       "      <th>Oldpeak</th>\n",
       "      <td>918.0</td>\n",
       "      <td>0.887364</td>\n",
       "      <td>1.066570</td>\n",
       "      <td>-2.6</td>\n",
       "      <td>0.00</td>\n",
       "      <td>0.6</td>\n",
       "      <td>1.5</td>\n",
       "      <td>6.2</td>\n",
       "    </tr>\n",
       "    <tr>\n",
       "      <th>HeartDisease</th>\n",
       "      <td>918.0</td>\n",
       "      <td>0.553377</td>\n",
       "      <td>0.497414</td>\n",
       "      <td>0.0</td>\n",
       "      <td>0.00</td>\n",
       "      <td>1.0</td>\n",
       "      <td>1.0</td>\n",
       "      <td>1.0</td>\n",
       "    </tr>\n",
       "  </tbody>\n",
       "</table>\n",
       "</div>"
      ],
      "text/plain": [
       "              count        mean         std   min     25%    50%    75%    max\n",
       "Age           918.0   53.510893    9.432617  28.0   47.00   54.0   60.0   77.0\n",
       "RestingBP     918.0  132.396514   18.514154   0.0  120.00  130.0  140.0  200.0\n",
       "Cholesterol   918.0  198.799564  109.384145   0.0  173.25  223.0  267.0  603.0\n",
       "FastingBS     918.0    0.233115    0.423046   0.0    0.00    0.0    0.0    1.0\n",
       "MaxHR         918.0  136.809368   25.460334  60.0  120.00  138.0  156.0  202.0\n",
       "Oldpeak       918.0    0.887364    1.066570  -2.6    0.00    0.6    1.5    6.2\n",
       "HeartDisease  918.0    0.553377    0.497414   0.0    0.00    1.0    1.0    1.0"
      ]
     },
     "execution_count": 6,
     "metadata": {},
     "output_type": "execute_result"
    }
   ],
   "source": [
    "data.describe().T"
   ]
  },
  {
   "cell_type": "markdown",
   "metadata": {},
   "source": [
    "**Insights**\n",
    "- De meeste patienten zijn tussen de 47 en 60 jaar oud.\n",
    "- Bij RestingBP is de minimale waarde 0, terwijl 25% van de goep bijvoorbeeld 120 bevat. De gemiddelde is 132. Dit kan dus een uitsmijter zijn. Dezelfde geldt voor de cholesterol-gehalte.\n",
    "- FastingBS kan wel gewoon minimaal 0 zijn, aanegzien de meeste ook gewoon 0 als waarde hebben.\n",
    "- Zo'n 55% van de patienten heeft hartproblemen."
   ]
  },
  {
   "cell_type": "code",
   "execution_count": 9,
   "metadata": {},
   "outputs": [
    {
     "data": {
      "text/html": [
       "<div>\n",
       "<style scoped>\n",
       "    .dataframe tbody tr th:only-of-type {\n",
       "        vertical-align: middle;\n",
       "    }\n",
       "\n",
       "    .dataframe tbody tr th {\n",
       "        vertical-align: top;\n",
       "    }\n",
       "\n",
       "    .dataframe thead th {\n",
       "        text-align: right;\n",
       "    }\n",
       "</style>\n",
       "<table border=\"1\" class=\"dataframe\">\n",
       "  <thead>\n",
       "    <tr style=\"text-align: right;\">\n",
       "      <th></th>\n",
       "      <th>count</th>\n",
       "      <th>unique</th>\n",
       "      <th>top</th>\n",
       "      <th>freq</th>\n",
       "    </tr>\n",
       "  </thead>\n",
       "  <tbody>\n",
       "    <tr>\n",
       "      <th>Sex</th>\n",
       "      <td>918</td>\n",
       "      <td>2</td>\n",
       "      <td>M</td>\n",
       "      <td>725</td>\n",
       "    </tr>\n",
       "    <tr>\n",
       "      <th>ChestPainType</th>\n",
       "      <td>918</td>\n",
       "      <td>4</td>\n",
       "      <td>ASY</td>\n",
       "      <td>496</td>\n",
       "    </tr>\n",
       "    <tr>\n",
       "      <th>RestingECG</th>\n",
       "      <td>918</td>\n",
       "      <td>3</td>\n",
       "      <td>Normal</td>\n",
       "      <td>552</td>\n",
       "    </tr>\n",
       "    <tr>\n",
       "      <th>ExerciseAngina</th>\n",
       "      <td>918</td>\n",
       "      <td>2</td>\n",
       "      <td>N</td>\n",
       "      <td>547</td>\n",
       "    </tr>\n",
       "    <tr>\n",
       "      <th>ST_Slope</th>\n",
       "      <td>918</td>\n",
       "      <td>3</td>\n",
       "      <td>Flat</td>\n",
       "      <td>460</td>\n",
       "    </tr>\n",
       "  </tbody>\n",
       "</table>\n",
       "</div>"
      ],
      "text/plain": [
       "               count unique     top freq\n",
       "Sex              918      2       M  725\n",
       "ChestPainType    918      4     ASY  496\n",
       "RestingECG       918      3  Normal  552\n",
       "ExerciseAngina   918      2       N  547\n",
       "ST_Slope         918      3    Flat  460"
      ]
     },
     "execution_count": 9,
     "metadata": {},
     "output_type": "execute_result"
    }
   ],
   "source": [
    "data.describe(include='object').T"
   ]
  },
  {
   "cell_type": "markdown",
   "metadata": {},
   "source": [
    "**Insights**\n",
    "\n",
    "Waar het hier om draait, is vooral de unieke waardes van de categorische values. Zo zijn er 4 verschillende types 'chestpain', wat allemaal van type string is. Dit moet dus veranderd worden naar nummers."
   ]
  },
  {
   "cell_type": "code",
   "execution_count": 10,
   "metadata": {},
   "outputs": [
    {
     "data": {
      "image/png": "[encoded data removed]",
      "text/plain": [
       "<Figure size 360x360 with 1 Axes>"
      ]
     },
     "metadata": {},
     "output_type": "display_data"
    }
   ],
   "source": [
    "with_disease = data[data['HeartDisease'] == 1]['HeartDisease'].count()\n",
    "without_disease = data[data['HeartDisease'] == 0]['HeartDisease'].count()\n",
    "\n",
    "#define Seaborn color palette to use\n",
    "colors = sns.color_palette('deep')[3 : 1 : -1]\n",
    "\n",
    "# Bekijk of labels wel verdeeld zijn. Niet dat 90% van de data wel borstkanker heeft en maar 10% niet o.i.d. Je kunt dus zien dat het \n",
    "# 40/60 verdeeld is. Dat is nog prima.\n",
    "plt.figure(figsize=(5,5))\n",
    "plt.pie([with_disease, without_disease], colors=colors, autopct='%.1F%%', textprops = {'fontsize':14}, explode = [0,0.05])\n",
    "plt.legend(labels=['wel','niet'])\n",
    "plt.title('Hart problemen')\n",
    "plt.show()"
   ]
  },
  {
   "cell_type": "markdown",
   "metadata": {},
   "source": [
    "**Insights**\n",
    "\n",
    "55% van de kandidaten heeft hartproblemen en 45% niet. De dataset is dus goed in balans."
   ]
  },
  {
   "cell_type": "markdown",
   "metadata": {},
   "source": [
    "## Voorspelling\n",
    "\n",
    "**Classifiers**\n",
    "\n",
    "Ik verwacht dat Random Forest een betere accuracy gaat krijgen dan de Decision Tree, aangezien RF een ensamble is van verschillende Decision Trees. Dit maakt de kans groter dat RF het beter zal doen dan DT.\n",
    "\n",
    "Ik verwacht ook dat Random Forest een betere accuraatheid gaat gevendan Logistic Regression, aangezien de RF meer accuraatgericht is, maar sloom zal zijn en de Logistic Regression juist op snelheid let. Aangezien LR snel is, denk ik dat het eerder fouten kan maken.\n",
    "\n",
    "**Hyperparameters**\n",
    "\n",
    "Qua Logistic Regression denk ik niet dat veel hyperparameters belangrijk zullen worden. Het heeft er ook niet een groot variatie van. Het enige wat ik denk dat belangrijk kan zijn is de solver. Volgens de documentatie van sklearn (zie bronnen) is liblinear een beter geschikt voor kleine datasets (dit is ook een kleine dataset). Ik zal dus deze uitproberen met de standaardwaarde (lbfgs).\n",
    "\n",
    "Voor DT en RFC lijkt me de volgende hyperparameters van belang:\n",
    "- max_depth: Default is dit zo lang mogelijk totdat de laatste node 1 waarde bevat. Hiermee kunnen we dus overfitting voorkomen\n",
    "- max_leaf_nodes: Dit zorgt er ook voor dat de tree varieert in diepte. \n",
    "- Ook min_sample_split en min_sample_leaf kunnen een bijdrage geven. Hiermee kunnen we aangeven of split naar nodes wel kan of niet.\n",
    "\n",
    "Voor RFC geldt ook de volgende:\n",
    "- n_estimators: aantal decision trees in de forest tree. Dit spreekt voor zich. Meerdere decision trees ensambled hebben een kans op een betere accuracy. Toch capt het na een x aantal trees.\n",
    "- max_features: Ook dit kan een rol spelen. Door bij elke split een aantal features te pakken i.p.v. alle, zorgt het voor variatie in de hele tree. \n",
    "\n",
    "\n"
   ]
  },
  {
   "cell_type": "markdown",
   "metadata": {},
   "source": [
    "## Methoden"
   ]
  },
  {
   "cell_type": "markdown",
   "metadata": {},
   "source": [
    "#### Pre-processing"
   ]
  },
  {
   "cell_type": "code",
   "execution_count": 11,
   "metadata": {},
   "outputs": [
    {
     "data": {
      "text/plain": [
       "Age               0\n",
       "Sex               0\n",
       "ChestPainType     0\n",
       "RestingBP         0\n",
       "Cholesterol       0\n",
       "FastingBS         0\n",
       "RestingECG        0\n",
       "MaxHR             0\n",
       "ExerciseAngina    0\n",
       "Oldpeak           0\n",
       "ST_Slope          0\n",
       "HeartDisease      0\n",
       "dtype: int64"
      ]
     },
     "execution_count": 11,
     "metadata": {},
     "output_type": "execute_result"
    }
   ],
   "source": [
    "data.isna().sum()"
   ]
  },
  {
   "cell_type": "code",
   "execution_count": 12,
   "metadata": {},
   "outputs": [
    {
     "data": {
      "text/plain": [
       "0"
      ]
     },
     "execution_count": 12,
     "metadata": {},
     "output_type": "execute_result"
    }
   ],
   "source": [
    "data.duplicated().sum()"
   ]
  },
  {
   "cell_type": "markdown",
   "metadata": {},
   "source": [
    "**Insights**\n",
    "\n",
    "- Er zijn geen gedupliceerde waarden\n",
    "- Er zijn geen lege cellen\n"
   ]
  },
  {
   "cell_type": "markdown",
   "metadata": {},
   "source": [
    "##### Categorisch -> numeriek"
   ]
  },
  {
   "cell_type": "code",
   "execution_count": 13,
   "metadata": {},
   "outputs": [
    {
     "data": {
      "text/html": [
       "<div>\n",
       "<style scoped>\n",
       "    .dataframe tbody tr th:only-of-type {\n",
       "        vertical-align: middle;\n",
       "    }\n",
       "\n",
       "    .dataframe tbody tr th {\n",
       "        vertical-align: top;\n",
       "    }\n",
       "\n",
       "    .dataframe thead th {\n",
       "        text-align: right;\n",
       "    }\n",
       "</style>\n",
       "<table border=\"1\" class=\"dataframe\">\n",
       "  <thead>\n",
       "    <tr style=\"text-align: right;\">\n",
       "      <th></th>\n",
       "      <th>Age</th>\n",
       "      <th>Sex</th>\n",
       "      <th>ChestPainType</th>\n",
       "      <th>RestingBP</th>\n",
       "      <th>Cholesterol</th>\n",
       "      <th>FastingBS</th>\n",
       "      <th>RestingECG</th>\n",
       "      <th>MaxHR</th>\n",
       "      <th>ExerciseAngina</th>\n",
       "      <th>Oldpeak</th>\n",
       "      <th>ST_Slope</th>\n",
       "      <th>HeartDisease</th>\n",
       "    </tr>\n",
       "  </thead>\n",
       "  <tbody>\n",
       "    <tr>\n",
       "      <th>0</th>\n",
       "      <td>40</td>\n",
       "      <td>1</td>\n",
       "      <td>1</td>\n",
       "      <td>140</td>\n",
       "      <td>289</td>\n",
       "      <td>0</td>\n",
       "      <td>1</td>\n",
       "      <td>172</td>\n",
       "      <td>0</td>\n",
       "      <td>0.0</td>\n",
       "      <td>2</td>\n",
       "      <td>0</td>\n",
       "    </tr>\n",
       "    <tr>\n",
       "      <th>1</th>\n",
       "      <td>49</td>\n",
       "      <td>0</td>\n",
       "      <td>2</td>\n",
       "      <td>160</td>\n",
       "      <td>180</td>\n",
       "      <td>0</td>\n",
       "      <td>1</td>\n",
       "      <td>156</td>\n",
       "      <td>0</td>\n",
       "      <td>1.0</td>\n",
       "      <td>1</td>\n",
       "      <td>1</td>\n",
       "    </tr>\n",
       "    <tr>\n",
       "      <th>2</th>\n",
       "      <td>37</td>\n",
       "      <td>1</td>\n",
       "      <td>1</td>\n",
       "      <td>130</td>\n",
       "      <td>283</td>\n",
       "      <td>0</td>\n",
       "      <td>2</td>\n",
       "      <td>98</td>\n",
       "      <td>0</td>\n",
       "      <td>0.0</td>\n",
       "      <td>2</td>\n",
       "      <td>0</td>\n",
       "    </tr>\n",
       "    <tr>\n",
       "      <th>3</th>\n",
       "      <td>48</td>\n",
       "      <td>0</td>\n",
       "      <td>0</td>\n",
       "      <td>138</td>\n",
       "      <td>214</td>\n",
       "      <td>0</td>\n",
       "      <td>1</td>\n",
       "      <td>108</td>\n",
       "      <td>1</td>\n",
       "      <td>1.5</td>\n",
       "      <td>1</td>\n",
       "      <td>1</td>\n",
       "    </tr>\n",
       "    <tr>\n",
       "      <th>4</th>\n",
       "      <td>54</td>\n",
       "      <td>1</td>\n",
       "      <td>2</td>\n",
       "      <td>150</td>\n",
       "      <td>195</td>\n",
       "      <td>0</td>\n",
       "      <td>1</td>\n",
       "      <td>122</td>\n",
       "      <td>0</td>\n",
       "      <td>0.0</td>\n",
       "      <td>2</td>\n",
       "      <td>0</td>\n",
       "    </tr>\n",
       "  </tbody>\n",
       "</table>\n",
       "</div>"
      ],
      "text/plain": [
       "   Age  Sex  ChestPainType  RestingBP  Cholesterol  FastingBS  RestingECG  \\\n",
       "0   40    1              1        140          289          0           1   \n",
       "1   49    0              2        160          180          0           1   \n",
       "2   37    1              1        130          283          0           2   \n",
       "3   48    0              0        138          214          0           1   \n",
       "4   54    1              2        150          195          0           1   \n",
       "\n",
       "   MaxHR  ExerciseAngina  Oldpeak  ST_Slope  HeartDisease  \n",
       "0    172               0      0.0         2             0  \n",
       "1    156               0      1.0         1             1  \n",
       "2     98               0      0.0         2             0  \n",
       "3    108               1      1.5         1             1  \n",
       "4    122               0      0.0         2             0  "
      ]
     },
     "execution_count": 13,
     "metadata": {},
     "output_type": "execute_result"
    }
   ],
   "source": [
    "categorical_features = ['Sex','ChestPainType','RestingECG','ExerciseAngina','ST_Slope']\n",
    "\n",
    "from sklearn.preprocessing import LabelEncoder\n",
    "lb=LabelEncoder()\n",
    "\n",
    "data[categorical_features] = data[categorical_features].apply(lb.fit_transform)\n",
    "\n",
    "data.head()"
   ]
  },
  {
   "cell_type": "code",
   "execution_count": 14,
   "metadata": {},
   "outputs": [
    {
     "data": {
      "image/png": "[encoded data removed]",
      "text/plain": [
       "<Figure size 864x720 with 12 Axes>"
      ]
     },
     "metadata": {
      "needs_background": "light"
     },
     "output_type": "display_data"
    }
   ],
   "source": [
    "plt.figure(figsize=(12,10))\n",
    "for idx, column in enumerate(data.columns):\n",
    "    plt.subplot(4, 3, idx+1)\n",
    "    sns.histplot(x=column, data=data)\n",
    "    plt.title(column)\n",
    "    plt.tight_layout()\n",
    "plt.show()\n"
   ]
  },
  {
   "cell_type": "markdown",
   "metadata": {},
   "source": [
    "**Insights**\n",
    "- De categorische waardes zoals Age en ResgingBP zijn redelijk normaal verdeeld.\n",
    "- Bij cholesterol zijn er heelveel 0 waardes. Dit zijn hoogstwaarschijnlijk uitsmijters, want 0 als waarde voor cholesterol is niet mogelijk.\n",
    "- Er zijn veel meer mannen met hartproblemen dan vrouwen.\n",
    "- OldPleak heeft een negatieve waarde. Deze kunnen niet negatief zijn.\n",
    "\n",
    "Om er zeker van te zijn dat RestingBP en Cholesterol uitsmijters bevat, wordt er hieronder een boxplot getekend."
   ]
  },
  {
   "cell_type": "code",
   "execution_count": 15,
   "metadata": {},
   "outputs": [
    {
     "data": {
      "image/png": "[encoded data removed]",
      "text/plain": [
       "<Figure size 432x288 with 1 Axes>"
      ]
     },
     "metadata": {
      "needs_background": "light"
     },
     "output_type": "display_data"
    },
    {
     "data": {
      "image/png": "[encoded data removed]",
      "text/plain": [
       "<Figure size 432x288 with 1 Axes>"
      ]
     },
     "metadata": {
      "needs_background": "light"
     },
     "output_type": "display_data"
    }
   ],
   "source": [
    "plt.boxplot(data['RestingBP'], vert=False)\n",
    "plt.title('RestingBP')\n",
    "plt.show()\n",
    "\n",
    "plt.boxplot(data['Cholesterol'], vert=False)\n",
    "plt.title('Cholesterol')\n",
    "plt.show()"
   ]
  },
  {
   "cell_type": "markdown",
   "metadata": {},
   "source": [
    "**Insights**\n",
    "\n",
    "Er zijn inderdaad uitsmijters. \n",
    "\n",
    "Er is maar 1 negatieve waarde bij RestingBP (wat niet kan). Ik denk dat dit gewoon een typefout is, want de absolute waarde komt gewoon goed overeen. Deze kunnen we dus veranderen naar de abolute waarde.\n",
    "\n",
    "Bij cholesterol kan dit niet zomaar. Het zijn er teveel en cholesterol heeft een groot invloed. Aangezien het er te veel zijn en dat het gewoon echt uitsmijters zijn, kan de gemiddelde hier niet gebruikt voor worden. De beste optsie is dus of de mediaan of de modus te gebruiken."
   ]
  },
  {
   "cell_type": "markdown",
   "metadata": {},
   "source": [
    "Laten we beginnen met de cholesterol-gehalte. We weten dat 0 niet kan. Ik wil de 0-waardes ook niet weggooien, aangezien de dataset niet al te groot is."
   ]
  },
  {
   "cell_type": "code",
   "execution_count": 16,
   "metadata": {},
   "outputs": [],
   "source": [
    "median_cholesterol = data['Cholesterol'].median()\n",
    "data[\"Cholesterol\"].replace(0, median_cholesterol, inplace=True)"
   ]
  },
  {
   "cell_type": "markdown",
   "metadata": {},
   "source": [
    "We hebben net geconcludeerd dat we de absolute waarde kunnen gebruiken voor Oldpeak, aangezien het maar 1 waarde is. Hoogstwaarschijnlijk is dit een typefout."
   ]
  },
  {
   "cell_type": "code",
   "execution_count": 17,
   "metadata": {},
   "outputs": [],
   "source": [
    "data.loc[data['Oldpeak'] < 0,'Oldpeak'] = 0.1 # absolute waarde van de oude oldPeak"
   ]
  },
  {
   "cell_type": "markdown",
   "metadata": {},
   "source": [
    "Last but not least, de RestingBP. Hierbij kunnen we wel gewoon de gemiddelde gebruiken. Dit zal niet veel invloed hebben op de vorige gemiddelde."
   ]
  },
  {
   "cell_type": "code",
   "execution_count": 18,
   "metadata": {},
   "outputs": [],
   "source": [
    "mean_restingbp = data['RestingBP'].mean()\n",
    "\n",
    "data[\"RestingBP\"].replace(0, mean_restingbp, inplace=True)"
   ]
  },
  {
   "cell_type": "markdown",
   "metadata": {},
   "source": [
    "Aangezien de heatmap een visueel beter is dan normale correlatie tabel, gebruiken we de heatmap in de sns library."
   ]
  },
  {
   "cell_type": "code",
   "execution_count": 19,
   "metadata": {},
   "outputs": [
    {
     "data": {
      "text/plain": [
       "<AxesSubplot:>"
      ]
     },
     "execution_count": 19,
     "metadata": {},
     "output_type": "execute_result"
    },
    {
     "data": {
      "image/png": "[encoded data removed]",
      "text/plain": [
       "<Figure size 720x720 with 2 Axes>"
      ]
     },
     "metadata": {
      "needs_background": "light"
     },
     "output_type": "display_data"
    }
   ],
   "source": [
    "# Visualiseer de correlatie tabel met een heatmap\n",
    "plt.figure(figsize=(10,10))\n",
    "sns.heatmap(data.corr(), annot=True, fmt='.2f')"
   ]
  },
  {
   "cell_type": "markdown",
   "metadata": {},
   "source": [
    "**Insights**\n",
    "\n",
    "Je kunt zien dat er in de heatmap nu ook gewoon alle kolommen aanwezig zijn. Alle kolommen worden meegenomen in de modellen, aangezien allen direct of indirect veel invloedt hebben op de heartdisease. RestingECG en cholesterol zouden wel wegkunnen, aangezien ze zowel direct als indirect heel weinig invloed hebben.\n",
    "\n",
    "Op eerste blik lijkt het dat MaxHR, ST_Slope en ExerciseAngina een sterk correlatie te hebben met Heartdisease.\n",
    "\n",
    "Cholesterol, RestingECG en RestingBP lijken een zwak correlatie te hebben met Heartdisease. Misschien dat deze kolommen wegkunnen?"
   ]
  },
  {
   "cell_type": "code",
   "execution_count": 20,
   "metadata": {},
   "outputs": [
    {
     "data": {
      "text/html": [
       "<div>\n",
       "<style scoped>\n",
       "    .dataframe tbody tr th:only-of-type {\n",
       "        vertical-align: middle;\n",
       "    }\n",
       "\n",
       "    .dataframe tbody tr th {\n",
       "        vertical-align: top;\n",
       "    }\n",
       "\n",
       "    .dataframe thead th {\n",
       "        text-align: right;\n",
       "    }\n",
       "</style>\n",
       "<table border=\"1\" class=\"dataframe\">\n",
       "  <thead>\n",
       "    <tr style=\"text-align: right;\">\n",
       "      <th></th>\n",
       "      <th>Age</th>\n",
       "      <th>Sex</th>\n",
       "      <th>ChestPainType</th>\n",
       "      <th>RestingBP</th>\n",
       "      <th>FastingBS</th>\n",
       "      <th>MaxHR</th>\n",
       "      <th>ExerciseAngina</th>\n",
       "      <th>Oldpeak</th>\n",
       "      <th>ST_Slope</th>\n",
       "      <th>HeartDisease</th>\n",
       "    </tr>\n",
       "  </thead>\n",
       "  <tbody>\n",
       "    <tr>\n",
       "      <th>0</th>\n",
       "      <td>40</td>\n",
       "      <td>1</td>\n",
       "      <td>1</td>\n",
       "      <td>140.0</td>\n",
       "      <td>0</td>\n",
       "      <td>172</td>\n",
       "      <td>0</td>\n",
       "      <td>0.0</td>\n",
       "      <td>2</td>\n",
       "      <td>0</td>\n",
       "    </tr>\n",
       "    <tr>\n",
       "      <th>1</th>\n",
       "      <td>49</td>\n",
       "      <td>0</td>\n",
       "      <td>2</td>\n",
       "      <td>160.0</td>\n",
       "      <td>0</td>\n",
       "      <td>156</td>\n",
       "      <td>0</td>\n",
       "      <td>1.0</td>\n",
       "      <td>1</td>\n",
       "      <td>1</td>\n",
       "    </tr>\n",
       "    <tr>\n",
       "      <th>2</th>\n",
       "      <td>37</td>\n",
       "      <td>1</td>\n",
       "      <td>1</td>\n",
       "      <td>130.0</td>\n",
       "      <td>0</td>\n",
       "      <td>98</td>\n",
       "      <td>0</td>\n",
       "      <td>0.0</td>\n",
       "      <td>2</td>\n",
       "      <td>0</td>\n",
       "    </tr>\n",
       "    <tr>\n",
       "      <th>3</th>\n",
       "      <td>48</td>\n",
       "      <td>0</td>\n",
       "      <td>0</td>\n",
       "      <td>138.0</td>\n",
       "      <td>0</td>\n",
       "      <td>108</td>\n",
       "      <td>1</td>\n",
       "      <td>1.5</td>\n",
       "      <td>1</td>\n",
       "      <td>1</td>\n",
       "    </tr>\n",
       "    <tr>\n",
       "      <th>4</th>\n",
       "      <td>54</td>\n",
       "      <td>1</td>\n",
       "      <td>2</td>\n",
       "      <td>150.0</td>\n",
       "      <td>0</td>\n",
       "      <td>122</td>\n",
       "      <td>0</td>\n",
       "      <td>0.0</td>\n",
       "      <td>2</td>\n",
       "      <td>0</td>\n",
       "    </tr>\n",
       "    <tr>\n",
       "      <th>...</th>\n",
       "      <td>...</td>\n",
       "      <td>...</td>\n",
       "      <td>...</td>\n",
       "      <td>...</td>\n",
       "      <td>...</td>\n",
       "      <td>...</td>\n",
       "      <td>...</td>\n",
       "      <td>...</td>\n",
       "      <td>...</td>\n",
       "      <td>...</td>\n",
       "    </tr>\n",
       "    <tr>\n",
       "      <th>913</th>\n",
       "      <td>45</td>\n",
       "      <td>1</td>\n",
       "      <td>3</td>\n",
       "      <td>110.0</td>\n",
       "      <td>0</td>\n",
       "      <td>132</td>\n",
       "      <td>0</td>\n",
       "      <td>1.2</td>\n",
       "      <td>1</td>\n",
       "      <td>1</td>\n",
       "    </tr>\n",
       "    <tr>\n",
       "      <th>914</th>\n",
       "      <td>68</td>\n",
       "      <td>1</td>\n",
       "      <td>0</td>\n",
       "      <td>144.0</td>\n",
       "      <td>1</td>\n",
       "      <td>141</td>\n",
       "      <td>0</td>\n",
       "      <td>3.4</td>\n",
       "      <td>1</td>\n",
       "      <td>1</td>\n",
       "    </tr>\n",
       "    <tr>\n",
       "      <th>915</th>\n",
       "      <td>57</td>\n",
       "      <td>1</td>\n",
       "      <td>0</td>\n",
       "      <td>130.0</td>\n",
       "      <td>0</td>\n",
       "      <td>115</td>\n",
       "      <td>1</td>\n",
       "      <td>1.2</td>\n",
       "      <td>1</td>\n",
       "      <td>1</td>\n",
       "    </tr>\n",
       "    <tr>\n",
       "      <th>916</th>\n",
       "      <td>57</td>\n",
       "      <td>0</td>\n",
       "      <td>1</td>\n",
       "      <td>130.0</td>\n",
       "      <td>0</td>\n",
       "      <td>174</td>\n",
       "      <td>0</td>\n",
       "      <td>0.0</td>\n",
       "      <td>1</td>\n",
       "      <td>1</td>\n",
       "    </tr>\n",
       "    <tr>\n",
       "      <th>917</th>\n",
       "      <td>38</td>\n",
       "      <td>1</td>\n",
       "      <td>2</td>\n",
       "      <td>138.0</td>\n",
       "      <td>0</td>\n",
       "      <td>173</td>\n",
       "      <td>0</td>\n",
       "      <td>0.0</td>\n",
       "      <td>2</td>\n",
       "      <td>0</td>\n",
       "    </tr>\n",
       "  </tbody>\n",
       "</table>\n",
       "<p>918 rows × 10 columns</p>\n",
       "</div>"
      ],
      "text/plain": [
       "     Age  Sex  ChestPainType  RestingBP  FastingBS  MaxHR  ExerciseAngina  \\\n",
       "0     40    1              1      140.0          0    172               0   \n",
       "1     49    0              2      160.0          0    156               0   \n",
       "2     37    1              1      130.0          0     98               0   \n",
       "3     48    0              0      138.0          0    108               1   \n",
       "4     54    1              2      150.0          0    122               0   \n",
       "..   ...  ...            ...        ...        ...    ...             ...   \n",
       "913   45    1              3      110.0          0    132               0   \n",
       "914   68    1              0      144.0          1    141               0   \n",
       "915   57    1              0      130.0          0    115               1   \n",
       "916   57    0              1      130.0          0    174               0   \n",
       "917   38    1              2      138.0          0    173               0   \n",
       "\n",
       "     Oldpeak  ST_Slope  HeartDisease  \n",
       "0        0.0         2             0  \n",
       "1        1.0         1             1  \n",
       "2        0.0         2             0  \n",
       "3        1.5         1             1  \n",
       "4        0.0         2             0  \n",
       "..       ...       ...           ...  \n",
       "913      1.2         1             1  \n",
       "914      3.4         1             1  \n",
       "915      1.2         1             1  \n",
       "916      0.0         1             1  \n",
       "917      0.0         2             0  \n",
       "\n",
       "[918 rows x 10 columns]"
      ]
     },
     "execution_count": 20,
     "metadata": {},
     "output_type": "execute_result"
    }
   ],
   "source": [
    "data.drop(columns=['RestingECG', 'Cholesterol'], axis=1)"
   ]
  },
  {
   "cell_type": "markdown",
   "metadata": {},
   "source": [
    "Split data"
   ]
  },
  {
   "cell_type": "code",
   "execution_count": 21,
   "metadata": {},
   "outputs": [],
   "source": [
    "X = data.drop(['HeartDisease'], axis=1)\n",
    "y = data['HeartDisease']\n",
    "\n",
    "X_train, X_test, y_train, y_test = train_test_split(X, y, test_size=0.2, random_state=42, stratify=y)"
   ]
  },
  {
   "cell_type": "markdown",
   "metadata": {},
   "source": [
    "Tijdens het trainen van logisticRegression, werd er een error gegeven met max number of iterations exeeded. Dit kon je oplossen door de limiet te verhogen of nog beter zelfs, de data te scalen. Het scalen van de dataset is hierbij handig, aangezien StandaardScaler afwijkingen weghaald. "
   ]
  },
  {
   "cell_type": "code",
   "execution_count": 22,
   "metadata": {},
   "outputs": [
    {
     "data": {
      "text/plain": [
       "array([[ 0.9700116 ,  0.51740017,  0.23787636, ...,  1.20277457,\n",
       "         0.30726655, -0.60472665],\n",
       "       [ 0.12202766,  0.51740017,  0.23787636, ..., -0.83141099,\n",
       "        -0.47077104,  1.06395516],\n",
       "       [ 0.54601963, -1.93273999, -0.80141678, ...,  1.20277457,\n",
       "         0.59903064, -0.60472665],\n",
       "       ...,\n",
       "       [ 0.54601963,  0.51740017, -0.80141678, ...,  1.20277457,\n",
       "         0.40452125, -2.27340846],\n",
       "       [ 0.75801561,  0.51740017, -0.80141678, ...,  1.20277457,\n",
       "        -0.85978984,  1.06395516],\n",
       "       [-0.93795226,  0.51740017, -0.80141678, ..., -0.83141099,\n",
       "        -0.85978984,  1.06395516]])"
      ]
     },
     "execution_count": 22,
     "metadata": {},
     "output_type": "execute_result"
    }
   ],
   "source": [
    "from sklearn.preprocessing import StandardScaler\n",
    "\n",
    "sc = StandardScaler()\n",
    "X_train = sc.fit_transform(X_train)\n",
    "X_test = sc.fit_transform(X_test)\n",
    "\n",
    "#Print data\n",
    "X_train"
   ]
  },
  {
   "cell_type": "markdown",
   "metadata": {},
   "source": [
    "#### Classifiers"
   ]
  },
  {
   "cell_type": "markdown",
   "metadata": {},
   "source": [
    "Met behulp van een aantal ML classifiers wordt er bepaald of iemand een hartziekte kan hebben of niet. Er worden drie verschillende modellen getrained: \n",
    "- Logistic regression\n",
    "- Decision Tree Classifier\n",
    "- Random Forest Tree. \n",
    "\n",
    "\n",
    "Bij hartfalen diagnotiseren is het belangrijk om te kijken of degene die getest is, ook echt correct geclassificeerd is als 'hartziekte'. Daarom wordt er geporobeerd om de recall metric zo hoog mogelijk te verkrijgen. De False Nagetives zijn dus belangrijker dan False Positives.\n",
    "\n",
    "Formule:\n",
    "Recall = (TP) / (TP + FN)"
   ]
  },
  {
   "cell_type": "markdown",
   "metadata": {},
   "source": [
    "#### Logistic Regression\n",
    "We gebruiken Gridsearch om de Logistic Regressor te optimaliseren. Door brute force worden de beste parameters ervoor gevonden."
   ]
  },
  {
   "cell_type": "code",
   "execution_count": 76,
   "metadata": {},
   "outputs": [
    {
     "name": "stdout",
     "output_type": "stream",
     "text": [
      "test {'C': 0.001, 'solver': 'newton-cg'}\n"
     ]
    }
   ],
   "source": [
    "from sklearn.linear_model import LogisticRegression\n",
    "from sklearn.model_selection import GridSearchCV\n",
    "\n",
    "grid_values = {'C': [0.001,0.01,0.1,1,10,100, 1000], 'solver': ['newton-cg', 'lbfgs', 'liblinear', 'sag']}\n",
    "\n",
    "glr = GridSearchCV(LogisticRegression(random_state=11), grid_values, cv=7, scoring='recall')\n",
    "\n",
    "glr.fit(X_train, y_train)\n",
    "\n",
    "print('test', glr.best_params_)"
   ]
  },
  {
   "cell_type": "markdown",
   "metadata": {},
   "source": [
    "**Insights**\n",
    "\n",
    "Uit de Gridsearch komt dat {'C': 0.001, 'penalty': 'l2', 'solver': 'newton-cg'} de optimale parameters zijn."
   ]
  },
  {
   "cell_type": "code",
   "execution_count": 77,
   "metadata": {},
   "outputs": [
    {
     "data": {
      "text/plain": [
       "LogisticRegression(C=0.001, random_state=11, solver='newton-cg')"
      ]
     },
     "execution_count": 77,
     "metadata": {},
     "output_type": "execute_result"
    }
   ],
   "source": [
    "lr = LogisticRegression(random_state=11, C=0.001, solver='newton-cg')\n",
    "\n",
    "lr.fit(X_train, y_train)"
   ]
  },
  {
   "cell_type": "markdown",
   "metadata": {},
   "source": [
    "#### DecisionTreeClassifier\n",
    "\n",
    "Ook hier wordt er met GridSearch geprobeerd om de optimale paramters te kiezen voor DesicionTreeClassifier"
   ]
  },
  {
   "cell_type": "code",
   "execution_count": 52,
   "metadata": {},
   "outputs": [
    {
     "data": {
      "text/plain": [
       "{'max_depth': 3, 'max_leaf_nodes': 5, 'min_samples_split': 2}"
      ]
     },
     "execution_count": 52,
     "metadata": {},
     "output_type": "execute_result"
    }
   ],
   "source": [
    "from sklearn.tree import DecisionTreeClassifier\n",
    "\n",
    "tree_params = {'max_depth':[*[i for i in range(1, 20)], 30,40,50,70,90,100], 'max_leaf_nodes': list(range(2, 100)), 'min_samples_split': [2, 3, 4]}\n",
    "\n",
    "clf = GridSearchCV(DecisionTreeClassifier(random_state=11), tree_params, cv=7, scoring='recall')\n",
    "\n",
    "clf.fit(X_train, y_train)   \n",
    "\n",
    "clf.best_params_"
   ]
  },
  {
   "cell_type": "markdown",
   "metadata": {},
   "source": [
    "**Insights**\n",
    "\n",
    "{'max_depth': 3, 'max_leaf_nodes': 5, 'min_samples_split': 2} zijn dus de optimale parameters. Zelf had ik een grotere max_depth verwacht."
   ]
  },
  {
   "cell_type": "code",
   "execution_count": 25,
   "metadata": {},
   "outputs": [
    {
     "data": {
      "text/plain": [
       "DecisionTreeClassifier(max_depth=3, max_leaf_nodes=5, random_state=11)"
      ]
     },
     "execution_count": 25,
     "metadata": {},
     "output_type": "execute_result"
    }
   ],
   "source": [
    "dtc = DecisionTreeClassifier(max_depth=3, max_leaf_nodes=5, min_samples_split=2, random_state=11)\n",
    "\n",
    "dtc.fit(X_train, y_train)"
   ]
  },
  {
   "cell_type": "markdown",
   "metadata": {},
   "source": [
    "#### RandomForestClassifier\n",
    "\n",
    "Ik heb geprobeerd om de GridSearchCV te gebruiken bij de RFC, maar dit duurde enorm lang. Daarom leek het handig om eerst een Randomized Search te doen. M.b.v. de RandomizedSearchCV krijg ik een heldere beeld over de paramters."
   ]
  },
  {
   "cell_type": "code",
   "execution_count": 28,
   "metadata": {},
   "outputs": [
    {
     "name": "stdout",
     "output_type": "stream",
     "text": [
      "Fitting 10 folds for each of 10 candidates, totalling 100 fits\n",
      "[CV] END max_depth=14, max_features=auto, min_samples_leaf=4, min_samples_split=4, n_estimators=92; total time=   0.1s\n",
      "[CV] END max_depth=14, max_features=auto, min_samples_leaf=4, min_samples_split=4, n_estimators=92; total time=   0.1s\n",
      "[CV] END max_depth=14, max_features=auto, min_samples_leaf=4, min_samples_split=4, n_estimators=92; total time=   0.1s\n",
      "[CV] END max_depth=14, max_features=auto, min_samples_leaf=4, min_samples_split=4, n_estimators=92; total time=   0.1s\n",
      "[CV] END max_depth=14, max_features=auto, min_samples_leaf=4, min_samples_split=4, n_estimators=92; total time=   0.1s\n",
      "[CV] END max_depth=14, max_features=auto, min_samples_leaf=4, min_samples_split=4, n_estimators=92; total time=   0.1s\n",
      "[CV] END max_depth=14, max_features=auto, min_samples_leaf=4, min_samples_split=4, n_estimators=92; total time=   0.1s\n",
      "[CV] END max_depth=14, max_features=auto, min_samples_leaf=4, min_samples_split=4, n_estimators=92; total time=   0.1s\n",
      "[CV] END max_depth=8, max_features=auto, min_samples_leaf=2, min_samples_split=3, n_estimators=36; total time=   0.1s\n",
      "[CV] END max_depth=14, max_features=auto, min_samples_leaf=4, min_samples_split=4, n_estimators=92; total time=   0.1s\n",
      "[CV] END max_depth=8, max_features=auto, min_samples_leaf=2, min_samples_split=3, n_estimators=36; total time=   0.1s\n",
      "[CV] END max_depth=14, max_features=auto, min_samples_leaf=4, min_samples_split=4, n_estimators=92; total time=   0.2s\n",
      "[CV] END max_depth=8, max_features=auto, min_samples_leaf=2, min_samples_split=3, n_estimators=36; total time=   0.1s\n",
      "[CV] END max_depth=8, max_features=auto, min_samples_leaf=2, min_samples_split=3, n_estimators=36; total time=   0.1s\n",
      "[CV] END max_depth=8, max_features=auto, min_samples_leaf=2, min_samples_split=3, n_estimators=36; total time=   0.1s\n",
      "[CV] END max_depth=8, max_features=auto, min_samples_leaf=2, min_samples_split=3, n_estimators=36; total time=   0.1s\n",
      "[CV] END max_depth=8, max_features=auto, min_samples_leaf=2, min_samples_split=3, n_estimators=36; total time=   0.1s\n",
      "[CV] END max_depth=8, max_features=auto, min_samples_leaf=2, min_samples_split=3, n_estimators=36; total time=   0.1s\n",
      "[CV] END max_depth=8, max_features=auto, min_samples_leaf=2, min_samples_split=3, n_estimators=36; total time=   0.1s\n",
      "[CV] END max_depth=8, max_features=auto, min_samples_leaf=2, min_samples_split=3, n_estimators=36; total time=   0.1s\n",
      "[CV] END max_depth=50, max_features=sqrt, min_samples_leaf=1, min_samples_split=3, n_estimators=63; total time=   0.1s\n",
      "[CV] END max_depth=50, max_features=sqrt, min_samples_leaf=1, min_samples_split=3, n_estimators=63; total time=   0.1s\n",
      "[CV] END max_depth=50, max_features=sqrt, min_samples_leaf=1, min_samples_split=3, n_estimators=63; total time=   0.1s\n",
      "[CV] END max_depth=50, max_features=sqrt, min_samples_leaf=1, min_samples_split=3, n_estimators=63; total time=   0.1s\n",
      "[CV] END max_depth=50, max_features=sqrt, min_samples_leaf=1, min_samples_split=3, n_estimators=63; total time=   0.1s\n",
      "[CV] END max_depth=2, max_features=sqrt, min_samples_leaf=1, min_samples_split=4, n_estimators=155; total time=   0.2s\n",
      "[CV] END max_depth=2, max_features=sqrt, min_samples_leaf=1, min_samples_split=4, n_estimators=155; total time=   0.1s\n",
      "[CV] END max_depth=2, max_features=sqrt, min_samples_leaf=1, min_samples_split=4, n_estimators=155; total time=   0.1s\n",
      "[CV] END max_depth=2, max_features=sqrt, min_samples_leaf=1, min_samples_split=4, n_estimators=155; total time=   0.1s\n",
      "[CV] END max_depth=2, max_features=sqrt, min_samples_leaf=1, min_samples_split=4, n_estimators=155; total time=   0.2s\n",
      "[CV] END max_depth=50, max_features=sqrt, min_samples_leaf=1, min_samples_split=3, n_estimators=63; total time=   0.1s\n",
      "[CV] END max_depth=50, max_features=sqrt, min_samples_leaf=1, min_samples_split=3, n_estimators=63; total time=   0.1s\n",
      "[CV] END max_depth=50, max_features=sqrt, min_samples_leaf=1, min_samples_split=3, n_estimators=63; total time=   0.1s\n",
      "[CV] END max_depth=50, max_features=sqrt, min_samples_leaf=1, min_samples_split=3, n_estimators=63; total time=   0.1s\n",
      "[CV] END max_depth=50, max_features=sqrt, min_samples_leaf=1, min_samples_split=3, n_estimators=63; total time=   0.1s\n",
      "[CV] END max_depth=9, max_features=auto, min_samples_leaf=2, min_samples_split=3, n_estimators=126; total time=   0.1s\n",
      "[CV] END max_depth=2, max_features=sqrt, min_samples_leaf=1, min_samples_split=4, n_estimators=155; total time=   0.2s\n",
      "[CV] END max_depth=2, max_features=sqrt, min_samples_leaf=1, min_samples_split=4, n_estimators=155; total time=   0.2s\n",
      "[CV] END max_depth=2, max_features=sqrt, min_samples_leaf=1, min_samples_split=4, n_estimators=155; total time=   0.2s\n",
      "[CV] END max_depth=2, max_features=sqrt, min_samples_leaf=1, min_samples_split=4, n_estimators=155; total time=   0.2s\n",
      "[CV] END max_depth=2, max_features=sqrt, min_samples_leaf=1, min_samples_split=4, n_estimators=155; total time=   0.3s\n",
      "[CV] END max_depth=9, max_features=auto, min_samples_leaf=2, min_samples_split=3, n_estimators=126; total time=   0.3s\n",
      "[CV] END max_depth=9, max_features=auto, min_samples_leaf=2, min_samples_split=3, n_estimators=126; total time=   0.2s\n",
      "[CV] END max_depth=9, max_features=auto, min_samples_leaf=2, min_samples_split=3, n_estimators=126; total time=   0.3s\n",
      "[CV] END max_depth=9, max_features=auto, min_samples_leaf=2, min_samples_split=3, n_estimators=126; total time=   0.3s\n",
      "[CV] END max_depth=9, max_features=auto, min_samples_leaf=2, min_samples_split=3, n_estimators=126; total time=   0.3s\n",
      "[CV] END max_depth=9, max_features=auto, min_samples_leaf=2, min_samples_split=3, n_estimators=126; total time=   0.2s\n",
      "[CV] END max_depth=7, max_features=sqrt, min_samples_leaf=2, min_samples_split=4, n_estimators=106; total time=   0.2s\n",
      "[CV] END max_depth=70, max_features=sqrt, min_samples_leaf=1, min_samples_split=4, n_estimators=182; total time=   0.4s\n",
      "[CV] END max_depth=70, max_features=sqrt, min_samples_leaf=1, min_samples_split=4, n_estimators=182; total time=   0.4s\n",
      "[CV] END max_depth=70, max_features=sqrt, min_samples_leaf=1, min_samples_split=4, n_estimators=182; total time=   0.3s\n",
      "[CV] END max_depth=70, max_features=sqrt, min_samples_leaf=1, min_samples_split=4, n_estimators=182; total time=   0.3s\n",
      "[CV] END max_depth=9, max_features=auto, min_samples_leaf=2, min_samples_split=3, n_estimators=126; total time=   0.3s\n",
      "[CV] END max_depth=9, max_features=auto, min_samples_leaf=2, min_samples_split=3, n_estimators=126; total time=   0.2s\n",
      "[CV] END max_depth=9, max_features=auto, min_samples_leaf=2, min_samples_split=3, n_estimators=126; total time=   0.3s\n",
      "[CV] END max_depth=70, max_features=sqrt, min_samples_leaf=1, min_samples_split=4, n_estimators=182; total time=   0.3s\n",
      "[CV] END max_depth=7, max_features=sqrt, min_samples_leaf=2, min_samples_split=4, n_estimators=106; total time=   0.2s\n",
      "[CV] END max_depth=7, max_features=sqrt, min_samples_leaf=2, min_samples_split=4, n_estimators=106; total time=   0.2s\n",
      "[CV] END max_depth=7, max_features=sqrt, min_samples_leaf=2, min_samples_split=4, n_estimators=106; total time=   0.1s\n",
      "[CV] END max_depth=7, max_features=sqrt, min_samples_leaf=2, min_samples_split=4, n_estimators=106; total time=   0.1s\n",
      "[CV] END max_depth=7, max_features=sqrt, min_samples_leaf=2, min_samples_split=4, n_estimators=106; total time=   0.1s\n",
      "[CV] END max_depth=14, max_features=auto, min_samples_leaf=2, min_samples_split=4, n_estimators=89; total time=   0.1s\n",
      "[CV] END max_depth=7, max_features=sqrt, min_samples_leaf=2, min_samples_split=4, n_estimators=106; total time=   0.1s\n",
      "[CV] END max_depth=70, max_features=sqrt, min_samples_leaf=1, min_samples_split=4, n_estimators=182; total time=   0.2s\n",
      "[CV] END max_depth=70, max_features=sqrt, min_samples_leaf=1, min_samples_split=4, n_estimators=182; total time=   0.2s\n",
      "[CV] END max_depth=70, max_features=sqrt, min_samples_leaf=1, min_samples_split=4, n_estimators=182; total time=   0.2s\n",
      "[CV] END max_depth=7, max_features=sqrt, min_samples_leaf=2, min_samples_split=4, n_estimators=106; total time=   0.1s\n",
      "[CV] END max_depth=70, max_features=sqrt, min_samples_leaf=1, min_samples_split=4, n_estimators=182; total time=   0.2s\n",
      "[CV] END max_depth=70, max_features=sqrt, min_samples_leaf=1, min_samples_split=4, n_estimators=182; total time=   0.3s\n",
      "[CV] END max_depth=7, max_features=sqrt, min_samples_leaf=2, min_samples_split=4, n_estimators=106; total time=   0.1s\n",
      "[CV] END max_depth=7, max_features=sqrt, min_samples_leaf=2, min_samples_split=4, n_estimators=106; total time=   0.1s\n",
      "[CV] END max_depth=14, max_features=auto, min_samples_leaf=2, min_samples_split=4, n_estimators=89; total time=   0.1s\n",
      "[CV] END max_depth=14, max_features=auto, min_samples_leaf=2, min_samples_split=4, n_estimators=89; total time=   0.1s\n",
      "[CV] END max_depth=14, max_features=auto, min_samples_leaf=2, min_samples_split=4, n_estimators=89; total time=   0.1s\n",
      "[CV] END max_depth=14, max_features=auto, min_samples_leaf=2, min_samples_split=4, n_estimators=89; total time=   0.1s\n",
      "[CV] END max_depth=14, max_features=auto, min_samples_leaf=2, min_samples_split=4, n_estimators=89; total time=   0.1s\n",
      "[CV] END max_depth=11, max_features=auto, min_samples_leaf=1, min_samples_split=2, n_estimators=28; total time=   0.0s\n",
      "[CV] END max_depth=11, max_features=auto, min_samples_leaf=1, min_samples_split=2, n_estimators=28; total time=   0.0s\n",
      "[CV] END max_depth=30, max_features=sqrt, min_samples_leaf=1, min_samples_split=3, n_estimators=114; total time=   0.1s\n",
      "[CV] END max_depth=30, max_features=sqrt, min_samples_leaf=1, min_samples_split=3, n_estimators=114; total time=   0.1s\n",
      "[CV] END max_depth=30, max_features=sqrt, min_samples_leaf=1, min_samples_split=3, n_estimators=114; total time=   0.2s\n",
      "[CV] END max_depth=11, max_features=auto, min_samples_leaf=1, min_samples_split=2, n_estimators=28; total time=   0.0s\n",
      "[CV] END max_depth=14, max_features=auto, min_samples_leaf=2, min_samples_split=4, n_estimators=89; total time=   0.1s\n",
      "[CV] END max_depth=14, max_features=auto, min_samples_leaf=2, min_samples_split=4, n_estimators=89; total time=   0.1s\n",
      "[CV] END max_depth=14, max_features=auto, min_samples_leaf=2, min_samples_split=4, n_estimators=89; total time=   0.1s\n",
      "[CV] END max_depth=30, max_features=sqrt, min_samples_leaf=1, min_samples_split=3, n_estimators=114; total time=   0.1s\n",
      "[CV] END max_depth=30, max_features=sqrt, min_samples_leaf=1, min_samples_split=3, n_estimators=114; total time=   0.1s\n",
      "[CV] END max_depth=11, max_features=auto, min_samples_leaf=1, min_samples_split=2, n_estimators=28; total time=   0.0s\n",
      "[CV] END max_depth=11, max_features=auto, min_samples_leaf=1, min_samples_split=2, n_estimators=28; total time=   0.0s\n",
      "[CV] END max_depth=11, max_features=auto, min_samples_leaf=1, min_samples_split=2, n_estimators=28; total time=   0.0s\n",
      "[CV] END max_depth=11, max_features=auto, min_samples_leaf=1, min_samples_split=2, n_estimators=28; total time=   0.0s\n",
      "[CV] END max_depth=11, max_features=auto, min_samples_leaf=1, min_samples_split=2, n_estimators=28; total time=   0.0s\n",
      "[CV] END max_depth=11, max_features=auto, min_samples_leaf=1, min_samples_split=2, n_estimators=28; total time=   0.0s\n",
      "[CV] END max_depth=11, max_features=auto, min_samples_leaf=1, min_samples_split=2, n_estimators=28; total time=   0.0s\n",
      "[CV] END max_depth=14, max_features=auto, min_samples_leaf=2, min_samples_split=4, n_estimators=89; total time=   0.2s\n",
      "[CV] END max_depth=30, max_features=sqrt, min_samples_leaf=1, min_samples_split=3, n_estimators=114; total time=   0.1s\n",
      "[CV] END max_depth=30, max_features=sqrt, min_samples_leaf=1, min_samples_split=3, n_estimators=114; total time=   0.1s\n",
      "[CV] END max_depth=30, max_features=sqrt, min_samples_leaf=1, min_samples_split=3, n_estimators=114; total time=   0.1s\n",
      "[CV] END max_depth=30, max_features=sqrt, min_samples_leaf=1, min_samples_split=3, n_estimators=114; total time=   0.1s\n",
      "[CV] END max_depth=30, max_features=sqrt, min_samples_leaf=1, min_samples_split=3, n_estimators=114; total time=   0.1s\n"
     ]
    },
    {
     "data": {
      "text/plain": [
       "RandomForestClassifier(max_depth=14, min_samples_leaf=2, min_samples_split=4,\n",
       "                       n_estimators=89, random_state=11)"
      ]
     },
     "execution_count": 28,
     "metadata": {},
     "output_type": "execute_result"
    }
   ],
   "source": [
    "from sklearn.ensemble import RandomForestClassifier\n",
    "from sklearn.model_selection import RandomizedSearchCV\n",
    "import random\n",
    "\n",
    "\n",
    "# Number of trees in random forest\n",
    "n_estimators = [random.randint(1, 200) for _ in range (1, 50)]\n",
    "#Number of features to consider at every split\n",
    "max_features = ['auto', 'sqrt']\n",
    "# Maximum number of levels in tree\n",
    "max_depth = [*[i for i in range(1, 20)], 30,40,50,70,90,100]\n",
    "# Minimum number of samples required to split a node\n",
    "min_samples_split = [2, 3,4]\n",
    "# Minimum number of samples required at each leaf node\n",
    "min_samples_leaf = [1, 2, 4]\n",
    "\n",
    "# Create the random grid\n",
    "random_grid = {'n_estimators': n_estimators,\n",
    "               'max_features': max_features,\n",
    "               'max_depth': max_depth,\n",
    "               'min_samples_split': min_samples_split,\n",
    "               'min_samples_leaf': min_samples_leaf}\n",
    "\n",
    "\n",
    "rrfc = RandomizedSearchCV(RandomForestClassifier(random_state=11), random_grid, cv=10, n_jobs=-1, verbose=2, scoring='recall')\n",
    "\n",
    "rrfc.fit(X_train, y_train)\n",
    "\n",
    "rrfc.best_estimator_"
   ]
  },
  {
   "cell_type": "markdown",
   "metadata": {},
   "source": [
    "Nu doen we een Gridsearch met heel wat minder parameters, aangezien we ongeveer al weten wat ongeveer de beste parameters zijn. Zo doen we bijvoorbeeld een gridseach voor max_depth 13 t/m 16, aangezien we weten dat het ongeveer bij de 14 is. "
   ]
  },
  {
   "cell_type": "code",
   "execution_count": 29,
   "metadata": {},
   "outputs": [
    {
     "data": {
      "text/plain": [
       "RandomForestClassifier(max_depth=14, max_features='sqrt', min_samples_leaf=2,\n",
       "                       min_samples_split=3, n_estimators=88, random_state=11)"
      ]
     },
     "execution_count": 29,
     "metadata": {},
     "output_type": "execute_result"
    }
   ],
   "source": [
    "# Number of trees in random forest\n",
    "n_estimators = [i for i in range(87, 91)]\n",
    "# Maximum number of levels in tree\n",
    "max_depth = [13,14,15,16]\n",
    "# Minimum number of samples required to split a node\n",
    "min_samples_split = [3,4,5]\n",
    "min_samples_leaf = [2,3,4]\n",
    "# Create the random grid\n",
    "random_grid = {'n_estimators': n_estimators,\n",
    "                'max_features': ['sqrt'],\n",
    "                'max_depth': max_depth,\n",
    "                'min_samples_split': min_samples_split,\n",
    "                'min_samples_leaf': min_samples_leaf}\n",
    "\n",
    "grfc = GridSearchCV(RandomForestClassifier(random_state=11), random_grid, cv=7, scoring='recall')\n",
    "\n",
    "grfc.fit(X_train, y_train)\n",
    "\n",
    "grfc.best_estimator_\n",
    "    "
   ]
  },
  {
   "cell_type": "markdown",
   "metadata": {},
   "source": [
    "**Insights**\n",
    "\n",
    "De beste paramters zijn dus: max_depth=10, max_features='sqrt', min_samples_leaf=2,\n",
    "                       min_samples_split=5, n_estimators=79, random_state=11"
   ]
  },
  {
   "cell_type": "code",
   "execution_count": 30,
   "metadata": {},
   "outputs": [
    {
     "data": {
      "text/plain": [
       "RandomForestClassifier(max_depth=14, max_features='sqrt', min_samples_leaf=2,\n",
       "                       min_samples_split=3, n_estimators=88, random_state=11)"
      ]
     },
     "execution_count": 30,
     "metadata": {},
     "output_type": "execute_result"
    }
   ],
   "source": [
    "rfc = RandomForestClassifier(max_depth=14, max_features='sqrt', n_estimators=88, min_samples_split=3, min_samples_leaf=2, random_state=11)\n",
    "rfc.fit(X_train, y_train)"
   ]
  },
  {
   "cell_type": "markdown",
   "metadata": {},
   "source": [
    "## Resultaten"
   ]
  },
  {
   "cell_type": "code",
   "execution_count": 112,
   "metadata": {},
   "outputs": [
    {
     "name": "stdout",
     "output_type": "stream",
     "text": [
      "Logistic regression:\n",
      "confusion matrix\n",
      "[[60 22]\n",
      " [ 8 94]]\n",
      "recall score: 0.9215686274509803\n",
      "\n",
      "\n",
      "\n",
      "Decision Tree:\n",
      "confusion matrix\n",
      "[[57 25]\n",
      " [13 89]]\n",
      "recall score: 0.8725490196078431\n",
      "\n",
      "\n",
      "\n",
      "Random Forest Classifier:\n",
      "confusion matrix\n",
      "[[68 14]\n",
      " [ 9 93]]\n",
      "recall score: 0.9117647058823529\n",
      "\n",
      "\n",
      "\n"
     ]
    }
   ],
   "source": [
    "from sklearn.metrics import confusion_matrix, recall_score\n",
    "\n",
    "models = {'Logistic regression' : lr, 'Decision Tree' : dtc, 'Random Forest Classifier': rfc}\n",
    "\n",
    "for key, value in models.items():\n",
    "    print(f\"{key}:\")\n",
    "    pred = value.predict(X_test)    \n",
    "    print('confusion matrix')\n",
    "    print(confusion_matrix(y_test, pred))\n",
    "    print('recall score:', recall_score(y_test, pred))\n",
    "    print('\\n\\n')\n"
   ]
  },
  {
   "cell_type": "code",
   "execution_count": 113,
   "metadata": {},
   "outputs": [],
   "source": [
    "def plot_fitting(model):\n",
    "    pred = model.predict(X_train)\n",
    "    print('train:', recall_score(y_train, pred))\n",
    "    pred = model.predict(X_test)\n",
    "    print('test:', recall_score(y_test, pred))"
   ]
  },
  {
   "cell_type": "code",
   "execution_count": 114,
   "metadata": {},
   "outputs": [
    {
     "name": "stdout",
     "output_type": "stream",
     "text": [
      "Logistic regression:\n",
      "train: 0.9014778325123153\n",
      "test: 0.9215686274509803\n",
      "\n",
      "\n",
      "Decision Tree:\n",
      "train: 0.9236453201970444\n",
      "test: 0.8725490196078431\n",
      "\n",
      "\n",
      "Random Forest Classifier:\n",
      "train: 0.9827586206896551\n",
      "test: 0.9117647058823529\n",
      "\n",
      "\n"
     ]
    }
   ],
   "source": [
    "for k, v in models.items():\n",
    "    print(f\"{k}:\")\n",
    "    plot_fitting(v)\n",
    "    print(\"\\n\")"
   ]
  },
  {
   "cell_type": "markdown",
   "metadata": {},
   "source": [
    "### Conclusie\n",
    "\n",
    "Door de kolommen Cholesterol en RestingECG uit de dataset te gooien, is zowel de recall score en de accuracy score van Logistic regression ietsjes verhoogd. De andere twee zijn zowat dezelfde gebleven. Is het het waard om de kolommen te verwijderen? meh. Je ziet niet echt veel verschil.\n",
    "\n",
    "Om te beginnen, gebruiken we de modellen zonder enige parameters (exlusief random_state). Hiermee testen we even de StandaardScaler. De waardes standaardiseren heeft zeker invloed gehad op zowel de recall en de accuracy score. Toch gaat het bij deze opdracht om alleen de recall score.\n",
    "\n",
    "|                          | Recall | Recall met StandaardScaler | \n",
    "|--------------------------|--------|----------------------------|\n",
    "| Logistic Regression      | 0.88   | 0.89                       |\n",
    "| Decision Tree            | 0.72   | 0.77                       | \n",
    "| Random Forest Classifier | 0.85   | 0.87                       |\n",
    "\n",
    "\n",
    "**Parameters**\n",
    "\n",
    "Eerst had ik zelf met random parameters de modellen getest. De Recall-score bleef rond 0.82-0.86 zweven. Voor iedere model veranderde ik bijvoorbeeld de n_estimations, of max_depth etc. Uiteindelijk bedacht ik me dat we hier heel goed GridSearch kunnen toepassen. We kunnen zo heel snel de optimale parameters vinden.\n",
    "\n",
    "Met behulp van RandomSearch en Gridsearch is er geprobeerd om de optimale parameters te vinden voor elke model.\n",
    "\n",
    "Logistic Regression: C=0.001, random_state=11, solver='newton-cg\n",
    "\n",
    "Decision Tree: max_depth=3, max_leaf_nodes=5\n",
    "\n",
    "Random Forest: max_depth=15, max_features='sqrt', n_estimators=179, min_samples_split=6, min_samples_leaf=2, random_state=11 \n",
    "\n",
    "\n",
    "|                          | Recall | Recall met beste parameters| \n",
    "|--------------------------|--------|----------------------------|\n",
    "| Logistic Regression      | 0.89   | 0.92                       |\n",
    "| Decision Tree            | 0.77   | 0.87                       | \n",
    "| Random Forest Classifier | 0.87   | 0.91                       |\n",
    "\n",
    "\n",
    "De beste classifier komt volgens dit onderzoek op Logistic Regression. Zelf zat ik te twijfelen over Random Forest Classifier en Logistic Regression. Ik wist wel dat Logistic Regression hier goed bij zou passen, alleen had ik ook het voermoede dat Random Forest Classifier misschien beter zou werken als je de optimale parameters zou meegeven. Ik weet zeker dat ik de optimale parameters niet heb meegegeven (heb het wel zo goed mogelijk geprobeerd), maar je ziet wel de RFC wel heel dichtbij de LR score komt. Met betere parameters verwacht ik zelfs dat RFC het inhaalt.\n",
    "\n",
    "**Hoe kan je het verbeteren?**\n",
    "\n",
    "Misschien was het ook handig geweest als ik de modellen met parameters, maar zonder de StandardScaler had getest. Misschien kwam dit evengoed, of zelfs beter uit. Dan zou ik de StandardScaler weg kunnen doen. \n",
    "\n",
    "Bovendien kun je het verbeteren door eventjes meer met de data te spelen. Er zijn een aantal kolommen waarvan de correlatie niet al te sterk zijn met HeartDisease. Deze zouden ook even weggegooid kunnen worden en bekijken hoe de score dan is. \n",
    "\n",
    "Ik heb ook bijvoorbeeld bij cholesterol de 0 waardes vervangen met de mediaan. Misschien zijn andere methodes handiger. Dit zou te testen vallen.\n",
    "\n",
    "Last but not least, de RFC moeten we vaker runnen. Het is totaal gerandomized. Zo kwam een max_depth uit op 12, maar misschien zou een ander beter zijn geweest, die niet in de search voorbij kwam.\n",
    "\n",
    "Ook heb ik een aantal paramters niet gebruikt. Misschien zouden die parameters wel van belang kunnen zijn met een combinatie van andere parameters. Zo heb ik bijvoorbeeld bij Logistic Regression de solver 'saga' niet gebruikt. Samen met een penalty van 'l2', kwam de recall op 100%. Dat is mooi! Maar waarom heb ik die er dan niet bijgezet? Nou, de accuracy van de model werd maar 50%... De true positives werd altijd 0! Hé! Daar hebben we helemaal niks aan! Zo zijn er wat aantal paramters die de accuracy heel erg omlaag halen, terwijl de recall score juist goed is. Daarom heb ik deze er express uitgehaald. \n",
    "\n",
    "Al met al, ik heb mooie resultaten bereikt met deze modellen. Een recall-score van 92% is niet niets."
   ]
  },
  {
   "cell_type": "markdown",
   "metadata": {},
   "source": [
    "### Bronnen\n",
    "- https://scikit-learn.org/stable/modules/generated/sklearn.linear_model.LogisticRegression.html\n",
    "- https://towardsdatascience.com/how-to-tune-a-decision-tree-f03721801680\n",
    "- https://vitalflux.com/pandas-impute-missing-values-mean-median-mode/\n",
    "- https://towardsdatascience.com/how-and-why-to-standardize-your-data-996926c2c832#:~:text=StandardScaler%20removes%20the%20mean%20and,standard%20deviation%20of%20each%20feature.\n",
    "- https://www.projectpro.io/recipes/optimize-hyper-parameters-of-logistic-regression-model-using-grid-search-in-python\n"
   ]
  }
 ],
 "metadata": {
  "interpreter": {
   "hash": "7575a4681d2f0d9d393de216997a45df61c0b32a5784f7c05a59091796f2378d"
  },
  "kernelspec": {
   "display_name": "Python 3.9.10 ('miniforge3')",
   "language": "python",
   "name": "python3"
  },
  "language_info": {
   "codemirror_mode": {
    "name": "ipython",
    "version": 3
   },
   "file_extension": ".py",
   "mimetype": "text/x-python",
   "name": "python",
   "nbconvert_exporter": "python",
   "pygments_lexer": "ipython3",
   "version": "3.9.10"
  },
  "orig_nbformat": 4
 },
 "nbformat": 4,
 "nbformat_minor": 2
}
