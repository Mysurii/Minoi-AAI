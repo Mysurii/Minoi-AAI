{
 "cells": [
  {
   "cell_type": "markdown",
   "metadata": {},
   "source": [
    "# Heart Disease\n",
    "\n",
    "<h2 style=\"color:#45A29E\">1. Inleiding</h2>\n",
    "\n",
    "Hart- en vaatziektes is een verzamennaam voor verschillende ziekten aan het het of aan de bloedvaten. Hart en vaatziektes zijn de belangrijkste doodsoorzaak in Nederland. Dertig procent van alle mensen sterft eraan. \n",
    "\n",
    "Ze zijn onder te verdelen in een aantal soorten:\n",
    "- slechte bloedaanleg\n",
    "- hartfalen\n",
    "- hartritmestoornissen\n",
    "- aangeboren hartziektes\n",
    "- aandoenlingen aan de hartkleppen\n",
    "\n",
    "Wat hart- en vaatziekten veroorzaakt verschilt per ziekte. Wel zijn er een aantal factoren die ervoor zorgen dat u meer kans heeft om last te krijgen van hart- en vaatziekten, namelijk: roken, overgewicht, diabetes, hoge bloeddruk en een te hoog cholesterolgehalte.\n",
    "\n",
    "Dataset:\n",
    "\n",
    "- age\n",
    "- sex\n",
    "- chest pain type (4 values)\n",
    "- resting blood pressure\n",
    "- serum cholestoral in mg/dl\n",
    "- fasting blood sugar > 120 mg/dl\n",
    "- resting electrocardiographic results (values 0,1,2)\n",
    "- maximum heart rate achieved\n",
    "- exercise induced angina\n",
    "- oldpeak = ST depression induced by exercise relative to rest\n",
    "- the slope of the peak exercise ST segment"
   ]
  },
  {
   "cell_type": "markdown",
   "metadata": {},
   "source": [
    "<h2 style=\"color:orange\">2. Dataset</h2>"
   ]
  },
  {
   "cell_type": "markdown",
   "metadata": {},
   "source": [
    "### 2.1 Import libraries"
   ]
  },
  {
   "cell_type": "code",
   "execution_count": 205,
   "metadata": {},
   "outputs": [],
   "source": [
    "import numpy as np\n",
    "import pandas as pd\n",
    "import seaborn as sns\n",
    "import matplotlib.pyplot as plt\n",
    "from sklearn.model_selection import train_test_split, cross_val_score\n",
    "from sklearn.metrics import f1_score\n",
    "from sklearn.decomposition import PCA\n",
    "from time import time\n",
    "\n",
    "import warnings\n",
    "warnings.filterwarnings(\"ignore\")"
   ]
  },
  {
   "cell_type": "markdown",
   "metadata": {},
   "source": [
    "### 2.2 Data veroveren"
   ]
  },
  {
   "cell_type": "code",
   "execution_count": 206,
   "metadata": {},
   "outputs": [
    {
     "data": {
      "text/html": [
       "<div>\n",
       "<style scoped>\n",
       "    .dataframe tbody tr th:only-of-type {\n",
       "        vertical-align: middle;\n",
       "    }\n",
       "\n",
       "    .dataframe tbody tr th {\n",
       "        vertical-align: top;\n",
       "    }\n",
       "\n",
       "    .dataframe thead th {\n",
       "        text-align: right;\n",
       "    }\n",
       "</style>\n",
       "<table border=\"1\" class=\"dataframe\">\n",
       "  <thead>\n",
       "    <tr style=\"text-align: right;\">\n",
       "      <th></th>\n",
       "      <th>Age</th>\n",
       "      <th>Sex</th>\n",
       "      <th>ChestPainType</th>\n",
       "      <th>RestingBP</th>\n",
       "      <th>Cholesterol</th>\n",
       "      <th>FastingBS</th>\n",
       "      <th>RestingECG</th>\n",
       "      <th>MaxHR</th>\n",
       "      <th>ExerciseAngina</th>\n",
       "      <th>Oldpeak</th>\n",
       "      <th>ST_Slope</th>\n",
       "      <th>HeartDisease</th>\n",
       "    </tr>\n",
       "  </thead>\n",
       "  <tbody>\n",
       "    <tr>\n",
       "      <th>0</th>\n",
       "      <td>40</td>\n",
       "      <td>M</td>\n",
       "      <td>ATA</td>\n",
       "      <td>140</td>\n",
       "      <td>289</td>\n",
       "      <td>0</td>\n",
       "      <td>Normal</td>\n",
       "      <td>172</td>\n",
       "      <td>N</td>\n",
       "      <td>0.0</td>\n",
       "      <td>Up</td>\n",
       "      <td>0</td>\n",
       "    </tr>\n",
       "    <tr>\n",
       "      <th>1</th>\n",
       "      <td>49</td>\n",
       "      <td>F</td>\n",
       "      <td>NAP</td>\n",
       "      <td>160</td>\n",
       "      <td>180</td>\n",
       "      <td>0</td>\n",
       "      <td>Normal</td>\n",
       "      <td>156</td>\n",
       "      <td>N</td>\n",
       "      <td>1.0</td>\n",
       "      <td>Flat</td>\n",
       "      <td>1</td>\n",
       "    </tr>\n",
       "    <tr>\n",
       "      <th>2</th>\n",
       "      <td>37</td>\n",
       "      <td>M</td>\n",
       "      <td>ATA</td>\n",
       "      <td>130</td>\n",
       "      <td>283</td>\n",
       "      <td>0</td>\n",
       "      <td>ST</td>\n",
       "      <td>98</td>\n",
       "      <td>N</td>\n",
       "      <td>0.0</td>\n",
       "      <td>Up</td>\n",
       "      <td>0</td>\n",
       "    </tr>\n",
       "    <tr>\n",
       "      <th>3</th>\n",
       "      <td>48</td>\n",
       "      <td>F</td>\n",
       "      <td>ASY</td>\n",
       "      <td>138</td>\n",
       "      <td>214</td>\n",
       "      <td>0</td>\n",
       "      <td>Normal</td>\n",
       "      <td>108</td>\n",
       "      <td>Y</td>\n",
       "      <td>1.5</td>\n",
       "      <td>Flat</td>\n",
       "      <td>1</td>\n",
       "    </tr>\n",
       "    <tr>\n",
       "      <th>4</th>\n",
       "      <td>54</td>\n",
       "      <td>M</td>\n",
       "      <td>NAP</td>\n",
       "      <td>150</td>\n",
       "      <td>195</td>\n",
       "      <td>0</td>\n",
       "      <td>Normal</td>\n",
       "      <td>122</td>\n",
       "      <td>N</td>\n",
       "      <td>0.0</td>\n",
       "      <td>Up</td>\n",
       "      <td>0</td>\n",
       "    </tr>\n",
       "  </tbody>\n",
       "</table>\n",
       "</div>"
      ],
      "text/plain": [
       "   Age Sex ChestPainType  RestingBP  Cholesterol  FastingBS RestingECG  MaxHR  \\\n",
       "0   40   M           ATA        140          289          0     Normal    172   \n",
       "1   49   F           NAP        160          180          0     Normal    156   \n",
       "2   37   M           ATA        130          283          0         ST     98   \n",
       "3   48   F           ASY        138          214          0     Normal    108   \n",
       "4   54   M           NAP        150          195          0     Normal    122   \n",
       "\n",
       "  ExerciseAngina  Oldpeak ST_Slope  HeartDisease  \n",
       "0              N      0.0       Up             0  \n",
       "1              N      1.0     Flat             1  \n",
       "2              N      0.0       Up             0  \n",
       "3              Y      1.5     Flat             1  \n",
       "4              N      0.0       Up             0  "
      ]
     },
     "execution_count": 206,
     "metadata": {},
     "output_type": "execute_result"
    }
   ],
   "source": [
    "data = pd.read_csv('heart.csv')\n",
    "\n",
    "data.head()"
   ]
  },
  {
   "cell_type": "markdown",
   "metadata": {},
   "source": [
    "<h2 style=\"color:orange\">3. Dataset</h2>\n",
    "\n",
    "**Wat is het probleem?**\n",
    "\n",
    "<em>Het probleem is om te voorspellen of iemand een hartziekte heeft of niet op basis van een aantal features.</em>\n",
    "\n",
    "<br>\n",
    "\n",
    "**Wat voor labels heb je?**\n",
    "\n",
    "<em>We hebben een label genaamd 'HeartDisease'. Dit is een binary label. 0 geeft aan dat de patient geen hartziekte heeft en bij 1 heeft een patient wel een  hartziekte</em>\n",
    "\n",
    "<br>\n",
    "\n",
    "**Dimensie dataset**\n"
   ]
  },
  {
   "cell_type": "code",
   "execution_count": 58,
   "metadata": {},
   "outputs": [
    {
     "data": {
      "text/plain": [
       "(918, 12)"
      ]
     },
     "execution_count": 58,
     "metadata": {},
     "output_type": "execute_result"
    }
   ],
   "source": [
    "data.shape"
   ]
  },
  {
   "cell_type": "markdown",
   "metadata": {},
   "source": [
    "**Soorten data/features**"
   ]
  },
  {
   "cell_type": "code",
   "execution_count": 59,
   "metadata": {},
   "outputs": [
    {
     "data": {
      "text/plain": [
       "Age                 int64\n",
       "Sex                object\n",
       "ChestPainType      object\n",
       "RestingBP           int64\n",
       "Cholesterol         int64\n",
       "FastingBS           int64\n",
       "RestingECG         object\n",
       "MaxHR               int64\n",
       "ExerciseAngina     object\n",
       "Oldpeak           float64\n",
       "ST_Slope           object\n",
       "HeartDisease        int64\n",
       "dtype: object"
      ]
     },
     "execution_count": 59,
     "metadata": {},
     "output_type": "execute_result"
    }
   ],
   "source": [
    "data.dtypes"
   ]
  },
  {
   "cell_type": "markdown",
   "metadata": {},
   "source": [
    "<p style=\"color:#F64C72\">Insights</p>\n",
    "\n",
    "- <em>Er zijn 918 rijen en 12 kolommen in de dataset</em>\n",
    "- <em>Er zijn 5 kolommen die geen getallen zijn. Dit zijn: Sex, ChestpainType, RestingECG, ExerciseAngina en ST_Slope. Deze moeten worden veranderd naar getallen<em>"
   ]
  },
  {
   "cell_type": "code",
   "execution_count": 60,
   "metadata": {},
   "outputs": [
    {
     "data": {
      "image/png": "[encoded data removed]",
      "text/plain": [
       "<Figure size 360x360 with 1 Axes>"
      ]
     },
     "metadata": {},
     "output_type": "display_data"
    }
   ],
   "source": [
    "with_disease = data[data['HeartDisease'] == 1]['HeartDisease'].count()\n",
    "without_disease = data[data['HeartDisease'] == 0]['HeartDisease'].count()\n",
    "\n",
    "colors = sns.color_palette('deep')[3 : 1 : -1]\n",
    "\n",
    "# Bekijk of labels wel verdeeld zijn. Niet dat 90% van de data wel borstkanker heeft en maar 10% niet o.i.d. Je kunt dus zien dat het \n",
    "# 40/60 verdeeld is. Dat is nog prima.\n",
    "plt.figure(figsize=(5,5))\n",
    "plt.pie([with_disease, without_disease], colors=colors, autopct='%.1F%%', textprops = {'fontsize':14}, explode = [0,0.05])\n",
    "plt.legend(labels=['wel','niet'])\n",
    "plt.title('Hart problemen')\n",
    "plt.show()"
   ]
  },
  {
   "cell_type": "markdown",
   "metadata": {},
   "source": [
    "<p style=\"color:#F64C72\">Insights</p>\n",
    "\n",
    "<em>55% van de kandidaten heeft hartproblemen en 45% niet. De dataset is dus redelijk in balans.<em>"
   ]
  },
  {
   "cell_type": "code",
   "execution_count": 61,
   "metadata": {},
   "outputs": [
    {
     "data": {
      "text/html": [
       "<div>\n",
       "<style scoped>\n",
       "    .dataframe tbody tr th:only-of-type {\n",
       "        vertical-align: middle;\n",
       "    }\n",
       "\n",
       "    .dataframe tbody tr th {\n",
       "        vertical-align: top;\n",
       "    }\n",
       "\n",
       "    .dataframe thead th {\n",
       "        text-align: right;\n",
       "    }\n",
       "</style>\n",
       "<table border=\"1\" class=\"dataframe\">\n",
       "  <thead>\n",
       "    <tr style=\"text-align: right;\">\n",
       "      <th></th>\n",
       "      <th>count</th>\n",
       "      <th>mean</th>\n",
       "      <th>std</th>\n",
       "      <th>min</th>\n",
       "      <th>25%</th>\n",
       "      <th>50%</th>\n",
       "      <th>75%</th>\n",
       "      <th>max</th>\n",
       "    </tr>\n",
       "  </thead>\n",
       "  <tbody>\n",
       "    <tr>\n",
       "      <th>Age</th>\n",
       "      <td>918.0</td>\n",
       "      <td>53.510893</td>\n",
       "      <td>9.432617</td>\n",
       "      <td>28.0</td>\n",
       "      <td>47.00</td>\n",
       "      <td>54.0</td>\n",
       "      <td>60.0</td>\n",
       "      <td>77.0</td>\n",
       "    </tr>\n",
       "    <tr>\n",
       "      <th>RestingBP</th>\n",
       "      <td>918.0</td>\n",
       "      <td>132.396514</td>\n",
       "      <td>18.514154</td>\n",
       "      <td>0.0</td>\n",
       "      <td>120.00</td>\n",
       "      <td>130.0</td>\n",
       "      <td>140.0</td>\n",
       "      <td>200.0</td>\n",
       "    </tr>\n",
       "    <tr>\n",
       "      <th>Cholesterol</th>\n",
       "      <td>918.0</td>\n",
       "      <td>198.799564</td>\n",
       "      <td>109.384145</td>\n",
       "      <td>0.0</td>\n",
       "      <td>173.25</td>\n",
       "      <td>223.0</td>\n",
       "      <td>267.0</td>\n",
       "      <td>603.0</td>\n",
       "    </tr>\n",
       "    <tr>\n",
       "      <th>FastingBS</th>\n",
       "      <td>918.0</td>\n",
       "      <td>0.233115</td>\n",
       "      <td>0.423046</td>\n",
       "      <td>0.0</td>\n",
       "      <td>0.00</td>\n",
       "      <td>0.0</td>\n",
       "      <td>0.0</td>\n",
       "      <td>1.0</td>\n",
       "    </tr>\n",
       "    <tr>\n",
       "      <th>MaxHR</th>\n",
       "      <td>918.0</td>\n",
       "      <td>136.809368</td>\n",
       "      <td>25.460334</td>\n",
       "      <td>60.0</td>\n",
       "      <td>120.00</td>\n",
       "      <td>138.0</td>\n",
       "      <td>156.0</td>\n",
       "      <td>202.0</td>\n",
       "    </tr>\n",
       "    <tr>\n",
       "      <th>Oldpeak</th>\n",
       "      <td>918.0</td>\n",
       "      <td>0.887364</td>\n",
       "      <td>1.066570</td>\n",
       "      <td>-2.6</td>\n",
       "      <td>0.00</td>\n",
       "      <td>0.6</td>\n",
       "      <td>1.5</td>\n",
       "      <td>6.2</td>\n",
       "    </tr>\n",
       "    <tr>\n",
       "      <th>HeartDisease</th>\n",
       "      <td>918.0</td>\n",
       "      <td>0.553377</td>\n",
       "      <td>0.497414</td>\n",
       "      <td>0.0</td>\n",
       "      <td>0.00</td>\n",
       "      <td>1.0</td>\n",
       "      <td>1.0</td>\n",
       "      <td>1.0</td>\n",
       "    </tr>\n",
       "  </tbody>\n",
       "</table>\n",
       "</div>"
      ],
      "text/plain": [
       "              count        mean         std   min     25%    50%    75%    max\n",
       "Age           918.0   53.510893    9.432617  28.0   47.00   54.0   60.0   77.0\n",
       "RestingBP     918.0  132.396514   18.514154   0.0  120.00  130.0  140.0  200.0\n",
       "Cholesterol   918.0  198.799564  109.384145   0.0  173.25  223.0  267.0  603.0\n",
       "FastingBS     918.0    0.233115    0.423046   0.0    0.00    0.0    0.0    1.0\n",
       "MaxHR         918.0  136.809368   25.460334  60.0  120.00  138.0  156.0  202.0\n",
       "Oldpeak       918.0    0.887364    1.066570  -2.6    0.00    0.6    1.5    6.2\n",
       "HeartDisease  918.0    0.553377    0.497414   0.0    0.00    1.0    1.0    1.0"
      ]
     },
     "execution_count": 61,
     "metadata": {},
     "output_type": "execute_result"
    }
   ],
   "source": [
    "data.describe().T"
   ]
  },
  {
   "cell_type": "markdown",
   "metadata": {},
   "source": [
    "<p style=\"color:#F64C72\">Insights</p>\n",
    "\n",
    "- De meeste patienten zijn tussen de 47 en 60 jaar oud.\n",
    "- Bij RestingBP is de minimale waarde 0, terwijl 25% van de goep bijvoorbeeld 120 bevat. De gemiddelde is 132. Dit kan dus een uitsmijter zijn. Dezelfde geldt voor de cholesterol-gehalte.\n",
    "- FastingBS kan wel gewoon minimaal 0 zijn, aanegzien de meeste ook gewoon 0 als waarde hebben.\n",
    "- Zo'n 55% van de patienten heeft hartproblemen.\n",
    "- De standaardafwijking van cholelesterol-gehalte is redelijk hoog. er moet dus wel een variatie zijn."
   ]
  },
  {
   "cell_type": "markdown",
   "metadata": {},
   "source": [
    "<h2 style=\"color:orange\">4. Voorspelling</h2>\n",
    "\n",
    "**Welke classifier zal het beste zijn en waarom?**\n",
    "\n",
    "<em>Ik verwacht dat Random Forest Classifier het beste classifer voor dit probleem zal zijn. RFC staat bekend om zijn hoge accuraatheid. Ook is er hier sprake van een binaire tabel en een kleine dataset, dus Logistic Regression zou hier het ook goed doen.\n",
    "\n",
    "<em>Wel is dat RF meer accuraat gericht is en Logistic Regression juist tijdgericht. Daarom kan RF het wel beter doen dan Logistic Regression. Toch zal RF wel slomer zijn.<em>\n",
    "\n",
    "<br>\n",
    "\n",
    "**Welke hyperparameters zijn relevant en waarom?**\n",
    "\n",
    "- <em>n_estimators: aantal trees: zegt genoeg.max_depth: De diepte van een DT kan zeker uitmaken op de uitkomst (meerdere if statements om zo nauwkeurig mogelijk te zijn).\n",
    "- min_samples_leaf: Het aantal nodes in een DT kan veel invloed hebben op de efficiëntie. Meer nodes = meer splitsingen, wat meer rekenkracht kost. Toch is dit een relatief kleine dataset.\n",
    "- max_depth: spreekt voor zich</em>\n",
    "\n",
    "<br>\n",
    "\n",
    "<h2 style=\"color:orange\">5. Methoden</h2>\n",
    "\n",
    "**Welke preprocessing stappen zijn nodig?**\n",
    "\n",
    "- <em>Checken of er duplicates en/of lege cellen zijn </em>\n",
    "- <em>Categorisch omzetten naar numeriek</em>\n",
    "- <em>Bekijken of er outliers zijn. Zoja, outliers eruit halen</em>\n",
    "- <em>Feature importance<em>\n",
    "- <em>Data normaliseren<em>\n",
    "\n",
    "<br>\n",
    "\n",
    "**Welke classifiers ga je vergelijken?**\n",
    "\n",
    "- <em>Logistic Regression</em>\n",
    "- <em>K-Nearest Neighbors<em>\n",
    "- <em>Random Forest Regression (ensamble)<em>\n",
    "- <em>VotingClassifier (ensamble)<em>\n",
    "\n",
    "<br>\n",
    "\n",
    "**Welke performace metric is passend?**\n",
    "\n",
    "<em>F1 Score<em>\n",
    "- <em>We willen vermijden dat er een patient wordt voorspeld als 'geen hartziekte', terwijl die dat juist wel heeft, oftewel de positieve correct classificieren (recall)<em>\n",
    "- <em>We willen dat de model zovaak mogelijk correct classificeerd (precision)."
   ]
  },
  {
   "cell_type": "markdown",
   "metadata": {},
   "source": [
    "<h4 style=\"color:lightblue\">5.1 Checken of er duplicates en/of lege cellen zijn</h4>"
   ]
  },
  {
   "cell_type": "markdown",
   "metadata": {},
   "source": [
    "Bekijk naar lege cellen"
   ]
  },
  {
   "cell_type": "code",
   "execution_count": 62,
   "metadata": {},
   "outputs": [
    {
     "data": {
      "text/plain": [
       "Age               0\n",
       "Sex               0\n",
       "ChestPainType     0\n",
       "RestingBP         0\n",
       "Cholesterol       0\n",
       "FastingBS         0\n",
       "RestingECG        0\n",
       "MaxHR             0\n",
       "ExerciseAngina    0\n",
       "Oldpeak           0\n",
       "ST_Slope          0\n",
       "HeartDisease      0\n",
       "dtype: int64"
      ]
     },
     "execution_count": 62,
     "metadata": {},
     "output_type": "execute_result"
    }
   ],
   "source": [
    "data.isna().sum()"
   ]
  },
  {
   "cell_type": "markdown",
   "metadata": {},
   "source": [
    "Bekijk of er duplicates zijn"
   ]
  },
  {
   "cell_type": "code",
   "execution_count": 63,
   "metadata": {},
   "outputs": [
    {
     "data": {
      "text/plain": [
       "0"
      ]
     },
     "execution_count": 63,
     "metadata": {},
     "output_type": "execute_result"
    }
   ],
   "source": [
    "data.duplicated().sum()"
   ]
  },
  {
   "cell_type": "markdown",
   "metadata": {},
   "source": [
    "<p style=\"color:#F64C72\">Insights</p>\n",
    "\n",
    "- Er zijn geen gedupliceerde waarden\n",
    "- Er zijn geen lege cellen"
   ]
  },
  {
   "cell_type": "markdown",
   "metadata": {},
   "source": [
    "<h4 style=\"color:lightblue\">5.2 Categorisch omzetten naar numeriek</h4>"
   ]
  },
  {
   "cell_type": "code",
   "execution_count": 207,
   "metadata": {},
   "outputs": [],
   "source": [
    "data['Sex'] = data['Sex'].map({'M': 0, 'F': 1})\n",
    "data['ExerciseAngina'] = data['ExerciseAngina'].map({'Y': 0, 'N': 1})"
   ]
  },
  {
   "cell_type": "code",
   "execution_count": 208,
   "metadata": {},
   "outputs": [
    {
     "data": {
      "text/html": [
       "<div>\n",
       "<style scoped>\n",
       "    .dataframe tbody tr th:only-of-type {\n",
       "        vertical-align: middle;\n",
       "    }\n",
       "\n",
       "    .dataframe tbody tr th {\n",
       "        vertical-align: top;\n",
       "    }\n",
       "\n",
       "    .dataframe thead th {\n",
       "        text-align: right;\n",
       "    }\n",
       "</style>\n",
       "<table border=\"1\" class=\"dataframe\">\n",
       "  <thead>\n",
       "    <tr style=\"text-align: right;\">\n",
       "      <th></th>\n",
       "      <th>Age</th>\n",
       "      <th>Sex</th>\n",
       "      <th>RestingBP</th>\n",
       "      <th>Cholesterol</th>\n",
       "      <th>FastingBS</th>\n",
       "      <th>MaxHR</th>\n",
       "      <th>ExerciseAngina</th>\n",
       "      <th>Oldpeak</th>\n",
       "      <th>HeartDisease</th>\n",
       "      <th>ChestPainType_ASY</th>\n",
       "      <th>ChestPainType_ATA</th>\n",
       "      <th>ChestPainType_NAP</th>\n",
       "      <th>ChestPainType_TA</th>\n",
       "      <th>RestingECG_LVH</th>\n",
       "      <th>RestingECG_Normal</th>\n",
       "      <th>RestingECG_ST</th>\n",
       "      <th>ST_Slope_Down</th>\n",
       "      <th>ST_Slope_Flat</th>\n",
       "      <th>ST_Slope_Up</th>\n",
       "      <th>ChestPainType</th>\n",
       "    </tr>\n",
       "  </thead>\n",
       "  <tbody>\n",
       "    <tr>\n",
       "      <th>0</th>\n",
       "      <td>40</td>\n",
       "      <td>0</td>\n",
       "      <td>140</td>\n",
       "      <td>289</td>\n",
       "      <td>0</td>\n",
       "      <td>172</td>\n",
       "      <td>1</td>\n",
       "      <td>0.0</td>\n",
       "      <td>0</td>\n",
       "      <td>0</td>\n",
       "      <td>1</td>\n",
       "      <td>0</td>\n",
       "      <td>0</td>\n",
       "      <td>0</td>\n",
       "      <td>1</td>\n",
       "      <td>0</td>\n",
       "      <td>0</td>\n",
       "      <td>0</td>\n",
       "      <td>1</td>\n",
       "      <td>ATA</td>\n",
       "    </tr>\n",
       "    <tr>\n",
       "      <th>1</th>\n",
       "      <td>49</td>\n",
       "      <td>1</td>\n",
       "      <td>160</td>\n",
       "      <td>180</td>\n",
       "      <td>0</td>\n",
       "      <td>156</td>\n",
       "      <td>1</td>\n",
       "      <td>1.0</td>\n",
       "      <td>1</td>\n",
       "      <td>0</td>\n",
       "      <td>0</td>\n",
       "      <td>1</td>\n",
       "      <td>0</td>\n",
       "      <td>0</td>\n",
       "      <td>1</td>\n",
       "      <td>0</td>\n",
       "      <td>0</td>\n",
       "      <td>1</td>\n",
       "      <td>0</td>\n",
       "      <td>NAP</td>\n",
       "    </tr>\n",
       "    <tr>\n",
       "      <th>2</th>\n",
       "      <td>37</td>\n",
       "      <td>0</td>\n",
       "      <td>130</td>\n",
       "      <td>283</td>\n",
       "      <td>0</td>\n",
       "      <td>98</td>\n",
       "      <td>1</td>\n",
       "      <td>0.0</td>\n",
       "      <td>0</td>\n",
       "      <td>0</td>\n",
       "      <td>1</td>\n",
       "      <td>0</td>\n",
       "      <td>0</td>\n",
       "      <td>0</td>\n",
       "      <td>0</td>\n",
       "      <td>1</td>\n",
       "      <td>0</td>\n",
       "      <td>0</td>\n",
       "      <td>1</td>\n",
       "      <td>ATA</td>\n",
       "    </tr>\n",
       "    <tr>\n",
       "      <th>3</th>\n",
       "      <td>48</td>\n",
       "      <td>1</td>\n",
       "      <td>138</td>\n",
       "      <td>214</td>\n",
       "      <td>0</td>\n",
       "      <td>108</td>\n",
       "      <td>0</td>\n",
       "      <td>1.5</td>\n",
       "      <td>1</td>\n",
       "      <td>1</td>\n",
       "      <td>0</td>\n",
       "      <td>0</td>\n",
       "      <td>0</td>\n",
       "      <td>0</td>\n",
       "      <td>1</td>\n",
       "      <td>0</td>\n",
       "      <td>0</td>\n",
       "      <td>1</td>\n",
       "      <td>0</td>\n",
       "      <td>ASY</td>\n",
       "    </tr>\n",
       "    <tr>\n",
       "      <th>4</th>\n",
       "      <td>54</td>\n",
       "      <td>0</td>\n",
       "      <td>150</td>\n",
       "      <td>195</td>\n",
       "      <td>0</td>\n",
       "      <td>122</td>\n",
       "      <td>1</td>\n",
       "      <td>0.0</td>\n",
       "      <td>0</td>\n",
       "      <td>0</td>\n",
       "      <td>0</td>\n",
       "      <td>1</td>\n",
       "      <td>0</td>\n",
       "      <td>0</td>\n",
       "      <td>1</td>\n",
       "      <td>0</td>\n",
       "      <td>0</td>\n",
       "      <td>0</td>\n",
       "      <td>1</td>\n",
       "      <td>NAP</td>\n",
       "    </tr>\n",
       "  </tbody>\n",
       "</table>\n",
       "</div>"
      ],
      "text/plain": [
       "   Age  Sex  RestingBP  Cholesterol  FastingBS  MaxHR  ExerciseAngina  \\\n",
       "0   40    0        140          289          0    172               1   \n",
       "1   49    1        160          180          0    156               1   \n",
       "2   37    0        130          283          0     98               1   \n",
       "3   48    1        138          214          0    108               0   \n",
       "4   54    0        150          195          0    122               1   \n",
       "\n",
       "   Oldpeak  HeartDisease  ChestPainType_ASY  ChestPainType_ATA  \\\n",
       "0      0.0             0                  0                  1   \n",
       "1      1.0             1                  0                  0   \n",
       "2      0.0             0                  0                  1   \n",
       "3      1.5             1                  1                  0   \n",
       "4      0.0             0                  0                  0   \n",
       "\n",
       "   ChestPainType_NAP  ChestPainType_TA  RestingECG_LVH  RestingECG_Normal  \\\n",
       "0                  0                 0               0                  1   \n",
       "1                  1                 0               0                  1   \n",
       "2                  0                 0               0                  0   \n",
       "3                  0                 0               0                  1   \n",
       "4                  1                 0               0                  1   \n",
       "\n",
       "   RestingECG_ST  ST_Slope_Down  ST_Slope_Flat  ST_Slope_Up ChestPainType  \n",
       "0              0              0              0            1           ATA  \n",
       "1              0              0              1            0           NAP  \n",
       "2              1              0              0            1           ATA  \n",
       "3              0              0              1            0           ASY  \n",
       "4              0              0              0            1           NAP  "
      ]
     },
     "execution_count": 208,
     "metadata": {},
     "output_type": "execute_result"
    }
   ],
   "source": [
    "columns_to_encode = ['ChestPainType','RestingECG','ST_Slope']\n",
    "orginal_chestPainType = data['ChestPainType'] # Nodig voor ANOVA test\n",
    "\n",
    "data = pd.get_dummies(columns=columns_to_encode, data=data)\n",
    "\n",
    "data['ChestPainType'] = orginal_chestPainType\n",
    "\n",
    "data.head()"
   ]
  },
  {
   "cell_type": "markdown",
   "metadata": {},
   "source": [
    "<h4 style=\"color:lightblue\">5.3 Bekijken of er outliers zijn. Zoja, outliers eruit halen</h4>"
   ]
  },
  {
   "cell_type": "code",
   "execution_count": 66,
   "metadata": {},
   "outputs": [
    {
     "data": {
      "image/png": "[encoded data removed]",
      "text/plain": [
       "<Figure size 864x720 with 20 Axes>"
      ]
     },
     "metadata": {
      "needs_background": "light"
     },
     "output_type": "display_data"
    }
   ],
   "source": [
    "plt.figure(figsize=(12,10))\n",
    "for idx, column in enumerate(data.columns):\n",
    "    plt.subplot(5, 4, idx+1)\n",
    "    sns.histplot(x=column, data=data)\n",
    "    plt.title(column)\n",
    "    plt.tight_layout()\n",
    "plt.show()"
   ]
  },
  {
   "cell_type": "markdown",
   "metadata": {},
   "source": [
    "<p style=\"color:#F64C72\">Insights</p>\n",
    "\n",
    "- Waardes zoals Age en MaxHR zien er redelijk normaal verdeeld uit.\n",
    "- Bij cholesterol zijn er heelveel 0 waardes. Dit zijn hoogstwaarschijnlijk uitsmijters, want 0 als waarde voor cholesterol is niet mogelijk.\n",
    "- Er zijn veel meer mannen met hartproblemen dan vrouwen.\n",
    "- OldPleak heeft een negatieve waarde. Deze kunnen niet negatief zijn.\n",
    "- Er zijn zowat even veel ST_Slope_Flat bij zowel heartdiseased als niet.\n",
    "- ST_Slope_Down en ChestPainType_TA zijn heel wat hoger bij degenen zonder hertziektes.\n",
    "\n",
    "<br><br>\n",
    "\n",
    "Om er zeker van te zijn dat er uitsmijters zijn, worden er hieronder boxplots getekend."
   ]
  },
  {
   "cell_type": "code",
   "execution_count": 67,
   "metadata": {},
   "outputs": [
    {
     "data": {
      "text/plain": [
       "['Age', 'RestingBP', 'Cholesterol', 'MaxHR', 'Oldpeak']"
      ]
     },
     "execution_count": 67,
     "metadata": {},
     "output_type": "execute_result"
    }
   ],
   "source": [
    "non_binary_columns = [col for col in data if not np.isin(data[col].unique(), [0, 1]).all()]\n",
    "\n",
    "non_binary_columns.remove('ChestPainType') # Bevat 0,1,2,3 -> geen binary, wordt wel meegenomen door code\n",
    "\n",
    "non_binary_columns"
   ]
  },
  {
   "cell_type": "code",
   "execution_count": 68,
   "metadata": {},
   "outputs": [
    {
     "data": {
      "image/png": "[encoded data removed]",
      "text/plain": [
       "<Figure size 1440x720 with 5 Axes>"
      ]
     },
     "metadata": {
      "needs_background": "light"
     },
     "output_type": "display_data"
    }
   ],
   "source": [
    "fig, axes = plt.subplots(2, 3)\n",
    "# sns.set(style=\"darkgrid\")\n",
    "for i, ax in zip(range(len(non_binary_columns)), axes.flat):\n",
    "    color = sns.color_palette(\"Set2\")[i]\n",
    "    sns.boxplot(data[non_binary_columns[i]], orient='h', ax=ax, color=color)\n",
    "    plt.title(non_binary_columns[i])\n",
    "\n",
    "\n",
    "fig.delaxes(axes[1][2])\n",
    "fig.set_size_inches(20, 10)\n",
    "plt.show()"
   ]
  },
  {
   "cell_type": "markdown",
   "metadata": {},
   "source": [
    "<p style=\"color:#F64C72\">Insights</p>\n",
    "\n",
    "- Age heeft geen uitsmijters\n",
    "- RestingBP heeft één 0-waarde. Bovendien bevat het ook meerdere outliers\n",
    "- Cholesterol heeft veel 0-waardes en alles boven de 450 is onzin.\n",
    "- Oldpeak heeft ook wat outliers"
   ]
  },
  {
   "cell_type": "code",
   "execution_count": 209,
   "metadata": {},
   "outputs": [],
   "source": [
    "def detect_outliers(data_1):\n",
    "    outliers=[]\n",
    "    threshold=3 # Boven de 3 standaarddeviaties is het een outlier\n",
    "    mean = np.mean(data_1)\n",
    "    std =np.std(data_1)\n",
    "    \n",
    "    for value in data_1:\n",
    "        z_score = (value - mean)/std\n",
    "        if np.abs(z_score) > threshold:\n",
    "            outliers.append(value)\n",
    "    return outliers"
   ]
  },
  {
   "cell_type": "code",
   "execution_count": 210,
   "metadata": {},
   "outputs": [
    {
     "name": "stdout",
     "output_type": "stream",
     "text": [
      "Age: []\n",
      "RestingBP: [190, 200, 200, 200, 0, 190, 200, 192]\n",
      "Cholesterol: [529, 603, 564]\n",
      "MaxHR: [60]\n",
      "Oldpeak: [5.0, -2.6, 4.2, 5.6, 4.2, 6.2, 4.4]\n"
     ]
    }
   ],
   "source": [
    "for col in data.select_dtypes(include=np.number):\n",
    "    if col in non_binary_columns:\n",
    "        column = data[col]\n",
    "        print(f\"{col}:\", detect_outliers(column))"
   ]
  },
  {
   "cell_type": "markdown",
   "metadata": {},
   "source": [
    "Cholesterol"
   ]
  },
  {
   "cell_type": "code",
   "execution_count": 211,
   "metadata": {},
   "outputs": [
    {
     "data": {
      "text/plain": [
       "(915, 20)"
      ]
     },
     "execution_count": 211,
     "metadata": {},
     "output_type": "execute_result"
    }
   ],
   "source": [
    "mean_cholesterol = data[data['Cholesterol'] > 0]['Cholesterol'].mean()\n",
    "data['Cholesterol'] = data['Cholesterol'].apply(lambda x: x if x > 0 else mean_cholesterol)\n",
    "\n",
    "df_cholesterol_outliers = data[data['Cholesterol'] >= 529]\n",
    "data.drop(df_cholesterol_outliers.index, axis=0, inplace=True)\n",
    "\n",
    "data.shape"
   ]
  },
  {
   "cell_type": "markdown",
   "metadata": {},
   "source": [
    "RestingBP"
   ]
  },
  {
   "cell_type": "code",
   "execution_count": 212,
   "metadata": {},
   "outputs": [
    {
     "data": {
      "text/plain": [
       "(907, 20)"
      ]
     },
     "execution_count": 212,
     "metadata": {},
     "output_type": "execute_result"
    }
   ],
   "source": [
    "data = data[(data['RestingBP'] > 0) & (data['RestingBP'] < 190)]\n",
    "\n",
    "data.shape"
   ]
  },
  {
   "cell_type": "markdown",
   "metadata": {},
   "source": [
    "MaxHR"
   ]
  },
  {
   "cell_type": "code",
   "execution_count": 213,
   "metadata": {},
   "outputs": [
    {
     "data": {
      "text/plain": [
       "(906, 20)"
      ]
     },
     "execution_count": 213,
     "metadata": {},
     "output_type": "execute_result"
    }
   ],
   "source": [
    "df_maxhr_outliers = data[data['MaxHR'] == 60]\n",
    "data.drop(df_maxhr_outliers.index, axis=0, inplace=True)\n",
    "\n",
    "data.shape"
   ]
  },
  {
   "cell_type": "markdown",
   "metadata": {},
   "source": [
    "Oldpeak"
   ]
  },
  {
   "cell_type": "code",
   "execution_count": 214,
   "metadata": {},
   "outputs": [
    {
     "data": {
      "text/plain": [
       "(899, 20)"
      ]
     },
     "execution_count": 214,
     "metadata": {},
     "output_type": "execute_result"
    }
   ],
   "source": [
    "data = data[(data['Oldpeak'] > -2.6) & (data['Oldpeak'] < 4.2)]\n",
    "\n",
    "data.shape"
   ]
  },
  {
   "cell_type": "markdown",
   "metadata": {},
   "source": [
    "<h4 style=\"color:lightblue\">5.4 Feature Selection</h4>\n",
    "\n",
    "##### 5.4.1 Heatmap\n"
   ]
  },
  {
   "cell_type": "markdown",
   "metadata": {},
   "source": [
    "Eerst even de Heartdisease kolom achteraan verplaatsen, zodat we een beter inzicht krijgen"
   ]
  },
  {
   "cell_type": "code",
   "execution_count": 77,
   "metadata": {},
   "outputs": [],
   "source": [
    "old_columns = data.columns.to_list()\n",
    "\n",
    "hd_index = old_columns.index('HeartDisease')\n",
    "\n",
    "hd = old_columns.pop(hd_index)\n",
    "\n",
    "new_columns = [*old_columns, hd]\n",
    "\n",
    "data = data[new_columns]"
   ]
  },
  {
   "cell_type": "code",
   "execution_count": 78,
   "metadata": {},
   "outputs": [
    {
     "data": {
      "text/plain": [
       "<AxesSubplot:>"
      ]
     },
     "execution_count": 78,
     "metadata": {},
     "output_type": "execute_result"
    },
    {
     "data": {
      "image/png": "[encoded data removed]",
      "text/plain": [
       "<Figure size 1440x1440 with 2 Axes>"
      ]
     },
     "metadata": {
      "needs_background": "light"
     },
     "output_type": "display_data"
    }
   ],
   "source": [
    "corr = data.corr()\n",
    "mask = np.triu(np.ones_like(corr, dtype=np.bool))\n",
    "f, ax = plt.subplots(figsize=(20, 20))\n",
    "cmap = sns.diverging_palette(150, 1, as_cmap=True)\n",
    "sns.heatmap(corr, mask=mask, cmap=cmap, vmax=None, center=0,square=True, annot=True, linewidths=.5, cbar_kws={\"shrink\": .9})"
   ]
  },
  {
   "cell_type": "markdown",
   "metadata": {},
   "source": [
    "<p style=\"color:#F64C72\">Insights</p>\n",
    "\n",
    "- Op eerste blik lijkt het dat MaxHR, ST_Slope_Flat en ExerciseAngina een sterk correlatie te hebben met Heartdisease.\n",
    "- Kolommen zoals Cholesterol hebben volgens de heatmap weinig invloed op de label. Ook hebben deze indirect niet veel invloed op andere features"
   ]
  },
  {
   "cell_type": "markdown",
   "metadata": {},
   "source": [
    "#### 5.4.2 Statistics"
   ]
  },
  {
   "cell_type": "markdown",
   "metadata": {},
   "source": [
    "- interval -> t-test\n",
    "- nominaal -> chi square\n",
    "- nominaal + rangorde -> chi square of mann whitney"
   ]
  },
  {
   "cell_type": "markdown",
   "metadata": {},
   "source": [
    "##### T-test"
   ]
  },
  {
   "cell_type": "markdown",
   "metadata": {},
   "source": [
    "Bekijk eerst even of kolommen normaal verdeeld zijn"
   ]
  },
  {
   "cell_type": "code",
   "execution_count": 22,
   "metadata": {},
   "outputs": [
    {
     "data": {
      "image/png": "[encoded data removed]",
      "text/plain": [
       "<Figure size 1440x720 with 5 Axes>"
      ]
     },
     "metadata": {
      "needs_background": "light"
     },
     "output_type": "display_data"
    }
   ],
   "source": [
    "fig, axes = plt.subplots(2,3, figsize=(20,10))\n",
    "\n",
    "for i, ax in zip(range(len(non_binary_columns)), axes.flat):\n",
    "    color = sns.color_palette(\"Set2\")[i]\n",
    "    sns.distplot(data[non_binary_columns[i]], bins=15, ax=ax, color=color)\n",
    "    plt.title(non_binary_columns[i])\n",
    "\n",
    "fig.delaxes(axes[1][2])\n",
    "plt.show()\n"
   ]
  },
  {
   "cell_type": "markdown",
   "metadata": {},
   "source": [
    "<p style=\"color:#F64C72\">Insights</p>\n",
    "\n",
    "- MaxHR en RestingBP zien er nog redelijk normaal verdeeld uit\n",
    "- Age ook wel, maar wel verschuift naar rechts\n",
    "- Cholesterol en oldpeak niet"
   ]
  },
  {
   "cell_type": "markdown",
   "metadata": {},
   "source": [
    "##### Kolmogorov-Smirnov\n",
    "\n",
    "We moeten eerst bekijken of we een normale t-test of een welsch t-test moeten doen. Dit kunnen we beslissen door zeker te weten of de dataset normaal verdeeld is. Als dat zo is, kunnen we de normale t-test gebruiken. Zoniet, dan de welsch t-test.\n",
    "\n",
    "Om te bepalen of de dataset normaal verdeeld is, kunnen we de kolomogoriv-smirlov test doen. \n",
    "\n",
    "H0: De verdeling is normaal verdeeld."
   ]
  },
  {
   "cell_type": "code",
   "execution_count": 79,
   "metadata": {},
   "outputs": [],
   "source": [
    "from scipy.stats import kstest, ttest_ind\n",
    "from scipy.stats import ttest_ind"
   ]
  },
  {
   "cell_type": "code",
   "execution_count": 80,
   "metadata": {},
   "outputs": [
    {
     "name": "stdout",
     "output_type": "stream",
     "text": [
      "Age: Niet normaal verdeeld (Verwerp H0) \n",
      "--> stat: 1.0 \n",
      "--> p waarde: 0.0\n",
      "\n",
      "RestingBP: Niet normaal verdeeld (Verwerp H0) \n",
      "--> stat: 1.0 \n",
      "--> p waarde: 0.0\n",
      "\n",
      "Cholesterol: Niet normaal verdeeld (Verwerp H0) \n",
      "--> stat: 1.0 \n",
      "--> p waarde: 0.0\n",
      "\n",
      "MaxHR: Niet normaal verdeeld (Verwerp H0) \n",
      "--> stat: 1.0 \n",
      "--> p waarde: 0.0\n",
      "\n",
      "Oldpeak: Niet normaal verdeeld (Verwerp H0) \n",
      "--> stat: 0.4866518353726363 \n",
      "--> p waarde: 1.1371081512467288e-196\n",
      "\n"
     ]
    }
   ],
   "source": [
    "# Kolomogorov-Smirlov test om te zien of een kolom (data) normaal is verdeeld.\n",
    "alpha = 0.05\n",
    "for col in non_binary_columns:\n",
    "    try:\n",
    "        stat, p = kstest(data[col], 'norm')\n",
    "\n",
    "        if p > alpha:\n",
    "            print(f'{col}: Normaal verdeeld (Behoud H0) \\n--> stat: {stat} \\n--> p waarde: {p}\\n')\n",
    "        else:\n",
    "            print(f'{col}: Niet normaal verdeeld (Verwerp H0) \\n--> stat: {stat} \\n--> p waarde: {p}\\n')\n",
    "    except:\n",
    "        pass\n"
   ]
  },
  {
   "cell_type": "markdown",
   "metadata": {},
   "source": [
    "Eigenlijk moeten we telkens eerst de assumpties van een t test controleren. Gegeven de steekproefomvang maken we ons geen zorgen over de (normaal) verdeling. Belangrijk is dat er sprake is van vergelijkbare variantie in beide groepen. Dat wordt gecheckt met Levene's test."
   ]
  },
  {
   "cell_type": "code",
   "execution_count": 81,
   "metadata": {},
   "outputs": [],
   "source": [
    "wel = data[data['HeartDisease'] == 1]\n",
    "geen = data[data['HeartDisease'] == 0]"
   ]
  },
  {
   "cell_type": "code",
   "execution_count": 82,
   "metadata": {},
   "outputs": [
    {
     "name": "stdout",
     "output_type": "stream",
     "text": [
      "Cholesterol: 0.002634913630555437\n",
      "Age: 0.03507241487767327\n",
      "RestingBP: 0.005024275759043811\n",
      "FastingBS: 5.360060353285369e-67\n",
      "MaxHR: 0.7545016640169941\n",
      "Oldpeak: 2.3894026189998983e-22\n"
     ]
    }
   ],
   "source": [
    "from scipy.stats import levene\n",
    "\n",
    "print(f\"Cholesterol: {levene(wel['Cholesterol'], geen['Cholesterol'], center='mean')[1]}\")\n",
    "print(f\"Age: {levene(wel['Age'], geen['Age'], center='mean')[1]}\")\n",
    "print(f\"RestingBP: {levene(wel['RestingBP'], geen['RestingBP'], center='mean')[1]}\")\n",
    "print(f\"FastingBS: {levene(wel['FastingBS'], geen['FastingBS'], center='mean')[1]}\")\n",
    "print(f\"MaxHR: {levene(wel['MaxHR'], geen['MaxHR'], center='mean')[1]}\")\n",
    "print(f\"Oldpeak: {levene(wel['Oldpeak'], geen['Oldpeak'], center='mean')[1]}\")"
   ]
  },
  {
   "cell_type": "markdown",
   "metadata": {},
   "source": [
    "<p style=\"color:yellow\">Conclusie</p>\n",
    "\n",
    "- Alleen de variantie van MaxHR wel en MaxHR geen is het vergelijkbaar. Toch is het niet normaal verdeeld, dus alles moet een welsch test worden.\n",
    "\n",
    "Dus: Gebruik Welsch t-test.\n",
    "\n",
    "<br>\n",
    "<em>De t-test van scipy geeft niet heel veel informatie. We missen informatie over de effect size. Pearson R kan ons hierbij helpen. Daarom gebruiken we researchpy. Dit geeft al wat meer inzicht<em>"
   ]
  },
  {
   "cell_type": "markdown",
   "metadata": {},
   "source": [
    "#### Interval kolommen "
   ]
  },
  {
   "cell_type": "code",
   "execution_count": 83,
   "metadata": {},
   "outputs": [],
   "source": [
    "import researchpy as rp\n",
    "from scipy.stats import ttest_ind"
   ]
  },
  {
   "cell_type": "code",
   "execution_count": 84,
   "metadata": {},
   "outputs": [],
   "source": [
    "alpha = 0.05\n",
    "pearson_treshold = 0.2\n",
    "\n",
    "def show_welsch_test_results(column_name):\n",
    "    try:\n",
    "        _, res = rp.ttest(group1=wel[column_name], group2=geen[column_name], equal_variances=False)\n",
    "        pvalue = res['results'][3]\n",
    "        pearsons_r = res['results'][9]\n",
    "\n",
    "        print(f\"p-value: {pvalue}\")\n",
    "\n",
    "        if pvalue > alpha:\n",
    "            print(f'{column_name}: Geen significant verschil (Behoud H0) --> verwijder kolom')\n",
    "        else:\n",
    "            print(f'{column_name}: Wel significant verschil (Verwerp H0)')\n",
    "            if pearsons_r > pearson_treshold:\n",
    "                print(f'Pearsons r: {pearsons_r} (sterk genoeg)')\n",
    "            else: \n",
    "                print(f'Pearsons r: {pearsons_r} (te zwak) --> verwijder kolom')\n",
    "    except Exception as e:\n",
    "        print(e)\n",
    "        print(\"Something went wrong. Have you given the correct parameters?\")"
   ]
  },
  {
   "cell_type": "code",
   "execution_count": 85,
   "metadata": {},
   "outputs": [
    {
     "name": "stdout",
     "output_type": "stream",
     "text": [
      "p-value: 0.0044\n",
      "Cholesterol: Wel significant verschil (Verwerp H0)\n",
      "Pearsons r: 0.0977 (te zwak) --> verwijder kolom\n"
     ]
    }
   ],
   "source": [
    "show_welsch_test_results('Cholesterol')"
   ]
  },
  {
   "cell_type": "code",
   "execution_count": 86,
   "metadata": {},
   "outputs": [
    {
     "name": "stdout",
     "output_type": "stream",
     "text": [
      "p-value: 0.0\n",
      "Age: Wel significant verschil (Verwerp H0)\n",
      "Pearsons r: 0.2933 (sterk genoeg)\n"
     ]
    }
   ],
   "source": [
    "show_welsch_test_results('Age')"
   ]
  },
  {
   "cell_type": "code",
   "execution_count": 87,
   "metadata": {},
   "outputs": [
    {
     "name": "stdout",
     "output_type": "stream",
     "text": [
      "p-value: 0.0008\n",
      "RestingBP: Wel significant verschil (Verwerp H0)\n",
      "Pearsons r: 0.1116 (te zwak) --> verwijder kolom\n"
     ]
    }
   ],
   "source": [
    "show_welsch_test_results('RestingBP')"
   ]
  },
  {
   "cell_type": "code",
   "execution_count": 88,
   "metadata": {},
   "outputs": [
    {
     "name": "stdout",
     "output_type": "stream",
     "text": [
      "p-value: 0.0\n",
      "FastingBS: Wel significant verschil (Verwerp H0)\n",
      "Pearsons r: 0.2831 (sterk genoeg)\n"
     ]
    }
   ],
   "source": [
    "show_welsch_test_results('FastingBS')"
   ]
  },
  {
   "cell_type": "code",
   "execution_count": 89,
   "metadata": {},
   "outputs": [
    {
     "name": "stdout",
     "output_type": "stream",
     "text": [
      "p-value: 0.0\n",
      "MaxHR: Wel significant verschil (Verwerp H0)\n",
      "Pearsons r: 0.412 (sterk genoeg)\n"
     ]
    }
   ],
   "source": [
    "show_welsch_test_results('MaxHR')"
   ]
  },
  {
   "cell_type": "code",
   "execution_count": 90,
   "metadata": {},
   "outputs": [
    {
     "name": "stdout",
     "output_type": "stream",
     "text": [
      "p-value: 0.0\n",
      "Oldpeak: Wel significant verschil (Verwerp H0)\n",
      "Pearsons r: 0.4456 (sterk genoeg)\n"
     ]
    }
   ],
   "source": [
    "show_welsch_test_results('Oldpeak')"
   ]
  },
  {
   "cell_type": "markdown",
   "metadata": {},
   "source": [
    "<p style=\"color:yellow\">Conclusie</p>\n",
    "\n",
    "\n",
    "- Cholesterol enn RestingBP weggooien"
   ]
  },
  {
   "cell_type": "markdown",
   "metadata": {},
   "source": [
    "#### Chi-square"
   ]
  },
  {
   "cell_type": "code",
   "execution_count": 91,
   "metadata": {},
   "outputs": [],
   "source": [
    "alpha = 0.05\n",
    "chi_square_treshold = 0.2\n",
    "\n",
    "def show_chi_square_results(column_name):\n",
    "    try:\n",
    "        _, result = rp.crosstab(data['HeartDisease'], data[column_name], test= \"chi-square\")\n",
    "        p_value = result['results'][1]\n",
    "        cramers_phi = result['results'][2]\n",
    "\n",
    "        print(f\"p-value: {p_value}\")\n",
    "\n",
    "        if p_value > alpha:\n",
    "            print('Geen significant verschil (Behoud H0) --> verwijder kolom')\n",
    "        else:\n",
    "            print('Wel significant verschil (Verwerp H0)')\n",
    "            if cramers_phi > chi_square_treshold:\n",
    "                print(f'Cramers_phi: {cramers_phi} (sterk genoeg)')\n",
    "            else: \n",
    "                print(f'Cramers_phi: {cramers_phi} (te zwak) --> verwijder kolom')\n",
    "        \n",
    "    except:\n",
    "        print(\"Something went wrong. Have you given the correct parameter?\")\n"
   ]
  },
  {
   "cell_type": "code",
   "execution_count": 92,
   "metadata": {},
   "outputs": [
    {
     "name": "stdout",
     "output_type": "stream",
     "text": [
      "p-value: 0.0\n",
      "Wel significant verschil (Verwerp H0)\n",
      "Cramers_phi: 0.3095 (sterk genoeg)\n"
     ]
    }
   ],
   "source": [
    "show_chi_square_results('Sex')"
   ]
  },
  {
   "cell_type": "code",
   "execution_count": 93,
   "metadata": {},
   "outputs": [
    {
     "name": "stdout",
     "output_type": "stream",
     "text": [
      "p-value: 0.0\n",
      "Wel significant verschil (Verwerp H0)\n",
      "Cramers_phi: 0.498 (sterk genoeg)\n"
     ]
    }
   ],
   "source": [
    "show_chi_square_results('ExerciseAngina')"
   ]
  },
  {
   "cell_type": "code",
   "execution_count": 94,
   "metadata": {},
   "outputs": [
    {
     "name": "stdout",
     "output_type": "stream",
     "text": [
      "p-value: 0.0\n",
      "Wel significant verschil (Verwerp H0)\n",
      "Cramers_phi: 0.5139 (sterk genoeg)\n"
     ]
    }
   ],
   "source": [
    "show_chi_square_results('ChestPainType_ASY')"
   ]
  },
  {
   "cell_type": "code",
   "execution_count": 95,
   "metadata": {},
   "outputs": [
    {
     "name": "stdout",
     "output_type": "stream",
     "text": [
      "p-value: 0.0\n",
      "Wel significant verschil (Verwerp H0)\n",
      "Cramers_phi: 0.4019 (sterk genoeg)\n"
     ]
    }
   ],
   "source": [
    "show_chi_square_results('ChestPainType_ATA')"
   ]
  },
  {
   "cell_type": "code",
   "execution_count": 96,
   "metadata": {},
   "outputs": [
    {
     "name": "stdout",
     "output_type": "stream",
     "text": [
      "p-value: 0.1551\n",
      "Geen significant verschil (Behoud H0) --> verwijder kolom\n"
     ]
    }
   ],
   "source": [
    "show_chi_square_results('ChestPainType_TA')"
   ]
  },
  {
   "cell_type": "code",
   "execution_count": 97,
   "metadata": {},
   "outputs": [
    {
     "name": "stdout",
     "output_type": "stream",
     "text": [
      "p-value: 0.0\n",
      "Wel significant verschil (Verwerp H0)\n",
      "Cramers_phi: 0.212 (sterk genoeg)\n"
     ]
    }
   ],
   "source": [
    "show_chi_square_results('ChestPainType_NAP')"
   ]
  },
  {
   "cell_type": "code",
   "execution_count": 98,
   "metadata": {},
   "outputs": [
    {
     "name": "stdout",
     "output_type": "stream",
     "text": [
      "p-value: 0.6895\n",
      "Geen significant verschil (Behoud H0) --> verwijder kolom\n"
     ]
    }
   ],
   "source": [
    "show_chi_square_results('RestingECG_LVH')"
   ]
  },
  {
   "cell_type": "code",
   "execution_count": 99,
   "metadata": {},
   "outputs": [
    {
     "name": "stdout",
     "output_type": "stream",
     "text": [
      "p-value: 0.0057\n",
      "Wel significant verschil (Verwerp H0)\n",
      "Cramers_phi: 0.0922 (te zwak) --> verwijder kolom\n"
     ]
    }
   ],
   "source": [
    "show_chi_square_results('RestingECG_Normal')"
   ]
  },
  {
   "cell_type": "code",
   "execution_count": 100,
   "metadata": {},
   "outputs": [
    {
     "name": "stdout",
     "output_type": "stream",
     "text": [
      "p-value: 0.0026\n",
      "Wel significant verschil (Verwerp H0)\n",
      "Cramers_phi: 0.1005 (te zwak) --> verwijder kolom\n"
     ]
    }
   ],
   "source": [
    "show_chi_square_results('RestingECG_ST')"
   ]
  },
  {
   "cell_type": "code",
   "execution_count": 101,
   "metadata": {},
   "outputs": [
    {
     "name": "stdout",
     "output_type": "stream",
     "text": [
      "p-value: 0.0004\n",
      "Wel significant verschil (Verwerp H0)\n",
      "Cramers_phi: 0.1174 (te zwak) --> verwijder kolom\n"
     ]
    }
   ],
   "source": [
    "show_chi_square_results('ST_Slope_Down')"
   ]
  },
  {
   "cell_type": "code",
   "execution_count": 102,
   "metadata": {},
   "outputs": [
    {
     "name": "stdout",
     "output_type": "stream",
     "text": [
      "p-value: 0.0\n",
      "Wel significant verschil (Verwerp H0)\n",
      "Cramers_phi: 0.5599 (sterk genoeg)\n"
     ]
    }
   ],
   "source": [
    "show_chi_square_results('ST_Slope_Flat')"
   ]
  },
  {
   "cell_type": "code",
   "execution_count": 103,
   "metadata": {},
   "outputs": [
    {
     "name": "stdout",
     "output_type": "stream",
     "text": [
      "p-value: 0.0\n",
      "Wel significant verschil (Verwerp H0)\n",
      "Cramers_phi: 0.6221 (sterk genoeg)\n"
     ]
    }
   ],
   "source": [
    "show_chi_square_results('ST_Slope_Up')"
   ]
  },
  {
   "cell_type": "markdown",
   "metadata": {},
   "source": [
    "<p style=\"color:#F64C72\">Insights</p>\n",
    "\n",
    "- ChestPainType_TA, RestingECG_LVH, RestingECG_Normal, RestingECG_ST, ST_Slope_Down verwijderen"
   ]
  },
  {
   "cell_type": "markdown",
   "metadata": {},
   "source": [
    "#### Anova"
   ]
  },
  {
   "cell_type": "markdown",
   "metadata": {},
   "source": [
    "Stel nu dat we een target variable hebben met drie of meer categorieen, bijvoorbeeld we willen voorspellen welke chestpaintype iemand heeft. We willen weten of leeftijd van belang is om te voorspellen welke chestpain type een patient heeft. Een correlatie is mogelijk, maar is afhankelijk welke klasse welk cijfer krijgt. Bij klasse kun je nog een rangorde voorstellen, maar stel voor dat je religie van de respondent wil voorspellen, dan is een correlatie een rare maat. De oplossing: ANOVA"
   ]
  },
  {
   "cell_type": "markdown",
   "metadata": {},
   "source": [
    "Voorbeeld normale anova"
   ]
  },
  {
   "cell_type": "code",
   "execution_count": 104,
   "metadata": {},
   "outputs": [
    {
     "data": {
      "text/html": [
       "<div>\n",
       "<style scoped>\n",
       "    .dataframe tbody tr th:only-of-type {\n",
       "        vertical-align: middle;\n",
       "    }\n",
       "\n",
       "    .dataframe tbody tr th {\n",
       "        vertical-align: top;\n",
       "    }\n",
       "\n",
       "    .dataframe thead th {\n",
       "        text-align: right;\n",
       "    }\n",
       "</style>\n",
       "<table border=\"1\" class=\"dataframe\">\n",
       "  <thead>\n",
       "    <tr style=\"text-align: right;\">\n",
       "      <th></th>\n",
       "      <th>df</th>\n",
       "      <th>sum_sq</th>\n",
       "      <th>mean_sq</th>\n",
       "      <th>F</th>\n",
       "      <th>PR(&gt;F)</th>\n",
       "    </tr>\n",
       "  </thead>\n",
       "  <tbody>\n",
       "    <tr>\n",
       "      <th>C(ChestPainType)</th>\n",
       "      <td>3.0</td>\n",
       "      <td>4229.468247</td>\n",
       "      <td>1409.822749</td>\n",
       "      <td>16.587834</td>\n",
       "      <td>1.702891e-10</td>\n",
       "    </tr>\n",
       "    <tr>\n",
       "      <th>Residual</th>\n",
       "      <td>895.0</td>\n",
       "      <td>76067.274801</td>\n",
       "      <td>84.991368</td>\n",
       "      <td>NaN</td>\n",
       "      <td>NaN</td>\n",
       "    </tr>\n",
       "  </tbody>\n",
       "</table>\n",
       "</div>"
      ],
      "text/plain": [
       "                     df        sum_sq      mean_sq          F        PR(>F)\n",
       "C(ChestPainType)    3.0   4229.468247  1409.822749  16.587834  1.702891e-10\n",
       "Residual          895.0  76067.274801    84.991368        NaN           NaN"
      ]
     },
     "execution_count": 104,
     "metadata": {},
     "output_type": "execute_result"
    }
   ],
   "source": [
    "import statsmodels.formula.api as sfa\n",
    "import statsmodels.api as sa\n",
    "\n",
    "model = sfa.ols(\"Age ~ C(ChestPainType)\", data= data).fit()\n",
    "sa.stats.anova_lm(model)"
   ]
  },
  {
   "cell_type": "markdown",
   "metadata": {},
   "source": [
    "Om te weten of we de normale anova of de welsch anova moeten gebruiken, moeten we weten of het normaal verdeeld is en ook testen of de variances van de types gelijk zijn. Als ze gelijk zijn, kunnen we de normale gebruiken. Zoniet, dan moeten we de welsch versie gebruiken. Dit kunnen we bijvoorbeeld doen met een bertlett test.\n",
    "\n",
    "Of het normaal verdeeld is of niet, weten wel al. Nu de variances assumptie:"
   ]
  },
  {
   "cell_type": "code",
   "execution_count": 431,
   "metadata": {},
   "outputs": [
    {
     "data": {
      "text/plain": [
       "BartlettResult(statistic=561.9859516601509, pvalue=1.7533744257363136e-121)"
      ]
     },
     "execution_count": 431,
     "metadata": {},
     "output_type": "execute_result"
    }
   ],
   "source": [
    "from scipy.stats import bartlett\n",
    "\n",
    "bartlett(data['ChestPainType_ASY'], data['ChestPainType_ATA'],data['ChestPainType_TA'], data['ChestPainType_NAP'] )"
   ]
  },
  {
   "cell_type": "code",
   "execution_count": 432,
   "metadata": {},
   "outputs": [
    {
     "data": {
      "text/plain": [
       "LeveneResult(statistic=169.42288300380292, pvalue=1.0007430603232303e-102)"
      ]
     },
     "execution_count": 432,
     "metadata": {},
     "output_type": "execute_result"
    }
   ],
   "source": [
    "from scipy.stats import levene\n",
    "\n",
    "levene(data['Age'][data['ChestPainType_ASY']],\n",
    "               data['Age'][data['ChestPainType_ATA']],\n",
    "               data['Age'][data['ChestPainType_TA']],\n",
    "               data['Age'][data['ChestPainType_NAP']])"
   ]
  },
  {
   "cell_type": "markdown",
   "metadata": {},
   "source": [
    "De barlett value is lager dan 5%. Dat betekent dat we de null hypothese kunnen verwerpen. Dus, niet alle groepen hebben dezelfde variances. \n",
    "\n",
    "Testen of het wel klopt. Inderdaad, de varianties verschillen."
   ]
  },
  {
   "cell_type": "code",
   "execution_count": 433,
   "metadata": {},
   "outputs": [
    {
     "name": "stdout",
     "output_type": "stream",
     "text": [
      "0.4988870336004242\n",
      "0.3926862825849269\n",
      "0.21818112563826397\n",
      "0.4161362713522491\n"
     ]
    }
   ],
   "source": [
    "print(data['ChestPainType_ASY'].std())\n",
    "print(data['ChestPainType_ATA'].std())\n",
    "print(data['ChestPainType_TA'].std())\n",
    "print(data['ChestPainType_NAP'].std())"
   ]
  },
  {
   "cell_type": "markdown",
   "metadata": {},
   "source": [
    "Conclusie: doorgaan met welsch ANOVA. Deze is robuust voor de verschillen in variantie en daar hoeven we dan niet naar te kijken"
   ]
  },
  {
   "cell_type": "code",
   "execution_count": 105,
   "metadata": {},
   "outputs": [
    {
     "data": {
      "text/html": [
       "<div>\n",
       "<style scoped>\n",
       "    .dataframe tbody tr th:only-of-type {\n",
       "        vertical-align: middle;\n",
       "    }\n",
       "\n",
       "    .dataframe tbody tr th {\n",
       "        vertical-align: top;\n",
       "    }\n",
       "\n",
       "    .dataframe thead th {\n",
       "        text-align: right;\n",
       "    }\n",
       "</style>\n",
       "<table border=\"1\" class=\"dataframe\">\n",
       "  <thead>\n",
       "    <tr style=\"text-align: right;\">\n",
       "      <th></th>\n",
       "      <th>Source</th>\n",
       "      <th>ddof1</th>\n",
       "      <th>ddof2</th>\n",
       "      <th>F</th>\n",
       "      <th>p-unc</th>\n",
       "      <th>np2</th>\n",
       "    </tr>\n",
       "  </thead>\n",
       "  <tbody>\n",
       "    <tr>\n",
       "      <th>0</th>\n",
       "      <td>ChestPainType</td>\n",
       "      <td>3</td>\n",
       "      <td>173.600351</td>\n",
       "      <td>16.634336</td>\n",
       "      <td>1.518747e-09</td>\n",
       "      <td>0.052673</td>\n",
       "    </tr>\n",
       "  </tbody>\n",
       "</table>\n",
       "</div>"
      ],
      "text/plain": [
       "          Source  ddof1       ddof2          F         p-unc       np2\n",
       "0  ChestPainType      3  173.600351  16.634336  1.518747e-09  0.052673"
      ]
     },
     "execution_count": 105,
     "metadata": {},
     "output_type": "execute_result"
    }
   ],
   "source": [
    "from pingouin import welch_anova\n",
    "\n",
    "welch_anova(dv='Age', between='ChestPainType', data=data)"
   ]
  },
  {
   "cell_type": "markdown",
   "metadata": {},
   "source": [
    "De p-value (p-unc) is kleiner dan 5%. Dit betekent dat we de null-hypotheses kunnen verwerpen. Er is dus een significant verschil tussen de age en de verschillende chestpaintypes.\n",
    "\n",
    "Nu willen we weten welke group het verschil geeft. Dit kunnen we doen met een tukeys post hoc test."
   ]
  },
  {
   "cell_type": "code",
   "execution_count": 435,
   "metadata": {},
   "outputs": [
    {
     "data": {
      "text/html": [
       "<table class=\"simpletable\">\n",
       "<caption>Multiple Comparison of Means - Tukey HSD, FWER=0.05</caption>\n",
       "<tr>\n",
       "  <th>group1</th> <th>group2</th> <th>meandiff</th>  <th>p-adj</th>  <th>lower</th>   <th>upper</th>  <th>reject</th>\n",
       "</tr>\n",
       "<tr>\n",
       "    <td>ASY</td>    <td>ATA</td>   <td>-5.7272</td>   <td>0.0</td>  <td>-7.8387</td> <td>-3.6157</td>  <td>True</td> \n",
       "</tr>\n",
       "<tr>\n",
       "    <td>ASY</td>    <td>NAP</td>   <td>-1.8071</td> <td>0.0918</td> <td>-3.8023</td> <td>0.1882</td>   <td>False</td>\n",
       "</tr>\n",
       "<tr>\n",
       "    <td>ASY</td>    <td>TA</td>    <td>-0.2687</td> <td>0.9977</td> <td>-3.9671</td> <td>3.4296</td>   <td>False</td>\n",
       "</tr>\n",
       "<tr>\n",
       "    <td>ATA</td>    <td>NAP</td>   <td>3.9201</td>  <td>0.0003</td> <td>1.4487</td>  <td>6.3916</td>   <td>True</td> \n",
       "</tr>\n",
       "<tr>\n",
       "    <td>ATA</td>    <td>TA</td>    <td>5.4585</td>  <td>0.0024</td> <td>1.4829</td>   <td>9.434</td>   <td>True</td> \n",
       "</tr>\n",
       "<tr>\n",
       "    <td>NAP</td>    <td>TA</td>    <td>1.5383</td>  <td>0.7428</td> <td>-2.3767</td> <td>5.4534</td>   <td>False</td>\n",
       "</tr>\n",
       "</table>"
      ],
      "text/plain": [
       "<class 'statsmodels.iolib.table.SimpleTable'>"
      ]
     },
     "execution_count": 435,
     "metadata": {},
     "output_type": "execute_result"
    }
   ],
   "source": [
    "import statsmodels.stats.multicomp as mc\n",
    "\n",
    "comp = mc.MultiComparison(data['Age'], data['ChestPainType'])\n",
    "post_hoc_res = comp.tukeyhsd()\n",
    "post_hoc_res.summary()"
   ]
  },
  {
   "cell_type": "markdown",
   "metadata": {},
   "source": [
    "Significant verschil tussen de gemiddeldes van de groepen:\n",
    "- ASY en ATA\n",
    "- ATA en NAP\n",
    "- ATA en TA"
   ]
  },
  {
   "cell_type": "code",
   "execution_count": 436,
   "metadata": {},
   "outputs": [
    {
     "data": {
      "image/png": "[encoded data removed]",
      "text/plain": [
       "<Figure size 720x432 with 1 Axes>"
      ]
     },
     "execution_count": 436,
     "metadata": {},
     "output_type": "execute_result"
    },
    {
     "data": {
      "image/png": "[encoded data removed]",
      "text/plain": [
       "<Figure size 720x432 with 1 Axes>"
      ]
     },
     "metadata": {
      "needs_background": "light"
     },
     "output_type": "display_data"
    }
   ],
   "source": [
    "#De verschillen kunnen ook geplot worden\n",
    "post_hoc_res.plot_simultaneous(ylabel= \"ChestPainType\", xlabel= \"Score Difference\")"
   ]
  },
  {
   "cell_type": "markdown",
   "metadata": {},
   "source": [
    "#### PCA"
   ]
  },
  {
   "cell_type": "code",
   "execution_count": 215,
   "metadata": {},
   "outputs": [],
   "source": [
    "data.drop(columns=['ChestPainType'], axis=1, inplace=True)"
   ]
  },
  {
   "cell_type": "code",
   "execution_count": 223,
   "metadata": {},
   "outputs": [],
   "source": [
    "X = data.drop(['HeartDisease'], axis=1)\n",
    "y = data['HeartDisease']\n",
    "\n",
    "X_train, X_test, y_train, y_test = train_test_split(X, y, test_size=0.25, random_state=10, stratify=y)"
   ]
  },
  {
   "cell_type": "code",
   "execution_count": 224,
   "metadata": {},
   "outputs": [],
   "source": [
    "from sklearn.preprocessing import StandardScaler\n",
    "\n",
    "sc = StandardScaler()\n",
    "\n",
    "X_train = sc.fit_transform(X_train)\n",
    "X_test = sc.fit_transform(X_test)"
   ]
  },
  {
   "cell_type": "code",
   "execution_count": 225,
   "metadata": {},
   "outputs": [
    {
     "data": {
      "text/plain": [
       "array([2.22705674e-01, 1.07738586e-01, 8.19736691e-02, 7.78954643e-02,\n",
       "       7.70734861e-02, 6.17723595e-02, 5.82049198e-02, 5.56938895e-02,\n",
       "       5.10200182e-02, 4.80450265e-02, 4.13123942e-02, 3.80200365e-02,\n",
       "       3.15174978e-02, 2.76160745e-02, 1.94109035e-02, 3.27752914e-32,\n",
       "       1.01755771e-32, 3.24781412e-33])"
      ]
     },
     "execution_count": 225,
     "metadata": {},
     "output_type": "execute_result"
    }
   ],
   "source": [
    "# Applying PCA function on training\n",
    "# and testing set of X component\n",
    "from sklearn.decomposition import PCA\n",
    " \n",
    "pca = PCA()\n",
    " \n",
    "X_train = pca.fit_transform(X_train)\n",
    "X_test = pca.fit_transform(X_test)\n",
    " \n",
    "pca.explained_variance_ratio_"
   ]
  },
  {
   "cell_type": "code",
   "execution_count": 229,
   "metadata": {},
   "outputs": [
    {
     "name": "stdout",
     "output_type": "stream",
     "text": [
      "\n",
      "Eigenvalues \n",
      "[ 2.53312360e+03  6.66066810e+02  2.87108819e+02  6.80716875e+01\n",
      "  1.09230770e+00  3.62455775e-01  3.34690329e-01  2.81077939e-01\n",
      "  5.95711803e-02  7.49954509e-02  1.28718440e-01  1.47412789e-01\n",
      "  1.67802520e-01  1.91492208e-01  1.99322808e-01  1.55504289e-16\n",
      " -2.78082617e-16  6.32750775e-17]\n",
      "Eigenvectors \n",
      "[[ 1.32489494e-02  1.69727828e-01  1.30773437e-01  9.76230986e-01\n",
      "  -2.39268962e-02  2.52726661e-03 -1.43854910e-02  4.36852774e-03\n",
      "   9.74662545e-04 -1.93534926e-03 -3.13191050e-03 -2.12007560e-03\n",
      "  -6.57851713e-03 -4.58134294e-03 -3.54548310e-04 -2.64446948e-17\n",
      "  -4.09814903e-19  4.61193445e-17]\n",
      " [ 8.48958752e-04 -3.02478826e-03  2.87119387e-04  6.96793653e-04\n",
      "  -6.10906975e-02  1.00074508e-01  1.99488240e-02 -1.13976733e-01\n",
      "  -2.97344283e-02  2.34713034e-02  4.48755758e-01  7.82814225e-01\n",
      "  -7.10754753e-02 -3.15446442e-01 -2.29523136e-01  3.17807635e-15\n",
      "  -3.46976405e-15 -7.89673127e-15]\n",
      " [ 4.09492614e-02  1.41665542e-01  9.76636668e-01 -1.56164876e-01\n",
      "  -5.82729862e-03  3.43241172e-04 -1.32953639e-03  8.91994870e-04\n",
      "   8.94455587e-04  2.04017091e-03 -7.01809629e-04  5.67700931e-04\n",
      "   1.21641592e-03  1.30341222e-03 -1.33692324e-03  1.09153076e-17\n",
      "   2.87240608e-18 -8.52355740e-18]\n",
      " [ 9.98937326e-01 -2.39894473e-02 -3.90802047e-02 -4.18255702e-03\n",
      "  -1.20059842e-03  8.27835549e-04  5.04540351e-05 -2.54179535e-04\n",
      "  -2.26121922e-04  9.15387866e-05 -7.71933974e-04 -5.59722496e-04\n",
      "  -1.60013875e-04  5.21139447e-04  7.14251623e-04 -3.27771278e-18\n",
      "   2.57671674e-18  6.24755917e-18]\n",
      " [ 3.25269664e-04  2.31189227e-03  1.06133457e-03  7.34659756e-03\n",
      "   1.96145095e-02 -1.31738076e-01  1.58946265e-02  4.41238979e-02\n",
      "   1.96091752e-02 -1.27548715e-01  4.47496857e-01  5.61053443e-02\n",
      "   6.94673813e-01  1.90065181e-01  4.91171379e-01  6.92504295e-17\n",
      "  -2.06192961e-16 -1.69574976e-15]\n",
      " [-1.62907896e-02 -9.74800556e-01  1.65745852e-01  1.47637640e-01\n",
      "   9.30608161e-03 -9.16203270e-03 -5.35160945e-03  2.87954527e-03\n",
      "   6.49296436e-04  4.61116682e-04  1.97573502e-04 -8.18758418e-04\n",
      "  -3.06749234e-03  1.19365808e-04  3.41773602e-03 -2.18106953e-18\n",
      "   9.71696003e-18  7.12596332e-18]\n",
      " [-8.83373722e-04 -7.39500058e-03 -1.78655529e-03 -1.19861723e-03\n",
      "  -2.19878831e-01  2.09250169e-01  6.79294417e-02 -1.29357825e-01\n",
      "   1.19861366e-01  8.87378085e-02 -6.80049414e-01  3.19020324e-01\n",
      "   5.34317426e-01 -1.15015422e-01 -3.54081738e-02 -7.97749663e-16\n",
      "   2.52898726e-16  4.69721519e-18]\n",
      " [ 1.28083386e-03  7.77479027e-03  7.34052199e-03  1.98747747e-02\n",
      "   8.85523928e-01  4.24997774e-01  1.04392156e-01 -3.99008753e-03\n",
      "   1.71332227e-02 -9.87050844e-02 -6.42742571e-02  4.65918994e-02\n",
      "   7.99043761e-02 -3.27613561e-02  1.84451974e-03  3.29894983e-17\n",
      "  -1.76883017e-16 -5.99100980e-16]\n",
      " [ 8.94869758e-04  6.86227663e-03 -1.25369863e-03  8.20189962e-04\n",
      "   1.71285446e-01 -3.83633612e-01 -8.09816307e-02  5.97948532e-01\n",
      "   2.51666428e-01 -1.62024463e-02 -1.51266242e-01  2.80398288e-01\n",
      "  -9.18137611e-03  1.70758646e-01 -1.22433418e-01  1.41581848e-02\n",
      "  -4.96177142e-01 -6.42153136e-02]\n",
      " [-8.17551355e-05 -3.99357465e-03 -2.56875122e-04 -5.17392202e-03\n",
      "  -1.16634207e-01  2.19845536e-01  2.18635583e-02  2.31805350e-02\n",
      "   3.24141700e-01 -1.34072896e-02  1.85577401e-01 -3.72977352e-01\n",
      "   1.21340322e-01 -6.27188764e-01 -1.08795995e-02  1.41581848e-02\n",
      "  -4.96177142e-01 -6.42153136e-02]\n",
      " [-6.03182025e-04 -2.13066517e-03  5.00333773e-04  2.62631156e-03\n",
      "  -5.69319048e-02  1.51435473e-01  3.94307540e-02 -5.76474428e-01\n",
      "   2.78828703e-01 -3.41212342e-02  2.44368557e-02  1.07509385e-01\n",
      "  -2.03016629e-01  4.88812725e-01  1.36812607e-01  1.41581848e-02\n",
      "  -4.96177142e-01 -6.42153136e-02]\n",
      " [-2.09932597e-04 -7.38036813e-04  1.01023998e-03  1.72742049e-03\n",
      "   2.28066604e-03  1.23526027e-02  1.96873183e-02 -4.46546382e-02\n",
      "  -8.54636830e-01  6.37309701e-02 -5.87480151e-02 -1.49303212e-02\n",
      "   9.08576838e-02 -3.23826066e-02 -3.49958961e-03  1.41581848e-02\n",
      "  -4.96177142e-01 -6.42153136e-02]\n",
      " [ 5.77398902e-04 -1.59901291e-03  1.44724480e-03  9.59521919e-03\n",
      "   3.19378659e-02 -1.58242482e-01  3.68371387e-01 -1.24260346e-01\n",
      "   2.95116265e-02 -1.26500910e-02  1.36957244e-01 -1.65323656e-01\n",
      "   2.62571101e-01  1.62150493e-01 -5.89079169e-01 -1.22528646e-01\n",
      "  -6.60176487e-02  5.49887066e-01]\n",
      " [-4.57983562e-04 -1.00492160e-03 -3.28131420e-03 -1.20825697e-02\n",
      "  -4.23229873e-02  2.78190274e-01 -7.58082561e-01  7.72065455e-02\n",
      "  -1.98107332e-02 -1.60450442e-03  1.61096872e-02  1.82351380e-02\n",
      "   1.93923637e-02  6.89787349e-02  2.35880511e-02 -1.22528646e-01\n",
      "  -6.60176487e-02  5.49887066e-01]\n",
      " [-1.19415340e-04  2.60393451e-03  1.83406940e-03  2.48735056e-03\n",
      "   1.03851213e-02 -1.19947792e-01  3.89711174e-01  4.70538002e-02\n",
      "  -9.70089331e-03  1.42545954e-02 -1.53066931e-01  1.47088518e-01\n",
      "  -2.81963465e-01 -2.31129228e-01  5.65491118e-01 -1.22528646e-01\n",
      "  -6.60176487e-02  5.49887066e-01]\n",
      " [-5.10281986e-05  7.57064022e-04 -8.85733047e-04  3.85039998e-03\n",
      "   5.55673138e-02  7.60616493e-02  3.96050982e-02  6.45319560e-02\n",
      "   5.11853258e-02  7.92331316e-01  1.03964012e-01 -2.83968978e-02\n",
      "   3.07858509e-02  8.23478274e-02  4.78723100e-02  5.63961694e-01\n",
      "  -2.68202866e-02  1.59560039e-01]\n",
      " [ 8.70825314e-04  6.78953848e-03  1.33217003e-03  9.48825891e-04\n",
      "   2.05615126e-01 -4.87498373e-01 -2.54331027e-01 -3.82998134e-01\n",
      "   7.78414152e-03 -3.01725550e-01 -1.28557155e-01  7.95424394e-03\n",
      "   3.90093764e-02 -2.56684764e-01 -1.46675693e-02  5.63961694e-01\n",
      "  -2.68202866e-02  1.59560039e-01]\n",
      " [-8.19797116e-04 -7.54660251e-03 -4.46436979e-04 -4.79922587e-03\n",
      "  -2.61182439e-01  4.11436724e-01  2.14725929e-01  3.18466178e-01\n",
      "  -5.89694673e-02 -4.90605766e-01  2.45931438e-02  2.04426539e-02\n",
      "  -6.97952273e-02  1.74336936e-01 -3.32047407e-02  5.63961694e-01\n",
      "  -2.68202866e-02  1.59560039e-01]]\n"
     ]
    }
   ],
   "source": [
    "#Covariance Matrix\n",
    "cov_mat = np.cov(X.T)\n",
    "eig_vals, eig_vecs = np.linalg.eig(cov_mat)\n",
    "\n",
    "print('\\nEigenvalues \\n%s' %eig_vals)\n",
    "print('Eigenvectors \\n%s' %eig_vecs)"
   ]
  },
  {
   "cell_type": "code",
   "execution_count": 226,
   "metadata": {},
   "outputs": [
    {
     "data": {
      "text/plain": [
       "0.8924302788844621"
      ]
     },
     "execution_count": 226,
     "metadata": {},
     "output_type": "execute_result"
    }
   ],
   "source": [
    "# Fitting Logistic Regression To the training set\n",
    "from sklearn.linear_model import LogisticRegression \n",
    " \n",
    "classifier = LogisticRegression(random_state = 0)\n",
    "classifier.fit(X_train, y_train)\n",
    "\n",
    "# Predicting the test set result using\n",
    "# predict function under LogisticRegression\n",
    "y_pred = classifier.predict(X_test)\n",
    "\n",
    "f1_score(y_test, y_pred)"
   ]
  },
  {
   "cell_type": "markdown",
   "metadata": {},
   "source": [
    "|                          \t| accuracy \t|\n",
    "|--------------------------\t|-------------\t|\n",
    "| None                    \t| 0.892      \t| \n",
    "| 1                         \t| 0.8916       \t| \n",
    "| 2 \t| 0.896       \t|\n",
    "| 3 \t| 0.90        \t|     \n",
    "| 4 \t| 0.890        \t| \n",
    "| 7 \t| 0.8837        \t| \n",
    "\n",
    "<p style=\"color:#F64C72\">Insights</p>\n",
    "\n",
    "- n_components 3 geeft beste resultaat"
   ]
  },
  {
   "cell_type": "code",
   "execution_count": 227,
   "metadata": {},
   "outputs": [
    {
     "data": {
      "image/png": "[encoded data removed]",
      "text/plain": [
       "<Figure size 432x288 with 1 Axes>"
      ]
     },
     "metadata": {
      "needs_background": "light"
     },
     "output_type": "display_data"
    }
   ],
   "source": [
    "def scree_plot():\n",
    "    from matplotlib.pyplot import figure, show\n",
    "    from matplotlib.ticker import MaxNLocator\n",
    "\n",
    "    ax = figure().gca()\n",
    "    ax.plot(pca.explained_variance_)\n",
    "    ax.xaxis.set_major_locator(MaxNLocator(integer=True))\n",
    "    plt.xlabel('Principal Component')\n",
    "    plt.ylabel('Eigenvalue')\n",
    "    plt.axhline(y=1, linewidth=1, color='r', alpha=0.5)\n",
    "    plt.title('Scree Plot of PCA: Component Eigenvalues')\n",
    "    show()\n",
    "\n",
    "scree_plot()"
   ]
  },
  {
   "cell_type": "markdown",
   "metadata": {},
   "source": [
    "<p style=\"color:#F64C72\">Insights</p>\n",
    "\n",
    "- De eerste component heeft de grootste eigenvalue (hoe verspreid de data is). Daarom is deze de principal component."
   ]
  },
  {
   "cell_type": "code",
   "execution_count": 228,
   "metadata": {},
   "outputs": [
    {
     "data": {
      "image/png": "[encoded data removed]",
      "text/plain": [
       "<Figure size 432x288 with 1 Axes>"
      ]
     },
     "metadata": {
      "needs_background": "light"
     },
     "output_type": "display_data"
    }
   ],
   "source": [
    "def var_explained():\n",
    "    import numpy as np\n",
    "    from matplotlib.pyplot import figure, show\n",
    "    from matplotlib.ticker import MaxNLocator\n",
    "\n",
    "    ax = figure().gca()\n",
    "    ax.plot(np.cumsum(pca.explained_variance_ratio_))\n",
    "    ax.xaxis.set_major_locator(MaxNLocator(integer=True))\n",
    "    plt.xlabel('Number of Components')\n",
    "    plt.ylabel('Cumulative Explained Variance')\n",
    "    plt.axvline(x=1, linewidth=1, color='r', alpha=0.5)\n",
    "    plt.title('Explained Variance of PCA by Component')\n",
    "    show()\n",
    "\n",
    "var_explained()"
   ]
  },
  {
   "cell_type": "markdown",
   "metadata": {},
   "source": [
    "<p style=\"color:#F64C72\">Insights</p>\n",
    "\n",
    "- De cumulatieve waarde gaat geleidelijk en daalt daarna na een aantal components."
   ]
  },
  {
   "cell_type": "markdown",
   "metadata": {},
   "source": [
    "verwijder onnodige kolommen"
   ]
  },
  {
   "cell_type": "code",
   "execution_count": 142,
   "metadata": {},
   "outputs": [],
   "source": [
    "data.drop(['Cholesterol', 'RestingBP', 'ChestPainType_TA', 'RestingECG_LVH', 'RestingECG_Normal', 'RestingECG_ST', 'ChestPainType', 'ST_Slope_Down'], axis=1, inplace=True)"
   ]
  },
  {
   "cell_type": "markdown",
   "metadata": {},
   "source": [
    "<h2 style=\"color:orange\">6. Train classifiers</h2>"
   ]
  },
  {
   "cell_type": "markdown",
   "metadata": {},
   "source": [
    "split data in train en test"
   ]
  },
  {
   "cell_type": "code",
   "execution_count": 302,
   "metadata": {},
   "outputs": [],
   "source": [
    "X = data.drop(['HeartDisease'], axis=1)\n",
    "y = data['HeartDisease']\n",
    "\n",
    "X_train, X_test, y_train, y_test = train_test_split(X, y, test_size=0.25, random_state=10, stratify=y)"
   ]
  },
  {
   "cell_type": "code",
   "execution_count": 303,
   "metadata": {},
   "outputs": [],
   "source": [
    "from sklearn.preprocessing import StandardScaler\n",
    "\n",
    "sc = StandardScaler()\n",
    "\n",
    "X_train = sc.fit_transform(X_train)\n",
    "\n",
    "X_test = sc.fit_transform(X_test)"
   ]
  },
  {
   "cell_type": "code",
   "execution_count": 304,
   "metadata": {},
   "outputs": [
    {
     "name": "stdout",
     "output_type": "stream",
     "text": [
      "[ 0.37756431 -0.52814523  1.79234483 -1.45689601 -1.19716874 -0.86804755\n",
      "  0.91734947 -0.47247274 -0.53503228  1.         -0.87959321]\n"
     ]
    }
   ],
   "source": [
    "import scipy.stats as stats\n",
    "\n",
    "zscores = stats.zscore(X_train)\n",
    "\n",
    "print(zscores[0])"
   ]
  },
  {
   "cell_type": "code",
   "execution_count": 305,
   "metadata": {},
   "outputs": [
    {
     "data": {
      "text/plain": [
       "True"
      ]
     },
     "execution_count": 305,
     "metadata": {},
     "output_type": "execute_result"
    }
   ],
   "source": [
    "has_higher_than_3 = False\n",
    "\n",
    "for i in zscores:\n",
    "    if all(y <= 3 for y in i) is False:\n",
    "        has_higher_than_3 = True\n",
    "\n",
    "\n",
    "has_higher_than_3"
   ]
  },
  {
   "cell_type": "markdown",
   "metadata": {},
   "source": [
    "<p style=\"color:#F64C72\">Insights</p>\n",
    "\n",
    "- Er zijn zscores die groter zijn dan 3. De drie betekent dat meer dan 99% van de waardes binnen 3 standaarddeviaties valt van het gemiddelde. Als het boven de 3 is, zou dit ongebruikelijk zijn, wat betekent dat er misschien outliers zouden zijn."
   ]
  },
  {
   "cell_type": "markdown",
   "metadata": {},
   "source": [
    "### 6.1 Classifiers"
   ]
  },
  {
   "cell_type": "markdown",
   "metadata": {},
   "source": [
    "Met behulp van een aantal ML classifiers wordt er bepaald of iemand een hartziekte kan hebben of niet. Er worden verschillende modellen getrained: \n",
    "- Logistic regression\n",
    "- K-neirest Neighbor\n",
    "- Random Forest Tree. \n",
    "- VotingClassifier"
   ]
  },
  {
   "cell_type": "markdown",
   "metadata": {},
   "source": [
    "#### 6.1.1 Logistic Regression\n",
    "We gebruiken Gridsearch om de Logistic Regressor te optimaliseren. Door brute force worden de beste parameters ervoor gevonden."
   ]
  },
  {
   "cell_type": "code",
   "execution_count": 339,
   "metadata": {},
   "outputs": [
    {
     "data": {
      "text/plain": [
       "{'C': 0.01, 'solver': 'lbfgs'}"
      ]
     },
     "execution_count": 339,
     "metadata": {},
     "output_type": "execute_result"
    }
   ],
   "source": [
    "from sklearn.linear_model import LogisticRegression\n",
    "from sklearn.model_selection import GridSearchCV\n",
    "\n",
    "grid_values = {'C': [0.01, 0.1,1,10,100], 'solver': ['lbfgs', 'liblinear', 'sag','newton-cg']}\n",
    "\n",
    "glr = GridSearchCV(LogisticRegression(random_state=42), grid_values, cv=10, scoring='f1')\n",
    "\n",
    "glr.fit(X_train, y_train)\n",
    "\n",
    "glr.best_params_"
   ]
  },
  {
   "cell_type": "code",
   "execution_count": 342,
   "metadata": {},
   "outputs": [
    {
     "data": {
      "text/plain": [
       "0.8924302788844621"
      ]
     },
     "execution_count": 342,
     "metadata": {},
     "output_type": "execute_result"
    }
   ],
   "source": [
    "start = time()\n",
    "lr = LogisticRegression(random_state=42, C=0.01)\n",
    "\n",
    "lr.fit(X_train, y_train)\n",
    "\n",
    "end = time()\n",
    "\n",
    "lr_train_time = end - start\n",
    "\n",
    "pred = lr.predict(X_test)\n",
    "\n",
    "f1_score(y_test, pred)"
   ]
  },
  {
   "cell_type": "markdown",
   "metadata": {},
   "source": [
    "#### 6.1.2 RandomForestClassifier\n",
    "\n",
    "Ik heb geprobeerd om de GridSearchCV te gebruiken bij de RFC, maar dit duurde enorm lang. Daarom leek het handig om eerst een Randomized Search te doen. M.b.v. de RandomizedSearchCV krijg ik een heldere beeld over de paramters."
   ]
  },
  {
   "cell_type": "code",
   "execution_count": 308,
   "metadata": {},
   "outputs": [
    {
     "data": {
      "text/plain": [
       "RandomForestClassifier(max_depth=30, max_features='log2', min_samples_leaf=4,\n",
       "                       min_samples_split=4, n_estimators=188, random_state=11)"
      ]
     },
     "execution_count": 308,
     "metadata": {},
     "output_type": "execute_result"
    }
   ],
   "source": [
    "from sklearn.ensemble import RandomForestClassifier\n",
    "from sklearn.model_selection import RandomizedSearchCV\n",
    "import random\n",
    "\n",
    "# Number of trees in random forest\n",
    "n_estimators = [random.randint(1, 200) for _ in range (1, 50)]\n",
    "#Number of features to consider at every split\n",
    "max_features = ['sqrt', 'log2']\n",
    "# Maximum number of levels in tree\n",
    "max_depth = [*[i for i in range(1, 20)], 30,40,50,70,90,100]\n",
    "# Minimum number of samples required to split a node\n",
    "min_samples_split = [2, 3,4]\n",
    "# Minimum number of samples required at each leaf node\n",
    "min_samples_leaf = [1, 2, 4]\n",
    "\n",
    "# Create the random grid\n",
    "random_grid = {'n_estimators': n_estimators,\n",
    "               'max_features': max_features,\n",
    "               'max_depth': max_depth,\n",
    "               'min_samples_split': min_samples_split,\n",
    "               'min_samples_leaf': min_samples_leaf}\n",
    "\n",
    "\n",
    "rrfc = RandomizedSearchCV(RandomForestClassifier(random_state=11), random_grid, cv=7, n_jobs=-1, scoring='f1')\n",
    "\n",
    "rrfc.fit(X_train, y_train)\n",
    "\n",
    "rrfc.best_estimator_"
   ]
  },
  {
   "cell_type": "markdown",
   "metadata": {},
   "source": [
    "Nu doen we een Gridsearch met heel wat minder parameters, aangezien we ongeveer al weten wat ongeveer de beste parameters zijn."
   ]
  },
  {
   "cell_type": "code",
   "execution_count": 155,
   "metadata": {},
   "outputs": [
    {
     "data": {
      "text/plain": [
       "RandomForestClassifier(max_depth=4, max_features='log2', min_samples_leaf=3,\n",
       "                       n_estimators=164, random_state=11)"
      ]
     },
     "execution_count": 155,
     "metadata": {},
     "output_type": "execute_result"
    }
   ],
   "source": [
    "# Number of trees in random forest\n",
    "n_estimators = [i for i in range(164,168)]\n",
    "# Maximum number of levels in tree\n",
    "max_depth = [i for i in range(3,6)]\n",
    "# Minimum number of samples required to be a leaf node\n",
    "# min_sample_split = [2,3,4]\n",
    "min_sample_leaf = [3,4,5]\n",
    "# Create the random grid\n",
    "random_grid = {'n_estimators': n_estimators,\n",
    "                'max_depth': max_depth,\n",
    "                'min_samples_leaf': min_sample_leaf,\n",
    "                # 'min_samples_split': min_sample_split,\n",
    "                'max_features': ['log2']}\n",
    "\n",
    "grfc = GridSearchCV(RandomForestClassifier(random_state=11), random_grid, cv=7, scoring='f1')\n",
    "\n",
    "grfc.fit(X_train, y_train)\n",
    "\n",
    "grfc.best_estimator_\n",
    "    "
   ]
  },
  {
   "cell_type": "code",
   "execution_count": 316,
   "metadata": {},
   "outputs": [
    {
     "data": {
      "text/plain": [
       "0.8914728682170544"
      ]
     },
     "execution_count": 316,
     "metadata": {},
     "output_type": "execute_result"
    }
   ],
   "source": [
    "start = time()\n",
    "\n",
    "# rfc = RandomForestClassifier(max_depth=4, min_samples_leaf=3, max_features='sqrt',\n",
    "#                        n_estimators=161, random_state=11)\n",
    "\n",
    "rfc = RandomForestClassifier(max_depth=30, max_features='log2', min_samples_leaf=4,\n",
    "                       min_samples_split=4, n_estimators=188, random_state=11)\n",
    "rfc.fit(X_train, y_train)\n",
    "\n",
    "end = time()\n",
    "\n",
    "rf_train_time = end - start\n",
    "\n",
    "pred = rfc.predict(X_test)\n",
    "\n",
    "f1_score(y_test, pred)"
   ]
  },
  {
   "cell_type": "markdown",
   "metadata": {},
   "source": [
    "##### 6.1.3 K-Neighbors"
   ]
  },
  {
   "cell_type": "code",
   "execution_count": 310,
   "metadata": {},
   "outputs": [
    {
     "data": {
      "text/plain": [
       "0.8677685950413223"
      ]
     },
     "execution_count": 310,
     "metadata": {},
     "output_type": "execute_result"
    }
   ],
   "source": [
    "from sklearn.neighbors import KNeighborsClassifier\n",
    "\n",
    "start = time()\n",
    "\n",
    "knn = KNeighborsClassifier(n_neighbors=9) # Brute forced\n",
    "knn.fit(X_train, y_train)\n",
    "\n",
    "end = time()\n",
    "\n",
    "knn_time = end - start\n",
    "\n",
    "pred = knn.predict(X_test)\n",
    "\n",
    "f1_score(y_test, pred)\n"
   ]
  },
  {
   "cell_type": "code",
   "execution_count": 293,
   "metadata": {},
   "outputs": [
    {
     "data": {
      "text/plain": [
       "0.8400777786842892"
      ]
     },
     "execution_count": 293,
     "metadata": {},
     "output_type": "execute_result"
    }
   ],
   "source": [
    "cross_val_score(lr, X_train, y_train, cv=7).mean()"
   ]
  },
  {
   "cell_type": "markdown",
   "metadata": {},
   "source": [
    "#### 6.1.4 Stacking"
   ]
  },
  {
   "cell_type": "code",
   "execution_count": 311,
   "metadata": {},
   "outputs": [
    {
     "data": {
      "text/plain": [
       "0.8818897637795274"
      ]
     },
     "execution_count": 311,
     "metadata": {},
     "output_type": "execute_result"
    }
   ],
   "source": [
    "from sklearn.ensemble import StackingClassifier\n",
    "\n",
    "estimators = [('rf', RandomForestClassifier(max_depth=15, min_samples_leaf=3,n_estimators=124, random_state=11)), ('knn', KNeighborsClassifier())]\n",
    "\n",
    "sc = StackingClassifier(estimators=estimators, final_estimator=LogisticRegression(C=0.1, solver='liblinear'))\n",
    "\n",
    "start = time()\n",
    "\n",
    "sc.fit(X_train, y_train)\n",
    "\n",
    "end = time()\n",
    "\n",
    "sc_time = end - start\n",
    "\n",
    "pred = sc.predict(X_test)\n",
    "\n",
    "f1_score(y_test, pred)"
   ]
  },
  {
   "cell_type": "markdown",
   "metadata": {},
   "source": [
    "#### 6.1.5 GradientBoosting"
   ]
  },
  {
   "cell_type": "code",
   "execution_count": 312,
   "metadata": {},
   "outputs": [
    {
     "data": {
      "text/plain": [
       "0.8429752066115702"
      ]
     },
     "execution_count": 312,
     "metadata": {},
     "output_type": "execute_result"
    }
   ],
   "source": [
    "from sklearn.ensemble import GradientBoostingClassifier\n",
    "\n",
    "gc = GradientBoostingClassifier(n_estimators=10, learning_rate=1, max_depth=10, random_state=11)\n",
    "\n",
    "start = time()\n",
    "\n",
    "gc.fit(X_train, y_train)\n",
    "\n",
    "end = time()\n",
    "\n",
    "gc_time = end - start\n",
    "\n",
    "pred = gc.predict(X_test)\n",
    "f1_score(y_test, pred)"
   ]
  },
  {
   "cell_type": "markdown",
   "metadata": {},
   "source": [
    "<h2 style=\"color:orange\">7. Resultaten</h2>"
   ]
  },
  {
   "cell_type": "code",
   "execution_count": 343,
   "metadata": {},
   "outputs": [],
   "source": [
    "from sklearn.metrics import confusion_matrix\n",
    "\n",
    "def get_scores(model):\n",
    "    pred = model.predict(X_train)\n",
    "    f1_train = f1_score(y_train, pred)\n",
    "    pred = model.predict(X_test)\n",
    "    f1_test = f1_score(y_test, pred)\n",
    "        \n",
    "    print(confusion_matrix(y_test, pred))\n",
    "    print('-----------')\n",
    "\n",
    "    return {'train': f1_train, 'test': f1_test}\n",
    "    "
   ]
  },
  {
   "cell_type": "code",
   "execution_count": 344,
   "metadata": {},
   "outputs": [
    {
     "name": "stdout",
     "output_type": "stream",
     "text": [
      "[[ 86  16]\n",
      " [ 11 112]]\n",
      "-----------\n",
      "[[ 88  14]\n",
      " [ 18 105]]\n",
      "-----------\n",
      "[[ 82  20]\n",
      " [  8 115]]\n",
      "-----------\n",
      "[[ 83  19]\n",
      " [ 11 112]]\n",
      "-----------\n",
      "[[ 85  17]\n",
      " [ 21 102]]\n",
      "-----------\n"
     ]
    }
   ],
   "source": [
    "lr_scores = get_scores(lr)\n",
    "knn_scores = get_scores(knn)\n",
    "rfc_scores = get_scores(rfc)\n",
    "sc_scores = get_scores(sc)\n",
    "gc_scores = get_scores(gc)\n"
   ]
  },
  {
   "cell_type": "code",
   "execution_count": 345,
   "metadata": {},
   "outputs": [
    {
     "data": {
      "image/png": "[encoded data removed]",
      "text/plain": [
       "<Figure size 1080x576 with 1 Axes>"
      ]
     },
     "metadata": {
      "needs_background": "light"
     },
     "output_type": "display_data"
    }
   ],
   "source": [
    "import numpy as np\n",
    "\n",
    "train = [lr_scores['train'], knn_scores['train'], rfc_scores['train'], sc_scores['train'], gc_scores['train']]\n",
    "test = [lr_scores['test'], knn_scores['test'], rfc_scores['test'], sc_scores['test'], gc_scores['test']]\n",
    "\n",
    "models = ('Logistic Reg.', 'K-Nearest', 'Random Forest', 'Stacking', 'GradientBoost')\n",
    "\n",
    "x = np.arange(len(models))\n",
    "width = 0.3\n",
    "\n",
    "fig, ax = plt.subplots(figsize=(15,8))\n",
    "train_bars = ax.barh(x - width/2, train, width, label='train', color='g')\n",
    "test_bars = ax.barh(x + width/2, test, width, label='test', color='black')\n",
    "\n",
    "# Add some text for labels, title and custom x-axis tick labels, etc.\n",
    "ax.set_xlabel('Scores')\n",
    "ax.set_title('Recall-scores')\n",
    "ax.set_yticks(x, models)\n",
    "ax.legend(loc=\"lower left\")\n",
    "\n",
    "ax.bar_label(train_bars, padding=5)\n",
    "ax.bar_label(test_bars, padding=5)\n",
    "\n",
    "plt.show()"
   ]
  },
  {
   "cell_type": "markdown",
   "metadata": {},
   "source": [
    "<p style=\"color:yellow\">Insights</p>\n",
    "\n",
    "- RFC: ziet er goed uit. Niet echt sprake van underfitting of overfitting.\n",
    "- Stacking classifier is ook niet verkeerd. Als ik wist hoe je die goed zou kunnen tunen, dan zou het misschien beter werken. \n",
    "- KNN: sprake van underfitting\n",
    "- LR: test is beter dan train??\n",
    "- GradientBoost: duidelijk sprake van overfitting"
   ]
  },
  {
   "cell_type": "markdown",
   "metadata": {},
   "source": [
    "##### 7.1 ROC-curve"
   ]
  },
  {
   "cell_type": "code",
   "execution_count": 346,
   "metadata": {},
   "outputs": [
    {
     "data": {
      "image/png": "[encoded data removed]",
      "text/plain": [
       "<Figure size 720x720 with 1 Axes>"
      ]
     },
     "metadata": {
      "needs_background": "light"
     },
     "output_type": "display_data"
    }
   ],
   "source": [
    "from sklearn.metrics import roc_curve, roc_auc_score\n",
    "\n",
    "lr_pred = lr.predict(X_test)\n",
    "knn_pred = knn.predict(X_test)\n",
    "rfc_pred = rfc.predict(X_test)\n",
    "sc_pred = sc.predict(X_test)\n",
    "gc_pred = gc.predict(X_test)\n",
    "\n",
    "\n",
    "auc = roc_auc_score(y_test, lr_pred)\n",
    "\n",
    "train_fpr, train_tpr, _ = roc_curve(y_test, y_test)\n",
    "\n",
    "lr_fpr, lr_tpr, _ = roc_curve(y_test, lr_pred)\n",
    "knn_fpr, knn_tpr, _ = roc_curve(y_test, knn_pred)\n",
    "rfc_fpr, rfc_tpr, _ = roc_curve(y_test, rfc_pred)\n",
    "sc_fpr, sc_tpr, _ = roc_curve(y_test, sc_pred)\n",
    "gc_fpr, gc_tpr, _ = roc_curve(y_test, gc_pred)\n",
    "\n",
    "plt.figure(figsize=(10, 10))\n",
    "plt.plot(train_fpr, train_tpr)\n",
    "plt.plot(lr_fpr, lr_tpr, 'b--')\n",
    "plt.plot(knn_fpr, knn_tpr, linestyle='--', color='red')\n",
    "plt.plot(rfc_fpr, rfc_tpr, linestyle='--', color='green')\n",
    "plt.plot(sc_fpr, sc_tpr, linestyle='--', color='black')\n",
    "plt.plot(gc_fpr, gc_tpr, linestyle='--', color='purple')\n",
    "plt.legend(['Train', 'LR', 'KNN', 'RFC', 'SC', 'GC'])\n",
    "plt.xlabel('False Positive Reate')\n",
    "plt.ylabel('True positive Rate')\n",
    "\n",
    "plt.show()"
   ]
  },
  {
   "cell_type": "markdown",
   "metadata": {},
   "source": [
    "<p style=\"color:yellow\">Insights</p>\n",
    "\n",
    "- Random Forst Classifier komt het dichtst bij de train rate. Wat je wilt hebben is dat je test lijn zo links boven mogelijk is. De oppervlakte onder de lijn moet zo groot mogelijk zijn. De RFC doet daat het best in. Dit zegt dus dat deze het minste False Positive heeft met hoogste True Positive Rate."
   ]
  },
  {
   "cell_type": "markdown",
   "metadata": {},
   "source": [
    "##### 7.2 Parameters\n",
    "\n",
    "Eerst had ik zelf met random parameters de modellen getest. De Recall-score bleef rond 0.82-0.86 zweven. Voor iedere model veranderde ik bijvoorbeeld de n_estimations, of max_depth etc. Uiteindelijk bedacht ik me dat we hier heel goed GridSearch kunnen toepassen. We kunnen zo heel snel de optimale parameters vinden.\n",
    "\n",
    "Met behulp van RandomSearch en Gridsearch is er geprobeerd om de optimale parameters te vinden voor elke model. Met Random Forest Classifier heb ik een RandomSearch gedaan, aangezien het met GridSearch alleen te lang duurde. Maar de naam zegt het al, het is random. Hoogstwaarschijnlijk heb ik ook niet de optimale parameters ervoor gevonden.\n",
    "\n",
    "|                          | F1 zonder parameters | F1 met 'optimale' parameters| \n",
    "|--------------------------|--------|----------------------------|\n",
    "| Logistic Regression      | 0.876  | 0.877                      |\n",
    "| Random Forest Classifier | 0.878  | 0.900                      | \n",
    "| K-nearest Neighbor       | 0.865  | 0.889                      |\n",
    "| Stacking                 | -      | 0.895                      |\n",
    "| GradientBoosting         | -      | 0.848                      |"
   ]
  },
  {
   "cell_type": "markdown",
   "metadata": {},
   "source": [
    "##### 7.4 Gebruik alle featuers\n",
    "\n",
    "Bij het gebruik van alle features, verschilt het niet echt veel met het gebruik van belangrijkste features. Toch heb ik alleen maar de features boven de 0.2 correlatie meegenomen. Misschein zou het verschillen als ik minder features meenam. "
   ]
  },
  {
   "cell_type": "markdown",
   "metadata": {},
   "source": [
    "##### 7.5 Tijd"
   ]
  },
  {
   "cell_type": "code",
   "execution_count": 347,
   "metadata": {},
   "outputs": [
    {
     "name": "stdout",
     "output_type": "stream",
     "text": [
      "LR train tijd: 0.002479076385498047\n",
      "KNN train tijd: 0.0008130073547363281\n",
      "RFC train tijd: 0.10833930969238281\n",
      "SC train tijd: 0.4461231231689453\n",
      "GC train tijd: 0.028471708297729492\n"
     ]
    }
   ],
   "source": [
    "print(f\"LR train tijd: {lr_train_time}\")\n",
    "print(f\"KNN train tijd: {knn_time}\")\n",
    "print(f\"RFC train tijd: {rf_train_time}\")\n",
    "print(f\"SC train tijd: {sc_time}\")\n",
    "print(f\"GC train tijd: {gc_time}\")"
   ]
  },
  {
   "cell_type": "markdown",
   "metadata": {},
   "source": [
    "<p style=\"color:yellow\">Insights</p>\n",
    "\n",
    "- Stacking is het traagst (ensamble)\n",
    "- KNN is het snelst (niet echt learning)"
   ]
  },
  {
   "cell_type": "markdown",
   "metadata": {},
   "source": [
    "<h2 style=\"color:orange\">8. Conclusie</h2>\n",
    "\n",
    "De beste classifier komt volgens dit onderzoek op Random Forest Classifier. Zelf zat ik te twijfelen over Random Forest Classifier en Logistic Regression. Ik wist wel dat RFC hier goed bij zou passen, alleen had ik ook het voermoede dat Logistic Regression misschien beter zou werken. Ik weet zeker dat ik de optimale parameters niet heb meegegeven (heb het wel zo goed mogelijk geprobeerd). Met betere parameters verwacht ik zelfs dat RFC het nog beter zou kunnen doen. Dat geldt trouwens ook voor stacking en GC.\n",
    "\n",
    "Random Forest Classifier heeft wel de minste False Positives tegenover de True Positives. Dit geeft aan dat deze model bij dit probleem minder fouten maakt.\n",
    "\n",
    "Door een aantal kolommen uit de dataset te gooien, is de F1 score van de meeste classifiers ietjes verhoogd. De andere twee zijn zowat dezelfde gebleven. Is het het waard om de kolommen te verwijderen? meh. Je ziet niet echt veel verschil. Toch telt elke procent. Misschien had ik wat meer features eruit moeten gooien. Ik heb nu de correlaties boven 0.2 gepakt.\n",
    "\n",
    "Qua tijd is KNN het snelst. Hier ben ik wel verbaast over, aangezien LR juist sneller hoort te zijn. Toch denk ik dat dit gewoon te maken heeft met het feit data de dataset klein is. Bij grotere datasets denk ik wel dat LR sneller zal zijn. Dat SC het traagst is, is wel duidelijk. Het bestaat uit verschillende classifiers.\n",
    "\n",
    "**Hoe kan je het verbeteren?**\n",
    "\n",
    "- Uitschieters eruit halen. Er zijn sowieso nog uitschieters.\n",
    "- cross_validation toepassen. \n",
    "- train_test_split testen op verschillende test_sizes.\n",
    "- Gridseach met verschillende cv values uitvoeren.\n",
    "- Last but not least, de RFC moeten we vaker runnen. Het is totaal gerandomized. Zo kwam een max_depth uit op 5, maar misschien zou een ander beter zijn geweest, die niet in de search voorbij kwam.\n",
    "\n",
    "Ook heb ik een aantal paramters niet gebruikt. Misschien zouden die parameters wel van belang kunnen zijn met een combinatie van andere parameters. Zo heb ik bijvoorbeeld bij Logistic Regression de solver 'saga' niet gebruikt. Samen met een penalty van 'l2', kwam de recall op 100%. Dat is mooi! Maar waarom heb ik die er dan niet bijgezet? Nou, de accuracy van de model werd maar 50%... De true positives werd altijd 0! Hé! Daar hebben we helemaal niks aan! Zo zijn er wat aantal paramters die de accuracy heel erg omlaag halen, terwijl de recall score juist goed is. Daarom heb ik deze er express uitgehaald. \n",
    "\n",
    "Al met al, ik heb mooie resultaten bereikt met deze modellen. Een F1-score van 90% is niet niets."
   ]
  },
  {
   "cell_type": "markdown",
   "metadata": {},
   "source": [
    "<h2 style=\"color:orange\">9. Bronnen</h2>\n",
    "\n",
    "- https://machinelearningmastery.com/hyperparameters-for-classification-machine-learning-algorithms/\n",
    "- https://researchpy.readthedocs.io/en/latest/ttest_documentation.html\n",
    "- https://scikit-learn.org/stable/modules/generated/sklearn.linear_model.LogisticRegression.html\n",
    "- https://towardsdatascience.com/how-to-tune-a-decision-tree-f03721801680\n",
    "- https://vitalflux.com/pandas-impute-missing-values-mean-median-mode/\n",
    "- https://towardsdatascience.com/how-and-why-to-standardize-your-data-996926c2c832#:~:text=StandardScaler%20removes%20the%20mean%20and,standard%20deviation%20of%20each%20feature.\n",
    "- https://www.projectpro.io/recipes/optimize-hyper-parameters-of-logistic-regression-model-using-grid-search-in-python\n",
    "- https://stackoverflow.com/questions/20229822/check-if-all-values-in-list-are-greater-than-a-certain-number\n",
    "- https://datagy.io/python-z-score/"
   ]
  }
 ],
 "metadata": {
  "interpreter": {
   "hash": "7575a4681d2f0d9d393de216997a45df61c0b32a5784f7c05a59091796f2378d"
  },
  "kernelspec": {
   "display_name": "Python 3.9.10 ('miniforge3')",
   "language": "python",
   "name": "python3"
  },
  "language_info": {
   "codemirror_mode": {
    "name": "ipython",
    "version": 3
   },
   "file_extension": ".py",
   "mimetype": "text/x-python",
   "name": "python",
   "nbconvert_exporter": "python",
   "pygments_lexer": "ipython3",
   "version": "3.8.13"
  },
  "orig_nbformat": 4
 },
 "nbformat": 4,
 "nbformat_minor": 2
}
