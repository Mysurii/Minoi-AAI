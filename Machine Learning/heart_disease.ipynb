{
 "cells": [
  {
   "cell_type": "markdown",
   "metadata": {},
   "source": [
    "# Heart Disease\n",
    "\n",
    "## Inleiding\n",
    "\n",
    "Hart- en vaatziektes is een verzamennaam voor verschillende ziekten aan het het of aan de bloedvaten. Hart en vaatziektes zijn de belangrijkste doodsoorzaak in Nederland. Dertig procent van alle mensen sterft eraan. \n",
    "\n",
    "Ze zijn onder te verdelen in een aantal soorten:\n",
    "- slechte bloedaanleg\n",
    "- hartfalen\n",
    "- hartritmestoornissen\n",
    "- aangeboren hartziektes\n",
    "- aandoenlingen aan de hartkleppen\n",
    "\n",
    "Wat hart- en vaatziekten veroorzaakt verschilt per ziekte. Wel zijn er een aantal factoren die ervoor zorgen dat u meer kans heeft om last te krijgen van hart- en vaatziekten, namelijk: roken, overgewicht, diabetes, hoge bloeddruk en een te hoog cholesterolgehalte.\n",
    "\n",
    "Dataset:\n",
    "\n",
    "- age\n",
    "- sex\n",
    "- chest pain type (4 values)\n",
    "- resting blood pressure\n",
    "- serum cholestoral in mg/dl\n",
    "- fasting blood sugar > 120 mg/dl\n",
    "- resting electrocardiographic results (values 0,1,2)\n",
    "- maximum heart rate achieved\n",
    "- exercise induced angina\n",
    "- oldpeak = ST depression induced by exercise relative to rest\n",
    "- the slope of the peak exercise ST segment"
   ]
  },
  {
   "cell_type": "markdown",
   "metadata": {},
   "source": [
    "## Dataset"
   ]
  },
  {
   "cell_type": "markdown",
   "metadata": {},
   "source": [
    "### Import libraries"
   ]
  },
  {
   "cell_type": "code",
   "execution_count": 1,
   "metadata": {},
   "outputs": [],
   "source": [
    "import numpy as np\n",
    "import pandas as pd\n",
    "import seaborn as sns\n",
    "import matplotlib.pyplot as plt\n",
    "from sklearn.model_selection import train_test_split\n",
    "from sklearn.metrics import f1_score\n",
    "from time import time\n",
    "\n",
    "import warnings\n",
    "warnings.filterwarnings(\"ignore\")"
   ]
  },
  {
   "cell_type": "markdown",
   "metadata": {},
   "source": [
    "### Data veroveren"
   ]
  },
  {
   "cell_type": "code",
   "execution_count": 2,
   "metadata": {},
   "outputs": [
    {
     "data": {
      "text/html": [
       "<div>\n",
       "<style scoped>\n",
       "    .dataframe tbody tr th:only-of-type {\n",
       "        vertical-align: middle;\n",
       "    }\n",
       "\n",
       "    .dataframe tbody tr th {\n",
       "        vertical-align: top;\n",
       "    }\n",
       "\n",
       "    .dataframe thead th {\n",
       "        text-align: right;\n",
       "    }\n",
       "</style>\n",
       "<table border=\"1\" class=\"dataframe\">\n",
       "  <thead>\n",
       "    <tr style=\"text-align: right;\">\n",
       "      <th></th>\n",
       "      <th>Age</th>\n",
       "      <th>Sex</th>\n",
       "      <th>ChestPainType</th>\n",
       "      <th>RestingBP</th>\n",
       "      <th>Cholesterol</th>\n",
       "      <th>FastingBS</th>\n",
       "      <th>RestingECG</th>\n",
       "      <th>MaxHR</th>\n",
       "      <th>ExerciseAngina</th>\n",
       "      <th>Oldpeak</th>\n",
       "      <th>ST_Slope</th>\n",
       "      <th>HeartDisease</th>\n",
       "    </tr>\n",
       "  </thead>\n",
       "  <tbody>\n",
       "    <tr>\n",
       "      <th>0</th>\n",
       "      <td>40</td>\n",
       "      <td>M</td>\n",
       "      <td>ATA</td>\n",
       "      <td>140</td>\n",
       "      <td>289</td>\n",
       "      <td>0</td>\n",
       "      <td>Normal</td>\n",
       "      <td>172</td>\n",
       "      <td>N</td>\n",
       "      <td>0.0</td>\n",
       "      <td>Up</td>\n",
       "      <td>0</td>\n",
       "    </tr>\n",
       "    <tr>\n",
       "      <th>1</th>\n",
       "      <td>49</td>\n",
       "      <td>F</td>\n",
       "      <td>NAP</td>\n",
       "      <td>160</td>\n",
       "      <td>180</td>\n",
       "      <td>0</td>\n",
       "      <td>Normal</td>\n",
       "      <td>156</td>\n",
       "      <td>N</td>\n",
       "      <td>1.0</td>\n",
       "      <td>Flat</td>\n",
       "      <td>1</td>\n",
       "    </tr>\n",
       "    <tr>\n",
       "      <th>2</th>\n",
       "      <td>37</td>\n",
       "      <td>M</td>\n",
       "      <td>ATA</td>\n",
       "      <td>130</td>\n",
       "      <td>283</td>\n",
       "      <td>0</td>\n",
       "      <td>ST</td>\n",
       "      <td>98</td>\n",
       "      <td>N</td>\n",
       "      <td>0.0</td>\n",
       "      <td>Up</td>\n",
       "      <td>0</td>\n",
       "    </tr>\n",
       "    <tr>\n",
       "      <th>3</th>\n",
       "      <td>48</td>\n",
       "      <td>F</td>\n",
       "      <td>ASY</td>\n",
       "      <td>138</td>\n",
       "      <td>214</td>\n",
       "      <td>0</td>\n",
       "      <td>Normal</td>\n",
       "      <td>108</td>\n",
       "      <td>Y</td>\n",
       "      <td>1.5</td>\n",
       "      <td>Flat</td>\n",
       "      <td>1</td>\n",
       "    </tr>\n",
       "    <tr>\n",
       "      <th>4</th>\n",
       "      <td>54</td>\n",
       "      <td>M</td>\n",
       "      <td>NAP</td>\n",
       "      <td>150</td>\n",
       "      <td>195</td>\n",
       "      <td>0</td>\n",
       "      <td>Normal</td>\n",
       "      <td>122</td>\n",
       "      <td>N</td>\n",
       "      <td>0.0</td>\n",
       "      <td>Up</td>\n",
       "      <td>0</td>\n",
       "    </tr>\n",
       "  </tbody>\n",
       "</table>\n",
       "</div>"
      ],
      "text/plain": [
       "   Age Sex ChestPainType  RestingBP  Cholesterol  FastingBS RestingECG  MaxHR  \\\n",
       "0   40   M           ATA        140          289          0     Normal    172   \n",
       "1   49   F           NAP        160          180          0     Normal    156   \n",
       "2   37   M           ATA        130          283          0         ST     98   \n",
       "3   48   F           ASY        138          214          0     Normal    108   \n",
       "4   54   M           NAP        150          195          0     Normal    122   \n",
       "\n",
       "  ExerciseAngina  Oldpeak ST_Slope  HeartDisease  \n",
       "0              N      0.0       Up             0  \n",
       "1              N      1.0     Flat             1  \n",
       "2              N      0.0       Up             0  \n",
       "3              Y      1.5     Flat             1  \n",
       "4              N      0.0       Up             0  "
      ]
     },
     "execution_count": 2,
     "metadata": {},
     "output_type": "execute_result"
    }
   ],
   "source": [
    "data = pd.read_csv('heart.csv')\n",
    "\n",
    "data.head()"
   ]
  },
  {
   "cell_type": "markdown",
   "metadata": {},
   "source": [
    "## Analyse probleem\n",
    "\n",
    "**Wat is het probleem?**\n",
    "\n",
    "<em>Het probleem is om te voorspellen of iemand een hartziekte heeft of niet op basis van een aantal features.</em>\n",
    "\n",
    "<br>\n",
    "\n",
    "**Wat voor labels heb je?**\n",
    "\n",
    "<em>We hebben een label genaamd 'HeartDisease'. Dit is een binary label. 0 geeft aan dat de patient geen hartziekte heeft en bij 1 heeft een patient wel een  hartziekte</em>\n",
    "\n",
    "<br>\n",
    "\n",
    "**Dimensie dataset**\n"
   ]
  },
  {
   "cell_type": "code",
   "execution_count": 3,
   "metadata": {},
   "outputs": [
    {
     "data": {
      "text/plain": [
       "(918, 12)"
      ]
     },
     "execution_count": 3,
     "metadata": {},
     "output_type": "execute_result"
    }
   ],
   "source": [
    "data.shape"
   ]
  },
  {
   "cell_type": "markdown",
   "metadata": {},
   "source": [
    "**Soorten data/features**"
   ]
  },
  {
   "cell_type": "code",
   "execution_count": 4,
   "metadata": {},
   "outputs": [
    {
     "data": {
      "text/plain": [
       "Age                 int64\n",
       "Sex                object\n",
       "ChestPainType      object\n",
       "RestingBP           int64\n",
       "Cholesterol         int64\n",
       "FastingBS           int64\n",
       "RestingECG         object\n",
       "MaxHR               int64\n",
       "ExerciseAngina     object\n",
       "Oldpeak           float64\n",
       "ST_Slope           object\n",
       "HeartDisease        int64\n",
       "dtype: object"
      ]
     },
     "execution_count": 4,
     "metadata": {},
     "output_type": "execute_result"
    }
   ],
   "source": [
    "data.dtypes"
   ]
  },
  {
   "cell_type": "markdown",
   "metadata": {},
   "source": [
    "<mark>Insights<mark>\n",
    "- <em>Er zijn 918 rijen en 12 kolommen in de dataset</em>\n",
    "- <em>Er zijn 5 kolommen die geen getallen zijn. Dit zijn: Sex, ChestpainType, RestingECG, ExerciseAngina en ST_Slope. Deze moeten worden veranderd naar getallen<em>"
   ]
  },
  {
   "cell_type": "code",
   "execution_count": 5,
   "metadata": {},
   "outputs": [
    {
     "data": {
      "image/png": "[encoded data removed]",
      "text/plain": [
       "<Figure size 360x360 with 1 Axes>"
      ]
     },
     "metadata": {},
     "output_type": "display_data"
    }
   ],
   "source": [
    "with_disease = data[data['HeartDisease'] == 1]['HeartDisease'].count()\n",
    "without_disease = data[data['HeartDisease'] == 0]['HeartDisease'].count()\n",
    "\n",
    "colors = sns.color_palette('deep')[3 : 1 : -1]\n",
    "\n",
    "# Bekijk of labels wel verdeeld zijn. Niet dat 90% van de data wel borstkanker heeft en maar 10% niet o.i.d. Je kunt dus zien dat het \n",
    "# 40/60 verdeeld is. Dat is nog prima.\n",
    "plt.figure(figsize=(5,5))\n",
    "plt.pie([with_disease, without_disease], colors=colors, autopct='%.1F%%', textprops = {'fontsize':14}, explode = [0,0.05])\n",
    "plt.legend(labels=['wel','niet'])\n",
    "plt.title('Hart problemen')\n",
    "plt.show()"
   ]
  },
  {
   "cell_type": "markdown",
   "metadata": {},
   "source": [
    "<mark>Insights<mark>\n",
    "\n",
    "<em>55% van de kandidaten heeft hartproblemen en 45% niet. De dataset is dus redelijk in balans.<em>"
   ]
  },
  {
   "cell_type": "code",
   "execution_count": 6,
   "metadata": {},
   "outputs": [
    {
     "data": {
      "text/html": [
       "<div>\n",
       "<style scoped>\n",
       "    .dataframe tbody tr th:only-of-type {\n",
       "        vertical-align: middle;\n",
       "    }\n",
       "\n",
       "    .dataframe tbody tr th {\n",
       "        vertical-align: top;\n",
       "    }\n",
       "\n",
       "    .dataframe thead th {\n",
       "        text-align: right;\n",
       "    }\n",
       "</style>\n",
       "<table border=\"1\" class=\"dataframe\">\n",
       "  <thead>\n",
       "    <tr style=\"text-align: right;\">\n",
       "      <th></th>\n",
       "      <th>count</th>\n",
       "      <th>mean</th>\n",
       "      <th>std</th>\n",
       "      <th>min</th>\n",
       "      <th>25%</th>\n",
       "      <th>50%</th>\n",
       "      <th>75%</th>\n",
       "      <th>max</th>\n",
       "    </tr>\n",
       "  </thead>\n",
       "  <tbody>\n",
       "    <tr>\n",
       "      <th>Age</th>\n",
       "      <td>918.0</td>\n",
       "      <td>53.510893</td>\n",
       "      <td>9.432617</td>\n",
       "      <td>28.0</td>\n",
       "      <td>47.00</td>\n",
       "      <td>54.0</td>\n",
       "      <td>60.0</td>\n",
       "      <td>77.0</td>\n",
       "    </tr>\n",
       "    <tr>\n",
       "      <th>RestingBP</th>\n",
       "      <td>918.0</td>\n",
       "      <td>132.396514</td>\n",
       "      <td>18.514154</td>\n",
       "      <td>0.0</td>\n",
       "      <td>120.00</td>\n",
       "      <td>130.0</td>\n",
       "      <td>140.0</td>\n",
       "      <td>200.0</td>\n",
       "    </tr>\n",
       "    <tr>\n",
       "      <th>Cholesterol</th>\n",
       "      <td>918.0</td>\n",
       "      <td>198.799564</td>\n",
       "      <td>109.384145</td>\n",
       "      <td>0.0</td>\n",
       "      <td>173.25</td>\n",
       "      <td>223.0</td>\n",
       "      <td>267.0</td>\n",
       "      <td>603.0</td>\n",
       "    </tr>\n",
       "    <tr>\n",
       "      <th>FastingBS</th>\n",
       "      <td>918.0</td>\n",
       "      <td>0.233115</td>\n",
       "      <td>0.423046</td>\n",
       "      <td>0.0</td>\n",
       "      <td>0.00</td>\n",
       "      <td>0.0</td>\n",
       "      <td>0.0</td>\n",
       "      <td>1.0</td>\n",
       "    </tr>\n",
       "    <tr>\n",
       "      <th>MaxHR</th>\n",
       "      <td>918.0</td>\n",
       "      <td>136.809368</td>\n",
       "      <td>25.460334</td>\n",
       "      <td>60.0</td>\n",
       "      <td>120.00</td>\n",
       "      <td>138.0</td>\n",
       "      <td>156.0</td>\n",
       "      <td>202.0</td>\n",
       "    </tr>\n",
       "    <tr>\n",
       "      <th>Oldpeak</th>\n",
       "      <td>918.0</td>\n",
       "      <td>0.887364</td>\n",
       "      <td>1.066570</td>\n",
       "      <td>-2.6</td>\n",
       "      <td>0.00</td>\n",
       "      <td>0.6</td>\n",
       "      <td>1.5</td>\n",
       "      <td>6.2</td>\n",
       "    </tr>\n",
       "    <tr>\n",
       "      <th>HeartDisease</th>\n",
       "      <td>918.0</td>\n",
       "      <td>0.553377</td>\n",
       "      <td>0.497414</td>\n",
       "      <td>0.0</td>\n",
       "      <td>0.00</td>\n",
       "      <td>1.0</td>\n",
       "      <td>1.0</td>\n",
       "      <td>1.0</td>\n",
       "    </tr>\n",
       "  </tbody>\n",
       "</table>\n",
       "</div>"
      ],
      "text/plain": [
       "              count        mean         std   min     25%    50%    75%    max\n",
       "Age           918.0   53.510893    9.432617  28.0   47.00   54.0   60.0   77.0\n",
       "RestingBP     918.0  132.396514   18.514154   0.0  120.00  130.0  140.0  200.0\n",
       "Cholesterol   918.0  198.799564  109.384145   0.0  173.25  223.0  267.0  603.0\n",
       "FastingBS     918.0    0.233115    0.423046   0.0    0.00    0.0    0.0    1.0\n",
       "MaxHR         918.0  136.809368   25.460334  60.0  120.00  138.0  156.0  202.0\n",
       "Oldpeak       918.0    0.887364    1.066570  -2.6    0.00    0.6    1.5    6.2\n",
       "HeartDisease  918.0    0.553377    0.497414   0.0    0.00    1.0    1.0    1.0"
      ]
     },
     "execution_count": 6,
     "metadata": {},
     "output_type": "execute_result"
    }
   ],
   "source": [
    "data.describe().T"
   ]
  },
  {
   "cell_type": "markdown",
   "metadata": {},
   "source": [
    "<mark>Insights<mark>\n",
    "- De meeste patienten zijn tussen de 47 en 60 jaar oud.\n",
    "- Bij RestingBP is de minimale waarde 0, terwijl 25% van de goep bijvoorbeeld 120 bevat. De gemiddelde is 132. Dit kan dus een uitsmijter zijn. Dezelfde geldt voor de cholesterol-gehalte.\n",
    "- FastingBS kan wel gewoon minimaal 0 zijn, aanegzien de meeste ook gewoon 0 als waarde hebben.\n",
    "- Zo'n 55% van de patienten heeft hartproblemen.\n",
    "- De standaardafwijking van cholelesterol-gehalte is redelijk hoog. er moet dus wel een variatie zijn."
   ]
  },
  {
   "cell_type": "markdown",
   "metadata": {},
   "source": [
    "## Voorspelling\n",
    "\n",
    "**Welke classifier zal het beste zijn en waarom?**\n",
    "\n",
    "<em>Ik verwacht dat Random Forest Classifier het beste classifer voor dit probleem zal zijn. RFC staat bekend om zijn hoge accuraatheid. Ook is er hier sprake van een binaire tabel en een kleine dataset, dus Logistic Regression zou hier het ook goed doen.\n",
    "\n",
    "<em>Wel is dat RF meer accuraat gericht is en Logistic Regression juist tijdgericht. Daarom kan RF het wel beter doen dan Logistic Regression. Toch zal RF wel slomer zijn.<em>\n",
    "\n",
    "<br>\n",
    "\n",
    "**Welke hyperparameters zijn relevant en waarom?**\n",
    "\n",
    "- n_estimators: aantal trees: zegt genoeg.max_depth: De diepte van een DT kan zeker uitmaken op de uitkomst (meerdere if statements om zo nauwkeurig mogelijk te zijn). \n",
    "- min_samples_leaf: Het aantal nodes in een DT kan veel invloed hebben op de efficiëntie. Meer nodes = meer splitsingen, wat meer rekenkracht kost. Toch is dit een relatief kleine dataset.\n",
    "- max_depth: spreekt voor zich\n",
    "\n",
    "<br>\n",
    "\n",
    "## Methoden\n",
    "\n",
    "**Welke preprocessing stappen zijn nodig?**\n",
    "\n",
    "- <em>Checken of er duplicates en/of lege cellen zijn </em>\n",
    "- <em>Categorisch omzetten naar numeriek</em>\n",
    "- <em>Bekijken of er outliers zijn. Zoja, outliers eruit halen</em>\n",
    "- <em>Feature importance<em>\n",
    "- <em>Data normaliseren<em>\n",
    "\n",
    "<br>\n",
    "\n",
    "**Welke classifiers ga je vergelijken?**\n",
    "\n",
    "- <em>Logistic Regression</em>\n",
    "- <em>K-Nearest Neighbors<em>\n",
    "- <em>Random Forest Regression (ensamble)<em>\n",
    "- <em>VotingClassifier (ensamble)<em>\n",
    "\n",
    "<br>\n",
    "\n",
    "**Welke performace metric is passend?**\n",
    "\n",
    "<em>F1 Score<em>\n",
    "- <em>We willen vermijden dat er een patient wordt voorspeld als 'geen hartziekte', terwijl die dat juist wel heeft, oftewel de positieve correct classificieren (recall)<em>\n",
    "- <em>We willen dat de model zovaak mogelijk correct classificeerd (precision)."
   ]
  },
  {
   "cell_type": "markdown",
   "metadata": {},
   "source": [
    "#### Checken of er duplicates en/of lege cellen zijn"
   ]
  },
  {
   "cell_type": "markdown",
   "metadata": {},
   "source": [
    "Bekijk naar lege cellen"
   ]
  },
  {
   "cell_type": "code",
   "execution_count": 7,
   "metadata": {},
   "outputs": [
    {
     "data": {
      "text/plain": [
       "Age               0\n",
       "Sex               0\n",
       "ChestPainType     0\n",
       "RestingBP         0\n",
       "Cholesterol       0\n",
       "FastingBS         0\n",
       "RestingECG        0\n",
       "MaxHR             0\n",
       "ExerciseAngina    0\n",
       "Oldpeak           0\n",
       "ST_Slope          0\n",
       "HeartDisease      0\n",
       "dtype: int64"
      ]
     },
     "execution_count": 7,
     "metadata": {},
     "output_type": "execute_result"
    }
   ],
   "source": [
    "data.isna().sum()"
   ]
  },
  {
   "cell_type": "markdown",
   "metadata": {},
   "source": [
    "Bekijk of er duplicates zijn"
   ]
  },
  {
   "cell_type": "code",
   "execution_count": 8,
   "metadata": {},
   "outputs": [
    {
     "data": {
      "text/plain": [
       "0"
      ]
     },
     "execution_count": 8,
     "metadata": {},
     "output_type": "execute_result"
    }
   ],
   "source": [
    "data.duplicated().sum()"
   ]
  },
  {
   "cell_type": "markdown",
   "metadata": {},
   "source": [
    "**Insights**\n",
    "\n",
    "- Er zijn geen gedupliceerde waarden\n",
    "- Er zijn geen lege cellen\n"
   ]
  },
  {
   "cell_type": "markdown",
   "metadata": {},
   "source": [
    "#### Categorisch omzetten naar numeriek"
   ]
  },
  {
   "cell_type": "code",
   "execution_count": 9,
   "metadata": {},
   "outputs": [],
   "source": [
    "data['Sex'] = data['Sex'].map({'M': 0, 'F': 1})\n",
    "data['ExerciseAngina'] = data['ExerciseAngina'].map({'Y': 0, 'N': 1})"
   ]
  },
  {
   "cell_type": "code",
   "execution_count": 10,
   "metadata": {},
   "outputs": [
    {
     "data": {
      "text/html": [
       "<div>\n",
       "<style scoped>\n",
       "    .dataframe tbody tr th:only-of-type {\n",
       "        vertical-align: middle;\n",
       "    }\n",
       "\n",
       "    .dataframe tbody tr th {\n",
       "        vertical-align: top;\n",
       "    }\n",
       "\n",
       "    .dataframe thead th {\n",
       "        text-align: right;\n",
       "    }\n",
       "</style>\n",
       "<table border=\"1\" class=\"dataframe\">\n",
       "  <thead>\n",
       "    <tr style=\"text-align: right;\">\n",
       "      <th></th>\n",
       "      <th>Age</th>\n",
       "      <th>Sex</th>\n",
       "      <th>RestingBP</th>\n",
       "      <th>Cholesterol</th>\n",
       "      <th>FastingBS</th>\n",
       "      <th>MaxHR</th>\n",
       "      <th>ExerciseAngina</th>\n",
       "      <th>Oldpeak</th>\n",
       "      <th>HeartDisease</th>\n",
       "      <th>ChestPainType_ASY</th>\n",
       "      <th>ChestPainType_ATA</th>\n",
       "      <th>ChestPainType_NAP</th>\n",
       "      <th>ChestPainType_TA</th>\n",
       "      <th>RestingECG_LVH</th>\n",
       "      <th>RestingECG_Normal</th>\n",
       "      <th>RestingECG_ST</th>\n",
       "      <th>ST_Slope_Down</th>\n",
       "      <th>ST_Slope_Flat</th>\n",
       "      <th>ST_Slope_Up</th>\n",
       "      <th>ChestPainType</th>\n",
       "    </tr>\n",
       "  </thead>\n",
       "  <tbody>\n",
       "    <tr>\n",
       "      <th>0</th>\n",
       "      <td>40</td>\n",
       "      <td>0</td>\n",
       "      <td>140</td>\n",
       "      <td>289</td>\n",
       "      <td>0</td>\n",
       "      <td>172</td>\n",
       "      <td>1</td>\n",
       "      <td>0.0</td>\n",
       "      <td>0</td>\n",
       "      <td>0</td>\n",
       "      <td>1</td>\n",
       "      <td>0</td>\n",
       "      <td>0</td>\n",
       "      <td>0</td>\n",
       "      <td>1</td>\n",
       "      <td>0</td>\n",
       "      <td>0</td>\n",
       "      <td>0</td>\n",
       "      <td>1</td>\n",
       "      <td>ATA</td>\n",
       "    </tr>\n",
       "    <tr>\n",
       "      <th>1</th>\n",
       "      <td>49</td>\n",
       "      <td>1</td>\n",
       "      <td>160</td>\n",
       "      <td>180</td>\n",
       "      <td>0</td>\n",
       "      <td>156</td>\n",
       "      <td>1</td>\n",
       "      <td>1.0</td>\n",
       "      <td>1</td>\n",
       "      <td>0</td>\n",
       "      <td>0</td>\n",
       "      <td>1</td>\n",
       "      <td>0</td>\n",
       "      <td>0</td>\n",
       "      <td>1</td>\n",
       "      <td>0</td>\n",
       "      <td>0</td>\n",
       "      <td>1</td>\n",
       "      <td>0</td>\n",
       "      <td>NAP</td>\n",
       "    </tr>\n",
       "    <tr>\n",
       "      <th>2</th>\n",
       "      <td>37</td>\n",
       "      <td>0</td>\n",
       "      <td>130</td>\n",
       "      <td>283</td>\n",
       "      <td>0</td>\n",
       "      <td>98</td>\n",
       "      <td>1</td>\n",
       "      <td>0.0</td>\n",
       "      <td>0</td>\n",
       "      <td>0</td>\n",
       "      <td>1</td>\n",
       "      <td>0</td>\n",
       "      <td>0</td>\n",
       "      <td>0</td>\n",
       "      <td>0</td>\n",
       "      <td>1</td>\n",
       "      <td>0</td>\n",
       "      <td>0</td>\n",
       "      <td>1</td>\n",
       "      <td>ATA</td>\n",
       "    </tr>\n",
       "    <tr>\n",
       "      <th>3</th>\n",
       "      <td>48</td>\n",
       "      <td>1</td>\n",
       "      <td>138</td>\n",
       "      <td>214</td>\n",
       "      <td>0</td>\n",
       "      <td>108</td>\n",
       "      <td>0</td>\n",
       "      <td>1.5</td>\n",
       "      <td>1</td>\n",
       "      <td>1</td>\n",
       "      <td>0</td>\n",
       "      <td>0</td>\n",
       "      <td>0</td>\n",
       "      <td>0</td>\n",
       "      <td>1</td>\n",
       "      <td>0</td>\n",
       "      <td>0</td>\n",
       "      <td>1</td>\n",
       "      <td>0</td>\n",
       "      <td>ASY</td>\n",
       "    </tr>\n",
       "    <tr>\n",
       "      <th>4</th>\n",
       "      <td>54</td>\n",
       "      <td>0</td>\n",
       "      <td>150</td>\n",
       "      <td>195</td>\n",
       "      <td>0</td>\n",
       "      <td>122</td>\n",
       "      <td>1</td>\n",
       "      <td>0.0</td>\n",
       "      <td>0</td>\n",
       "      <td>0</td>\n",
       "      <td>0</td>\n",
       "      <td>1</td>\n",
       "      <td>0</td>\n",
       "      <td>0</td>\n",
       "      <td>1</td>\n",
       "      <td>0</td>\n",
       "      <td>0</td>\n",
       "      <td>0</td>\n",
       "      <td>1</td>\n",
       "      <td>NAP</td>\n",
       "    </tr>\n",
       "  </tbody>\n",
       "</table>\n",
       "</div>"
      ],
      "text/plain": [
       "   Age  Sex  RestingBP  Cholesterol  FastingBS  MaxHR  ExerciseAngina  \\\n",
       "0   40    0        140          289          0    172               1   \n",
       "1   49    1        160          180          0    156               1   \n",
       "2   37    0        130          283          0     98               1   \n",
       "3   48    1        138          214          0    108               0   \n",
       "4   54    0        150          195          0    122               1   \n",
       "\n",
       "   Oldpeak  HeartDisease  ChestPainType_ASY  ChestPainType_ATA  \\\n",
       "0      0.0             0                  0                  1   \n",
       "1      1.0             1                  0                  0   \n",
       "2      0.0             0                  0                  1   \n",
       "3      1.5             1                  1                  0   \n",
       "4      0.0             0                  0                  0   \n",
       "\n",
       "   ChestPainType_NAP  ChestPainType_TA  RestingECG_LVH  RestingECG_Normal  \\\n",
       "0                  0                 0               0                  1   \n",
       "1                  1                 0               0                  1   \n",
       "2                  0                 0               0                  0   \n",
       "3                  0                 0               0                  1   \n",
       "4                  1                 0               0                  1   \n",
       "\n",
       "   RestingECG_ST  ST_Slope_Down  ST_Slope_Flat  ST_Slope_Up ChestPainType  \n",
       "0              0              0              0            1           ATA  \n",
       "1              0              0              1            0           NAP  \n",
       "2              1              0              0            1           ATA  \n",
       "3              0              0              1            0           ASY  \n",
       "4              0              0              0            1           NAP  "
      ]
     },
     "execution_count": 10,
     "metadata": {},
     "output_type": "execute_result"
    }
   ],
   "source": [
    "columns_to_encode = ['ChestPainType','RestingECG','ST_Slope']\n",
    "orginal_chestPainType = data['ChestPainType'] # Nodig voor ANOVA test\n",
    "\n",
    "data = pd.get_dummies(columns=columns_to_encode, data=data)\n",
    "\n",
    "data['ChestPainType'] = orginal_chestPainType\n",
    "\n",
    "data.head()"
   ]
  },
  {
   "cell_type": "markdown",
   "metadata": {},
   "source": [
    "#### Bekijken of er outliers zijn. Zoja, outliers eruit halen"
   ]
  },
  {
   "cell_type": "code",
   "execution_count": 11,
   "metadata": {},
   "outputs": [
    {
     "data": {
      "image/png": "[encoded data removed]",
      "text/plain": [
       "<Figure size 864x720 with 20 Axes>"
      ]
     },
     "metadata": {
      "needs_background": "light"
     },
     "output_type": "display_data"
    }
   ],
   "source": [
    "plt.figure(figsize=(12,10))\n",
    "for idx, column in enumerate(data.columns):\n",
    "    plt.subplot(5, 4, idx+1)\n",
    "    sns.histplot(x=column, data=data)\n",
    "    plt.title(column)\n",
    "    plt.tight_layout()\n",
    "plt.show()"
   ]
  },
  {
   "cell_type": "markdown",
   "metadata": {},
   "source": [
    "**Insights**\n",
    "- Waardes zoals Age en MaxHR zien er redelijk normaal verdeeld uit.\n",
    "- Bij cholesterol zijn er heelveel 0 waardes. Dit zijn hoogstwaarschijnlijk uitsmijters, want 0 als waarde voor cholesterol is niet mogelijk.\n",
    "- Er zijn veel meer mannen met hartproblemen dan vrouwen.\n",
    "- OldPleak heeft een negatieve waarde. Deze kunnen niet negatief zijn.\n",
    "- Er zijn zowat even veel ST_Slope_Flat bij zowel heartdiseased als niet.\n",
    "- ST_Slope_Down en ChestPainType_TA zijn heel wat hoger bij degenen zonder hertziektes.\n",
    "\n",
    "<br><br>\n",
    "\n",
    "Om er zeker van te zijn dat er uitsmijters zijn, worden er hieronder boxplots getekend."
   ]
  },
  {
   "cell_type": "code",
   "execution_count": 12,
   "metadata": {},
   "outputs": [
    {
     "data": {
      "text/plain": [
       "['Age', 'RestingBP', 'Cholesterol', 'MaxHR', 'Oldpeak']"
      ]
     },
     "execution_count": 12,
     "metadata": {},
     "output_type": "execute_result"
    }
   ],
   "source": [
    "non_binary_columns = [col for col in data if not np.isin(data[col].unique(), [0, 1]).all()]\n",
    "\n",
    "non_binary_columns.remove('ChestPainType') # Bevat 0,1,2,3 -> geen binary, wordt wel meegenomen door code\n",
    "\n",
    "non_binary_columns"
   ]
  },
  {
   "cell_type": "code",
   "execution_count": 13,
   "metadata": {},
   "outputs": [],
   "source": [
    "import random\n",
    "\n",
    "def get_random_color():\n",
    "    return \"\"\n",
    "    rgb = [r,g,b]"
   ]
  },
  {
   "cell_type": "code",
   "execution_count": 14,
   "metadata": {},
   "outputs": [
    {
     "data": {
      "text/plain": [
       "(0.8853517877739331, 0.3190311418685121, 0.29042675893886966)"
      ]
     },
     "execution_count": 14,
     "metadata": {},
     "output_type": "execute_result"
    }
   ],
   "source": [
    "color = sns.color_palette(\"Spectral\")[0]\n",
    "\n",
    "color"
   ]
  },
  {
   "cell_type": "code",
   "execution_count": 15,
   "metadata": {},
   "outputs": [
    {
     "data": {
      "image/png": "[encoded data removed]",
      "text/plain": [
       "<Figure size 1440x720 with 5 Axes>"
      ]
     },
     "metadata": {
      "needs_background": "light"
     },
     "output_type": "display_data"
    }
   ],
   "source": [
    "fig, axes = plt.subplots(2, 3)\n",
    "# sns.set(style=\"darkgrid\")\n",
    "for i, ax in zip(range(len(non_binary_columns)), axes.flat):\n",
    "    color = sns.color_palette(\"Set2\")[i]\n",
    "    sns.boxplot(data[non_binary_columns[i]], orient='h', ax=ax, color=color)\n",
    "    plt.title(non_binary_columns[i])\n",
    "\n",
    "\n",
    "fig.delaxes(axes[1][2])\n",
    "fig.set_size_inches(20, 10)\n",
    "plt.show()"
   ]
  },
  {
   "cell_type": "markdown",
   "metadata": {},
   "source": [
    "<mark>Insights</mark>\n",
    "\n",
    "- Age heeft geen uitsmijters\n",
    "- RestingBP heeft één 0-waarde.\n",
    "- Cholesterol heeft veel 0-waardes en alles boven de 450 is onzin.\n",
    "- MaxHR en Oldpeak weet ik niet zeker of het uitsmijters zijn. Voor nu laten."
   ]
  },
  {
   "cell_type": "markdown",
   "metadata": {},
   "source": [
    "Cholesterol"
   ]
  },
  {
   "cell_type": "code",
   "execution_count": 16,
   "metadata": {},
   "outputs": [],
   "source": [
    "mean_cholesterol = data[data['Cholesterol'] > 0]['Cholesterol'].mean()\n",
    "data['Cholesterol'] = data['Cholesterol'].apply(lambda x: x if x < 450 and x > 75 else mean_cholesterol)"
   ]
  },
  {
   "cell_type": "markdown",
   "metadata": {},
   "source": [
    "RestingBP"
   ]
  },
  {
   "cell_type": "code",
   "execution_count": 17,
   "metadata": {},
   "outputs": [],
   "source": [
    "mean_restingbp = data[data['RestingBP'] > 0]['RestingBP'].mean()\n",
    "\n",
    "data[\"RestingBP\"].replace(0, mean_restingbp, inplace=True)"
   ]
  },
  {
   "cell_type": "markdown",
   "metadata": {},
   "source": [
    "#### Feature selection\n",
    "\n",
    "##### Heatmap\n"
   ]
  },
  {
   "cell_type": "markdown",
   "metadata": {},
   "source": [
    "Eerst even de Heartdisease kolom achteraan verplaatsen, zodat we een beter inzicht krijgen"
   ]
  },
  {
   "cell_type": "code",
   "execution_count": 18,
   "metadata": {},
   "outputs": [],
   "source": [
    "old_columns = data.columns.to_list()\n",
    "\n",
    "hd_index = old_columns.index('HeartDisease')\n",
    "\n",
    "hd = old_columns.pop(hd_index)\n",
    "\n",
    "new_columns = [*old_columns, hd]\n",
    "\n",
    "data = data[new_columns]"
   ]
  },
  {
   "cell_type": "code",
   "execution_count": 19,
   "metadata": {},
   "outputs": [
    {
     "data": {
      "text/plain": [
       "<AxesSubplot:>"
      ]
     },
     "execution_count": 19,
     "metadata": {},
     "output_type": "execute_result"
    },
    {
     "data": {
      "image/png": "[encoded data removed]",
      "text/plain": [
       "<Figure size 1080x720 with 2 Axes>"
      ]
     },
     "metadata": {
      "needs_background": "light"
     },
     "output_type": "display_data"
    }
   ],
   "source": [
    "# Visualiseer de correlatie tabel met een heatmap\n",
    "plt.figure(figsize=(15,10))\n",
    "sns.heatmap(data.corr(), annot=True, fmt='.2f')"
   ]
  },
  {
   "cell_type": "markdown",
   "metadata": {},
   "source": [
    "<mark>Insights<mark>\n",
    "\n",
    "- Op eerste blik lijkt het dat MaxHR, ST_Slope_Flat en ExerciseAngina een sterk correlatie te hebben met Heartdisease.\n",
    "- Kolommen zoals Cholesterol hebben volgens de heatmap weinig invloed op de label. Ook hebben deze indirect niet veel invloed op andere features"
   ]
  },
  {
   "cell_type": "markdown",
   "metadata": {},
   "source": [
    "#### Statistics (T-test en Anova)\n",
    "\n",
    "- interval -> t-test\n",
    "- nominaal -> chi square\n",
    "- nominaal + rangorde -> chi square of mann whitney"
   ]
  },
  {
   "cell_type": "markdown",
   "metadata": {},
   "source": [
    "##### T-test"
   ]
  },
  {
   "cell_type": "markdown",
   "metadata": {},
   "source": [
    "Bekijk eerst even of kolommen normaal verdeeld zijn"
   ]
  },
  {
   "cell_type": "code",
   "execution_count": 20,
   "metadata": {},
   "outputs": [
    {
     "data": {
      "image/png": "[encoded data removed]",
      "text/plain": [
       "<Figure size 432x288 with 5 Axes>"
      ]
     },
     "metadata": {
      "needs_background": "light"
     },
     "output_type": "display_data"
    }
   ],
   "source": [
    "fig, axes = plt.subplots(2,3)\n",
    "\n",
    "for i, ax in zip(range(len(non_binary_columns)), axes.flat):\n",
    "    color = sns.color_palette(\"Set2\")[i]\n",
    "    sns.distplot(data[non_binary_columns[i]], bins=15, ax=ax, color=color)\n",
    "    plt.title(non_binary_columns[i])\n",
    "\n",
    "fig.delaxes(axes[1][2])\n",
    "plt.show()\n"
   ]
  },
  {
   "cell_type": "markdown",
   "metadata": {},
   "source": [
    "<mark>Insights</mark>\n",
    "- MaxHR en RestingBP zien er nog redelijk normaal verdeeld uit\n",
    "- Age ook wel, maar wel verschuift naar rechts\n",
    "- Cholesterol en oldpeak niet"
   ]
  },
  {
   "cell_type": "markdown",
   "metadata": {},
   "source": [
    "##### Kolmogorov-Smirnov\n",
    "\n",
    "We moeten eerst bekijken of we een normale t-test of een welsch t-test moeten doen. Dit kunnen we beslissen door zeker te weten of de dataset normaal verdeeld is. Als dat zo is, kunnen we de normale t-test gebruiken. Zoniet, dan de welsch t-test.\n",
    "\n",
    "Om te bepalen of de dataset normaal verdeeld is, kunnen we de kolomogoriv-smirlov test doen. \n",
    "\n",
    "H0: De verdeling is normaal verdeeld."
   ]
  },
  {
   "cell_type": "code",
   "execution_count": 21,
   "metadata": {},
   "outputs": [],
   "source": [
    "from scipy.stats import kstest"
   ]
  },
  {
   "cell_type": "code",
   "execution_count": 22,
   "metadata": {},
   "outputs": [
    {
     "data": {
      "text/plain": [
       "KstestResult(statistic=1.0, pvalue=0.0)"
      ]
     },
     "execution_count": 22,
     "metadata": {},
     "output_type": "execute_result"
    }
   ],
   "source": [
    "kstest(data['Age'], 'norm')"
   ]
  },
  {
   "cell_type": "code",
   "execution_count": 23,
   "metadata": {},
   "outputs": [
    {
     "data": {
      "text/plain": [
       "KstestResult(statistic=1.0, pvalue=0.0)"
      ]
     },
     "execution_count": 23,
     "metadata": {},
     "output_type": "execute_result"
    }
   ],
   "source": [
    "kstest(data['Cholesterol'],'norm')"
   ]
  },
  {
   "cell_type": "code",
   "execution_count": 24,
   "metadata": {},
   "outputs": [
    {
     "data": {
      "text/plain": [
       "KstestResult(statistic=1.0, pvalue=0.0)"
      ]
     },
     "execution_count": 24,
     "metadata": {},
     "output_type": "execute_result"
    }
   ],
   "source": [
    "kstest(data['RestingBP'],'norm')"
   ]
  },
  {
   "cell_type": "code",
   "execution_count": 25,
   "metadata": {},
   "outputs": [
    {
     "data": {
      "text/plain": [
       "KstestResult(statistic=1.0, pvalue=0.0)"
      ]
     },
     "execution_count": 25,
     "metadata": {},
     "output_type": "execute_result"
    }
   ],
   "source": [
    "kstest(data['MaxHR'], 'norm')"
   ]
  },
  {
   "cell_type": "markdown",
   "metadata": {},
   "source": [
    "test voor gegarandeerd niet normale verdeling"
   ]
  },
  {
   "cell_type": "code",
   "execution_count": 26,
   "metadata": {},
   "outputs": [
    {
     "data": {
      "text/plain": [
       "KstestResult(statistic=0.485838779956427, pvalue=4.2004655072318036e-200)"
      ]
     },
     "execution_count": 26,
     "metadata": {},
     "output_type": "execute_result"
    }
   ],
   "source": [
    "kstest(data['Oldpeak'], 'norm')"
   ]
  },
  {
   "cell_type": "markdown",
   "metadata": {},
   "source": [
    "<mark>Insights<mark>\n",
    "\n",
    "- De kolommen hebben een pvalue lager dan 5% -> reject H0 -> niet normaal verdeeld\n",
    "\n",
    "Conclusie:\n",
    "\n",
    "Gebruik Welsch t-test.\n",
    "\n",
    "<br>\n",
    "<em>De t-test van scipy geeft niet heel veel informatie. We missen informatie over de effect size. Pearson R kan ons hierbij helpen. Daarom gebruiken we researchpy. Dit geeft al wat meer inzicht<em>"
   ]
  },
  {
   "cell_type": "code",
   "execution_count": 27,
   "metadata": {},
   "outputs": [],
   "source": [
    "import researchpy as rp"
   ]
  },
  {
   "cell_type": "code",
   "execution_count": 28,
   "metadata": {},
   "outputs": [],
   "source": [
    "wel = data[data['HeartDisease'] == 1]\n",
    "geen = data[data['HeartDisease'] == 0]"
   ]
  },
  {
   "cell_type": "markdown",
   "metadata": {},
   "source": [
    "#### Interval kolommen\n",
    "\n",
    "Cholesterol"
   ]
  },
  {
   "cell_type": "code",
   "execution_count": 29,
   "metadata": {},
   "outputs": [
    {
     "data": {
      "text/plain": [
       "(   Variable      N        Mean         SD        SE   95% Conf.    Interval\n",
       " 0       wel  508.0  246.414874  44.510131  1.974818  242.535041  250.294708\n",
       " 1      niet  410.0  237.211254  49.126442  2.426182  232.441911  241.980596\n",
       " 2  combined  918.0  242.304325  46.826743  1.545513  239.271172  245.337477,\n",
       "                Welch's t-test   results\n",
       " 0  Difference (wel - niet) =     9.2036\n",
       " 1       Degrees of freedom =   836.7325\n",
       " 2                        t =     2.9421\n",
       " 3    Two side test p value =     0.0034\n",
       " 4   Difference < 0 p value =     0.9983\n",
       " 5   Difference > 0 p value =     0.0017\n",
       " 6                Cohen's d =     0.1974\n",
       " 7                Hedge's g =     0.1972\n",
       " 8            Glass's delta =     0.2068\n",
       " 9              Pearson's r =     0.1012)"
      ]
     },
     "execution_count": 29,
     "metadata": {},
     "output_type": "execute_result"
    }
   ],
   "source": [
    "rp.ttest(group1=wel['Cholesterol'], group2=geen['Cholesterol'], group1_name='wel', group2_name='niet', equal_variances=False)"
   ]
  },
  {
   "cell_type": "markdown",
   "metadata": {},
   "source": [
    "<mark>Insights<mark>\n",
    "- p value > 5%\n",
    "- Ho wordt behouden, dus er is geen significant verschil\n",
    "- Pearsons r is zeer zwak\n",
    "- weggooien"
   ]
  },
  {
   "cell_type": "markdown",
   "metadata": {},
   "source": [
    "Age"
   ]
  },
  {
   "cell_type": "code",
   "execution_count": 30,
   "metadata": {},
   "outputs": [
    {
     "data": {
      "text/plain": [
       "(   Variable      N       Mean        SD        SE  95% Conf.   Interval\n",
       " 0       wel  508.0  55.899606  8.727056  0.387200  55.138891  56.660321\n",
       " 1      niet  410.0  50.551220  9.444915  0.466451  49.634279  51.468160\n",
       " 2  combined  918.0  53.510893  9.432617  0.311323  52.899905  54.121881,\n",
       "                Welch's t-test   results\n",
       " 0  Difference (wel - niet) =     5.3484\n",
       " 1       Degrees of freedom =   845.5957\n",
       " 2                        t =     8.8225\n",
       " 3    Two side test p value =     0.0000\n",
       " 4   Difference < 0 p value =     1.0000\n",
       " 5   Difference > 0 p value =     0.0000\n",
       " 6                Cohen's d =     0.5907\n",
       " 7                Hedge's g =     0.5902\n",
       " 8            Glass's delta =     0.6129\n",
       " 9              Pearson's r =     0.2903)"
      ]
     },
     "execution_count": 30,
     "metadata": {},
     "output_type": "execute_result"
    }
   ],
   "source": [
    "rp.ttest(group1=wel['Age'], group2=geen['Age'], group1_name='wel', group2_name='niet', equal_variances=False)"
   ]
  },
  {
   "cell_type": "markdown",
   "metadata": {},
   "source": [
    "<mark>Insights<mark>\n",
    "- p value < 5%\n",
    "- Ho wordt verworpen, dus er is een significant verschil\n",
    "- Pearsons r is redelijk sterk\n",
    "- behouden"
   ]
  },
  {
   "cell_type": "markdown",
   "metadata": {},
   "source": [
    "RestingBP"
   ]
  },
  {
   "cell_type": "code",
   "execution_count": 31,
   "metadata": {},
   "outputs": [
    {
     "data": {
      "text/plain": [
       "(   Variable      N        Mean         SD        SE   95% Conf.    Interval\n",
       " 0       wel  508.0  134.445947  18.910310  0.839009  132.797584  136.094310\n",
       " 1      niet  410.0  130.180488  16.499585  0.814856  128.578659  131.782317\n",
       " 2  combined  918.0  132.540894  17.989932  0.593756  131.375615  133.706173,\n",
       "                Welch's t-test   results\n",
       " 0  Difference (wel - niet) =     4.2655\n",
       " 1       Degrees of freedom =   912.4702\n",
       " 2                        t =     3.6470\n",
       " 3    Two side test p value =     0.0003\n",
       " 4   Difference < 0 p value =     0.9999\n",
       " 5   Difference > 0 p value =     0.0001\n",
       " 6                Cohen's d =     0.2386\n",
       " 7                Hedge's g =     0.2384\n",
       " 8            Glass's delta =     0.2256\n",
       " 9              Pearson's r =     0.1199)"
      ]
     },
     "execution_count": 31,
     "metadata": {},
     "output_type": "execute_result"
    }
   ],
   "source": [
    "rp.ttest(group1=wel['RestingBP'], group2=geen['RestingBP'], group1_name='wel', group2_name='niet', equal_variances=False)"
   ]
  },
  {
   "cell_type": "markdown",
   "metadata": {},
   "source": [
    "<mark>Insights<mark>\n",
    "- p value < 5%\n",
    "- Ho wordt verworpen, dus er is een significant verschil\n",
    "- Pearsons r is redelijk zwak\n",
    "- weggooien"
   ]
  },
  {
   "cell_type": "markdown",
   "metadata": {},
   "source": [
    "FastingBP"
   ]
  },
  {
   "cell_type": "code",
   "execution_count": 32,
   "metadata": {},
   "outputs": [
    {
     "data": {
      "text/plain": [
       "(   Variable      N      Mean        SD        SE  95% Conf.  Interval\n",
       " 0       wel  508.0  0.334646  0.472332  0.020956   0.293474  0.375818\n",
       " 1      niet  410.0  0.107317  0.309894  0.015305   0.077232  0.137403\n",
       " 2  combined  918.0  0.233115  0.423046  0.013963   0.205713  0.260518,\n",
       "                Welch's t-test   results\n",
       " 0  Difference (wel - niet) =     0.2273\n",
       " 1       Degrees of freedom =   882.9740\n",
       " 2                        t =     8.7603\n",
       " 3    Two side test p value =     0.0000\n",
       " 4   Difference < 0 p value =     1.0000\n",
       " 5   Difference > 0 p value =     0.0000\n",
       " 6                Cohen's d =     0.5573\n",
       " 7                Hedge's g =     0.5569\n",
       " 8            Glass's delta =     0.4813\n",
       " 9              Pearson's r =     0.2828)"
      ]
     },
     "execution_count": 32,
     "metadata": {},
     "output_type": "execute_result"
    }
   ],
   "source": [
    "rp.ttest(group1=wel['FastingBS'], group2=geen['FastingBS'], group1_name='wel', group2_name='niet', equal_variances=False)"
   ]
  },
  {
   "cell_type": "markdown",
   "metadata": {},
   "source": [
    "<mark>Insights<mark>\n",
    "\n",
    "- p value < 5%\n",
    "- Ho wordt verworpen, dus er is een significant verschil\n",
    "- Pearsons r is redelijk sterk\n",
    "- behouden"
   ]
  },
  {
   "cell_type": "markdown",
   "metadata": {},
   "source": [
    "MaxHR"
   ]
  },
  {
   "cell_type": "code",
   "execution_count": 33,
   "metadata": {},
   "outputs": [
    {
     "data": {
      "text/plain": [
       "(   Variable      N        Mean         SD        SE   95% Conf.    Interval\n",
       " 0       wel  508.0  127.655512  23.386923  1.037627  125.616934  129.694090\n",
       " 1      niet  410.0  148.151220  23.288067  1.150116  145.890344  150.412095\n",
       " 2  combined  918.0  136.809368  25.460334  0.840316  135.160202  138.458534,\n",
       "                Welch's t-test   results\n",
       " 0  Difference (wel - niet) =   -20.4957\n",
       " 1       Degrees of freedom =   879.0415\n",
       " 2                        t =   -13.2315\n",
       " 3    Two side test p value =     0.0000\n",
       " 4   Difference < 0 p value =     0.0000\n",
       " 5   Difference > 0 p value =     1.0000\n",
       " 6                Cohen's d =    -0.8780\n",
       " 7                Hedge's g =    -0.8773\n",
       " 8            Glass's delta =    -0.8764\n",
       " 9              Pearson's r =     0.4075)"
      ]
     },
     "execution_count": 33,
     "metadata": {},
     "output_type": "execute_result"
    }
   ],
   "source": [
    "rp.ttest(group1=wel['MaxHR'], group2=geen['MaxHR'], group1_name='wel', group2_name='niet', equal_variances=False)"
   ]
  },
  {
   "cell_type": "markdown",
   "metadata": {},
   "source": [
    "<mark>Insights</mark>\n",
    "- p value < 5%\n",
    "- Ho wordt verworpen, dus er is een significant verschil\n",
    "- Pearsons r is sterk\n",
    "- behouden"
   ]
  },
  {
   "cell_type": "markdown",
   "metadata": {},
   "source": [
    "Oldpeak"
   ]
  },
  {
   "cell_type": "code",
   "execution_count": 34,
   "metadata": {},
   "outputs": [
    {
     "data": {
      "text/plain": [
       "(   Variable      N      Mean        SD        SE  95% Conf.  Interval\n",
       " 0       wel  508.0  1.274213  1.151872  0.051106   1.173807  1.374618\n",
       " 1      niet  410.0  0.408049  0.699709  0.034556   0.340119  0.475979\n",
       " 2  combined  918.0  0.887364  1.066570  0.035202   0.818278  0.956450,\n",
       "                Welch's t-test   results\n",
       " 0  Difference (wel - niet) =     0.8662\n",
       " 1       Degrees of freedom =   856.5664\n",
       " 2                        t =    14.0400\n",
       " 3    Two side test p value =     0.0000\n",
       " 4   Difference < 0 p value =     1.0000\n",
       " 5   Difference > 0 p value =     0.0000\n",
       " 6                Cohen's d =     0.8873\n",
       " 7                Hedge's g =     0.8865\n",
       " 8            Glass's delta =     0.7520\n",
       " 9              Pearson's r =     0.4325)"
      ]
     },
     "execution_count": 34,
     "metadata": {},
     "output_type": "execute_result"
    }
   ],
   "source": [
    "rp.ttest(group1=wel['Oldpeak'], group2=geen['Oldpeak'], group1_name='wel', group2_name='niet', equal_variances=False)"
   ]
  },
  {
   "cell_type": "markdown",
   "metadata": {},
   "source": [
    "<mark>Insights</mark>\n",
    "\n",
    "- p value < 5%\n",
    "- Ho wordt verworpen, dus er is een significant verschil\n",
    "- Pearsons r is sterk\n",
    "- behouden"
   ]
  },
  {
   "cell_type": "markdown",
   "metadata": {},
   "source": [
    "**<mark>Conclusie<mark>**\n",
    "\n",
    "- Age, FastingBS, Oldpeak en MaxHR behouden\n",
    "- Cholesterol weggooien"
   ]
  },
  {
   "cell_type": "markdown",
   "metadata": {},
   "source": [
    "#### Nominale kolommen"
   ]
  },
  {
   "cell_type": "markdown",
   "metadata": {},
   "source": [
    "Sex"
   ]
  },
  {
   "cell_type": "code",
   "execution_count": 35,
   "metadata": {},
   "outputs": [
    {
     "data": {
      "text/html": [
       "<div>\n",
       "<style scoped>\n",
       "    .dataframe tbody tr th:only-of-type {\n",
       "        vertical-align: middle;\n",
       "    }\n",
       "\n",
       "    .dataframe tbody tr th {\n",
       "        vertical-align: top;\n",
       "    }\n",
       "\n",
       "    .dataframe thead th {\n",
       "        text-align: right;\n",
       "    }\n",
       "</style>\n",
       "<table border=\"1\" class=\"dataframe\">\n",
       "  <thead>\n",
       "    <tr style=\"text-align: right;\">\n",
       "      <th></th>\n",
       "      <th>Chi-square test</th>\n",
       "      <th>results</th>\n",
       "    </tr>\n",
       "  </thead>\n",
       "  <tbody>\n",
       "    <tr>\n",
       "      <th>0</th>\n",
       "      <td>Pearson Chi-square ( 1.0) =</td>\n",
       "      <td>85.6463</td>\n",
       "    </tr>\n",
       "    <tr>\n",
       "      <th>1</th>\n",
       "      <td>p-value =</td>\n",
       "      <td>0.0000</td>\n",
       "    </tr>\n",
       "    <tr>\n",
       "      <th>2</th>\n",
       "      <td>Cramer's phi =</td>\n",
       "      <td>0.3054</td>\n",
       "    </tr>\n",
       "  </tbody>\n",
       "</table>\n",
       "</div>"
      ],
      "text/plain": [
       "                Chi-square test  results\n",
       "0  Pearson Chi-square ( 1.0) =   85.6463\n",
       "1                    p-value =    0.0000\n",
       "2               Cramer's phi =    0.3054"
      ]
     },
     "execution_count": 35,
     "metadata": {},
     "output_type": "execute_result"
    }
   ],
   "source": [
    "_, result = rp.crosstab(data['HeartDisease'], data['Sex'], test= \"chi-square\")\n",
    "result"
   ]
  },
  {
   "cell_type": "markdown",
   "metadata": {},
   "source": [
    "<mark>Insights</mark>\n",
    "\n",
    "- p-value < 0.5 -> H0 wordt verworpen, er is dus een significant verschil\n",
    "- Cramers phi is redelijk sterk\n",
    "- behouden"
   ]
  },
  {
   "cell_type": "markdown",
   "metadata": {},
   "source": [
    "ExerciseAngina"
   ]
  },
  {
   "cell_type": "code",
   "execution_count": 36,
   "metadata": {},
   "outputs": [
    {
     "data": {
      "text/html": [
       "<div>\n",
       "<style scoped>\n",
       "    .dataframe tbody tr th:only-of-type {\n",
       "        vertical-align: middle;\n",
       "    }\n",
       "\n",
       "    .dataframe tbody tr th {\n",
       "        vertical-align: top;\n",
       "    }\n",
       "\n",
       "    .dataframe thead th {\n",
       "        text-align: right;\n",
       "    }\n",
       "</style>\n",
       "<table border=\"1\" class=\"dataframe\">\n",
       "  <thead>\n",
       "    <tr style=\"text-align: right;\">\n",
       "      <th></th>\n",
       "      <th>Chi-square test</th>\n",
       "      <th>results</th>\n",
       "    </tr>\n",
       "  </thead>\n",
       "  <tbody>\n",
       "    <tr>\n",
       "      <th>0</th>\n",
       "      <td>Pearson Chi-square ( 1.0) =</td>\n",
       "      <td>224.2809</td>\n",
       "    </tr>\n",
       "    <tr>\n",
       "      <th>1</th>\n",
       "      <td>p-value =</td>\n",
       "      <td>0.0000</td>\n",
       "    </tr>\n",
       "    <tr>\n",
       "      <th>2</th>\n",
       "      <td>Cramer's phi =</td>\n",
       "      <td>0.4943</td>\n",
       "    </tr>\n",
       "  </tbody>\n",
       "</table>\n",
       "</div>"
      ],
      "text/plain": [
       "                Chi-square test   results\n",
       "0  Pearson Chi-square ( 1.0) =   224.2809\n",
       "1                    p-value =     0.0000\n",
       "2               Cramer's phi =     0.4943"
      ]
     },
     "execution_count": 36,
     "metadata": {},
     "output_type": "execute_result"
    }
   ],
   "source": [
    "_, result = rp.crosstab(data['HeartDisease'], data['ExerciseAngina'], test= \"chi-square\")\n",
    "\n",
    "result"
   ]
  },
  {
   "cell_type": "markdown",
   "metadata": {},
   "source": [
    "<mark>Insights</mark>\n",
    "\n",
    "- p-value < 0.5 -> H0 wordt verworpen, er is dus een significant verschil\n",
    "- Cramers phi is redelijk sterk\n",
    "- behouden"
   ]
  },
  {
   "cell_type": "markdown",
   "metadata": {},
   "source": [
    "ChestPainType"
   ]
  },
  {
   "cell_type": "code",
   "execution_count": 37,
   "metadata": {},
   "outputs": [
    {
     "data": {
      "text/html": [
       "<div>\n",
       "<style scoped>\n",
       "    .dataframe tbody tr th:only-of-type {\n",
       "        vertical-align: middle;\n",
       "    }\n",
       "\n",
       "    .dataframe tbody tr th {\n",
       "        vertical-align: top;\n",
       "    }\n",
       "\n",
       "    .dataframe thead th {\n",
       "        text-align: right;\n",
       "    }\n",
       "</style>\n",
       "<table border=\"1\" class=\"dataframe\">\n",
       "  <thead>\n",
       "    <tr style=\"text-align: right;\">\n",
       "      <th></th>\n",
       "      <th>Chi-square test</th>\n",
       "      <th>results</th>\n",
       "    </tr>\n",
       "  </thead>\n",
       "  <tbody>\n",
       "    <tr>\n",
       "      <th>0</th>\n",
       "      <td>Pearson Chi-square ( 1.0) =</td>\n",
       "      <td>245.1022</td>\n",
       "    </tr>\n",
       "    <tr>\n",
       "      <th>1</th>\n",
       "      <td>p-value =</td>\n",
       "      <td>0.0000</td>\n",
       "    </tr>\n",
       "    <tr>\n",
       "      <th>2</th>\n",
       "      <td>Cramer's phi =</td>\n",
       "      <td>0.5167</td>\n",
       "    </tr>\n",
       "  </tbody>\n",
       "</table>\n",
       "</div>"
      ],
      "text/plain": [
       "                Chi-square test   results\n",
       "0  Pearson Chi-square ( 1.0) =   245.1022\n",
       "1                    p-value =     0.0000\n",
       "2               Cramer's phi =     0.5167"
      ]
     },
     "execution_count": 37,
     "metadata": {},
     "output_type": "execute_result"
    }
   ],
   "source": [
    "_, result = rp.crosstab(data['HeartDisease'], data['ChestPainType_ASY'], test= \"chi-square\")\n",
    "result"
   ]
  },
  {
   "cell_type": "code",
   "execution_count": 38,
   "metadata": {},
   "outputs": [
    {
     "data": {
      "text/html": [
       "<div>\n",
       "<style scoped>\n",
       "    .dataframe tbody tr th:only-of-type {\n",
       "        vertical-align: middle;\n",
       "    }\n",
       "\n",
       "    .dataframe tbody tr th {\n",
       "        vertical-align: top;\n",
       "    }\n",
       "\n",
       "    .dataframe thead th {\n",
       "        text-align: right;\n",
       "    }\n",
       "</style>\n",
       "<table border=\"1\" class=\"dataframe\">\n",
       "  <thead>\n",
       "    <tr style=\"text-align: right;\">\n",
       "      <th></th>\n",
       "      <th>Chi-square test</th>\n",
       "      <th>results</th>\n",
       "    </tr>\n",
       "  </thead>\n",
       "  <tbody>\n",
       "    <tr>\n",
       "      <th>0</th>\n",
       "      <td>Pearson Chi-square ( 1.0) =</td>\n",
       "      <td>148.2964</td>\n",
       "    </tr>\n",
       "    <tr>\n",
       "      <th>1</th>\n",
       "      <td>p-value =</td>\n",
       "      <td>0.0000</td>\n",
       "    </tr>\n",
       "    <tr>\n",
       "      <th>2</th>\n",
       "      <td>Cramer's phi =</td>\n",
       "      <td>0.4019</td>\n",
       "    </tr>\n",
       "  </tbody>\n",
       "</table>\n",
       "</div>"
      ],
      "text/plain": [
       "                Chi-square test   results\n",
       "0  Pearson Chi-square ( 1.0) =   148.2964\n",
       "1                    p-value =     0.0000\n",
       "2               Cramer's phi =     0.4019"
      ]
     },
     "execution_count": 38,
     "metadata": {},
     "output_type": "execute_result"
    }
   ],
   "source": [
    "_, result = rp.crosstab(data['HeartDisease'], data['ChestPainType_ATA'], test= \"chi-square\")\n",
    "result"
   ]
  },
  {
   "cell_type": "code",
   "execution_count": 39,
   "metadata": {},
   "outputs": [
    {
     "data": {
      "text/html": [
       "<div>\n",
       "<style scoped>\n",
       "    .dataframe tbody tr th:only-of-type {\n",
       "        vertical-align: middle;\n",
       "    }\n",
       "\n",
       "    .dataframe tbody tr th {\n",
       "        vertical-align: top;\n",
       "    }\n",
       "\n",
       "    .dataframe thead th {\n",
       "        text-align: right;\n",
       "    }\n",
       "</style>\n",
       "<table border=\"1\" class=\"dataframe\">\n",
       "  <thead>\n",
       "    <tr style=\"text-align: right;\">\n",
       "      <th></th>\n",
       "      <th>Chi-square test</th>\n",
       "      <th>results</th>\n",
       "    </tr>\n",
       "  </thead>\n",
       "  <tbody>\n",
       "    <tr>\n",
       "      <th>0</th>\n",
       "      <td>Pearson Chi-square ( 1.0) =</td>\n",
       "      <td>2.7558</td>\n",
       "    </tr>\n",
       "    <tr>\n",
       "      <th>1</th>\n",
       "      <td>p-value =</td>\n",
       "      <td>0.0969</td>\n",
       "    </tr>\n",
       "    <tr>\n",
       "      <th>2</th>\n",
       "      <td>Cramer's phi =</td>\n",
       "      <td>0.0548</td>\n",
       "    </tr>\n",
       "  </tbody>\n",
       "</table>\n",
       "</div>"
      ],
      "text/plain": [
       "                Chi-square test  results\n",
       "0  Pearson Chi-square ( 1.0) =    2.7558\n",
       "1                    p-value =    0.0969\n",
       "2               Cramer's phi =    0.0548"
      ]
     },
     "execution_count": 39,
     "metadata": {},
     "output_type": "execute_result"
    }
   ],
   "source": [
    "_, result = rp.crosstab(data['HeartDisease'], data['ChestPainType_TA'], test= \"chi-square\")\n",
    "result"
   ]
  },
  {
   "cell_type": "code",
   "execution_count": 40,
   "metadata": {},
   "outputs": [
    {
     "data": {
      "text/html": [
       "<div>\n",
       "<style scoped>\n",
       "    .dataframe tbody tr th:only-of-type {\n",
       "        vertical-align: middle;\n",
       "    }\n",
       "\n",
       "    .dataframe tbody tr th {\n",
       "        vertical-align: top;\n",
       "    }\n",
       "\n",
       "    .dataframe thead th {\n",
       "        text-align: right;\n",
       "    }\n",
       "</style>\n",
       "<table border=\"1\" class=\"dataframe\">\n",
       "  <thead>\n",
       "    <tr style=\"text-align: right;\">\n",
       "      <th></th>\n",
       "      <th>Chi-square test</th>\n",
       "      <th>results</th>\n",
       "    </tr>\n",
       "  </thead>\n",
       "  <tbody>\n",
       "    <tr>\n",
       "      <th>0</th>\n",
       "      <td>Pearson Chi-square ( 1.0) =</td>\n",
       "      <td>41.6345</td>\n",
       "    </tr>\n",
       "    <tr>\n",
       "      <th>1</th>\n",
       "      <td>p-value =</td>\n",
       "      <td>0.0000</td>\n",
       "    </tr>\n",
       "    <tr>\n",
       "      <th>2</th>\n",
       "      <td>Cramer's phi =</td>\n",
       "      <td>0.2130</td>\n",
       "    </tr>\n",
       "  </tbody>\n",
       "</table>\n",
       "</div>"
      ],
      "text/plain": [
       "                Chi-square test  results\n",
       "0  Pearson Chi-square ( 1.0) =   41.6345\n",
       "1                    p-value =    0.0000\n",
       "2               Cramer's phi =    0.2130"
      ]
     },
     "execution_count": 40,
     "metadata": {},
     "output_type": "execute_result"
    }
   ],
   "source": [
    "_, result = rp.crosstab(data['HeartDisease'], data['ChestPainType_NAP'], test= \"chi-square\")\n",
    "result"
   ]
  },
  {
   "cell_type": "markdown",
   "metadata": {},
   "source": [
    "<mark>Insights</mark>\n",
    "\n",
    "- p-value van ChestPainType_TA > 0.5 -> H0 wordt behouden, er is dus geen significant verschil -> weggooien\n",
    "- De rest behouden"
   ]
  },
  {
   "cell_type": "markdown",
   "metadata": {},
   "source": [
    "RestingECG"
   ]
  },
  {
   "cell_type": "code",
   "execution_count": 41,
   "metadata": {},
   "outputs": [
    {
     "data": {
      "text/html": [
       "<div>\n",
       "<style scoped>\n",
       "    .dataframe tbody tr th:only-of-type {\n",
       "        vertical-align: middle;\n",
       "    }\n",
       "\n",
       "    .dataframe tbody tr th {\n",
       "        vertical-align: top;\n",
       "    }\n",
       "\n",
       "    .dataframe thead th {\n",
       "        text-align: right;\n",
       "    }\n",
       "</style>\n",
       "<table border=\"1\" class=\"dataframe\">\n",
       "  <thead>\n",
       "    <tr style=\"text-align: right;\">\n",
       "      <th></th>\n",
       "      <th>Chi-square test</th>\n",
       "      <th>results</th>\n",
       "    </tr>\n",
       "  </thead>\n",
       "  <tbody>\n",
       "    <tr>\n",
       "      <th>0</th>\n",
       "      <td>Pearson Chi-square ( 1.0) =</td>\n",
       "      <td>0.1045</td>\n",
       "    </tr>\n",
       "    <tr>\n",
       "      <th>1</th>\n",
       "      <td>p-value =</td>\n",
       "      <td>0.7465</td>\n",
       "    </tr>\n",
       "    <tr>\n",
       "      <th>2</th>\n",
       "      <td>Cramer's phi =</td>\n",
       "      <td>0.0107</td>\n",
       "    </tr>\n",
       "  </tbody>\n",
       "</table>\n",
       "</div>"
      ],
      "text/plain": [
       "                Chi-square test  results\n",
       "0  Pearson Chi-square ( 1.0) =    0.1045\n",
       "1                    p-value =    0.7465\n",
       "2               Cramer's phi =    0.0107"
      ]
     },
     "execution_count": 41,
     "metadata": {},
     "output_type": "execute_result"
    }
   ],
   "source": [
    "_, result = rp.crosstab(data['HeartDisease'], data['RestingECG_LVH'], test= \"chi-square\")\n",
    "result"
   ]
  },
  {
   "cell_type": "code",
   "execution_count": 42,
   "metadata": {},
   "outputs": [
    {
     "data": {
      "text/html": [
       "<div>\n",
       "<style scoped>\n",
       "    .dataframe tbody tr th:only-of-type {\n",
       "        vertical-align: middle;\n",
       "    }\n",
       "\n",
       "    .dataframe tbody tr th {\n",
       "        vertical-align: top;\n",
       "    }\n",
       "\n",
       "    .dataframe thead th {\n",
       "        text-align: right;\n",
       "    }\n",
       "</style>\n",
       "<table border=\"1\" class=\"dataframe\">\n",
       "  <thead>\n",
       "    <tr style=\"text-align: right;\">\n",
       "      <th></th>\n",
       "      <th>Chi-square test</th>\n",
       "      <th>results</th>\n",
       "    </tr>\n",
       "  </thead>\n",
       "  <tbody>\n",
       "    <tr>\n",
       "      <th>0</th>\n",
       "      <td>Pearson Chi-square ( 1.0) =</td>\n",
       "      <td>7.6992</td>\n",
       "    </tr>\n",
       "    <tr>\n",
       "      <th>1</th>\n",
       "      <td>p-value =</td>\n",
       "      <td>0.0055</td>\n",
       "    </tr>\n",
       "    <tr>\n",
       "      <th>2</th>\n",
       "      <td>Cramer's phi =</td>\n",
       "      <td>0.0916</td>\n",
       "    </tr>\n",
       "  </tbody>\n",
       "</table>\n",
       "</div>"
      ],
      "text/plain": [
       "                Chi-square test  results\n",
       "0  Pearson Chi-square ( 1.0) =    7.6992\n",
       "1                    p-value =    0.0055\n",
       "2               Cramer's phi =    0.0916"
      ]
     },
     "execution_count": 42,
     "metadata": {},
     "output_type": "execute_result"
    }
   ],
   "source": [
    "_, result = rp.crosstab(data['HeartDisease'], data['RestingECG_Normal'], test= \"chi-square\")\n",
    "result"
   ]
  },
  {
   "cell_type": "code",
   "execution_count": 43,
   "metadata": {},
   "outputs": [
    {
     "data": {
      "text/html": [
       "<div>\n",
       "<style scoped>\n",
       "    .dataframe tbody tr th:only-of-type {\n",
       "        vertical-align: middle;\n",
       "    }\n",
       "\n",
       "    .dataframe tbody tr th {\n",
       "        vertical-align: top;\n",
       "    }\n",
       "\n",
       "    .dataframe thead th {\n",
       "        text-align: right;\n",
       "    }\n",
       "</style>\n",
       "<table border=\"1\" class=\"dataframe\">\n",
       "  <thead>\n",
       "    <tr style=\"text-align: right;\">\n",
       "      <th></th>\n",
       "      <th>Chi-square test</th>\n",
       "      <th>results</th>\n",
       "    </tr>\n",
       "  </thead>\n",
       "  <tbody>\n",
       "    <tr>\n",
       "      <th>0</th>\n",
       "      <td>Pearson Chi-square ( 1.0) =</td>\n",
       "      <td>9.6499</td>\n",
       "    </tr>\n",
       "    <tr>\n",
       "      <th>1</th>\n",
       "      <td>p-value =</td>\n",
       "      <td>0.0019</td>\n",
       "    </tr>\n",
       "    <tr>\n",
       "      <th>2</th>\n",
       "      <td>Cramer's phi =</td>\n",
       "      <td>0.1025</td>\n",
       "    </tr>\n",
       "  </tbody>\n",
       "</table>\n",
       "</div>"
      ],
      "text/plain": [
       "                Chi-square test  results\n",
       "0  Pearson Chi-square ( 1.0) =    9.6499\n",
       "1                    p-value =    0.0019\n",
       "2               Cramer's phi =    0.1025"
      ]
     },
     "execution_count": 43,
     "metadata": {},
     "output_type": "execute_result"
    }
   ],
   "source": [
    "_, result = rp.crosstab(data['HeartDisease'], data['RestingECG_ST'], test= \"chi-square\")\n",
    "result"
   ]
  },
  {
   "cell_type": "markdown",
   "metadata": {},
   "source": [
    "**Insights**\n",
    "- P-values > 0.05 of Crampers phi te klein\n",
    "- Alles verwijderen"
   ]
  },
  {
   "cell_type": "code",
   "execution_count": 44,
   "metadata": {},
   "outputs": [
    {
     "data": {
      "text/html": [
       "<div>\n",
       "<style scoped>\n",
       "    .dataframe tbody tr th:only-of-type {\n",
       "        vertical-align: middle;\n",
       "    }\n",
       "\n",
       "    .dataframe tbody tr th {\n",
       "        vertical-align: top;\n",
       "    }\n",
       "\n",
       "    .dataframe thead th {\n",
       "        text-align: right;\n",
       "    }\n",
       "</style>\n",
       "<table border=\"1\" class=\"dataframe\">\n",
       "  <thead>\n",
       "    <tr style=\"text-align: right;\">\n",
       "      <th></th>\n",
       "      <th>Chi-square test</th>\n",
       "      <th>results</th>\n",
       "    </tr>\n",
       "  </thead>\n",
       "  <tbody>\n",
       "    <tr>\n",
       "      <th>0</th>\n",
       "      <td>Pearson Chi-square ( 1.0) =</td>\n",
       "      <td>13.7817</td>\n",
       "    </tr>\n",
       "    <tr>\n",
       "      <th>1</th>\n",
       "      <td>p-value =</td>\n",
       "      <td>0.0002</td>\n",
       "    </tr>\n",
       "    <tr>\n",
       "      <th>2</th>\n",
       "      <td>Cramer's phi =</td>\n",
       "      <td>0.1225</td>\n",
       "    </tr>\n",
       "  </tbody>\n",
       "</table>\n",
       "</div>"
      ],
      "text/plain": [
       "                Chi-square test  results\n",
       "0  Pearson Chi-square ( 1.0) =   13.7817\n",
       "1                    p-value =    0.0002\n",
       "2               Cramer's phi =    0.1225"
      ]
     },
     "execution_count": 44,
     "metadata": {},
     "output_type": "execute_result"
    }
   ],
   "source": [
    "_, result = rp.crosstab(data['HeartDisease'], data['ST_Slope_Down'], test= \"chi-square\")\n",
    "result"
   ]
  },
  {
   "cell_type": "code",
   "execution_count": 45,
   "metadata": {},
   "outputs": [
    {
     "data": {
      "text/html": [
       "<div>\n",
       "<style scoped>\n",
       "    .dataframe tbody tr th:only-of-type {\n",
       "        vertical-align: middle;\n",
       "    }\n",
       "\n",
       "    .dataframe tbody tr th {\n",
       "        vertical-align: top;\n",
       "    }\n",
       "\n",
       "    .dataframe thead th {\n",
       "        text-align: right;\n",
       "    }\n",
       "</style>\n",
       "<table border=\"1\" class=\"dataframe\">\n",
       "  <thead>\n",
       "    <tr style=\"text-align: right;\">\n",
       "      <th></th>\n",
       "      <th>Chi-square test</th>\n",
       "      <th>results</th>\n",
       "    </tr>\n",
       "  </thead>\n",
       "  <tbody>\n",
       "    <tr>\n",
       "      <th>0</th>\n",
       "      <td>Pearson Chi-square ( 1.0) =</td>\n",
       "      <td>281.8848</td>\n",
       "    </tr>\n",
       "    <tr>\n",
       "      <th>1</th>\n",
       "      <td>p-value =</td>\n",
       "      <td>0.0000</td>\n",
       "    </tr>\n",
       "    <tr>\n",
       "      <th>2</th>\n",
       "      <td>Cramer's phi =</td>\n",
       "      <td>0.5541</td>\n",
       "    </tr>\n",
       "  </tbody>\n",
       "</table>\n",
       "</div>"
      ],
      "text/plain": [
       "                Chi-square test   results\n",
       "0  Pearson Chi-square ( 1.0) =   281.8848\n",
       "1                    p-value =     0.0000\n",
       "2               Cramer's phi =     0.5541"
      ]
     },
     "execution_count": 45,
     "metadata": {},
     "output_type": "execute_result"
    }
   ],
   "source": [
    "_, result = rp.crosstab(data['HeartDisease'], data['ST_Slope_Flat'], test= \"chi-square\")\n",
    "result"
   ]
  },
  {
   "cell_type": "code",
   "execution_count": 46,
   "metadata": {},
   "outputs": [
    {
     "data": {
      "text/html": [
       "<div>\n",
       "<style scoped>\n",
       "    .dataframe tbody tr th:only-of-type {\n",
       "        vertical-align: middle;\n",
       "    }\n",
       "\n",
       "    .dataframe tbody tr th {\n",
       "        vertical-align: top;\n",
       "    }\n",
       "\n",
       "    .dataframe thead th {\n",
       "        text-align: right;\n",
       "    }\n",
       "</style>\n",
       "<table border=\"1\" class=\"dataframe\">\n",
       "  <thead>\n",
       "    <tr style=\"text-align: right;\">\n",
       "      <th></th>\n",
       "      <th>Chi-square test</th>\n",
       "      <th>results</th>\n",
       "    </tr>\n",
       "  </thead>\n",
       "  <tbody>\n",
       "    <tr>\n",
       "      <th>0</th>\n",
       "      <td>Pearson Chi-square ( 1.0) =</td>\n",
       "      <td>355.3471</td>\n",
       "    </tr>\n",
       "    <tr>\n",
       "      <th>1</th>\n",
       "      <td>p-value =</td>\n",
       "      <td>0.0000</td>\n",
       "    </tr>\n",
       "    <tr>\n",
       "      <th>2</th>\n",
       "      <td>Cramer's phi =</td>\n",
       "      <td>0.6222</td>\n",
       "    </tr>\n",
       "  </tbody>\n",
       "</table>\n",
       "</div>"
      ],
      "text/plain": [
       "                Chi-square test   results\n",
       "0  Pearson Chi-square ( 1.0) =   355.3471\n",
       "1                    p-value =     0.0000\n",
       "2               Cramer's phi =     0.6222"
      ]
     },
     "execution_count": 46,
     "metadata": {},
     "output_type": "execute_result"
    }
   ],
   "source": [
    "_, result = rp.crosstab(data['HeartDisease'], data['ST_Slope_Up'], test= \"chi-square\")\n",
    "result"
   ]
  },
  {
   "cell_type": "markdown",
   "metadata": {},
   "source": [
    "<mark>Insights</mark>\n",
    "\n",
    "- P-value van St_Slope_Down < 0.05, maar de cramers phi is te klein -> weggooisen\n",
    "- Rest behouden\n"
   ]
  },
  {
   "cell_type": "markdown",
   "metadata": {},
   "source": [
    "Stel nu dat we een target variable hebben met 3 categorieen, bijvoorbeeld we willen voorspellen welke Class iemand vliegt. We willen weten of leeftijd van belang is om te voorspellen welke Class iemand vliegt. Een correlatie is mogelijk, maar is afhankelijk welke klasse welk cijfer krijgt. Bij klasse kun je nog een rangorde voorstellen, maar stel voor dat je religie van de respondent wil voorspellen, dan is een correlatie een rare maat. De oplossing: ANOVA"
   ]
  },
  {
   "cell_type": "code",
   "execution_count": 47,
   "metadata": {},
   "outputs": [
    {
     "name": "stdout",
     "output_type": "stream",
     "text": [
      "KstestResult(statistic=0.45319710554381554, pvalue=1.0053306008938375e-172)\n",
      "KstestResult(statistic=0.44909264447871555, pvalue=1.891618529472975e-169)\n",
      "KstestResult(statistic=0.4348306969194876, pvalue=2.3499500180572605e-158)\n",
      "KstestResult(statistic=0.434761419732161, pvalue=2.6538907378760614e-158)\n"
     ]
    }
   ],
   "source": [
    "import statsmodels.formula.api as smf\n",
    "\n",
    "model = smf.ols(\"Age ~ C(ChestPainType_ASY)\", data= data).fit()\n",
    "print(kstest(model.resid, 'norm'))\n",
    "model = smf.ols(\"Age ~ C(ChestPainType_ATA)\", data= data).fit()\n",
    "print(kstest(model.resid, 'norm'))\n",
    "model = smf.ols(\"Age ~ C(ChestPainType_TA)\", data= data).fit()\n",
    "print(kstest(model.resid, 'norm'))\n",
    "model = smf.ols(\"Age ~ C(ChestPainType_NAP)\", data= data).fit()\n",
    "print(kstest(model.resid, 'norm'))"
   ]
  },
  {
   "cell_type": "markdown",
   "metadata": {},
   "source": [
    "<mark>Insights</mark>\n",
    "\n",
    "- niet normaal verdeeld, ga voor zekerheid verder met volgende stap"
   ]
  },
  {
   "cell_type": "code",
   "execution_count": 48,
   "metadata": {},
   "outputs": [
    {
     "data": {
      "text/plain": [
       "LeveneResult(statistic=171.10428805587512, pvalue=8.046004371482636e-104)"
      ]
     },
     "execution_count": 48,
     "metadata": {},
     "output_type": "execute_result"
    }
   ],
   "source": [
    "#De tweede assumptie is dat de homogeniteit van de \n",
    "#variantie in de drie groepen min of meer gelijk is\n",
    "#Meest gebruikte is Levene's test\n",
    "from scipy.stats import levene\n",
    "\n",
    "levene(data['Age'][data['ChestPainType_ASY']],\n",
    "               data['Age'][data['ChestPainType_ATA']],\n",
    "               data['Age'][data['ChestPainType_TA']],\n",
    "               data['Age'][data['ChestPainType_NAP']])"
   ]
  },
  {
   "cell_type": "markdown",
   "metadata": {},
   "source": [
    "<mark>Insights</mark>\n",
    "\n",
    "- pvalue < 5%. H0 wordt verworpen, dus gebruik welsch anova"
   ]
  },
  {
   "cell_type": "code",
   "execution_count": 49,
   "metadata": {},
   "outputs": [
    {
     "name": "stdout",
     "output_type": "stream",
     "text": [
      "          Source  ddof1       ddof2          F         p-unc       np2\n",
      "0  ChestPainType      3  177.113485  16.857677  1.119884e-09  0.052462\n"
     ]
    }
   ],
   "source": [
    "#We kunnen kiezen om altijd Welch's Anova uit te voeren\n",
    "#Deze is robuust voor de verschillen in variantie en daar hoeven we dan niet naar te kijken\n",
    "\n",
    "import numpy as np\n",
    "import pingouin as pg\n",
    "\n",
    "aov = pg.welch_anova(data=data, dv='Age', between='ChestPainType')\n",
    "print(aov)"
   ]
  },
  {
   "cell_type": "code",
   "execution_count": 50,
   "metadata": {},
   "outputs": [
    {
     "data": {
      "text/html": [
       "<table class=\"simpletable\">\n",
       "<caption>Multiple Comparison of Means - Tukey HSD, FWER=0.05</caption>\n",
       "<tr>\n",
       "  <th>group1</th> <th>group2</th> <th>meandiff</th> <th>p-adj</th>  <th>lower</th>   <th>upper</th>  <th>reject</th>\n",
       "</tr>\n",
       "<tr>\n",
       "     <td>0</td>      <td>1</td>    <td>-5.2592</td>  <td>0.0</td>  <td>-6.7848</td> <td>-3.7337</td>  <td>True</td> \n",
       "</tr>\n",
       "</table>"
      ],
      "text/plain": [
       "<class 'statsmodels.iolib.table.SimpleTable'>"
      ]
     },
     "execution_count": 50,
     "metadata": {},
     "output_type": "execute_result"
    }
   ],
   "source": [
    "#Als er een significant verschil is tussen de drie groepen, weten we nog niet welke groepen verschillen\n",
    "#t toetsen moeten dan duidelijkheid brengen, maar we hebben dan een correctie nodig\n",
    "# We kiezen hier voor Tukey's correctie\n",
    "\n",
    "import statsmodels.stats.multicomp as mc\n",
    "\n",
    "comp = mc.MultiComparison(data['Age'], data['ChestPainType_ATA'])\n",
    "post_hoc_res = comp.tukeyhsd()\n",
    "post_hoc_res.summary()"
   ]
  },
  {
   "cell_type": "markdown",
   "metadata": {},
   "source": [
    "verwijder onnodige kolommen"
   ]
  },
  {
   "cell_type": "code",
   "execution_count": 51,
   "metadata": {},
   "outputs": [],
   "source": [
    "data.drop(['Cholesterol', 'ChestPainType_TA', 'RestingECG_LVH', 'RestingECG_Normal', 'RestingECG_ST', 'ChestPainType'], axis=1, inplace=True)"
   ]
  },
  {
   "cell_type": "markdown",
   "metadata": {},
   "source": [
    "## Train classifiers"
   ]
  },
  {
   "cell_type": "markdown",
   "metadata": {},
   "source": [
    "split data in train en test"
   ]
  },
  {
   "cell_type": "code",
   "execution_count": 276,
   "metadata": {},
   "outputs": [],
   "source": [
    "X = data.drop(['HeartDisease'], axis=1)\n",
    "y = data['HeartDisease']\n",
    "\n",
    "X_train, X_test, y_train, y_test = train_test_split(X, y, test_size=0.2, random_state=14, stratify=y)"
   ]
  },
  {
   "cell_type": "code",
   "execution_count": 277,
   "metadata": {},
   "outputs": [],
   "source": [
    "from sklearn.preprocessing import StandardScaler\n",
    "\n",
    "sc = StandardScaler()\n",
    "\n",
    "X_train = sc.fit_transform(X_train)\n",
    "\n",
    "X_test = sc.fit_transform(X_test)"
   ]
  },
  {
   "cell_type": "code",
   "execution_count": 278,
   "metadata": {},
   "outputs": [
    {
     "name": "stdout",
     "output_type": "stream",
     "text": [
      "[ 0.36198508  1.94868818 -0.14092996 -0.55111706  1.4766874   0.82673227\n",
      " -0.84973718 -1.06185509  2.07818204 -0.54901588 -0.27612739  0.99185875\n",
      " -0.85984678]\n"
     ]
    }
   ],
   "source": [
    "import scipy.stats as stats\n",
    "\n",
    "zscores = stats.zscore(X_train)\n",
    "\n",
    "print(zscores[0])"
   ]
  },
  {
   "cell_type": "code",
   "execution_count": 279,
   "metadata": {},
   "outputs": [
    {
     "data": {
      "text/plain": [
       "True"
      ]
     },
     "execution_count": 279,
     "metadata": {},
     "output_type": "execute_result"
    }
   ],
   "source": [
    "has_higher_than_3 = False\n",
    "\n",
    "for i in zscores:\n",
    "    if all(y <= 3 for y in i) is False:\n",
    "        has_higher_than_3 = True\n",
    "\n",
    "\n",
    "has_higher_than_3"
   ]
  },
  {
   "cell_type": "markdown",
   "metadata": {},
   "source": [
    "<mark>Insights</mark>\n",
    "\n",
    "- Er zijn zscores die groter zijn dan 3. De drie betekent dat meer dan 99% van de waardes binnen 3 standaarddeviaties valt van het gemiddelde. Als het boven de 3 is, zou dit ongebruikelijk zijn, wat betekent dat er misschien outliers zouden zijn."
   ]
  },
  {
   "cell_type": "markdown",
   "metadata": {},
   "source": [
    "### Classifiers"
   ]
  },
  {
   "cell_type": "markdown",
   "metadata": {},
   "source": [
    "Met behulp van een aantal ML classifiers wordt er bepaald of iemand een hartziekte kan hebben of niet. Er worden verschillende modellen getrained: \n",
    "- Logistic regression\n",
    "- K-neirest Neighbor\n",
    "- Random Forest Tree. \n",
    "- VotingClassifier"
   ]
  },
  {
   "cell_type": "markdown",
   "metadata": {},
   "source": [
    "#### Logistic Regression\n",
    "We gebruiken Gridsearch om de Logistic Regressor te optimaliseren. Door brute force worden de beste parameters ervoor gevonden."
   ]
  },
  {
   "cell_type": "code",
   "execution_count": 537,
   "metadata": {},
   "outputs": [
    {
     "data": {
      "text/plain": [
       "{'C': 0.1, 'solver': 'liblinear'}"
      ]
     },
     "execution_count": 537,
     "metadata": {},
     "output_type": "execute_result"
    }
   ],
   "source": [
    "from sklearn.linear_model import LogisticRegression\n",
    "from sklearn.model_selection import GridSearchCV\n",
    "\n",
    "grid_values = {'C': [0.01, 0.1,1,10,100], 'solver': ['lbfgs', 'liblinear', 'sag','newton-cg']}\n",
    "\n",
    "glr = GridSearchCV(LogisticRegression(random_state=11), grid_values, cv=7, scoring='f1')\n",
    "\n",
    "glr.fit(X_train, y_train)\n",
    "\n",
    "glr.best_params_"
   ]
  },
  {
   "cell_type": "code",
   "execution_count": 678,
   "metadata": {},
   "outputs": [
    {
     "data": {
      "text/plain": [
       "0.8768472906403942"
      ]
     },
     "execution_count": 678,
     "metadata": {},
     "output_type": "execute_result"
    }
   ],
   "source": [
    "start = time()\n",
    "lr = LogisticRegression(random_state=14)\n",
    "\n",
    "lr.fit(X_train, y_train)\n",
    "\n",
    "end = time()\n",
    "\n",
    "lr_train_time = end - start\n",
    "\n",
    "pred = lr.predict(X_test)\n",
    "\n",
    "f1_score(y_test, pred)"
   ]
  },
  {
   "cell_type": "markdown",
   "metadata": {},
   "source": [
    "#### RandomForestClassifier\n",
    "\n",
    "Ik heb geprobeerd om de GridSearchCV te gebruiken bij de RFC, maar dit duurde enorm lang. Daarom leek het handig om eerst een Randomized Search te doen. M.b.v. de RandomizedSearchCV krijg ik een heldere beeld over de paramters."
   ]
  },
  {
   "cell_type": "code",
   "execution_count": 337,
   "metadata": {},
   "outputs": [
    {
     "data": {
      "text/plain": [
       "RandomForestClassifier(max_depth=13, max_features='sqrt', min_samples_leaf=2,\n",
       "                       n_estimators=107, random_state=11)"
      ]
     },
     "execution_count": 337,
     "metadata": {},
     "output_type": "execute_result"
    }
   ],
   "source": [
    "from sklearn.ensemble import RandomForestClassifier\n",
    "from sklearn.model_selection import RandomizedSearchCV\n",
    "import random\n",
    "\n",
    "\n",
    "# Number of trees in random forest\n",
    "n_estimators = [random.randint(1, 200) for _ in range (1, 50)]\n",
    "#Number of features to consider at every split\n",
    "max_features = ['sqrt', 'log2']\n",
    "# Maximum number of levels in tree\n",
    "max_depth = [*[i for i in range(1, 20)], 30,40,50,70,90,100]\n",
    "# Minimum number of samples required to split a node\n",
    "min_samples_split = [2, 3,4]\n",
    "# Minimum number of samples required at each leaf node\n",
    "min_samples_leaf = [1, 2, 4]\n",
    "\n",
    "# Create the random grid\n",
    "random_grid = {'n_estimators': n_estimators,\n",
    "               'max_features': max_features,\n",
    "               'max_depth': max_depth,\n",
    "               'min_samples_split': min_samples_split,\n",
    "               'min_samples_leaf': min_samples_leaf}\n",
    "\n",
    "\n",
    "rrfc = RandomizedSearchCV(RandomForestClassifier(random_state=11), random_grid, cv=7, n_jobs=-1, scoring='f1')\n",
    "\n",
    "rrfc.fit(X_train, y_train)\n",
    "\n",
    "rrfc.best_estimator_"
   ]
  },
  {
   "cell_type": "markdown",
   "metadata": {},
   "source": [
    "Nu doen we een Gridsearch met heel wat minder parameters, aangezien we ongeveer al weten wat ongeveer de beste parameters zijn."
   ]
  },
  {
   "cell_type": "code",
   "execution_count": 248,
   "metadata": {},
   "outputs": [
    {
     "data": {
      "text/plain": [
       "RandomForestClassifier(max_depth=13, max_features='sqrt', min_samples_leaf=3,\n",
       "                       n_estimators=110, random_state=11)"
      ]
     },
     "execution_count": 248,
     "metadata": {},
     "output_type": "execute_result"
    }
   ],
   "source": [
    "# Number of trees in random forest\n",
    "n_estimators = [i for i in range(108,112)]\n",
    "# Maximum number of levels in tree\n",
    "max_depth = [i for i in range(11, 17)]\n",
    "# Minimum number of samples required to be a leaf node\n",
    "# min_sample_split = [2,3,4]\n",
    "min_sample_leaf = [3,4,5]\n",
    "# Create the random grid\n",
    "random_grid = {'n_estimators': n_estimators,\n",
    "                'max_depth': max_depth,\n",
    "                'min_samples_leaf': min_sample_leaf,\n",
    "                # 'min_samples_split': min_sample_split,\n",
    "                'max_features': ['sqrt']}\n",
    "\n",
    "grfc = GridSearchCV(RandomForestClassifier(random_state=11), random_grid, cv=7, scoring='f1')\n",
    "\n",
    "grfc.fit(X_train, y_train)\n",
    "\n",
    "grfc.best_estimator_\n",
    "    "
   ]
  },
  {
   "cell_type": "code",
   "execution_count": 679,
   "metadata": {},
   "outputs": [
    {
     "data": {
      "text/plain": [
       "0.900473933649289"
      ]
     },
     "execution_count": 679,
     "metadata": {},
     "output_type": "execute_result"
    }
   ],
   "source": [
    "start = time()\n",
    "rfc = RandomForestClassifier(max_depth=11, min_samples_leaf=4, min_samples_split=4, max_features='sqrt',\n",
    "                       n_estimators=124, random_state=11)\n",
    "rfc.fit(X_train, y_train)\n",
    "\n",
    "end = time()\n",
    "\n",
    "rf_train_time = end - start\n",
    "\n",
    "pred = rfc.predict(X_test)\n",
    "\n",
    "f1_score(y_test, pred)"
   ]
  },
  {
   "cell_type": "markdown",
   "metadata": {},
   "source": [
    "##### K-Neighbors"
   ]
  },
  {
   "cell_type": "code",
   "execution_count": 687,
   "metadata": {},
   "outputs": [
    {
     "data": {
      "text/plain": [
       "0.888888888888889"
      ]
     },
     "execution_count": 687,
     "metadata": {},
     "output_type": "execute_result"
    }
   ],
   "source": [
    "from sklearn.neighbors import KNeighborsClassifier\n",
    "\n",
    "start = time()\n",
    "\n",
    "knn = KNeighborsClassifier(n_neighbors=9) # Brute forced\n",
    "knn.fit(X_train, y_train)\n",
    "\n",
    "end = time()\n",
    "\n",
    "knn_time = end - start\n",
    "\n",
    "pred = knn.predict(X_test)\n",
    "\n",
    "f1_score(y_test, pred)\n"
   ]
  },
  {
   "cell_type": "markdown",
   "metadata": {},
   "source": [
    "##### Stacking"
   ]
  },
  {
   "cell_type": "code",
   "execution_count": 682,
   "metadata": {},
   "outputs": [
    {
     "data": {
      "text/plain": [
       "0.8952380952380952"
      ]
     },
     "execution_count": 682,
     "metadata": {},
     "output_type": "execute_result"
    }
   ],
   "source": [
    "from sklearn.ensemble import StackingClassifier\n",
    "\n",
    "estimators = [('rf', RandomForestClassifier(max_depth=15, min_samples_leaf=3,n_estimators=124, random_state=11)), ('knn', KNeighborsClassifier())]\n",
    "\n",
    "sc = StackingClassifier(estimators=estimators, final_estimator=LogisticRegression(C=0.1, solver='liblinear'))\n",
    "\n",
    "start = time()\n",
    "\n",
    "sc.fit(X_train, y_train)\n",
    "\n",
    "end = time()\n",
    "\n",
    "sc_time = end - start\n",
    "\n",
    "pred = sc.predict(X_test)\n",
    "\n",
    "f1_score(y_test, pred)"
   ]
  },
  {
   "cell_type": "markdown",
   "metadata": {},
   "source": [
    "##### GradientBoosting"
   ]
  },
  {
   "cell_type": "code",
   "execution_count": 677,
   "metadata": {},
   "outputs": [
    {
     "data": {
      "text/plain": [
       "0.8780487804878048"
      ]
     },
     "execution_count": 677,
     "metadata": {},
     "output_type": "execute_result"
    }
   ],
   "source": [
    "from sklearn.ensemble import GradientBoostingClassifier\n",
    "\n",
    "gc = GradientBoostingClassifier(n_estimators=15, learning_rate=1.0,max_depth=1, random_state=11)\n",
    "\n",
    "start = time()\n",
    "\n",
    "gc.fit(X_train, y_train)\n",
    "\n",
    "end = time()\n",
    "\n",
    "gc_time = end - start\n",
    "\n",
    "pred = gc.predict(X_test)\n",
    "f1_score(y_test, pred)"
   ]
  },
  {
   "cell_type": "markdown",
   "metadata": {},
   "source": [
    "## Resultaten"
   ]
  },
  {
   "cell_type": "code",
   "execution_count": 683,
   "metadata": {},
   "outputs": [],
   "source": [
    "from sklearn.metrics import confusion_matrix\n",
    "\n",
    "def get_scores(model):\n",
    "    pred = model.predict(X_train)\n",
    "    f1_train = f1_score(y_train, pred)\n",
    "    pred = model.predict(X_test)\n",
    "    f1_test = f1_score(y_test, pred)\n",
    "        \n",
    "    print(confusion_matrix(y_test, pred))\n",
    "    print('-----------')\n",
    "\n",
    "    return {'train': f1_train, 'test': f1_test}\n",
    "    "
   ]
  },
  {
   "cell_type": "code",
   "execution_count": 684,
   "metadata": {},
   "outputs": [
    {
     "name": "stdout",
     "output_type": "stream",
     "text": [
      "[[70 12]\n",
      " [13 89]]\n",
      "-----------\n",
      "[[69 13]\n",
      " [10 92]]\n",
      "-----------\n",
      "[[68 14]\n",
      " [ 7 95]]\n",
      "-----------\n",
      "[[68 14]\n",
      " [ 8 94]]\n",
      "-----------\n",
      "[[69 13]\n",
      " [12 90]]\n",
      "-----------\n"
     ]
    }
   ],
   "source": [
    "lr_scores = get_scores(lr)\n",
    "knn_scores = get_scores(knn)\n",
    "rfc_scores = get_scores(rfc)\n",
    "sc_scores = get_scores(sc)\n",
    "gc_scores = get_scores(gc)\n"
   ]
  },
  {
   "cell_type": "code",
   "execution_count": 685,
   "metadata": {},
   "outputs": [
    {
     "data": {
      "image/png": "[encoded data removed]",
      "text/plain": [
       "<Figure size 1080x576 with 1 Axes>"
      ]
     },
     "metadata": {
      "needs_background": "light"
     },
     "output_type": "display_data"
    }
   ],
   "source": [
    "import numpy as np\n",
    "\n",
    "train = [lr_scores['train'], knn_scores['train'], rfc_scores['train'], sc_scores['train'], gc_scores['train']]\n",
    "test = [lr_scores['test'], knn_scores['test'], rfc_scores['test'], sc_scores['test'], gc_scores['test']]\n",
    "\n",
    "models = ('Logistic Reg.', 'K-Nearest', 'Random Forest', 'Stacking', 'GradientBoost')\n",
    "\n",
    "x = np.arange(len(models))\n",
    "width = 0.3\n",
    "\n",
    "fig, ax = plt.subplots(figsize=(15,8))\n",
    "train_bars = ax.barh(x - width/2, train, width, label='train', color='g')\n",
    "test_bars = ax.barh(x + width/2, test, width, label='test', color='black')\n",
    "\n",
    "# Add some text for labels, title and custom x-axis tick labels, etc.\n",
    "ax.set_xlabel('Scores')\n",
    "ax.set_title('Recall-scores')\n",
    "ax.set_yticks(x, models)\n",
    "ax.legend(loc=\"lower left\")\n",
    "\n",
    "ax.bar_label(train_bars, padding=5)\n",
    "ax.bar_label(test_bars, padding=5)\n",
    "\n",
    "plt.show()"
   ]
  },
  {
   "cell_type": "markdown",
   "metadata": {},
   "source": [
    "**Insights**\n",
    "- RFC: ziet er goed uit. Niet echt sprake van underfitting. Duidelijke winnaar\n",
    "- Stacking classifier is ook niet verkeerd. Als ik wist hoe je die goed zou kunnen tunen, dan zou het misschien beter werken dan RFC.\n",
    "- KNN: sprake van underfitting\n",
    "- LR: duidelijk sprake van underfitting"
   ]
  },
  {
   "cell_type": "markdown",
   "metadata": {},
   "source": [
    "##### ROC-curve"
   ]
  },
  {
   "cell_type": "code",
   "execution_count": 686,
   "metadata": {},
   "outputs": [
    {
     "data": {
      "image/png": "[encoded data removed]",
      "text/plain": [
       "<Figure size 720x720 with 1 Axes>"
      ]
     },
     "metadata": {
      "needs_background": "light"
     },
     "output_type": "display_data"
    }
   ],
   "source": [
    "from sklearn.metrics import roc_curve, roc_auc_score\n",
    "\n",
    "lr_pred = lr.predict(X_test)\n",
    "knn_pred = knn.predict(X_test)\n",
    "rfc_pred = rfc.predict(X_test)\n",
    "sc_pred = sc.predict(X_test)\n",
    "gc_pred = gc.predict(X_test)\n",
    "\n",
    "\n",
    "auc = roc_auc_score(y_test, lr_pred)\n",
    "\n",
    "train_fpr, train_tpr, _ = roc_curve(y_test, y_test)\n",
    "\n",
    "lr_fpr, lr_tpr, _ = roc_curve(y_test, lr_pred)\n",
    "knn_fpr, knn_tpr, _ = roc_curve(y_test, knn_pred)\n",
    "rfc_fpr, rfc_tpr, _ = roc_curve(y_test, rfc_pred)\n",
    "sc_fpr, sc_tpr, _ = roc_curve(y_test, sc_pred)\n",
    "gc_fpr, gc_tpr, _ = roc_curve(y_test, gc_pred)\n",
    "\n",
    "plt.figure(figsize=(10, 10))\n",
    "plt.plot(train_fpr, train_tpr)\n",
    "plt.plot(lr_fpr, lr_tpr, 'b--')\n",
    "plt.plot(knn_fpr, knn_tpr, linestyle='--', color='red')\n",
    "plt.plot(rfc_fpr, rfc_tpr, linestyle='--', color='green')\n",
    "plt.plot(sc_fpr, sc_tpr, linestyle='--', color='black')\n",
    "plt.plot(gc_fpr, gc_tpr, linestyle='--', color='purple')\n",
    "plt.legend(['Train', 'LR', 'KNN', 'RFC', 'SC', 'GC'])\n",
    "plt.xlabel('False Positive Reate')\n",
    "plt.ylabel('True positive Rate')\n",
    "\n",
    "plt.show()"
   ]
  },
  {
   "cell_type": "markdown",
   "metadata": {},
   "source": [
    "**Insights**\n",
    "- Random Forst Classifier komt het dichtst bij de train rate. Wat je wilt hebben is dat je test lijn zo links boven mogelijk is. De oppervlakte onder de lijn moet zo groot mogelijk zijn. De RFC doet daat het best in. Dit zegt dus dat deze het minste False Positive heeft met hoogste True Positive Rate."
   ]
  },
  {
   "cell_type": "markdown",
   "metadata": {},
   "source": [
    "##### Parameters\n",
    "\n",
    "Eerst had ik zelf met random parameters de modellen getest. De Recall-score bleef rond 0.82-0.86 zweven. Voor iedere model veranderde ik bijvoorbeeld de n_estimations, of max_depth etc. Uiteindelijk bedacht ik me dat we hier heel goed GridSearch kunnen toepassen. We kunnen zo heel snel de optimale parameters vinden.\n",
    "\n",
    "Met behulp van RandomSearch en Gridsearch is er geprobeerd om de optimale parameters te vinden voor elke model. Met Random Forest Classifier heb ik een RandomSearch gedaan, aangezien het met GridSearch alleen te lang duurde. Maar de naam zegt het al, het is random. Hoogstwaarschijnlijk heb ik ook niet de optimale parameters ervoor gevonden.\n",
    "\n",
    "|                          | F1 zonder parameters | F1 met 'optimale' parameters| \n",
    "|--------------------------|--------|----------------------------|\n",
    "| Logistic Regression      | 0.876  | 0.877                      |\n",
    "| Random Forest Classifier | 0.878  | 0.900                      | \n",
    "| K-nearest Neighbor       | 0.865  | 0.889                      |\n",
    "| Stacking                 | -      | 0.895                      |\n",
    "| GradientBoosting         | -      | 0.878                      |"
   ]
  },
  {
   "cell_type": "markdown",
   "metadata": {},
   "source": [
    "#### Gebruik alle featuers\n",
    "\n",
    "Bij het gebruik van alle features, verschilt het niet echt veel met het gebruik van belangrijkste features. Toch heb ik alleen maar de features boven de 0.2 correlatie meegenomen. Misschein zou het verschillen als ik minder features meenam. "
   ]
  },
  {
   "cell_type": "markdown",
   "metadata": {},
   "source": [
    "##### Tijd"
   ]
  },
  {
   "cell_type": "code",
   "execution_count": 691,
   "metadata": {},
   "outputs": [
    {
     "name": "stdout",
     "output_type": "stream",
     "text": [
      "LR train tijd: 0.008768081665039062\n",
      "KNN train tijd: 0.0021729469299316406\n",
      "RFC train tijd: 0.09618902206420898\n",
      "SC train tijd: 0.5857431888580322\n",
      "GC train tijd: 0.00705718994140625\n"
     ]
    }
   ],
   "source": [
    "print(f\"LR train tijd: {lr_train_time}\")\n",
    "print(f\"KNN train tijd: {knn_time}\")\n",
    "print(f\"RFC train tijd: {rf_train_time}\")\n",
    "print(f\"SC train tijd: {sc_time}\")\n",
    "print(f\"GC train tijd: {gc_time}\")"
   ]
  },
  {
   "cell_type": "markdown",
   "metadata": {},
   "source": [
    "**Insights**\n",
    "- Stacking is het traagst (ensamble)\n",
    "- KNN is het snelst (niet echt learning)"
   ]
  },
  {
   "cell_type": "markdown",
   "metadata": {},
   "source": [
    "### Conclusie\n",
    "\n",
    "De beste classifier komt volgens dit onderzoek op RFC. Zelf zat ik te twijfelen over Random Forest Classifier en Logistic Regression. Ik wist wel dat RFC hier goed bij zou passen, alleen had ik ook het voermoede dat Logistic Regression misschien beter zou werken. Ik weet zeker dat ik de optimale parameters niet heb meegegeven (heb het wel zo goed mogelijk geprobeerd).  Met betere parameters verwacht ik zelfs dat RFC het nog beter zou kunnen doen.\n",
    "\n",
    "Random Forest Classifier heeft wel de minste False Positives tegenover de True Positives. Dit geeft aan dat deze model bij dit probleem minder fouten maakt.\n",
    "\n",
    "Door een aantal kolommen uit de dataset te gooien, is de F1 score van de meeste classifiers ietjes verhoogd. De andere twee zijn zowat dezelfde gebleven. Is het het waard om de kolommen te verwijderen? meh. Je ziet niet echt veel verschil. Toch telt elke procent. Misschien had ik wat meer features eruit moeten gooien. Ik heb nu de correlaties boven 0.2 gepakt.\n",
    "\n",
    "Qua tijd is KNN het snelst. Hier ben ik wel verbaast over, aangezien LR juist sneller hoort te zijn. Toch denk ik dat dit gewoon te maken heeft met het feit data de dataset klein is. Bij grotere datasets denk ik wel dat LR sneller zal zijn. Dat SC het traagst is, is wel duidelijk. Het bestaat uit verschillende classifiers.\n",
    "\n",
    "**Hoe kan je het verbeteren?**\n",
    "\n",
    "- Uitschieters eruit halen. Er zijn sowieso nog uitschieters.\n",
    "- cross_validation toepassen. \n",
    "- train_test_split testen op verschillende test_sizes.\n",
    "- Gridseach met verschillende cv values uitvoeren.\n",
    "- Last but not least, de RFC moeten we vaker runnen. Het is totaal gerandomized. Zo kwam een max_depth uit op 5, maar misschien zou een ander beter zijn geweest, die niet in de search voorbij kwam.\n",
    "\n",
    "Ook heb ik een aantal paramters niet gebruikt. Misschien zouden die parameters wel van belang kunnen zijn met een combinatie van andere parameters. Zo heb ik bijvoorbeeld bij Logistic Regression de solver 'saga' niet gebruikt. Samen met een penalty van 'l2', kwam de recall op 100%. Dat is mooi! Maar waarom heb ik die er dan niet bijgezet? Nou, de accuracy van de model werd maar 50%... De true positives werd altijd 0! Hé! Daar hebben we helemaal niks aan! Zo zijn er wat aantal paramters die de accuracy heel erg omlaag halen, terwijl de recall score juist goed is. Daarom heb ik deze er express uitgehaald. \n",
    "\n",
    "Al met al, ik heb mooie resultaten bereikt met deze modellen. Een F1-score van 90% is niet niets."
   ]
  },
  {
   "cell_type": "markdown",
   "metadata": {},
   "source": [
    "### Bronnen\n",
    "- https://machinelearningmastery.com/hyperparameters-for-classification-machine-learning-algorithms/\n",
    "- https://researchpy.readthedocs.io/en/latest/ttest_documentation.html\n",
    "- https://scikit-learn.org/stable/modules/generated/sklearn.linear_model.LogisticRegression.html\n",
    "- https://towardsdatascience.com/how-to-tune-a-decision-tree-f03721801680\n",
    "- https://vitalflux.com/pandas-impute-missing-values-mean-median-mode/\n",
    "- https://towardsdatascience.com/how-and-why-to-standardize-your-data-996926c2c832#:~:text=StandardScaler%20removes%20the%20mean%20and,standard%20deviation%20of%20each%20feature.\n",
    "- https://www.projectpro.io/recipes/optimize-hyper-parameters-of-logistic-regression-model-using-grid-search-in-python\n",
    "- https://stackoverflow.com/questions/20229822/check-if-all-values-in-list-are-greater-than-a-certain-number\n",
    "- https://datagy.io/python-z-score/"
   ]
  }
 ],
 "metadata": {
  "interpreter": {
   "hash": "7575a4681d2f0d9d393de216997a45df61c0b32a5784f7c05a59091796f2378d"
  },
  "kernelspec": {
   "display_name": "Python 3.9.10 ('miniforge3')",
   "language": "python",
   "name": "python3"
  },
  "language_info": {
   "codemirror_mode": {
    "name": "ipython",
    "version": 3
   },
   "file_extension": ".py",
   "mimetype": "text/x-python",
   "name": "python",
   "nbconvert_exporter": "python",
   "pygments_lexer": "ipython3",
   "version": "3.9.10"
  },
  "orig_nbformat": 4
 },
 "nbformat": 4,
 "nbformat_minor": 2
}
