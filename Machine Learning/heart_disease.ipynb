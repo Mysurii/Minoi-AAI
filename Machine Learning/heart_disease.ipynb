{
 "cells": [
  {
   "cell_type": "markdown",
   "metadata": {},
   "source": [
    "# Heart Disease\n",
    "\n",
    "## Dataset"
   ]
  },
  {
   "cell_type": "markdown",
   "metadata": {},
   "source": [
    "##### Standaard Imports"
   ]
  },
  {
   "cell_type": "code",
   "execution_count": 2,
   "metadata": {},
   "outputs": [],
   "source": [
    "import pandas as pd\n",
    "import seaborn as sns\n",
    "import matplotlib.pyplot as plt\n",
    "from sklearn.model_selection import train_test_split\n",
    "from sklearn.metrics import accuracy_score, recall_score\n",
    "from time import time\n",
    "\n",
    "import warnings\n",
    "warnings.filterwarnings(\"ignore\")"
   ]
  },
  {
   "cell_type": "markdown",
   "metadata": {},
   "source": [
    "##### Data veroveren\n",
    "\n",
    "Hieronder kun je de eerste vijf rijen van de dataset bekijken. Er is een kolom dat HeartDisease heet. Dit is onze label. Dit bestaat uit twee unieke waarden: 0 en 1. \n",
    "\n",
    "0 = false (geen heartdisease)\n",
    "\n",
    "1 = true  (wel heartdisease)"
   ]
  },
  {
   "cell_type": "code",
   "execution_count": 3,
   "metadata": {},
   "outputs": [
    {
     "data": {
      "text/html": [
       "<div>\n",
       "<style scoped>\n",
       "    .dataframe tbody tr th:only-of-type {\n",
       "        vertical-align: middle;\n",
       "    }\n",
       "\n",
       "    .dataframe tbody tr th {\n",
       "        vertical-align: top;\n",
       "    }\n",
       "\n",
       "    .dataframe thead th {\n",
       "        text-align: right;\n",
       "    }\n",
       "</style>\n",
       "<table border=\"1\" class=\"dataframe\">\n",
       "  <thead>\n",
       "    <tr style=\"text-align: right;\">\n",
       "      <th></th>\n",
       "      <th>Age</th>\n",
       "      <th>Sex</th>\n",
       "      <th>ChestPainType</th>\n",
       "      <th>RestingBP</th>\n",
       "      <th>Cholesterol</th>\n",
       "      <th>FastingBS</th>\n",
       "      <th>RestingECG</th>\n",
       "      <th>MaxHR</th>\n",
       "      <th>ExerciseAngina</th>\n",
       "      <th>Oldpeak</th>\n",
       "      <th>ST_Slope</th>\n",
       "      <th>HeartDisease</th>\n",
       "    </tr>\n",
       "  </thead>\n",
       "  <tbody>\n",
       "    <tr>\n",
       "      <th>0</th>\n",
       "      <td>40</td>\n",
       "      <td>M</td>\n",
       "      <td>ATA</td>\n",
       "      <td>140</td>\n",
       "      <td>289</td>\n",
       "      <td>0</td>\n",
       "      <td>Normal</td>\n",
       "      <td>172</td>\n",
       "      <td>N</td>\n",
       "      <td>0.0</td>\n",
       "      <td>Up</td>\n",
       "      <td>0</td>\n",
       "    </tr>\n",
       "    <tr>\n",
       "      <th>1</th>\n",
       "      <td>49</td>\n",
       "      <td>F</td>\n",
       "      <td>NAP</td>\n",
       "      <td>160</td>\n",
       "      <td>180</td>\n",
       "      <td>0</td>\n",
       "      <td>Normal</td>\n",
       "      <td>156</td>\n",
       "      <td>N</td>\n",
       "      <td>1.0</td>\n",
       "      <td>Flat</td>\n",
       "      <td>1</td>\n",
       "    </tr>\n",
       "    <tr>\n",
       "      <th>2</th>\n",
       "      <td>37</td>\n",
       "      <td>M</td>\n",
       "      <td>ATA</td>\n",
       "      <td>130</td>\n",
       "      <td>283</td>\n",
       "      <td>0</td>\n",
       "      <td>ST</td>\n",
       "      <td>98</td>\n",
       "      <td>N</td>\n",
       "      <td>0.0</td>\n",
       "      <td>Up</td>\n",
       "      <td>0</td>\n",
       "    </tr>\n",
       "    <tr>\n",
       "      <th>3</th>\n",
       "      <td>48</td>\n",
       "      <td>F</td>\n",
       "      <td>ASY</td>\n",
       "      <td>138</td>\n",
       "      <td>214</td>\n",
       "      <td>0</td>\n",
       "      <td>Normal</td>\n",
       "      <td>108</td>\n",
       "      <td>Y</td>\n",
       "      <td>1.5</td>\n",
       "      <td>Flat</td>\n",
       "      <td>1</td>\n",
       "    </tr>\n",
       "    <tr>\n",
       "      <th>4</th>\n",
       "      <td>54</td>\n",
       "      <td>M</td>\n",
       "      <td>NAP</td>\n",
       "      <td>150</td>\n",
       "      <td>195</td>\n",
       "      <td>0</td>\n",
       "      <td>Normal</td>\n",
       "      <td>122</td>\n",
       "      <td>N</td>\n",
       "      <td>0.0</td>\n",
       "      <td>Up</td>\n",
       "      <td>0</td>\n",
       "    </tr>\n",
       "  </tbody>\n",
       "</table>\n",
       "</div>"
      ],
      "text/plain": [
       "   Age Sex ChestPainType  RestingBP  Cholesterol  FastingBS RestingECG  MaxHR  \\\n",
       "0   40   M           ATA        140          289          0     Normal    172   \n",
       "1   49   F           NAP        160          180          0     Normal    156   \n",
       "2   37   M           ATA        130          283          0         ST     98   \n",
       "3   48   F           ASY        138          214          0     Normal    108   \n",
       "4   54   M           NAP        150          195          0     Normal    122   \n",
       "\n",
       "  ExerciseAngina  Oldpeak ST_Slope  HeartDisease  \n",
       "0              N      0.0       Up             0  \n",
       "1              N      1.0     Flat             1  \n",
       "2              N      0.0       Up             0  \n",
       "3              Y      1.5     Flat             1  \n",
       "4              N      0.0       Up             0  "
      ]
     },
     "execution_count": 3,
     "metadata": {},
     "output_type": "execute_result"
    }
   ],
   "source": [
    "data = pd.read_csv('heart.csv')\n",
    "\n",
    "data.head()"
   ]
  },
  {
   "cell_type": "markdown",
   "metadata": {},
   "source": [
    "## Probleem\n",
    "\n",
    "Hart- en vaatziektes is een verzamennaam voor verschillende ziekten aan het het of aan de bloedvaten. Hart en vaatziektes zijn de belangrijkste doodsoorzaak in Nederland. Dertig procent van alle mensen sterft eraan. \n",
    "\n",
    "Ze zijn onder te verdelen in een aantal soorten:\n",
    "- slechte bloedaanleg\n",
    "- hartfalen\n",
    "- hartritmestoornissen\n",
    "- aangeboren hartziektes\n",
    "- aandoenlingen aan de hartkleppen\n",
    "\n",
    "Wat hart- en vaatziekten veroorzaakt verschilt per ziekte. Wel zijn er een aantal factoren die ervoor zorgen dat u meer kans heeft om last te krijgen van hart- en vaatziekten, namelijk: roken, overgewicht, diabetes, hoge bloeddruk en een te hoog cholesterolgehalte.\n",
    "\n",
    "Hoe cool zou het zijn om van te voren te weten of je een hartziekte hebt of niet? Dat is ook het probleem die ik met dit verslag ga aanpakken. Met behulp van een aantal ML classifiers wordt er bepaald of iemand een hartziekte kan hebben of niet. Er worden drie verschillende modellen getrained: \n",
    "- Logistic regression\n",
    "- Decision Tree Classifier\n",
    "- Random Forest Tree. \n",
    "\n",
    "Een subdoel is om te bepalen wat het verschil nou is tussen deze modellen en welke het best geschikt is voor dit probleem.\n",
    "\n",
    "Bij hartfalen diagnotiseren is het belangrijk om te kijken of degene die getest is, ook echt correct geclassificeerd is als 'hartziekte'. Daarom wordt er geporobeerd om de recall metric zo hoog mogelijk te verkrijgen. De False Nagetives zijn dus belangrijker dan False Positives.\n",
    "\n",
    "Formule:\n",
    "Recall = (TP) / (TP + FN)"
   ]
  },
  {
   "cell_type": "code",
   "execution_count": 4,
   "metadata": {},
   "outputs": [
    {
     "data": {
      "text/plain": [
       "(918, 12)"
      ]
     },
     "execution_count": 4,
     "metadata": {},
     "output_type": "execute_result"
    }
   ],
   "source": [
    "data.shape"
   ]
  },
  {
   "cell_type": "code",
   "execution_count": 5,
   "metadata": {},
   "outputs": [
    {
     "data": {
      "text/plain": [
       "Age                 int64\n",
       "Sex                object\n",
       "ChestPainType      object\n",
       "RestingBP           int64\n",
       "Cholesterol         int64\n",
       "FastingBS           int64\n",
       "RestingECG         object\n",
       "MaxHR               int64\n",
       "ExerciseAngina     object\n",
       "Oldpeak           float64\n",
       "ST_Slope           object\n",
       "HeartDisease        int64\n",
       "dtype: object"
      ]
     },
     "execution_count": 5,
     "metadata": {},
     "output_type": "execute_result"
    }
   ],
   "source": [
    "data.dtypes"
   ]
  },
  {
   "cell_type": "markdown",
   "metadata": {},
   "source": [
    "**Insights**\n",
    "- Er zijn 918 rijen en 12 kolommen in de dataset\n",
    "- Er zijn 5 kolommen die geen getallen zijn. Dit zijn: Sex, ChestpainType, RestingECG, ExerciseAngina en ST_Slope. Deze moeten worden veranderd naar getallen"
   ]
  },
  {
   "cell_type": "code",
   "execution_count": 6,
   "metadata": {},
   "outputs": [
    {
     "data": {
      "text/html": [
       "<div>\n",
       "<style scoped>\n",
       "    .dataframe tbody tr th:only-of-type {\n",
       "        vertical-align: middle;\n",
       "    }\n",
       "\n",
       "    .dataframe tbody tr th {\n",
       "        vertical-align: top;\n",
       "    }\n",
       "\n",
       "    .dataframe thead th {\n",
       "        text-align: right;\n",
       "    }\n",
       "</style>\n",
       "<table border=\"1\" class=\"dataframe\">\n",
       "  <thead>\n",
       "    <tr style=\"text-align: right;\">\n",
       "      <th></th>\n",
       "      <th>count</th>\n",
       "      <th>mean</th>\n",
       "      <th>std</th>\n",
       "      <th>min</th>\n",
       "      <th>25%</th>\n",
       "      <th>50%</th>\n",
       "      <th>75%</th>\n",
       "      <th>max</th>\n",
       "    </tr>\n",
       "  </thead>\n",
       "  <tbody>\n",
       "    <tr>\n",
       "      <th>Age</th>\n",
       "      <td>918.0</td>\n",
       "      <td>53.510893</td>\n",
       "      <td>9.432617</td>\n",
       "      <td>28.0</td>\n",
       "      <td>47.00</td>\n",
       "      <td>54.0</td>\n",
       "      <td>60.0</td>\n",
       "      <td>77.0</td>\n",
       "    </tr>\n",
       "    <tr>\n",
       "      <th>RestingBP</th>\n",
       "      <td>918.0</td>\n",
       "      <td>132.396514</td>\n",
       "      <td>18.514154</td>\n",
       "      <td>0.0</td>\n",
       "      <td>120.00</td>\n",
       "      <td>130.0</td>\n",
       "      <td>140.0</td>\n",
       "      <td>200.0</td>\n",
       "    </tr>\n",
       "    <tr>\n",
       "      <th>Cholesterol</th>\n",
       "      <td>918.0</td>\n",
       "      <td>198.799564</td>\n",
       "      <td>109.384145</td>\n",
       "      <td>0.0</td>\n",
       "      <td>173.25</td>\n",
       "      <td>223.0</td>\n",
       "      <td>267.0</td>\n",
       "      <td>603.0</td>\n",
       "    </tr>\n",
       "    <tr>\n",
       "      <th>FastingBS</th>\n",
       "      <td>918.0</td>\n",
       "      <td>0.233115</td>\n",
       "      <td>0.423046</td>\n",
       "      <td>0.0</td>\n",
       "      <td>0.00</td>\n",
       "      <td>0.0</td>\n",
       "      <td>0.0</td>\n",
       "      <td>1.0</td>\n",
       "    </tr>\n",
       "    <tr>\n",
       "      <th>MaxHR</th>\n",
       "      <td>918.0</td>\n",
       "      <td>136.809368</td>\n",
       "      <td>25.460334</td>\n",
       "      <td>60.0</td>\n",
       "      <td>120.00</td>\n",
       "      <td>138.0</td>\n",
       "      <td>156.0</td>\n",
       "      <td>202.0</td>\n",
       "    </tr>\n",
       "    <tr>\n",
       "      <th>Oldpeak</th>\n",
       "      <td>918.0</td>\n",
       "      <td>0.887364</td>\n",
       "      <td>1.066570</td>\n",
       "      <td>-2.6</td>\n",
       "      <td>0.00</td>\n",
       "      <td>0.6</td>\n",
       "      <td>1.5</td>\n",
       "      <td>6.2</td>\n",
       "    </tr>\n",
       "    <tr>\n",
       "      <th>HeartDisease</th>\n",
       "      <td>918.0</td>\n",
       "      <td>0.553377</td>\n",
       "      <td>0.497414</td>\n",
       "      <td>0.0</td>\n",
       "      <td>0.00</td>\n",
       "      <td>1.0</td>\n",
       "      <td>1.0</td>\n",
       "      <td>1.0</td>\n",
       "    </tr>\n",
       "  </tbody>\n",
       "</table>\n",
       "</div>"
      ],
      "text/plain": [
       "              count        mean         std   min     25%    50%    75%    max\n",
       "Age           918.0   53.510893    9.432617  28.0   47.00   54.0   60.0   77.0\n",
       "RestingBP     918.0  132.396514   18.514154   0.0  120.00  130.0  140.0  200.0\n",
       "Cholesterol   918.0  198.799564  109.384145   0.0  173.25  223.0  267.0  603.0\n",
       "FastingBS     918.0    0.233115    0.423046   0.0    0.00    0.0    0.0    1.0\n",
       "MaxHR         918.0  136.809368   25.460334  60.0  120.00  138.0  156.0  202.0\n",
       "Oldpeak       918.0    0.887364    1.066570  -2.6    0.00    0.6    1.5    6.2\n",
       "HeartDisease  918.0    0.553377    0.497414   0.0    0.00    1.0    1.0    1.0"
      ]
     },
     "execution_count": 6,
     "metadata": {},
     "output_type": "execute_result"
    }
   ],
   "source": [
    "data.describe().T"
   ]
  },
  {
   "cell_type": "markdown",
   "metadata": {},
   "source": [
    "**Insights**\n",
    "- De meeste patienten zijn tussen de 47 en 60 jaar oud.\n",
    "- Bij RestingBP is de minimale waarde 0, terwijl 25% van de goep bijvoorbeeld 120 bevat. De gemiddelde is 132. Dit kan dus een uitsmijter zijn. Dezelfde geldt voor de cholesterol-gehalte.\n",
    "- FastingBS kan wel gewoon minimaal 0 zijn, aanegzien de meeste ook gewoon 0 als waarde hebben.\n",
    "- Zo'n 55% van de patienten heeft hartproblemen.\n",
    "- De standaardafwijking van cholelesterol-gehalte is redelijk hoog. er moet dus wel een variatie zijn."
   ]
  },
  {
   "cell_type": "code",
   "execution_count": 7,
   "metadata": {},
   "outputs": [
    {
     "data": {
      "text/html": [
       "<div>\n",
       "<style scoped>\n",
       "    .dataframe tbody tr th:only-of-type {\n",
       "        vertical-align: middle;\n",
       "    }\n",
       "\n",
       "    .dataframe tbody tr th {\n",
       "        vertical-align: top;\n",
       "    }\n",
       "\n",
       "    .dataframe thead th {\n",
       "        text-align: right;\n",
       "    }\n",
       "</style>\n",
       "<table border=\"1\" class=\"dataframe\">\n",
       "  <thead>\n",
       "    <tr style=\"text-align: right;\">\n",
       "      <th></th>\n",
       "      <th>count</th>\n",
       "      <th>unique</th>\n",
       "      <th>top</th>\n",
       "      <th>freq</th>\n",
       "    </tr>\n",
       "  </thead>\n",
       "  <tbody>\n",
       "    <tr>\n",
       "      <th>Sex</th>\n",
       "      <td>918</td>\n",
       "      <td>2</td>\n",
       "      <td>M</td>\n",
       "      <td>725</td>\n",
       "    </tr>\n",
       "    <tr>\n",
       "      <th>ChestPainType</th>\n",
       "      <td>918</td>\n",
       "      <td>4</td>\n",
       "      <td>ASY</td>\n",
       "      <td>496</td>\n",
       "    </tr>\n",
       "    <tr>\n",
       "      <th>RestingECG</th>\n",
       "      <td>918</td>\n",
       "      <td>3</td>\n",
       "      <td>Normal</td>\n",
       "      <td>552</td>\n",
       "    </tr>\n",
       "    <tr>\n",
       "      <th>ExerciseAngina</th>\n",
       "      <td>918</td>\n",
       "      <td>2</td>\n",
       "      <td>N</td>\n",
       "      <td>547</td>\n",
       "    </tr>\n",
       "    <tr>\n",
       "      <th>ST_Slope</th>\n",
       "      <td>918</td>\n",
       "      <td>3</td>\n",
       "      <td>Flat</td>\n",
       "      <td>460</td>\n",
       "    </tr>\n",
       "  </tbody>\n",
       "</table>\n",
       "</div>"
      ],
      "text/plain": [
       "               count unique     top freq\n",
       "Sex              918      2       M  725\n",
       "ChestPainType    918      4     ASY  496\n",
       "RestingECG       918      3  Normal  552\n",
       "ExerciseAngina   918      2       N  547\n",
       "ST_Slope         918      3    Flat  460"
      ]
     },
     "execution_count": 7,
     "metadata": {},
     "output_type": "execute_result"
    }
   ],
   "source": [
    "data.describe(include='object').T"
   ]
  },
  {
   "cell_type": "markdown",
   "metadata": {},
   "source": [
    "**Insights**\n",
    "\n",
    "Waar het hier om draait, is vooral de unieke waardes van de categorische values. Zo zijn er 4 verschillende types 'chestpain', wat allemaal van type string is. Dit moet dus veranderd worden naar nummers."
   ]
  },
  {
   "cell_type": "code",
   "execution_count": 8,
   "metadata": {},
   "outputs": [
    {
     "data": {
      "image/png": "[encoded data removed]",
      "text/plain": [
       "<Figure size 360x360 with 1 Axes>"
      ]
     },
     "metadata": {},
     "output_type": "display_data"
    }
   ],
   "source": [
    "with_disease = data[data['HeartDisease'] == 1]['HeartDisease'].count()\n",
    "without_disease = data[data['HeartDisease'] == 0]['HeartDisease'].count()\n",
    "\n",
    "#define Seaborn color palette to use\n",
    "colors = sns.color_palette('deep')[3 : 1 : -1]\n",
    "\n",
    "# Bekijk of labels wel verdeeld zijn. Niet dat 90% van de data wel borstkanker heeft en maar 10% niet o.i.d. Je kunt dus zien dat het \n",
    "# 40/60 verdeeld is. Dat is nog prima.\n",
    "plt.figure(figsize=(5,5))\n",
    "plt.pie([with_disease, without_disease], colors=colors, autopct='%.1F%%', textprops = {'fontsize':14}, explode = [0,0.05])\n",
    "plt.legend(labels=['wel','niet'])\n",
    "plt.title('Hart problemen')\n",
    "plt.show()"
   ]
  },
  {
   "cell_type": "markdown",
   "metadata": {},
   "source": [
    "**Insights**\n",
    "\n",
    "55% van de kandidaten heeft hartproblemen en 45% niet. De dataset is dus goed in balans."
   ]
  },
  {
   "cell_type": "markdown",
   "metadata": {},
   "source": [
    "## Voorspelling\n",
    "\n",
    "**Classifiers**\n",
    "\n",
    "Ik verwacht dat Random Forest een betere accuracy gaat krijgen dan de Decision Tree, aangezien RF een ensamble is van verschillende Decision Trees. Dit maakt de kans groter dat RF het beter zal doen dan DT.\n",
    "\n",
    "Ik verwacht ook dat Random Forest een betere accuraatheid gaat gevendan Logistic Regression, aangezien de RF meer accuraatgericht is, maar sloom zal zijn en de Logistic Regression juist op snelheid let. Aangezien LR snel is, denk ik dat het eerder fouten kan maken.\n",
    "\n",
    "Qua tijd zal Logistic Regression het snelst zijn en Random Forest juist het traagst. LR staat bekend om de snelheid en aangezien RF een set van Decision Trees is, gaat het langer duren dan de DT.\n",
    "\n",
    "**Hyperparameters**\n",
    "\n",
    "Qua Logistic Regression denk ik niet dat veel hyperparameters belangrijk zullen worden. Het heeft er ook niet een groot variatie van. Het enige wat ik denk dat belangrijk kan zijn is de solver. Volgens de documentatie van sklearn (zie bronnen) is liblinear een beter geschikt voor kleine datasets (dit is ook een kleine dataset). Ik zal dus deze uitproberen met de standaardwaarde (lbfgs).\n",
    "\n",
    "Voor DT en RFC lijkt me de volgende hyperparameters van belang:\n",
    "- max_depth: Default is dit zo lang mogelijk totdat de laatste node 1 waarde bevat. Hiermee kunnen we dus overfitting voorkomen\n",
    "- max_leaf_nodes: Dit zorgt er ook voor dat de tree varieert in diepte. \n",
    "- Ook min_sample_split en min_sample_leaf kunnen een bijdrage geven. Hiermee kunnen we aangeven of split naar nodes wel kan of niet.\n",
    "\n",
    "Voor RFC geldt ook de volgende:\n",
    "- n_estimators: aantal decision trees in de forest tree. Dit spreekt voor zich. Meerdere decision trees ensambled hebben een kans op een betere accuracy. Toch capt het na een x aantal trees.\n",
    "- max_features: Ook dit kan een rol spelen. Door bij elke split een aantal features te pakken i.p.v. alle, zorgt het voor variatie in de hele tree. \n",
    "\n",
    "\n"
   ]
  },
  {
   "cell_type": "markdown",
   "metadata": {},
   "source": [
    "## Methoden"
   ]
  },
  {
   "cell_type": "markdown",
   "metadata": {},
   "source": [
    "#### Pre-processing"
   ]
  },
  {
   "cell_type": "code",
   "execution_count": 9,
   "metadata": {},
   "outputs": [
    {
     "data": {
      "text/plain": [
       "Age               0\n",
       "Sex               0\n",
       "ChestPainType     0\n",
       "RestingBP         0\n",
       "Cholesterol       0\n",
       "FastingBS         0\n",
       "RestingECG        0\n",
       "MaxHR             0\n",
       "ExerciseAngina    0\n",
       "Oldpeak           0\n",
       "ST_Slope          0\n",
       "HeartDisease      0\n",
       "dtype: int64"
      ]
     },
     "execution_count": 9,
     "metadata": {},
     "output_type": "execute_result"
    }
   ],
   "source": [
    "data.isna().sum()"
   ]
  },
  {
   "cell_type": "code",
   "execution_count": 10,
   "metadata": {},
   "outputs": [
    {
     "data": {
      "text/plain": [
       "0"
      ]
     },
     "execution_count": 10,
     "metadata": {},
     "output_type": "execute_result"
    }
   ],
   "source": [
    "data.duplicated().sum()"
   ]
  },
  {
   "cell_type": "markdown",
   "metadata": {},
   "source": [
    "**Insights**\n",
    "\n",
    "- Er zijn geen gedupliceerde waarden\n",
    "- Er zijn geen lege cellen\n"
   ]
  },
  {
   "cell_type": "markdown",
   "metadata": {},
   "source": [
    "##### Categorisch -> numeriek"
   ]
  },
  {
   "cell_type": "code",
   "execution_count": 11,
   "metadata": {},
   "outputs": [
    {
     "data": {
      "text/html": [
       "<div>\n",
       "<style scoped>\n",
       "    .dataframe tbody tr th:only-of-type {\n",
       "        vertical-align: middle;\n",
       "    }\n",
       "\n",
       "    .dataframe tbody tr th {\n",
       "        vertical-align: top;\n",
       "    }\n",
       "\n",
       "    .dataframe thead th {\n",
       "        text-align: right;\n",
       "    }\n",
       "</style>\n",
       "<table border=\"1\" class=\"dataframe\">\n",
       "  <thead>\n",
       "    <tr style=\"text-align: right;\">\n",
       "      <th></th>\n",
       "      <th>Age</th>\n",
       "      <th>Sex</th>\n",
       "      <th>ChestPainType</th>\n",
       "      <th>RestingBP</th>\n",
       "      <th>Cholesterol</th>\n",
       "      <th>FastingBS</th>\n",
       "      <th>RestingECG</th>\n",
       "      <th>MaxHR</th>\n",
       "      <th>ExerciseAngina</th>\n",
       "      <th>Oldpeak</th>\n",
       "      <th>ST_Slope</th>\n",
       "      <th>HeartDisease</th>\n",
       "    </tr>\n",
       "  </thead>\n",
       "  <tbody>\n",
       "    <tr>\n",
       "      <th>0</th>\n",
       "      <td>40</td>\n",
       "      <td>1</td>\n",
       "      <td>1</td>\n",
       "      <td>140</td>\n",
       "      <td>289</td>\n",
       "      <td>0</td>\n",
       "      <td>1</td>\n",
       "      <td>172</td>\n",
       "      <td>0</td>\n",
       "      <td>0.0</td>\n",
       "      <td>2</td>\n",
       "      <td>0</td>\n",
       "    </tr>\n",
       "    <tr>\n",
       "      <th>1</th>\n",
       "      <td>49</td>\n",
       "      <td>0</td>\n",
       "      <td>2</td>\n",
       "      <td>160</td>\n",
       "      <td>180</td>\n",
       "      <td>0</td>\n",
       "      <td>1</td>\n",
       "      <td>156</td>\n",
       "      <td>0</td>\n",
       "      <td>1.0</td>\n",
       "      <td>1</td>\n",
       "      <td>1</td>\n",
       "    </tr>\n",
       "    <tr>\n",
       "      <th>2</th>\n",
       "      <td>37</td>\n",
       "      <td>1</td>\n",
       "      <td>1</td>\n",
       "      <td>130</td>\n",
       "      <td>283</td>\n",
       "      <td>0</td>\n",
       "      <td>2</td>\n",
       "      <td>98</td>\n",
       "      <td>0</td>\n",
       "      <td>0.0</td>\n",
       "      <td>2</td>\n",
       "      <td>0</td>\n",
       "    </tr>\n",
       "    <tr>\n",
       "      <th>3</th>\n",
       "      <td>48</td>\n",
       "      <td>0</td>\n",
       "      <td>0</td>\n",
       "      <td>138</td>\n",
       "      <td>214</td>\n",
       "      <td>0</td>\n",
       "      <td>1</td>\n",
       "      <td>108</td>\n",
       "      <td>1</td>\n",
       "      <td>1.5</td>\n",
       "      <td>1</td>\n",
       "      <td>1</td>\n",
       "    </tr>\n",
       "    <tr>\n",
       "      <th>4</th>\n",
       "      <td>54</td>\n",
       "      <td>1</td>\n",
       "      <td>2</td>\n",
       "      <td>150</td>\n",
       "      <td>195</td>\n",
       "      <td>0</td>\n",
       "      <td>1</td>\n",
       "      <td>122</td>\n",
       "      <td>0</td>\n",
       "      <td>0.0</td>\n",
       "      <td>2</td>\n",
       "      <td>0</td>\n",
       "    </tr>\n",
       "  </tbody>\n",
       "</table>\n",
       "</div>"
      ],
      "text/plain": [
       "   Age  Sex  ChestPainType  RestingBP  Cholesterol  FastingBS  RestingECG  \\\n",
       "0   40    1              1        140          289          0           1   \n",
       "1   49    0              2        160          180          0           1   \n",
       "2   37    1              1        130          283          0           2   \n",
       "3   48    0              0        138          214          0           1   \n",
       "4   54    1              2        150          195          0           1   \n",
       "\n",
       "   MaxHR  ExerciseAngina  Oldpeak  ST_Slope  HeartDisease  \n",
       "0    172               0      0.0         2             0  \n",
       "1    156               0      1.0         1             1  \n",
       "2     98               0      0.0         2             0  \n",
       "3    108               1      1.5         1             1  \n",
       "4    122               0      0.0         2             0  "
      ]
     },
     "execution_count": 11,
     "metadata": {},
     "output_type": "execute_result"
    }
   ],
   "source": [
    "categorical_features = ['Sex','ChestPainType','RestingECG','ExerciseAngina','ST_Slope']\n",
    "\n",
    "from sklearn.preprocessing import LabelEncoder\n",
    "lb=LabelEncoder()\n",
    "\n",
    "data[categorical_features] = data[categorical_features].apply(lb.fit_transform)\n",
    "\n",
    "data.head()"
   ]
  },
  {
   "cell_type": "code",
   "execution_count": 12,
   "metadata": {},
   "outputs": [
    {
     "data": {
      "image/png": "[encoded data removed]",
      "text/plain": [
       "<Figure size 864x720 with 12 Axes>"
      ]
     },
     "metadata": {
      "needs_background": "light"
     },
     "output_type": "display_data"
    }
   ],
   "source": [
    "plt.figure(figsize=(12,10))\n",
    "for idx, column in enumerate(data.columns):\n",
    "    plt.subplot(4, 3, idx+1)\n",
    "    sns.histplot(x=column, data=data)\n",
    "    plt.title(column)\n",
    "    plt.tight_layout()\n",
    "plt.show()"
   ]
  },
  {
   "cell_type": "markdown",
   "metadata": {},
   "source": [
    "**Insights**\n",
    "- Waardes zoals Age en MaxHR zien er redelijk normaal verdeeld uit.\n",
    "- Bij cholesterol zijn er heelveel 0 waardes. Dit zijn hoogstwaarschijnlijk uitsmijters, want 0 als waarde voor cholesterol is niet mogelijk.\n",
    "- Er zijn veel meer mannen met hartproblemen dan vrouwen.\n",
    "- OldPleak heeft een negatieve waarde. Deze kunnen niet negatief zijn.\n",
    "\n",
    "Om er zeker van te zijn dat RestingBP en Cholesterol uitsmijters bevat, wordt er hieronder een boxplot getekend."
   ]
  },
  {
   "cell_type": "code",
   "execution_count": 13,
   "metadata": {},
   "outputs": [
    {
     "data": {
      "image/png": "[encoded data removed]",
      "text/plain": [
       "<Figure size 432x288 with 1 Axes>"
      ]
     },
     "metadata": {
      "needs_background": "light"
     },
     "output_type": "display_data"
    },
    {
     "data": {
      "image/png": "[encoded data removed]",
      "text/plain": [
       "<Figure size 432x288 with 1 Axes>"
      ]
     },
     "metadata": {
      "needs_background": "light"
     },
     "output_type": "display_data"
    }
   ],
   "source": [
    "plt.boxplot(data['RestingBP'], vert=False)\n",
    "plt.title('RestingBP')\n",
    "plt.show()\n",
    "\n",
    "plt.boxplot(data['Cholesterol'], vert=False)\n",
    "plt.title('Cholesterol')\n",
    "plt.show()"
   ]
  },
  {
   "cell_type": "markdown",
   "metadata": {},
   "source": [
    "**Insights**\n",
    "\n",
    "Er zijn inderdaad uitsmijters. \n",
    "\n",
    "Er is maar 1 negatieve waarde bij RestingBP (wat niet kan). Ik denk dat dit gewoon een typefout is, want de absolute waarde komt gewoon goed overeen. Deze kunnen we dus veranderen naar de abolute waarde.\n",
    "\n",
    "Bij cholesterol kan dit niet zomaar. Het zijn er teveel en cholesterol heeft een groot invloed. Aangezien het er te veel zijn en dat het gewoon echt uitsmijters zijn, kan de gemiddelde hier niet gebruikt voor worden. De beste optsie is dus of de mediaan of de modus te gebruiken."
   ]
  },
  {
   "cell_type": "markdown",
   "metadata": {},
   "source": [
    "Laten we beginnen met de cholesterol-gehalte. We weten dat 0 niet kan. Ik wil de 0-waardes ook niet weggooien, aangezien de dataset niet al te groot is."
   ]
  },
  {
   "cell_type": "code",
   "execution_count": 15,
   "metadata": {},
   "outputs": [],
   "source": [
    "median_cholesterol = data['Cholesterol'].median()\n",
    "data[\"Cholesterol\"].replace(0, median_cholesterol, inplace=True)\n",
    "data['Cholesterol'] = data['Cholesterol'].apply(lambda x: x if x < 450 else median_cholesterol)"
   ]
  },
  {
   "cell_type": "markdown",
   "metadata": {},
   "source": [
    "We hebben net geconcludeerd dat we de absolute waarde kunnen gebruiken voor Oldpeak, aangezien het maar 1 waarde is. Hoogstwaarschijnlijk is dit een typefout."
   ]
  },
  {
   "cell_type": "code",
   "execution_count": 16,
   "metadata": {},
   "outputs": [],
   "source": [
    "data.loc[data['Oldpeak'] < 0,'Oldpeak'] = 0.1 # absolute waarde van de oude oldPeak"
   ]
  },
  {
   "cell_type": "markdown",
   "metadata": {},
   "source": [
    "Last but not least, de RestingBP. Hierbij kunnen we wel gewoon de gemiddelde gebruiken. Dit zal niet veel invloed hebben op de vorige gemiddelde."
   ]
  },
  {
   "cell_type": "code",
   "execution_count": 17,
   "metadata": {},
   "outputs": [],
   "source": [
    "mean_restingbp = data['RestingBP'].mean()\n",
    "\n",
    "data[\"RestingBP\"].replace(0, mean_restingbp, inplace=True)"
   ]
  },
  {
   "cell_type": "markdown",
   "metadata": {},
   "source": [
    "Aangezien de heatmap een visueel beter is dan normale correlatie tabel, gebruiken we de heatmap in de sns library."
   ]
  },
  {
   "cell_type": "code",
   "execution_count": 18,
   "metadata": {},
   "outputs": [
    {
     "data": {
      "text/plain": [
       "<AxesSubplot:>"
      ]
     },
     "execution_count": 18,
     "metadata": {},
     "output_type": "execute_result"
    },
    {
     "data": {
      "image/png": "[encoded data removed]",
      "text/plain": [
       "<Figure size 720x720 with 2 Axes>"
      ]
     },
     "metadata": {
      "needs_background": "light"
     },
     "output_type": "display_data"
    }
   ],
   "source": [
    "# Visualiseer de correlatie tabel met een heatmap\n",
    "plt.figure(figsize=(10,10))\n",
    "sns.heatmap(data.corr(), annot=True, fmt='.2f')"
   ]
  },
  {
   "cell_type": "markdown",
   "metadata": {},
   "source": [
    "**Insights**\n",
    "\n",
    "Je kunt zien dat er in de heatmap nu ook gewoon alle kolommen aanwezig zijn. Alle kolommen worden meegenomen in de modellen, aangezien allen direct of indirect veel invloedt hebben op de heartdisease. RestingECG en cholesterol zouden wel wegkunnen, aangezien ze zowel direct als indirect heel weinig invloed hebben.\n",
    "\n",
    "Op eerste blik lijkt het dat MaxHR, ST_Slope en ExerciseAngina een sterk correlatie te hebben met Heartdisease.\n",
    "\n",
    "Cholesterol, RestingECG en RestingBP lijken een zwak correlatie te hebben met Heartdisease. \n",
    "\n",
    "Conclusie:\n",
    "- alles gebruiken behalve, Cholesterol, RestingECG en RestingBP"
   ]
  },
  {
   "cell_type": "code",
   "execution_count": 19,
   "metadata": {},
   "outputs": [
    {
     "data": {
      "text/plain": [
       "(918, 12)"
      ]
     },
     "execution_count": 19,
     "metadata": {},
     "output_type": "execute_result"
    }
   ],
   "source": [
    "data.shape"
   ]
  },
  {
   "cell_type": "markdown",
   "metadata": {},
   "source": [
    "##### Kolmogorov-Smirnov test"
   ]
  },
  {
   "cell_type": "markdown",
   "metadata": {},
   "source": [
    "H0: De verdeling is een normaal verdeling"
   ]
  },
  {
   "cell_type": "code",
   "execution_count": 20,
   "metadata": {},
   "outputs": [],
   "source": [
    "from scipy.stats import kstest"
   ]
  },
  {
   "cell_type": "code",
   "execution_count": 21,
   "metadata": {},
   "outputs": [
    {
     "data": {
      "text/plain": [
       "KstestResult(statistic=1.0, pvalue=0.0)"
      ]
     },
     "execution_count": 21,
     "metadata": {},
     "output_type": "execute_result"
    }
   ],
   "source": [
    "kstest(data['Age'], 'norm')"
   ]
  },
  {
   "cell_type": "code",
   "execution_count": 22,
   "metadata": {},
   "outputs": [
    {
     "data": {
      "text/plain": [
       "KstestResult(statistic=1.0, pvalue=0.0)"
      ]
     },
     "execution_count": 22,
     "metadata": {},
     "output_type": "execute_result"
    }
   ],
   "source": [
    "kstest(data['Cholesterol'],'norm')"
   ]
  },
  {
   "cell_type": "code",
   "execution_count": 23,
   "metadata": {},
   "outputs": [
    {
     "data": {
      "text/plain": [
       "KstestResult(statistic=1.0, pvalue=0.0)"
      ]
     },
     "execution_count": 23,
     "metadata": {},
     "output_type": "execute_result"
    }
   ],
   "source": [
    "kstest(data['RestingBP'],'norm')"
   ]
  },
  {
   "cell_type": "code",
   "execution_count": 24,
   "metadata": {},
   "outputs": [
    {
     "data": {
      "text/plain": [
       "KstestResult(statistic=0.5, pvalue=9.62555011802948e-213)"
      ]
     },
     "execution_count": 24,
     "metadata": {},
     "output_type": "execute_result"
    }
   ],
   "source": [
    "kstest(data['FastingBS'],'norm')"
   ]
  },
  {
   "cell_type": "markdown",
   "metadata": {},
   "source": [
    "**Insights**\n",
    "- De kolommen hebben een pvalue lager dan 5% -> reject H0 -> niet normaal verdeeld\n",
    "- Gebruik Welsch t-test"
   ]
  },
  {
   "cell_type": "markdown",
   "metadata": {},
   "source": [
    "##### T-Test\n",
    "\n",
    "We gebruiken de welsch t-test aangezien de dataset niet normaal verdeeld is. Bij de normale t-test is één van de requirements dat het normaal verdeeld moet zijn. Bij de welsch t-test. Als er vegelijkbare variatie is, levert deze hetzelfde resultaat op als de t-test. Zo niet, dan corrigeert deze het.\n",
    "\n",
    "De t-test van scipy geeft niet heel veel informatie. We missen informatie over de effect size. Pearson R kan ons hierbij helpen. Daarom gebruiken we researchpy. Dit geeft al wat meer inzicht\n",
    "\n",
    "1. In plaats van correlaties tussen interval variabelen en de target variabele \"satisfaction\" te berekenen, kan ik t testen doen.\n",
    "2. In plaats van correlaties tussen nominale variable en de target variabele \"satisfaction\" te berekenen, kan ik een chi square doen.\n",
    "3. Als ik een nominale variabele heb, waar wel een rangorde in zit, kan ik een Mann Whitney test doen of eveneens kiezen voor een chi square.\n",
    "\n",
    "categorical_features = ['Sex','ChestPainType','RestingECG','ExerciseAngina','ST_Slope']\n",
    "\n",
    "interval_feautures = ['Age', 'RestingBP,', 'Cholesterol', 'FastingBS', 'MaxHR', 'OldPeak']"
   ]
  },
  {
   "cell_type": "code",
   "execution_count": 26,
   "metadata": {},
   "outputs": [],
   "source": [
    "import researchpy as rp"
   ]
  },
  {
   "cell_type": "code",
   "execution_count": 27,
   "metadata": {},
   "outputs": [],
   "source": [
    "wel = data[data['HeartDisease'] == 1]\n",
    "geen = data[data['HeartDisease'] == 0]"
   ]
  },
  {
   "cell_type": "markdown",
   "metadata": {},
   "source": [
    "##### Cholesterol"
   ]
  },
  {
   "cell_type": "code",
   "execution_count": 28,
   "metadata": {},
   "outputs": [
    {
     "data": {
      "text/plain": [
       "(   Variable      N        Mean         SD        SE   95% Conf.    Interval\n",
       " 0       wel  508.0  239.728346  45.881902  2.035680  235.728939  243.727754\n",
       " 1      niet  410.0  235.997561  49.195409  2.429588  231.221523  240.773599\n",
       " 2  combined  918.0  238.062092  47.400535  1.564451  234.991772  241.132411,\n",
       "                Welch's t-test   results\n",
       " 0  Difference (wel - niet) =     3.7308\n",
       " 1       Degrees of freedom =   849.6912\n",
       " 2                        t =     1.1770\n",
       " 3    Two side test p value =     0.2395\n",
       " 4   Difference < 0 p value =     0.8802\n",
       " 5   Difference > 0 p value =     0.1198\n",
       " 6                Cohen's d =     0.0787\n",
       " 7                Hedge's g =     0.0787\n",
       " 8            Glass's delta =     0.0813\n",
       " 9              Pearson's r =     0.0403)"
      ]
     },
     "execution_count": 28,
     "metadata": {},
     "output_type": "execute_result"
    }
   ],
   "source": [
    "rp.ttest(group1=wel['Cholesterol'], group2=geen['Cholesterol'], group1_name='wel', group2_name='niet', equal_variances=False)"
   ]
  },
  {
   "cell_type": "markdown",
   "metadata": {},
   "source": [
    "**Insights**\n",
    "- p value > 5%\n",
    "- Ho wordt behouden, dus er is geen significant verschil\n",
    "- Pearsons r is zeer zwak\n",
    "- weggooien"
   ]
  },
  {
   "cell_type": "markdown",
   "metadata": {},
   "source": [
    "##### Age"
   ]
  },
  {
   "cell_type": "code",
   "execution_count": 29,
   "metadata": {},
   "outputs": [
    {
     "data": {
      "text/plain": [
       "(   Variable      N       Mean        SD        SE  95% Conf.   Interval\n",
       " 0       wel  508.0  55.899606  8.727056  0.387200  55.138891  56.660321\n",
       " 1      niet  410.0  50.551220  9.444915  0.466451  49.634279  51.468160\n",
       " 2  combined  918.0  53.510893  9.432617  0.311323  52.899905  54.121881,\n",
       "                Welch's t-test   results\n",
       " 0  Difference (wel - niet) =     5.3484\n",
       " 1       Degrees of freedom =   845.5957\n",
       " 2                        t =     8.8225\n",
       " 3    Two side test p value =     0.0000\n",
       " 4   Difference < 0 p value =     1.0000\n",
       " 5   Difference > 0 p value =     0.0000\n",
       " 6                Cohen's d =     0.5907\n",
       " 7                Hedge's g =     0.5902\n",
       " 8            Glass's delta =     0.6129\n",
       " 9              Pearson's r =     0.2903)"
      ]
     },
     "execution_count": 29,
     "metadata": {},
     "output_type": "execute_result"
    }
   ],
   "source": [
    "rp.ttest(group1=wel['Age'], group2=geen['Age'], group1_name='wel', group2_name='niet', equal_variances=False)"
   ]
  },
  {
   "cell_type": "markdown",
   "metadata": {},
   "source": [
    "**Insights**\n",
    "- p value < 5%\n",
    "- Ho wordt verworpen, dus er is een significant verschil\n",
    "- Pearsons r is redelijk sterk\n",
    "- behouden"
   ]
  },
  {
   "cell_type": "markdown",
   "metadata": {},
   "source": [
    "##### RestingBP"
   ]
  },
  {
   "cell_type": "code",
   "execution_count": 30,
   "metadata": {},
   "outputs": [
    {
     "data": {
      "text/plain": [
       "(   Variable      N        Mean         SD        SE   95% Conf.    Interval\n",
       " 0       wel  508.0  134.445662  18.910339  0.839011  132.797297  136.094028\n",
       " 1      niet  410.0  130.180488  16.499585  0.814856  128.578659  131.782317\n",
       " 2  combined  918.0  132.540737  17.989932  0.593756  131.375458  133.706016,\n",
       "                Welch's t-test   results\n",
       " 0  Difference (wel - niet) =     4.2652\n",
       " 1       Degrees of freedom =   912.4704\n",
       " 2                        t =     3.6467\n",
       " 3    Two side test p value =     0.0003\n",
       " 4   Difference < 0 p value =     0.9999\n",
       " 5   Difference > 0 p value =     0.0001\n",
       " 6                Cohen's d =     0.2386\n",
       " 7                Hedge's g =     0.2384\n",
       " 8            Glass's delta =     0.2255\n",
       " 9              Pearson's r =     0.1199)"
      ]
     },
     "execution_count": 30,
     "metadata": {},
     "output_type": "execute_result"
    }
   ],
   "source": [
    "rp.ttest(group1=wel['RestingBP'], group2=geen['RestingBP'], group1_name='wel', group2_name='niet', equal_variances=False)"
   ]
  },
  {
   "cell_type": "markdown",
   "metadata": {},
   "source": [
    "**Insights**\n",
    "- p value < 5%\n",
    "- Ho wordt verworpen, dus er is een significant verschil\n",
    "- Pearsons r is redelijk zwak\n",
    "- weggooien"
   ]
  },
  {
   "cell_type": "markdown",
   "metadata": {},
   "source": [
    "##### FastingBS"
   ]
  },
  {
   "cell_type": "code",
   "execution_count": 31,
   "metadata": {},
   "outputs": [
    {
     "data": {
      "text/plain": [
       "(   Variable      N      Mean        SD        SE  95% Conf.  Interval\n",
       " 0       wel  508.0  0.334646  0.472332  0.020956   0.293474  0.375818\n",
       " 1      niet  410.0  0.107317  0.309894  0.015305   0.077232  0.137403\n",
       " 2  combined  918.0  0.233115  0.423046  0.013963   0.205713  0.260518,\n",
       "                Welch's t-test   results\n",
       " 0  Difference (wel - niet) =     0.2273\n",
       " 1       Degrees of freedom =   882.9740\n",
       " 2                        t =     8.7603\n",
       " 3    Two side test p value =     0.0000\n",
       " 4   Difference < 0 p value =     1.0000\n",
       " 5   Difference > 0 p value =     0.0000\n",
       " 6                Cohen's d =     0.5573\n",
       " 7                Hedge's g =     0.5569\n",
       " 8            Glass's delta =     0.4813\n",
       " 9              Pearson's r =     0.2828)"
      ]
     },
     "execution_count": 31,
     "metadata": {},
     "output_type": "execute_result"
    }
   ],
   "source": [
    "rp.ttest(group1=wel['FastingBS'], group2=geen['FastingBS'], group1_name='wel', group2_name='niet', equal_variances=False)"
   ]
  },
  {
   "cell_type": "markdown",
   "metadata": {},
   "source": [
    "**Insights**\n",
    "- p value < 5%\n",
    "- Ho wordt verworpen, dus er is een significant verschil\n",
    "- Pearsons r is redelijk sterk\n",
    "- behouden"
   ]
  },
  {
   "cell_type": "markdown",
   "metadata": {},
   "source": [
    "##### MaxHR"
   ]
  },
  {
   "cell_type": "code",
   "execution_count": 32,
   "metadata": {},
   "outputs": [
    {
     "data": {
      "text/plain": [
       "(   Variable      N        Mean         SD        SE   95% Conf.    Interval\n",
       " 0       wel  508.0  127.655512  23.386923  1.037627  125.616934  129.694090\n",
       " 1      niet  410.0  148.151220  23.288067  1.150116  145.890344  150.412095\n",
       " 2  combined  918.0  136.809368  25.460334  0.840316  135.160202  138.458534,\n",
       "                Welch's t-test   results\n",
       " 0  Difference (wel - niet) =   -20.4957\n",
       " 1       Degrees of freedom =   879.0415\n",
       " 2                        t =   -13.2315\n",
       " 3    Two side test p value =     0.0000\n",
       " 4   Difference < 0 p value =     0.0000\n",
       " 5   Difference > 0 p value =     1.0000\n",
       " 6                Cohen's d =    -0.8780\n",
       " 7                Hedge's g =    -0.8773\n",
       " 8            Glass's delta =    -0.8764\n",
       " 9              Pearson's r =     0.4075)"
      ]
     },
     "execution_count": 32,
     "metadata": {},
     "output_type": "execute_result"
    }
   ],
   "source": [
    "rp.ttest(group1=wel['MaxHR'], group2=geen['MaxHR'], group1_name='wel', group2_name='niet', equal_variances=False)"
   ]
  },
  {
   "cell_type": "markdown",
   "metadata": {},
   "source": [
    "**Insights**\n",
    "- p value < 5%\n",
    "- Ho wordt verworpen, dus er is een significant verschil\n",
    "- Pearsons r is sterk\n",
    "- behouden"
   ]
  },
  {
   "cell_type": "markdown",
   "metadata": {},
   "source": [
    "##### Oldpeak"
   ]
  },
  {
   "cell_type": "code",
   "execution_count": 33,
   "metadata": {},
   "outputs": [
    {
     "data": {
      "text/plain": [
       "(   Variable      N      Mean        SD        SE  95% Conf.  Interval\n",
       " 0       wel  508.0  1.297638  1.110269  0.049260   1.200859  1.394417\n",
       " 1      niet  410.0  0.413415  0.694012  0.034275   0.346038  0.480791\n",
       " 2  combined  918.0  0.902723  1.043944  0.034455   0.835103  0.970344,\n",
       "                Welch's t-test   results\n",
       " 0  Difference (wel - niet) =     0.8842\n",
       " 1       Degrees of freedom =   866.9220\n",
       " 2                        t =    14.7343\n",
       " 3    Two side test p value =     0.0000\n",
       " 4   Difference < 0 p value =     1.0000\n",
       " 5   Difference > 0 p value =     0.0000\n",
       " 6                Cohen's d =     0.9334\n",
       " 7                Hedge's g =     0.9327\n",
       " 8            Glass's delta =     0.7964\n",
       " 9              Pearson's r =     0.4475)"
      ]
     },
     "execution_count": 33,
     "metadata": {},
     "output_type": "execute_result"
    }
   ],
   "source": [
    "rp.ttest(group1=wel['Oldpeak'], group2=geen['Oldpeak'], group1_name='wel', group2_name='niet', equal_variances=False)"
   ]
  },
  {
   "cell_type": "markdown",
   "metadata": {},
   "source": [
    "**Insights**\n",
    "- p value < 5%\n",
    "- Ho wordt verworpen, dus er is een significant verschil\n",
    "- Pearsons r is sterk\n",
    "- behouden"
   ]
  },
  {
   "cell_type": "markdown",
   "metadata": {},
   "source": [
    "##### conclusie\n",
    "\n",
    "- Age, FastingBS, Oldpeak en MaxHR behouden\n",
    "- Cholesterol weggooien"
   ]
  },
  {
   "cell_type": "markdown",
   "metadata": {},
   "source": [
    "#### Nominale kolommen"
   ]
  },
  {
   "cell_type": "markdown",
   "metadata": {},
   "source": [
    "\n",
    "categorical_features = ['Sex','ChestPainType','RestingECG','ExerciseAngina','ST_Slope']"
   ]
  },
  {
   "cell_type": "code",
   "execution_count": 34,
   "metadata": {},
   "outputs": [
    {
     "data": {
      "text/html": [
       "<div>\n",
       "<style scoped>\n",
       "    .dataframe tbody tr th:only-of-type {\n",
       "        vertical-align: middle;\n",
       "    }\n",
       "\n",
       "    .dataframe tbody tr th {\n",
       "        vertical-align: top;\n",
       "    }\n",
       "\n",
       "    .dataframe thead th {\n",
       "        text-align: right;\n",
       "    }\n",
       "</style>\n",
       "<table border=\"1\" class=\"dataframe\">\n",
       "  <thead>\n",
       "    <tr style=\"text-align: right;\">\n",
       "      <th></th>\n",
       "      <th>Chi-square test</th>\n",
       "      <th>results</th>\n",
       "    </tr>\n",
       "  </thead>\n",
       "  <tbody>\n",
       "    <tr>\n",
       "      <th>0</th>\n",
       "      <td>Pearson Chi-square ( 1.0) =</td>\n",
       "      <td>85.6463</td>\n",
       "    </tr>\n",
       "    <tr>\n",
       "      <th>1</th>\n",
       "      <td>p-value =</td>\n",
       "      <td>0.0000</td>\n",
       "    </tr>\n",
       "    <tr>\n",
       "      <th>2</th>\n",
       "      <td>Cramer's phi =</td>\n",
       "      <td>0.3054</td>\n",
       "    </tr>\n",
       "  </tbody>\n",
       "</table>\n",
       "</div>"
      ],
      "text/plain": [
       "                Chi-square test  results\n",
       "0  Pearson Chi-square ( 1.0) =   85.6463\n",
       "1                    p-value =    0.0000\n",
       "2               Cramer's phi =    0.3054"
      ]
     },
     "execution_count": 34,
     "metadata": {},
     "output_type": "execute_result"
    }
   ],
   "source": [
    "_, result = rp.crosstab(data['HeartDisease'], data['Sex'], test= \"chi-square\")\n",
    "result"
   ]
  },
  {
   "cell_type": "code",
   "execution_count": 35,
   "metadata": {},
   "outputs": [
    {
     "data": {
      "text/html": [
       "<div>\n",
       "<style scoped>\n",
       "    .dataframe tbody tr th:only-of-type {\n",
       "        vertical-align: middle;\n",
       "    }\n",
       "\n",
       "    .dataframe tbody tr th {\n",
       "        vertical-align: top;\n",
       "    }\n",
       "\n",
       "    .dataframe thead th {\n",
       "        text-align: right;\n",
       "    }\n",
       "</style>\n",
       "<table border=\"1\" class=\"dataframe\">\n",
       "  <thead>\n",
       "    <tr style=\"text-align: right;\">\n",
       "      <th></th>\n",
       "      <th>Chi-square test</th>\n",
       "      <th>results</th>\n",
       "    </tr>\n",
       "  </thead>\n",
       "  <tbody>\n",
       "    <tr>\n",
       "      <th>0</th>\n",
       "      <td>Pearson Chi-square ( 3.0) =</td>\n",
       "      <td>268.0672</td>\n",
       "    </tr>\n",
       "    <tr>\n",
       "      <th>1</th>\n",
       "      <td>p-value =</td>\n",
       "      <td>0.0000</td>\n",
       "    </tr>\n",
       "    <tr>\n",
       "      <th>2</th>\n",
       "      <td>Cramer's V =</td>\n",
       "      <td>0.5404</td>\n",
       "    </tr>\n",
       "  </tbody>\n",
       "</table>\n",
       "</div>"
      ],
      "text/plain": [
       "                Chi-square test   results\n",
       "0  Pearson Chi-square ( 3.0) =   268.0672\n",
       "1                    p-value =     0.0000\n",
       "2                 Cramer's V =     0.5404"
      ]
     },
     "execution_count": 35,
     "metadata": {},
     "output_type": "execute_result"
    }
   ],
   "source": [
    "_, result = rp.crosstab(data['HeartDisease'], data['ChestPainType'], test= \"chi-square\")\n",
    "\n",
    "result"
   ]
  },
  {
   "cell_type": "code",
   "execution_count": 36,
   "metadata": {},
   "outputs": [
    {
     "data": {
      "text/html": [
       "<div>\n",
       "<style scoped>\n",
       "    .dataframe tbody tr th:only-of-type {\n",
       "        vertical-align: middle;\n",
       "    }\n",
       "\n",
       "    .dataframe tbody tr th {\n",
       "        vertical-align: top;\n",
       "    }\n",
       "\n",
       "    .dataframe thead th {\n",
       "        text-align: right;\n",
       "    }\n",
       "</style>\n",
       "<table border=\"1\" class=\"dataframe\">\n",
       "  <thead>\n",
       "    <tr style=\"text-align: right;\">\n",
       "      <th></th>\n",
       "      <th>Chi-square test</th>\n",
       "      <th>results</th>\n",
       "    </tr>\n",
       "  </thead>\n",
       "  <tbody>\n",
       "    <tr>\n",
       "      <th>0</th>\n",
       "      <td>Pearson Chi-square ( 2.0) =</td>\n",
       "      <td>10.9315</td>\n",
       "    </tr>\n",
       "    <tr>\n",
       "      <th>1</th>\n",
       "      <td>p-value =</td>\n",
       "      <td>0.0042</td>\n",
       "    </tr>\n",
       "    <tr>\n",
       "      <th>2</th>\n",
       "      <td>Cramer's V =</td>\n",
       "      <td>0.1091</td>\n",
       "    </tr>\n",
       "  </tbody>\n",
       "</table>\n",
       "</div>"
      ],
      "text/plain": [
       "                Chi-square test  results\n",
       "0  Pearson Chi-square ( 2.0) =   10.9315\n",
       "1                    p-value =    0.0042\n",
       "2                 Cramer's V =    0.1091"
      ]
     },
     "execution_count": 36,
     "metadata": {},
     "output_type": "execute_result"
    }
   ],
   "source": [
    "_, result = rp.crosstab(data['HeartDisease'], data['RestingECG'], test= \"chi-square\")\n",
    "\n",
    "result"
   ]
  },
  {
   "cell_type": "code",
   "execution_count": 37,
   "metadata": {},
   "outputs": [
    {
     "data": {
      "text/html": [
       "<div>\n",
       "<style scoped>\n",
       "    .dataframe tbody tr th:only-of-type {\n",
       "        vertical-align: middle;\n",
       "    }\n",
       "\n",
       "    .dataframe tbody tr th {\n",
       "        vertical-align: top;\n",
       "    }\n",
       "\n",
       "    .dataframe thead th {\n",
       "        text-align: right;\n",
       "    }\n",
       "</style>\n",
       "<table border=\"1\" class=\"dataframe\">\n",
       "  <thead>\n",
       "    <tr style=\"text-align: right;\">\n",
       "      <th></th>\n",
       "      <th>Chi-square test</th>\n",
       "      <th>results</th>\n",
       "    </tr>\n",
       "  </thead>\n",
       "  <tbody>\n",
       "    <tr>\n",
       "      <th>0</th>\n",
       "      <td>Pearson Chi-square ( 1.0) =</td>\n",
       "      <td>224.2809</td>\n",
       "    </tr>\n",
       "    <tr>\n",
       "      <th>1</th>\n",
       "      <td>p-value =</td>\n",
       "      <td>0.0000</td>\n",
       "    </tr>\n",
       "    <tr>\n",
       "      <th>2</th>\n",
       "      <td>Cramer's phi =</td>\n",
       "      <td>0.4943</td>\n",
       "    </tr>\n",
       "  </tbody>\n",
       "</table>\n",
       "</div>"
      ],
      "text/plain": [
       "                Chi-square test   results\n",
       "0  Pearson Chi-square ( 1.0) =   224.2809\n",
       "1                    p-value =     0.0000\n",
       "2               Cramer's phi =     0.4943"
      ]
     },
     "execution_count": 37,
     "metadata": {},
     "output_type": "execute_result"
    }
   ],
   "source": [
    "_, result = rp.crosstab(data['HeartDisease'], data['ExerciseAngina'], test= \"chi-square\")\n",
    "\n",
    "result"
   ]
  },
  {
   "cell_type": "code",
   "execution_count": 38,
   "metadata": {},
   "outputs": [
    {
     "data": {
      "text/html": [
       "<div>\n",
       "<style scoped>\n",
       "    .dataframe tbody tr th:only-of-type {\n",
       "        vertical-align: middle;\n",
       "    }\n",
       "\n",
       "    .dataframe tbody tr th {\n",
       "        vertical-align: top;\n",
       "    }\n",
       "\n",
       "    .dataframe thead th {\n",
       "        text-align: right;\n",
       "    }\n",
       "</style>\n",
       "<table border=\"1\" class=\"dataframe\">\n",
       "  <thead>\n",
       "    <tr style=\"text-align: right;\">\n",
       "      <th></th>\n",
       "      <th>Chi-square test</th>\n",
       "      <th>results</th>\n",
       "    </tr>\n",
       "  </thead>\n",
       "  <tbody>\n",
       "    <tr>\n",
       "      <th>0</th>\n",
       "      <td>Pearson Chi-square ( 2.0) =</td>\n",
       "      <td>355.9184</td>\n",
       "    </tr>\n",
       "    <tr>\n",
       "      <th>1</th>\n",
       "      <td>p-value =</td>\n",
       "      <td>0.0000</td>\n",
       "    </tr>\n",
       "    <tr>\n",
       "      <th>2</th>\n",
       "      <td>Cramer's V =</td>\n",
       "      <td>0.6227</td>\n",
       "    </tr>\n",
       "  </tbody>\n",
       "</table>\n",
       "</div>"
      ],
      "text/plain": [
       "                Chi-square test   results\n",
       "0  Pearson Chi-square ( 2.0) =   355.9184\n",
       "1                    p-value =     0.0000\n",
       "2                 Cramer's V =     0.6227"
      ]
     },
     "execution_count": 38,
     "metadata": {},
     "output_type": "execute_result"
    }
   ],
   "source": [
    "_, result = rp.crosstab(data['HeartDisease'], data['ST_Slope'], test= \"chi-square\")\n",
    "result"
   ]
  },
  {
   "cell_type": "markdown",
   "metadata": {},
   "source": [
    "**Insights**\n",
    "\n",
    "alle kolommen behlave RestingECG:\n",
    "- p-value < 0.5\n",
    "- H0 wordt verworpen, dus er is een significant verschil\n",
    "- Cramers phi is zeker sterk\n",
    "- behouden\n",
    "\n",
    "RestingECG:\n",
    "- p-value < 0.5\n",
    "- H0 wordt verworpen, dus er is een significant verschil\n",
    "- Cramers phi is zwak\n",
    "- weggooien\n"
   ]
  },
  {
   "cell_type": "markdown",
   "metadata": {},
   "source": [
    "Stel nu dat we een target variable hebben met 3 categorieen, bijvoorbeeld we willen voorspellen welke Class iemand vliegt. We willen weten of leeftijd van belang is om te voorspellen welke Class iemand vliegt. Een correlatie is mogelijk, maar is afhankelijk welke klasse welk cijfer krijgt. Bij klasse kun je nog een rangorde voorstellen, maar stel voor dat je religie van de respondent wil voorspellen, dan is een correlatie een rare maat. De oplossing: ANOVA"
   ]
  },
  {
   "cell_type": "code",
   "execution_count": 39,
   "metadata": {},
   "outputs": [
    {
     "data": {
      "text/plain": [
       "F_onewayResult(statistic=16.86834805144362, pvalue=1.136820472395362e-10)"
      ]
     },
     "execution_count": 39,
     "metadata": {},
     "output_type": "execute_result"
    }
   ],
   "source": [
    "from scipy.stats import f_oneway\n",
    "f_oneway(data['Age'][data['ChestPainType'] == 0],\n",
    "               data['Age'][data['ChestPainType'] == 1],\n",
    "               data['Age'][data['ChestPainType'] == 2],\n",
    "               data['Age'][data['ChestPainType'] == 3])"
   ]
  },
  {
   "cell_type": "code",
   "execution_count": 129,
   "metadata": {},
   "outputs": [
    {
     "data": {
      "text/plain": [
       "F_onewayResult(statistic=28440.267407833908, pvalue=0.0)"
      ]
     },
     "execution_count": 129,
     "metadata": {},
     "output_type": "execute_result"
    }
   ],
   "source": [
    "stats.f_oneway(data['Age'], data['ChestPainType'], data['HeartDisease'])"
   ]
  },
  {
   "cell_type": "code",
   "execution_count": 41,
   "metadata": {},
   "outputs": [
    {
     "data": {
      "text/html": [
       "<table class=\"simpletable\">\n",
       "<caption>Multiple Comparison of Means - Tukey HSD, FWER=0.05</caption>\n",
       "<tr>\n",
       "  <th>group1</th> <th>group2</th> <th>meandiff</th>  <th>p-adj</th>  <th>lower</th>   <th>upper</th>  <th>reject</th>\n",
       "</tr>\n",
       "<tr>\n",
       "     <td>0</td>      <td>1</td>    <td>-5.7169</td>   <td>0.0</td>  <td>-7.807</td>  <td>-3.6268</td>  <td>True</td> \n",
       "</tr>\n",
       "<tr>\n",
       "     <td>0</td>      <td>2</td>    <td>-1.6493</td> <td>0.1376</td> <td>-3.6216</td> <td>0.3229</td>   <td>False</td>\n",
       "</tr>\n",
       "<tr>\n",
       "     <td>0</td>      <td>3</td>    <td>-0.1336</td> <td>0.9997</td> <td>-3.7819</td> <td>3.5147</td>   <td>False</td>\n",
       "</tr>\n",
       "<tr>\n",
       "     <td>1</td>      <td>2</td>    <td>4.0676</td>  <td>0.0001</td> <td>1.6183</td>  <td>6.5168</td>   <td>True</td> \n",
       "</tr>\n",
       "<tr>\n",
       "     <td>1</td>      <td>3</td>    <td>5.5833</td>  <td>0.0015</td> <td>1.6566</td>   <td>9.51</td>    <td>True</td> \n",
       "</tr>\n",
       "<tr>\n",
       "     <td>2</td>      <td>3</td>    <td>1.5157</td>   <td>0.744</td> <td>-2.3496</td>  <td>5.381</td>   <td>False</td>\n",
       "</tr>\n",
       "</table>"
      ],
      "text/plain": [
       "<class 'statsmodels.iolib.table.SimpleTable'>"
      ]
     },
     "execution_count": 41,
     "metadata": {},
     "output_type": "execute_result"
    }
   ],
   "source": [
    "#Als er een significant verschil is tussen de drie groepen, weten we nog niet welke groepen verschillen\n",
    "#t toetsen moeten dan duidelijkheid brengen, maar we hebben dan een correctie nodig\n",
    "# We kiezen hier voor Tukey's correctie\n",
    "\n",
    "import statsmodels.stats.multicomp as mc\n",
    "\n",
    "comp = mc.MultiComparison(data['Age'], data['ChestPainType'])\n",
    "post_hoc_res = comp.tukeyhsd()\n",
    "post_hoc_res.summary()"
   ]
  },
  {
   "cell_type": "code",
   "execution_count": 47,
   "metadata": {},
   "outputs": [
    {
     "data": {
      "text/html": [
       "<table class=\"simpletable\">\n",
       "<caption>Test Multiple Comparison ttest_ind \n",
       "FWER=0.05 method=bonf\n",
       "alphacSidak=0.01, alphacBonf=0.008</caption>\n",
       "<tr>\n",
       "  <th>group1</th> <th>group2</th>  <th>stat</th>    <th>pval</th>  <th>pval_corr</th> <th>reject</th>\n",
       "</tr>\n",
       "<tr>\n",
       "     <td>0</td>      <td>1</td>   <td>7.2796</td>    <td>0.0</td>     <td>0.0</td>     <td>True</td> \n",
       "</tr>\n",
       "<tr>\n",
       "     <td>0</td>      <td>2</td>   <td>2.1955</td>  <td>0.0285</td>  <td>0.1708</td>    <td>False</td>\n",
       "</tr>\n",
       "<tr>\n",
       "     <td>0</td>      <td>3</td>   <td>0.0961</td>  <td>0.9235</td>    <td>1.0</td>     <td>False</td>\n",
       "</tr>\n",
       "<tr>\n",
       "     <td>1</td>      <td>2</td>   <td>-4.1601</td>   <td>0.0</td>   <td>0.0002</td>    <td>True</td> \n",
       "</tr>\n",
       "<tr>\n",
       "     <td>1</td>      <td>3</td>   <td>-3.4505</td> <td>0.0007</td>   <td>0.004</td>    <td>True</td> \n",
       "</tr>\n",
       "<tr>\n",
       "     <td>2</td>      <td>3</td>   <td>-0.9311</td> <td>0.3527</td>    <td>1.0</td>     <td>False</td>\n",
       "</tr>\n",
       "</table>"
      ],
      "text/plain": [
       "<class 'statsmodels.iolib.table.SimpleTable'>"
      ]
     },
     "execution_count": 47,
     "metadata": {},
     "output_type": "execute_result"
    }
   ],
   "source": [
    "#Een andere veelgebruikte post hoc test is de t test met Bonferroni correctie\n",
    "import statsmodels.stats.multicomp as mc\n",
    "import scipy.stats as stats\n",
    "\n",
    "comp = mc.MultiComparison(data['Age'], data['ChestPainType'])\n",
    "tbl, a1, a2 = comp.allpairtest(stats.ttest_ind, method= \"bonf\")\n",
    "\n",
    "tbl"
   ]
  },
  {
   "cell_type": "markdown",
   "metadata": {},
   "source": [
    "verwijder onnodige kolommen"
   ]
  },
  {
   "cell_type": "code",
   "execution_count": 17,
   "metadata": {},
   "outputs": [
    {
     "data": {
      "text/html": [
       "<div>\n",
       "<style scoped>\n",
       "    .dataframe tbody tr th:only-of-type {\n",
       "        vertical-align: middle;\n",
       "    }\n",
       "\n",
       "    .dataframe tbody tr th {\n",
       "        vertical-align: top;\n",
       "    }\n",
       "\n",
       "    .dataframe thead th {\n",
       "        text-align: right;\n",
       "    }\n",
       "</style>\n",
       "<table border=\"1\" class=\"dataframe\">\n",
       "  <thead>\n",
       "    <tr style=\"text-align: right;\">\n",
       "      <th></th>\n",
       "      <th>Age</th>\n",
       "      <th>Sex</th>\n",
       "      <th>ChestPainType</th>\n",
       "      <th>RestingBP</th>\n",
       "      <th>FastingBS</th>\n",
       "      <th>MaxHR</th>\n",
       "      <th>ExerciseAngina</th>\n",
       "      <th>Oldpeak</th>\n",
       "      <th>ST_Slope</th>\n",
       "      <th>HeartDisease</th>\n",
       "    </tr>\n",
       "  </thead>\n",
       "  <tbody>\n",
       "    <tr>\n",
       "      <th>0</th>\n",
       "      <td>40</td>\n",
       "      <td>1</td>\n",
       "      <td>1</td>\n",
       "      <td>140.0</td>\n",
       "      <td>0</td>\n",
       "      <td>172</td>\n",
       "      <td>0</td>\n",
       "      <td>0.0</td>\n",
       "      <td>2</td>\n",
       "      <td>0</td>\n",
       "    </tr>\n",
       "    <tr>\n",
       "      <th>1</th>\n",
       "      <td>49</td>\n",
       "      <td>0</td>\n",
       "      <td>2</td>\n",
       "      <td>160.0</td>\n",
       "      <td>0</td>\n",
       "      <td>156</td>\n",
       "      <td>0</td>\n",
       "      <td>1.0</td>\n",
       "      <td>1</td>\n",
       "      <td>1</td>\n",
       "    </tr>\n",
       "    <tr>\n",
       "      <th>2</th>\n",
       "      <td>37</td>\n",
       "      <td>1</td>\n",
       "      <td>1</td>\n",
       "      <td>130.0</td>\n",
       "      <td>0</td>\n",
       "      <td>98</td>\n",
       "      <td>0</td>\n",
       "      <td>0.0</td>\n",
       "      <td>2</td>\n",
       "      <td>0</td>\n",
       "    </tr>\n",
       "    <tr>\n",
       "      <th>3</th>\n",
       "      <td>48</td>\n",
       "      <td>0</td>\n",
       "      <td>0</td>\n",
       "      <td>138.0</td>\n",
       "      <td>0</td>\n",
       "      <td>108</td>\n",
       "      <td>1</td>\n",
       "      <td>1.5</td>\n",
       "      <td>1</td>\n",
       "      <td>1</td>\n",
       "    </tr>\n",
       "    <tr>\n",
       "      <th>4</th>\n",
       "      <td>54</td>\n",
       "      <td>1</td>\n",
       "      <td>2</td>\n",
       "      <td>150.0</td>\n",
       "      <td>0</td>\n",
       "      <td>122</td>\n",
       "      <td>0</td>\n",
       "      <td>0.0</td>\n",
       "      <td>2</td>\n",
       "      <td>0</td>\n",
       "    </tr>\n",
       "    <tr>\n",
       "      <th>...</th>\n",
       "      <td>...</td>\n",
       "      <td>...</td>\n",
       "      <td>...</td>\n",
       "      <td>...</td>\n",
       "      <td>...</td>\n",
       "      <td>...</td>\n",
       "      <td>...</td>\n",
       "      <td>...</td>\n",
       "      <td>...</td>\n",
       "      <td>...</td>\n",
       "    </tr>\n",
       "    <tr>\n",
       "      <th>913</th>\n",
       "      <td>45</td>\n",
       "      <td>1</td>\n",
       "      <td>3</td>\n",
       "      <td>110.0</td>\n",
       "      <td>0</td>\n",
       "      <td>132</td>\n",
       "      <td>0</td>\n",
       "      <td>1.2</td>\n",
       "      <td>1</td>\n",
       "      <td>1</td>\n",
       "    </tr>\n",
       "    <tr>\n",
       "      <th>914</th>\n",
       "      <td>68</td>\n",
       "      <td>1</td>\n",
       "      <td>0</td>\n",
       "      <td>144.0</td>\n",
       "      <td>1</td>\n",
       "      <td>141</td>\n",
       "      <td>0</td>\n",
       "      <td>3.4</td>\n",
       "      <td>1</td>\n",
       "      <td>1</td>\n",
       "    </tr>\n",
       "    <tr>\n",
       "      <th>915</th>\n",
       "      <td>57</td>\n",
       "      <td>1</td>\n",
       "      <td>0</td>\n",
       "      <td>130.0</td>\n",
       "      <td>0</td>\n",
       "      <td>115</td>\n",
       "      <td>1</td>\n",
       "      <td>1.2</td>\n",
       "      <td>1</td>\n",
       "      <td>1</td>\n",
       "    </tr>\n",
       "    <tr>\n",
       "      <th>916</th>\n",
       "      <td>57</td>\n",
       "      <td>0</td>\n",
       "      <td>1</td>\n",
       "      <td>130.0</td>\n",
       "      <td>0</td>\n",
       "      <td>174</td>\n",
       "      <td>0</td>\n",
       "      <td>0.0</td>\n",
       "      <td>1</td>\n",
       "      <td>1</td>\n",
       "    </tr>\n",
       "    <tr>\n",
       "      <th>917</th>\n",
       "      <td>38</td>\n",
       "      <td>1</td>\n",
       "      <td>2</td>\n",
       "      <td>138.0</td>\n",
       "      <td>0</td>\n",
       "      <td>173</td>\n",
       "      <td>0</td>\n",
       "      <td>0.0</td>\n",
       "      <td>2</td>\n",
       "      <td>0</td>\n",
       "    </tr>\n",
       "  </tbody>\n",
       "</table>\n",
       "<p>918 rows × 10 columns</p>\n",
       "</div>"
      ],
      "text/plain": [
       "     Age  Sex  ChestPainType  RestingBP  FastingBS  MaxHR  ExerciseAngina  \\\n",
       "0     40    1              1      140.0          0    172               0   \n",
       "1     49    0              2      160.0          0    156               0   \n",
       "2     37    1              1      130.0          0     98               0   \n",
       "3     48    0              0      138.0          0    108               1   \n",
       "4     54    1              2      150.0          0    122               0   \n",
       "..   ...  ...            ...        ...        ...    ...             ...   \n",
       "913   45    1              3      110.0          0    132               0   \n",
       "914   68    1              0      144.0          1    141               0   \n",
       "915   57    1              0      130.0          0    115               1   \n",
       "916   57    0              1      130.0          0    174               0   \n",
       "917   38    1              2      138.0          0    173               0   \n",
       "\n",
       "     Oldpeak  ST_Slope  HeartDisease  \n",
       "0        0.0         2             0  \n",
       "1        1.0         1             1  \n",
       "2        0.0         2             0  \n",
       "3        1.5         1             1  \n",
       "4        0.0         2             0  \n",
       "..       ...       ...           ...  \n",
       "913      1.2         1             1  \n",
       "914      3.4         1             1  \n",
       "915      1.2         1             1  \n",
       "916      0.0         1             1  \n",
       "917      0.0         2             0  \n",
       "\n",
       "[918 rows x 10 columns]"
      ]
     },
     "execution_count": 17,
     "metadata": {},
     "output_type": "execute_result"
    }
   ],
   "source": [
    "data.drop(columns=['RestingECG', 'Cholesterol'], axis=1)"
   ]
  },
  {
   "cell_type": "markdown",
   "metadata": {},
   "source": [
    "Split data"
   ]
  },
  {
   "cell_type": "code",
   "execution_count": 42,
   "metadata": {},
   "outputs": [],
   "source": [
    "X = data.drop(['HeartDisease'], axis=1)\n",
    "y = data['HeartDisease']\n",
    "\n",
    "X_train, X_test, y_train, y_test = train_test_split(X, y, test_size=0.2, random_state=42, stratify=y)"
   ]
  },
  {
   "cell_type": "markdown",
   "metadata": {},
   "source": [
    "Tijdens het trainen van logisticRegression, werd er een error gegeven met max number of iterations exeeded. Dit kon je oplossen door de limiet te verhogen of nog beter zelfs, de data te scalen. Het scalen van de dataset is hierbij handig, aangezien StandardScaler afwijkingen weghaald. "
   ]
  },
  {
   "cell_type": "code",
   "execution_count": 43,
   "metadata": {},
   "outputs": [
    {
     "data": {
      "text/plain": [
       "array([[ 0.9700116 ,  0.51740017,  0.23787636, ...,  1.20277457,\n",
       "         0.30726655, -0.60472665],\n",
       "       [ 0.12202766,  0.51740017,  0.23787636, ..., -0.83141099,\n",
       "        -0.47077104,  1.06395516],\n",
       "       [ 0.54601963, -1.93273999, -0.80141678, ...,  1.20277457,\n",
       "         0.59903064, -0.60472665],\n",
       "       ...,\n",
       "       [ 0.54601963,  0.51740017, -0.80141678, ...,  1.20277457,\n",
       "         0.40452125, -2.27340846],\n",
       "       [ 0.75801561,  0.51740017, -0.80141678, ...,  1.20277457,\n",
       "        -0.85978984,  1.06395516],\n",
       "       [-0.93795226,  0.51740017, -0.80141678, ..., -0.83141099,\n",
       "        -0.85978984,  1.06395516]])"
      ]
     },
     "execution_count": 43,
     "metadata": {},
     "output_type": "execute_result"
    }
   ],
   "source": [
    "# from sklearn.preprocessing import Normalizer\n",
    "\n",
    "# normalizer = Normalizer()\n",
    "\n",
    "# X_train = normalizer.fit_transform(X_train)\n",
    "# X_test = normalizer.fit_transform(X_test)\n",
    "\n",
    "# X_train\n",
    "from sklearn.preprocessing import StandardScaler\n",
    "\n",
    "sc = StandardScaler()\n",
    "X_train = sc.fit_transform(X_train)\n",
    "X_test = sc.fit_transform(X_test)\n",
    "\n",
    "#Print data\n",
    "X_train"
   ]
  },
  {
   "cell_type": "code",
   "execution_count": 65,
   "metadata": {},
   "outputs": [
    {
     "name": "stdout",
     "output_type": "stream",
     "text": [
      "[ 0.9700116   0.51740017 -0.80141678  0.39436224 -1.01030651 -0.5448117\n",
      " -1.58841625  0.29528205  1.20277457  3.03039811  1.06395516]\n",
      "[ 0.12202766  0.51740017 -0.80141678  0.39436224 -0.46340279 -0.5448117\n",
      "  0.01089449 -0.98305964  1.20277457  4.58647329 -2.27340846]\n",
      "[ 0.75801561  0.51740017 -0.80141678 -0.71256658  0.72155525 -0.5448117\n",
      "  1.61020523 -0.05335659  1.20277457  3.03039811 -2.27340846]\n",
      "[ 1.18200758 -1.93273999  1.2771695   0.39436224  3.18262197  1.83549656\n",
      " -1.58841625  0.79887119 -0.83141099 -0.08175225  1.06395516]\n",
      "[-0.4079623   0.51740017 -0.80141678  0.39436224 -0.20818106 -0.5448117\n",
      "  1.61020523  0.14033154  1.20277457  4.0029451  -0.60472665]\n",
      "[ 0.75801561  0.51740017 -0.80141678  3.16168429  0.81270587  1.83549656\n",
      " -1.58841625  0.52770781  1.20277457  1.08530414 -2.27340846]\n",
      "[-1.46794222  0.51740017 -0.80141678 -0.71256658  4.07589804  1.83549656\n",
      "  0.01089449  0.60518306  1.20277457  0.11275715 -0.60472665]\n",
      "[ 0.44002164  0.51740017 -0.80141678 -0.04840928  3.93005705  1.83549656\n",
      "  0.01089449 -2.61003996 -0.83141099  0.11275715 -2.27340846]\n",
      "[ 0.9700116  -1.93273999 -0.80141678  0.94782665  3.00032073 -0.5448117\n",
      " -1.58841625  0.68265831 -0.83141099  3.03039811 -0.60472665]\n",
      "[-0.30196431  0.51740017 -0.80141678  0.39436224  1.01323724 -0.5448117\n",
      "  0.01089449 -0.55694574  1.20277457  3.22490751 -0.60472665]\n",
      "[ 0.44002164  0.51740017 -0.80141678 -1.04464522  1.37783971 -0.5448117\n",
      "  1.61020523  0.14033154 -0.83141099  3.41941691 -2.27340846]\n",
      "[-1.04395025  0.51740017 -0.80141678  0.94782665  3.09147135 -0.5448117\n",
      "  0.01089449  1.30246034 -0.83141099 -0.85978984  1.06395516]\n",
      "[-1.04395025  0.51740017 -0.80141678  0.11763004  4.53165113 -0.5448117\n",
      "  0.01089449 -0.05335659 -0.83141099 -0.85978984 -0.60472665]\n",
      "[ 0.22802565 -1.93273999 -0.80141678  3.71514869  0.830936    1.83549656\n",
      " -1.58841625 -0.13083185  1.20277457  3.03039811 -2.27340846]\n",
      "[ 0.75801561  0.51740017  1.2771695   3.71514869 -0.35402205  1.83549656\n",
      "  1.61020523 -2.57130233 -0.83141099 -0.85978984 -0.60472665]\n",
      "[ 2.13598951  0.51740017 -0.80141678  0.94782665  0.28403228  1.83549656\n",
      "  1.61020523 -0.24704473  1.20277457  3.03039811 -2.27340846]\n",
      "[ 1.07600959 -1.93273999 -0.80141678  3.71514869 -0.35402205 -0.5448117\n",
      "  0.01089449  0.14033154  1.20277457  0.11275715 -0.60472665]\n",
      "[ 1.07600959  0.51740017 -0.80141678  0.0622836   0.55748414 -0.5448117\n",
      "  0.01089449 -1.33169828  1.20277457  3.03039811 -2.27340846]\n",
      "[ 1.39400356 -1.93273999  1.2771695  -0.98929878  5.86245017 -0.5448117\n",
      " -1.58841625  0.91508407 -0.83141099  0.69628534 -0.60472665]\n",
      "[-1.57394021  0.51740017  0.23787636  3.16168429 -0.02587982 -0.5448117\n",
      "  0.01089449 -1.17674777 -0.83141099 -0.85978984  1.06395516]\n",
      "[ 0.54601963  0.51740017  2.31646264  2.497527    0.50279377 -0.5448117\n",
      " -1.58841625  0.33401967 -0.83141099  3.22490751 -2.27340846]\n",
      "[ 0.01602967  0.51740017 -0.80141678 -0.15910217  6.573425    1.83549656\n",
      "  0.01089449 -0.44073286  1.20277457  0.11275715 -0.60472665]\n",
      "[ 0.22802565 -1.93273999 -0.80141678  0.0622836   3.03678098 -0.5448117\n",
      " -1.58841625  0.52770781  1.20277457  0.98804944 -0.60472665]\n",
      "[-2.31592615  0.51740017 -0.80141678 -0.82325946  5.22439584 -0.5448117\n",
      "  0.01089449 -0.24704473 -0.83141099 -0.85978984 -0.60472665]\n",
      "[-0.08996832 -1.93273999  0.23787636 -1.09999166  4.11235828 -0.5448117\n",
      "  0.01089449 -0.36325761 -0.83141099 -0.85978984  1.06395516]\n",
      "[ 0.01602967  0.51740017 -0.80141678  3.71514869 -0.80977515 -0.5448117\n",
      "  0.01089449  0.21780679  1.20277457  1.08530414 -0.60472665]\n"
     ]
    },
    {
     "data": {
      "text/plain": [
       "True"
      ]
     },
     "execution_count": 65,
     "metadata": {},
     "output_type": "execute_result"
    }
   ],
   "source": [
    "import scipy.stats as stats\n",
    "\n",
    "zscores = stats.zscore(X_train)\n",
    "\n",
    "has_higher_than_3 = False\n",
    "\n",
    "for i in zscores:\n",
    "    if all(y <=3 for y in i) is False:\n",
    "        has_higher_than_3 = True\n",
    "        print(i)\n",
    "\n",
    "\n",
    "has_higher_than_3"
   ]
  },
  {
   "cell_type": "markdown",
   "metadata": {},
   "source": [
    "**Insights**\n",
    "- Er zijn zscores die groter zijn dan 3. De drie betekent dat meer dan 99% van de waardes binnen 3 standaarddeviaties valt van het gemiddelde. Als het boven de 3 is, zou dit ongebruikelijk zijn, wat betekent dat er misschien outliers zouden zijn."
   ]
  },
  {
   "cell_type": "markdown",
   "metadata": {},
   "source": [
    "#### Classifiers"
   ]
  },
  {
   "cell_type": "markdown",
   "metadata": {},
   "source": [
    "Met behulp van een aantal ML classifiers wordt er bepaald of iemand een hartziekte kan hebben of niet. Er worden drie verschillende modellen getrained: \n",
    "- Logistic regression\n",
    "- Decision Tree Classifier\n",
    "- Random Forest Tree. \n",
    "\n",
    "\n",
    "Bij hartfalen diagnotiseren is het belangrijk om te kijken of degene die getest is, ook echt correct geclassificeerd is als 'hartziekte'. Daarom wordt er geporobeerd om de recall metric zo hoog mogelijk te verkrijgen. De False Nagetives zijn dus belangrijker dan False Positives.\n",
    "\n",
    "Formule:\n",
    "Recall = (TP) / (TP + FN)"
   ]
  },
  {
   "cell_type": "markdown",
   "metadata": {},
   "source": [
    "#### Logistic Regression\n",
    "We gebruiken Gridsearch om de Logistic Regressor te optimaliseren. Door brute force worden de beste parameters ervoor gevonden."
   ]
  },
  {
   "cell_type": "code",
   "execution_count": 66,
   "metadata": {},
   "outputs": [
    {
     "name": "stdout",
     "output_type": "stream",
     "text": [
      "test {'C': 0.1, 'solver': 'lbfgs'}\n"
     ]
    }
   ],
   "source": [
    "from sklearn.linear_model import LogisticRegression\n",
    "from sklearn.model_selection import GridSearchCV\n",
    "\n",
    "grid_values = {'C': [0.01, 0.1,1,10,100], 'solver': ['lbfgs', 'liblinear', 'sag']}\n",
    "\n",
    "glr = GridSearchCV(LogisticRegression(random_state=11), grid_values, cv=7)\n",
    "\n",
    "glr.fit(X_train, y_train)\n",
    "\n",
    "print('test', glr.best_params_)"
   ]
  },
  {
   "cell_type": "markdown",
   "metadata": {},
   "source": [
    "**Insights**\n",
    "\n",
    "Uit de Gridsearch komt dat {'C': 0.01, 'solver': 'lbfgs'} de optimale parameters zijn."
   ]
  },
  {
   "cell_type": "code",
   "execution_count": 67,
   "metadata": {},
   "outputs": [],
   "source": [
    "start = time()\n",
    "lr = LogisticRegression(random_state=11, C=0.001, solver='lbfgs')\n",
    "\n",
    "lr.fit(X_train, y_train)\n",
    "\n",
    "end = time()\n",
    "\n",
    "lr_train_time = end - start"
   ]
  },
  {
   "cell_type": "markdown",
   "metadata": {},
   "source": [
    "#### DecisionTreeClassifier\n",
    "\n",
    "Ook hier wordt er met GridSearch geprobeerd om de optimale paramters te kiezen voor DesicionTreeClassifier"
   ]
  },
  {
   "cell_type": "code",
   "execution_count": 68,
   "metadata": {},
   "outputs": [
    {
     "data": {
      "text/plain": [
       "{'max_depth': 3, 'max_leaf_nodes': 5, 'min_samples_split': 2}"
      ]
     },
     "execution_count": 68,
     "metadata": {},
     "output_type": "execute_result"
    }
   ],
   "source": [
    "from sklearn.tree import DecisionTreeClassifier\n",
    "\n",
    "tree_params = {'max_depth':[*[i for i in range(1, 20)], 30,40,50,70,90,100], 'max_leaf_nodes': list(range(2, 100)), 'min_samples_split': [2, 3, 4]}\n",
    "\n",
    "clf = GridSearchCV(DecisionTreeClassifier(random_state=11), tree_params, cv=7, scoring='recall')\n",
    "\n",
    "clf.fit(X_train, y_train)   \n",
    "\n",
    "clf.best_params_"
   ]
  },
  {
   "cell_type": "markdown",
   "metadata": {},
   "source": [
    "**Insights**\n",
    "\n",
    "{'max_depth': 3, 'max_leaf_nodes': 5, 'min_samples_split': 2} zijn dus de optimale parameters. Zelf had ik een grotere max_depth verwacht."
   ]
  },
  {
   "cell_type": "code",
   "execution_count": 111,
   "metadata": {},
   "outputs": [],
   "source": [
    "start = time()\n",
    "\n",
    "dtc = DecisionTreeClassifier(max_depth=3, max_leaf_nodes=5, min_samples_split=2, random_state=11)\n",
    "\n",
    "dtc.fit(X_train, y_train)\n",
    "\n",
    "end = time()\n",
    "\n",
    "dt_train_time = end - start"
   ]
  },
  {
   "cell_type": "markdown",
   "metadata": {},
   "source": [
    "#### RandomForestClassifier\n",
    "\n",
    "Ik heb geprobeerd om de GridSearchCV te gebruiken bij de RFC, maar dit duurde enorm lang. Daarom leek het handig om eerst een Randomized Search te doen. M.b.v. de RandomizedSearchCV krijg ik een heldere beeld over de paramters."
   ]
  },
  {
   "cell_type": "code",
   "execution_count": 97,
   "metadata": {},
   "outputs": [
    {
     "data": {
      "text/plain": [
       "RandomForestClassifier(max_depth=9, min_samples_leaf=2, min_samples_split=4,\n",
       "                       n_estimators=53, random_state=11)"
      ]
     },
     "execution_count": 97,
     "metadata": {},
     "output_type": "execute_result"
    }
   ],
   "source": [
    "from sklearn.ensemble import RandomForestClassifier\n",
    "from sklearn.model_selection import RandomizedSearchCV\n",
    "import random\n",
    "\n",
    "\n",
    "# Number of trees in random forest\n",
    "n_estimators = [random.randint(1, 200) for _ in range (1, 50)]\n",
    "#Number of features to consider at every split\n",
    "max_features = ['auto', 'sqrt']\n",
    "# Maximum number of levels in tree\n",
    "max_depth = [*[i for i in range(1, 20)], 30,40,50,70,90,100]\n",
    "# Minimum number of samples required to split a node\n",
    "min_samples_split = [2, 3,4]\n",
    "# Minimum number of samples required at each leaf node\n",
    "min_samples_leaf = [1, 2, 4]\n",
    "\n",
    "# Create the random grid\n",
    "random_grid = {'n_estimators': n_estimators,\n",
    "               'max_features': max_features,\n",
    "               'max_depth': max_depth,\n",
    "               'min_samples_split': min_samples_split,\n",
    "               'min_samples_leaf': min_samples_leaf}\n",
    "\n",
    "\n",
    "rrfc = RandomizedSearchCV(RandomForestClassifier(random_state=11), random_grid, cv=10, n_jobs=-1, scoring='recall')\n",
    "\n",
    "rrfc.fit(X_train, y_train)\n",
    "\n",
    "rrfc.best_estimator_"
   ]
  },
  {
   "cell_type": "markdown",
   "metadata": {},
   "source": [
    "Nu doen we een Gridsearch met heel wat minder parameters, aangezien we ongeveer al weten wat ongeveer de beste parameters zijn. Zo doen we bijvoorbeeld een gridseach voor max_depth 13 t/m 16, aangezien we weten dat het ongeveer bij de 14 is. "
   ]
  },
  {
   "cell_type": "code",
   "execution_count": 99,
   "metadata": {},
   "outputs": [
    {
     "data": {
      "text/plain": [
       "RandomForestClassifier(max_depth=9, max_features='sqrt', min_samples_leaf=3,\n",
       "                       n_estimators=53, random_state=11)"
      ]
     },
     "execution_count": 99,
     "metadata": {},
     "output_type": "execute_result"
    }
   ],
   "source": [
    "# Number of trees in random forest\n",
    "n_estimators = [i for i in range(49, 55)]\n",
    "# Maximum number of levels in tree\n",
    "max_depth = [8,9,10]\n",
    "# Minimum number of samples required to be a leaf node\n",
    "min_samples_leaf = [2,3,4]\n",
    "min_sample_split = [3,4,5]\n",
    "# Create the random grid\n",
    "random_grid = {'n_estimators': n_estimators,\n",
    "                'max_features': ['sqrt'],\n",
    "                'max_depth': max_depth,\n",
    "                'min_samples_leaf': min_samples_leaf,\n",
    "                'min_samples_split': min_samples_split}\n",
    "\n",
    "grfc = GridSearchCV(RandomForestClassifier(random_state=11), random_grid, cv=7, scoring='recall')\n",
    "\n",
    "grfc.fit(X_train, y_train)\n",
    "\n",
    "grfc.best_estimator_\n",
    "    "
   ]
  },
  {
   "cell_type": "markdown",
   "metadata": {},
   "source": [
    "**Insights**\n",
    "\n",
    "De beste paramters zijn dus: max_depth=5, max_features='sqrt', min_samples_leaf=4, n_estimators=98, random_state=11"
   ]
  },
  {
   "cell_type": "code",
   "execution_count": 100,
   "metadata": {},
   "outputs": [],
   "source": [
    "start = time()\n",
    "rfc = RandomForestClassifier(max_depth=9, max_features='sqrt', n_estimators=53, min_samples_leaf=3, random_state=11)\n",
    "rfc.fit(X_train, y_train)\n",
    "\n",
    "end = time()\n",
    "\n",
    "rf_train_time = end - start"
   ]
  },
  {
   "cell_type": "markdown",
   "metadata": {},
   "source": [
    "## Resultaten"
   ]
  },
  {
   "cell_type": "markdown",
   "metadata": {},
   "source": [
    "##### Recall score"
   ]
  },
  {
   "cell_type": "code",
   "execution_count": 92,
   "metadata": {},
   "outputs": [],
   "source": [
    "from sklearn.metrics import confusion_matrix\n",
    "\n",
    "def get_scores(model):\n",
    "    pred = model.predict(X_train)\n",
    "    recall_train = recall_score(y_train, pred)\n",
    "    pred = model.predict(X_test)\n",
    "    recall_test = recall_score(y_test, pred)\n",
    "\n",
    "    print(confusion_matrix(y_test, pred))\n",
    "    print('-----------')\n",
    "\n",
    "    return {'train': recall_train, 'test': recall_test}\n",
    "    "
   ]
  },
  {
   "cell_type": "code",
   "execution_count": 93,
   "metadata": {},
   "outputs": [
    {
     "name": "stdout",
     "output_type": "stream",
     "text": [
      "[[60 22]\n",
      " [ 8 94]]\n",
      "-----------\n",
      "[[69 13]\n",
      " [21 81]]\n",
      "-----------\n",
      "[[69 13]\n",
      " [11 91]]\n",
      "-----------\n"
     ]
    }
   ],
   "source": [
    "lr_scores = get_scores(lr)\n",
    "dtc_scores = get_scores(dtc)\n",
    "rfc_scores = get_scores(rfc)\n"
   ]
  },
  {
   "cell_type": "markdown",
   "metadata": {},
   "source": [
    "**Insights**\n",
    "- RFC ziet eruit alsof het hoger scoort in accuracy qua accuracy_score.\n",
    "- LR heeft de meeste false positives, maar ook de minste false negatives\n",
    "- Bij RFC is de FP en FN gelijk"
   ]
  },
  {
   "cell_type": "code",
   "execution_count": 112,
   "metadata": {},
   "outputs": [
    {
     "data": {
      "image/png": "[encoded data removed]",
      "text/plain": [
       "<Figure size 432x288 with 1 Axes>"
      ]
     },
     "metadata": {
      "needs_background": "light"
     },
     "output_type": "display_data"
    }
   ],
   "source": [
    "import numpy as np\n",
    "\n",
    "\n",
    "train = [lr_scores['train'], dtc_scores['train'], rfc_scores['train']]\n",
    "test = [lr_scores['test'], dtc_scores['test'], rfc_scores['test']]\n",
    "\n",
    "models = ('lr', 'dtc', 'rfc')\n",
    "\n",
    "x = np.arange(len(models))\n",
    "width = 0.2\n",
    "\n",
    "fig, ax = plt.subplots()\n",
    "train_bars = ax.barh(x - width/2, train, width, label='train', color='g')\n",
    "test_bars = ax.barh(x + width/2, test, width, label='test', color='black')\n",
    "\n",
    "# Add some text for labels, title and custom x-axis tick labels, etc.\n",
    "ax.set_xlabel('Scores')\n",
    "ax.set_title('Recall-scores')\n",
    "ax.set_yticks(x, models)\n",
    "ax.legend(loc=\"lower left\")\n",
    "\n",
    "ax.bar_label(train_bars, padding=5)\n",
    "ax.bar_label(test_bars, padding=5)\n",
    "\n",
    "fig.tight_layout()\n",
    "\n",
    "plt.show()"
   ]
  },
  {
   "cell_type": "markdown",
   "metadata": {},
   "source": [
    "**Insights**\n",
    "- LR: De test doet het beter dan de train?? Dat is gek.\n",
    "- DT: Dit ziet er goed uit. Geen sprake van over- of underfitting\n",
    "- RFC: Ziet er prima uit."
   ]
  },
  {
   "cell_type": "markdown",
   "metadata": {},
   "source": [
    "Door een aantal hyperparameters van RFC te wijzigen en te verwijderen, hebben we de score kunnen verbeteren van 0.89 naar 0.91. Dit heeft meteen ook de overfitting probleem opgelost:"
   ]
  },
  {
   "cell_type": "markdown",
   "metadata": {},
   "source": [
    "##### ROC-curve"
   ]
  },
  {
   "cell_type": "code",
   "execution_count": 113,
   "metadata": {},
   "outputs": [
    {
     "data": {
      "image/png": "[encoded data removed]",
      "text/plain": [
       "<Figure size 432x288 with 1 Axes>"
      ]
     },
     "metadata": {
      "needs_background": "light"
     },
     "output_type": "display_data"
    }
   ],
   "source": [
    "from sklearn.metrics import roc_curve, roc_auc_score\n",
    "\n",
    "lr_pred = lr.predict(X_test)\n",
    "dtc_pred = dtc.predict(X_test)\n",
    "rfc_pred = rfc.predict(X_test)\n",
    "\n",
    "\n",
    "auc = roc_auc_score(y_test, lr_pred)\n",
    "\n",
    "train_fpr, train_tpr, _ = roc_curve(y_test, y_test)\n",
    "\n",
    "lr_fpr, lr_tpr, _ = roc_curve(y_test, lr_pred)\n",
    "dtc_fpr, dtc_tpr, _ = roc_curve(y_test, dtc_pred)\n",
    "rfc_fpr, rfc_tpr, _ = roc_curve(y_test, rfc_pred)\n",
    "\n",
    "plt.plot()\n",
    "plt.plot(train_fpr, train_tpr)\n",
    "plt.plot(lr_fpr, lr_tpr, 'b--')\n",
    "plt.plot(dtc_fpr, dtc_tpr, linestyle='--', color='red')\n",
    "plt.plot(rfc_fpr, rfc_tpr, linestyle='--', color='green')\n",
    "plt.legend(['Train', 'LR', 'DTC', 'RFC'])\n",
    "plt.xlabel('False Positive Reate')\n",
    "plt.ylabel('True positive Rate')\n",
    "\n",
    "plt.show()"
   ]
  },
  {
   "cell_type": "markdown",
   "metadata": {},
   "source": [
    "**Insights**\n",
    "- Random Forst Classifier komt het dichtst bij de train rate. Wat je wilt hebben is dat je test lijn zo links boven mogelijk is. De oppervlakte onder de lijn moet zo groot mogelijk zijn. De RFC doet daat het best in. Dit zegt dus dat deze het minste False Positive heeft met hoogste True Positive Rate."
   ]
  },
  {
   "cell_type": "markdown",
   "metadata": {},
   "source": [
    "##### StandaardScaler\n",
    "\n",
    "Om te beginnen, gebruiken we de modellen zonder enige parameters (exlusief random_state). Hiermee testen we even de StandaardScaler om de X data te scalen. Dit haalt de gemiddlede weg en zet elke waarde om in variance. De waardes scalen heeft zeker invloed gehad op zowel de recall en de accuracy score. Toch gaat het bij deze opdracht om alleen de recall score.\n",
    "\n",
    "|                          | Recall | Recall met StandaardScaler | \n",
    "|--------------------------|--------|----------------------------|\n",
    "| Logistic Regression      | 0.88   | 0.89                       |\n",
    "| Decision Tree            | 0.72   | 0.83                       | \n",
    "| Random Forest Classifier | 0.85   | 0.87                       |"
   ]
  },
  {
   "cell_type": "markdown",
   "metadata": {},
   "source": [
    "##### Parameters\n",
    "\n",
    "Eerst had ik zelf met random parameters de modellen getest. De Recall-score bleef rond 0.82-0.86 zweven. Voor iedere model veranderde ik bijvoorbeeld de n_estimations, of max_depth etc. Uiteindelijk bedacht ik me dat we hier heel goed GridSearch kunnen toepassen. We kunnen zo heel snel de optimale parameters vinden.\n",
    "\n",
    "Met behulp van RandomSearch en Gridsearch is er geprobeerd om de optimale parameters te vinden voor elke model.\n",
    "\n",
    "Logistic Regression: C=0.001, random_state=11, solver='newton-cg\n",
    "\n",
    "Decision Tree: max_depth=3, max_leaf_nodes=5\n",
    "\n",
    "Random Forest: max_depth=15, max_features='sqrt', n_estimators=179, min_samples_split=6, min_samples_leaf=2, random_state=11 \n",
    "\n",
    "\n",
    "|                          | Recall | Recall met beste parameters| \n",
    "|--------------------------|--------|----------------------------|\n",
    "| Logistic Regression      | 0.89   | 0.92                       |\n",
    "| Decision Tree            | 0.77   | 0.80                       | \n",
    "| Random Forest Classifier | 0.87   | 0.90                       |"
   ]
  },
  {
   "cell_type": "markdown",
   "metadata": {},
   "source": [
    "##### Tijd"
   ]
  },
  {
   "cell_type": "code",
   "execution_count": 102,
   "metadata": {},
   "outputs": [
    {
     "name": "stdout",
     "output_type": "stream",
     "text": [
      "LR train tijd: 0.003749847412109375\n",
      "DTC train tijd: 0.001085042953491211\n",
      "RFC train tijd: 0.040924072265625\n"
     ]
    }
   ],
   "source": [
    "print(f\"LR train tijd: {lr_train_time}\")\n",
    "print(f\"DTC train tijd: {dt_train_time}\")\n",
    "print(f\"RFC train tijd: {rf_train_time}\")"
   ]
  },
  {
   "cell_type": "markdown",
   "metadata": {},
   "source": [
    "**Insights**\n",
    "- Decision Tree Classifier is het snelst\n",
    "- Random Forest Classifier is het traagst"
   ]
  },
  {
   "cell_type": "markdown",
   "metadata": {},
   "source": [
    "### Conclusie\n",
    "\n",
    "De beste classifier komt volgens dit onderzoek op Logistic Regression. Zelf zat ik te twijfelen over Random Forest Classifier en Logistic Regression. Ik wist wel dat Logistic Regression hier goed bij zou passen, alleen had ik ook het voermoede dat Random Forest Classifier misschien beter zou werken als je de optimale parameters zou meegeven. Ik weet zeker dat ik de optimale parameters niet heb meegegeven (heb het wel zo goed mogelijk geprobeerd), maar je ziet wel de RFC wel heel dichtbij de LR score komt. Met betere parameters verwacht ik zelfs dat RFC het inhaalt.\n",
    "\n",
    "Random Forest Classifier heeft wel de minste False Positives tegenover de True Positives. Dit geeft aan dat deze model bij dit probleem minder fouten maakt.\n",
    "\n",
    "Door de kolommen Cholesterol en RestingECG uit de dataset te gooien, is zowel de recall score en de accuracy score van Logistic regression ietsjes verhoogd. De andere twee zijn zowat dezelfde gebleven. Is het het waard om de kolommen te verwijderen? meh. Je ziet niet echt veel verschil. Toch telt elke procent.\n",
    "\n",
    "Qua tijd is Decision Tree het snelst. Hier ben ik wel verbaast over, aangezien LR juist sneller hoort te zijn. Toch denk ik dat dit gewoon te maken heeft met het feit data de dataset klein is. Bij grotere datasets denk ik wel dat LR sneller zal zijn. Dat RFC het traagst is, is wel duidelijk.\n",
    "\n",
    "**Hoe kan je het verbeteren?**\n",
    "\n",
    "- Uitschieters eruit halen. Er zijn sowieso nog uitschieters. Er zijn nog wat kolommen met z-scores > 3. \n",
    "- cross_validation toepassen. \n",
    "- Ik heb ook bijvoorbeeld bij cholesterol de 0 waardes vervangen met de mediaan. Misschien zijn andere methodes handiger. Dit zou te testen vallen.\n",
    "- Last but not least, de RFC moeten we vaker runnen. Het is totaal gerandomized. Zo kwam een max_depth uit op 5, maar misschien zou een ander beter zijn geweest, die niet in de search voorbij kwam.\n",
    "\n",
    "Ook heb ik een aantal paramters niet gebruikt. Misschien zouden die parameters wel van belang kunnen zijn met een combinatie van andere parameters. Zo heb ik bijvoorbeeld bij Logistic Regression de solver 'saga' niet gebruikt. Samen met een penalty van 'l2', kwam de recall op 100%. Dat is mooi! Maar waarom heb ik die er dan niet bijgezet? Nou, de accuracy van de model werd maar 50%... De true positives werd altijd 0! Hé! Daar hebben we helemaal niks aan! Zo zijn er wat aantal paramters die de accuracy heel erg omlaag halen, terwijl de recall score juist goed is. Daarom heb ik deze er express uitgehaald. \n",
    "\n",
    "Al met al, ik heb mooie resultaten bereikt met deze modellen. Een recall-score van 92% is niet niets."
   ]
  },
  {
   "cell_type": "markdown",
   "metadata": {},
   "source": [
    "### Bronnen\n",
    "- https://researchpy.readthedocs.io/en/latest/ttest_documentation.html\n",
    "- https://scikit-learn.org/stable/modules/generated/sklearn.linear_model.LogisticRegression.html\n",
    "- https://towardsdatascience.com/how-to-tune-a-decision-tree-f03721801680\n",
    "- https://vitalflux.com/pandas-impute-missing-values-mean-median-mode/\n",
    "- https://towardsdatascience.com/how-and-why-to-standardize-your-data-996926c2c832#:~:text=StandardScaler%20removes%20the%20mean%20and,standard%20deviation%20of%20each%20feature.\n",
    "- https://www.projectpro.io/recipes/optimize-hyper-parameters-of-logistic-regression-model-using-grid-search-in-python\n",
    "- https://stackoverflow.com/questions/20229822/check-if-all-values-in-list-are-greater-than-a-certain-number\n",
    "- https://datagy.io/python-z-score/"
   ]
  }
 ],
 "metadata": {
  "interpreter": {
   "hash": "7575a4681d2f0d9d393de216997a45df61c0b32a5784f7c05a59091796f2378d"
  },
  "kernelspec": {
   "display_name": "Python 3.9.10 ('miniforge3')",
   "language": "python",
   "name": "python3"
  },
  "language_info": {
   "codemirror_mode": {
    "name": "ipython",
    "version": 3
   },
   "file_extension": ".py",
   "mimetype": "text/x-python",
   "name": "python",
   "nbconvert_exporter": "python",
   "pygments_lexer": "ipython3",
   "version": "3.9.10"
  },
  "orig_nbformat": 4
 },
 "nbformat": 4,
 "nbformat_minor": 2
}
