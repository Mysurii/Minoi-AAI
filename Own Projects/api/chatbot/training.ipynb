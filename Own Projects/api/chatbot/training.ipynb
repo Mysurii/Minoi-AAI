{
 "cells": [
  {
   "cell_type": "code",
   "execution_count": 1,
   "metadata": {},
   "outputs": [],
   "source": [
    "import random\n",
    "import json\n",
    "import string\n",
    "import pickle\n",
    "import emoji\n",
    "import re\n",
    "import numpy as np\n",
    "\n",
    "import nltk\n",
    "from nltk.stem import WordNetLemmatizer\n",
    "from nltk.tokenize import word_tokenize\n",
    "from sklearn.preprocessing import OneHotEncoder\n",
    "\n",
    "from tensorflow.keras.models import Sequential\n",
    "from tensorflow.keras.layers import Dense, Dropout"
   ]
  },
  {
   "cell_type": "code",
   "execution_count": 2,
   "metadata": {},
   "outputs": [],
   "source": [
    "lemmatizer = WordNetLemmatizer()\n",
    "\n",
    "def get_json_data(file):\n",
    "    return json.loads(open(file).read())\n",
    "\n",
    "def clean_text(text: str) -> str:\n",
    "    text = text.lower()\n",
    "    text = text.translate(str.maketrans('', '', string.punctuation))\n",
    "    text = emoji.demojize(text)\n",
    "    text = re.sub(r\"\\:(.*?)\\:\", '', text)\n",
    "    text = re.sub(r\"\\s+\", \" \", text)\n",
    "    text = ''.join([lemmatizer.lemmatize(word) for word in text])\n",
    "    return text"
   ]
  },
  {
   "cell_type": "code",
   "execution_count": 3,
   "metadata": {},
   "outputs": [],
   "source": [
    "lemmetizer = WordNetLemmatizer()\n",
    "\n",
    "intents  = get_json_data('basic_intents.json')\n",
    "training_intents = get_json_data('training_intents.json')\n",
    "\n",
    "intents.extend(training_intents)"
   ]
  },
  {
   "cell_type": "code",
   "execution_count": 4,
   "metadata": {},
   "outputs": [],
   "source": [
    "words = []\n",
    "X = []\n",
    "y = []\n",
    "\n",
    "for intent in intents:\n",
    "    for pattern in intent['patterns']:\n",
    "        cleaned_pattern = clean_text(pattern)\n",
    "        word_list = word_tokenize(cleaned_pattern)\n",
    "        words.extend(word_list)\n",
    "        X.append(word_list)\n",
    "        y.append(intent['tag'])\n",
    "\n",
    "\n",
    "words = sorted(set(words))"
   ]
  },
  {
   "cell_type": "code",
   "execution_count": 5,
   "metadata": {},
   "outputs": [],
   "source": [
    "pickle.dump(words, open('all_words.pickle', 'wb'))"
   ]
  },
  {
   "cell_type": "code",
   "execution_count": 6,
   "metadata": {},
   "outputs": [],
   "source": [
    "train_X = []\n",
    "\n",
    "for idx, doc in enumerate(X):\n",
    "    bag = []\n",
    "\n",
    "    for word in words:\n",
    "        bag.append(1) if word in doc else bag.append(0)\n",
    "    train_X.append(bag)\n"
   ]
  },
  {
   "cell_type": "code",
   "execution_count": 7,
   "metadata": {},
   "outputs": [],
   "source": [
    "ohe = OneHotEncoder(sparse=False)\n",
    "\n",
    "y_encoded = np.array(y).reshape(-1, 1)\n",
    "\n",
    "y_encoded = ohe.fit_transform(y_encoded).tolist()\n"
   ]
  },
  {
   "cell_type": "code",
   "execution_count": 8,
   "metadata": {},
   "outputs": [],
   "source": [
    "train_data = list(zip(train_X, y_encoded))\n",
    "\n",
    "random.shuffle(train_data)\n",
    "\n",
    "train_X, y_encoded = zip(*train_data)"
   ]
  },
  {
   "cell_type": "code",
   "execution_count": 9,
   "metadata": {},
   "outputs": [
    {
     "name": "stdout",
     "output_type": "stream",
     "text": [
      "Metal device set to: Apple M1 Pro\n",
      "\n",
      "systemMemory: 16.00 GB\n",
      "maxCacheSize: 5.33 GB\n",
      "\n"
     ]
    },
    {
     "name": "stderr",
     "output_type": "stream",
     "text": [
      "2022-05-17 13:59:53.514896: I tensorflow/core/common_runtime/pluggable_device/pluggable_device_factory.cc:305] Could not identify NUMA node of platform GPU ID 0, defaulting to 0. Your kernel may not have been built with NUMA support.\n",
      "2022-05-17 13:59:53.515029: I tensorflow/core/common_runtime/pluggable_device/pluggable_device_factory.cc:271] Created TensorFlow device (/job:localhost/replica:0/task:0/device:GPU:0 with 0 MB memory) -> physical PluggableDevice (device: 0, name: METAL, pci bus id: <undefined>)\n"
     ]
    }
   ],
   "source": [
    "model = Sequential()\n",
    "model.add(Dense(128, input_shape=(len(train_X[0]),), activation='relu'))\n",
    "model.add(Dropout(0.5))\n",
    "model.add(Dense(64, activation='relu'))\n",
    "model.add(Dropout(0.5))\n",
    "model.add(Dense(len(y_encoded[0]), activation='softmax'))\n",
    "\n",
    "model.compile(loss='categorical_crossentropy', optimizer='adam', metrics=['accuracy'])"
   ]
  },
  {
   "cell_type": "code",
   "execution_count": 10,
   "metadata": {},
   "outputs": [
    {
     "name": "stdout",
     "output_type": "stream",
     "text": [
      "Epoch 1/50\n"
     ]
    },
    {
     "name": "stderr",
     "output_type": "stream",
     "text": [
      "2022-05-17 13:59:53.773972: W tensorflow/core/platform/profile_utils/cpu_utils.cc:128] Failed to get CPU frequency: 0 Hz\n",
      "2022-05-17 13:59:53.936790: I tensorflow/core/grappler/optimizers/custom_graph_optimizer_registry.cc:113] Plugin optimizer for device_type GPU is enabled.\n"
     ]
    },
    {
     "name": "stdout",
     "output_type": "stream",
     "text": [
      "22/22 [==============================] - 0s 8ms/step - loss: 2.6063 - accuracy: 0.0727\n",
      "Epoch 2/50\n",
      "22/22 [==============================] - 0s 8ms/step - loss: 2.4859 - accuracy: 0.1727\n",
      "Epoch 3/50\n",
      "22/22 [==============================] - 0s 8ms/step - loss: 2.4013 - accuracy: 0.2091\n",
      "Epoch 4/50\n",
      "22/22 [==============================] - 0s 9ms/step - loss: 2.2402 - accuracy: 0.3364\n",
      "Epoch 5/50\n",
      "22/22 [==============================] - 0s 9ms/step - loss: 2.0700 - accuracy: 0.3909\n",
      "Epoch 6/50\n",
      "22/22 [==============================] - 0s 8ms/step - loss: 1.9592 - accuracy: 0.4364\n",
      "Epoch 7/50\n",
      "22/22 [==============================] - 0s 8ms/step - loss: 1.7744 - accuracy: 0.5364\n",
      "Epoch 8/50\n",
      "22/22 [==============================] - 0s 7ms/step - loss: 1.5785 - accuracy: 0.5909\n",
      "Epoch 9/50\n",
      "22/22 [==============================] - 0s 9ms/step - loss: 1.3827 - accuracy: 0.7182\n",
      "Epoch 10/50\n",
      "22/22 [==============================] - 0s 8ms/step - loss: 1.2712 - accuracy: 0.7182\n",
      "Epoch 11/50\n",
      "22/22 [==============================] - 0s 9ms/step - loss: 1.1927 - accuracy: 0.7364\n",
      "Epoch 12/50\n",
      "22/22 [==============================] - 0s 8ms/step - loss: 0.9996 - accuracy: 0.8182\n",
      "Epoch 13/50\n",
      "22/22 [==============================] - 0s 8ms/step - loss: 0.8274 - accuracy: 0.8364\n",
      "Epoch 14/50\n",
      "22/22 [==============================] - 0s 8ms/step - loss: 0.7279 - accuracy: 0.8636\n",
      "Epoch 15/50\n",
      "22/22 [==============================] - 0s 8ms/step - loss: 0.5655 - accuracy: 0.9455\n",
      "Epoch 16/50\n",
      "22/22 [==============================] - 0s 9ms/step - loss: 0.5187 - accuracy: 0.9091\n",
      "Epoch 17/50\n",
      "22/22 [==============================] - 0s 8ms/step - loss: 0.4658 - accuracy: 0.9182\n",
      "Epoch 18/50\n",
      "22/22 [==============================] - 0s 8ms/step - loss: 0.3493 - accuracy: 0.9727\n",
      "Epoch 19/50\n",
      "22/22 [==============================] - 0s 8ms/step - loss: 0.3283 - accuracy: 0.9364\n",
      "Epoch 20/50\n",
      "22/22 [==============================] - 0s 8ms/step - loss: 0.2796 - accuracy: 0.9545\n",
      "Epoch 21/50\n",
      "22/22 [==============================] - 0s 8ms/step - loss: 0.2272 - accuracy: 0.9818\n",
      "Epoch 22/50\n",
      "22/22 [==============================] - 0s 8ms/step - loss: 0.2537 - accuracy: 0.9545\n",
      "Epoch 23/50\n",
      "22/22 [==============================] - 0s 8ms/step - loss: 0.1781 - accuracy: 0.9818\n",
      "Epoch 24/50\n",
      "22/22 [==============================] - 0s 8ms/step - loss: 0.1575 - accuracy: 0.9818\n",
      "Epoch 25/50\n",
      "22/22 [==============================] - 0s 8ms/step - loss: 0.1196 - accuracy: 0.9909\n",
      "Epoch 26/50\n",
      "22/22 [==============================] - 0s 8ms/step - loss: 0.1137 - accuracy: 1.0000\n",
      "Epoch 27/50\n",
      "22/22 [==============================] - 0s 8ms/step - loss: 0.1062 - accuracy: 0.9818\n",
      "Epoch 28/50\n",
      "22/22 [==============================] - 0s 8ms/step - loss: 0.0878 - accuracy: 0.9909\n",
      "Epoch 29/50\n",
      "22/22 [==============================] - 0s 8ms/step - loss: 0.0748 - accuracy: 0.9909\n",
      "Epoch 30/50\n",
      "22/22 [==============================] - 0s 8ms/step - loss: 0.0861 - accuracy: 0.9909\n",
      "Epoch 31/50\n",
      "22/22 [==============================] - 0s 8ms/step - loss: 0.0803 - accuracy: 0.9909\n",
      "Epoch 32/50\n",
      "22/22 [==============================] - 0s 8ms/step - loss: 0.0528 - accuracy: 0.9909\n",
      "Epoch 33/50\n",
      "22/22 [==============================] - 0s 8ms/step - loss: 0.0538 - accuracy: 1.0000\n",
      "Epoch 34/50\n",
      "22/22 [==============================] - 0s 8ms/step - loss: 0.0520 - accuracy: 0.9909\n",
      "Epoch 35/50\n",
      "22/22 [==============================] - 0s 8ms/step - loss: 0.0514 - accuracy: 0.9909\n",
      "Epoch 36/50\n",
      "22/22 [==============================] - 0s 8ms/step - loss: 0.0663 - accuracy: 0.9818\n",
      "Epoch 37/50\n",
      "22/22 [==============================] - 0s 8ms/step - loss: 0.0565 - accuracy: 0.9909\n",
      "Epoch 38/50\n",
      "22/22 [==============================] - 0s 8ms/step - loss: 0.0442 - accuracy: 0.9909\n",
      "Epoch 39/50\n",
      "22/22 [==============================] - 0s 8ms/step - loss: 0.0371 - accuracy: 0.9909\n",
      "Epoch 40/50\n",
      "22/22 [==============================] - 0s 8ms/step - loss: 0.0441 - accuracy: 0.9909\n",
      "Epoch 41/50\n",
      "22/22 [==============================] - 0s 8ms/step - loss: 0.0409 - accuracy: 0.9909\n",
      "Epoch 42/50\n",
      "22/22 [==============================] - 0s 8ms/step - loss: 0.0312 - accuracy: 1.0000\n",
      "Epoch 43/50\n",
      "22/22 [==============================] - 0s 8ms/step - loss: 0.0574 - accuracy: 0.9818\n",
      "Epoch 44/50\n",
      "22/22 [==============================] - 0s 8ms/step - loss: 0.0326 - accuracy: 0.9909\n",
      "Epoch 45/50\n",
      "22/22 [==============================] - 0s 8ms/step - loss: 0.0433 - accuracy: 0.9818\n",
      "Epoch 46/50\n",
      "22/22 [==============================] - 0s 8ms/step - loss: 0.0308 - accuracy: 0.9909\n",
      "Epoch 47/50\n",
      "22/22 [==============================] - 0s 8ms/step - loss: 0.0385 - accuracy: 0.9909\n",
      "Epoch 48/50\n",
      "22/22 [==============================] - 0s 8ms/step - loss: 0.0190 - accuracy: 1.0000\n",
      "Epoch 49/50\n",
      "22/22 [==============================] - 0s 8ms/step - loss: 0.0265 - accuracy: 0.9909\n",
      "Epoch 50/50\n",
      "22/22 [==============================] - 0s 8ms/step - loss: 0.0475 - accuracy: 0.9818\n"
     ]
    }
   ],
   "source": [
    "history = model.fit(train_X, y_encoded, epochs=50, batch_size=5, verbose=1)"
   ]
  },
  {
   "cell_type": "code",
   "execution_count": 11,
   "metadata": {},
   "outputs": [
    {
     "name": "stdout",
     "output_type": "stream",
     "text": [
      "Sucesfully saved the model!\n"
     ]
    }
   ],
   "source": [
    "try:\n",
    "    model.save('chatbot_model.h5', history)\n",
    "    print('Sucesfully saved the model!')\n",
    "except Exception as e:\n",
    "    print(f'Error while saving the model: {str(e)}')"
   ]
  }
 ],
 "metadata": {
  "interpreter": {
   "hash": "7575a4681d2f0d9d393de216997a45df61c0b32a5784f7c05a59091796f2378d"
  },
  "kernelspec": {
   "display_name": "Python 3.8.13 64-bit ('miniforge3')",
   "language": "python",
   "name": "python3"
  },
  "language_info": {
   "codemirror_mode": {
    "name": "ipython",
    "version": 3
   },
   "file_extension": ".py",
   "mimetype": "text/x-python",
   "name": "python",
   "nbconvert_exporter": "python",
   "pygments_lexer": "ipython3",
   "version": "3.8.13"
  },
  "orig_nbformat": 4
 },
 "nbformat": 4,
 "nbformat_minor": 2
}
