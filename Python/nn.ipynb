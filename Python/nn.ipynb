{
 "cells": [
  {
   "cell_type": "markdown",
   "metadata": {},
   "source": [
    "# Neural Net From Scratch\n",
    "\n",
    "### Imports"
   ]
  },
  {
   "cell_type": "code",
   "execution_count": 8,
   "metadata": {},
   "outputs": [],
   "source": [
    "import numpy as np\n",
    "\n",
    "np.random.seed(1)"
   ]
  },
  {
   "cell_type": "markdown",
   "metadata": {},
   "source": [
    "### Activation functions"
   ]
  },
  {
   "cell_type": "code",
   "execution_count": 9,
   "metadata": {},
   "outputs": [],
   "source": [
    "class Linear():\n",
    "    @staticmethod\n",
    "    def f(x):\n",
    "        return x\n",
    "    @staticmethod\n",
    "    def df(x):\n",
    "        return x\n",
    "\n",
    "class Relu():\n",
    "    @staticmethod\n",
    "    def f(x):\n",
    "        return x * (x > 0)\n",
    "    @staticmethod\n",
    "    def df(x):\n",
    "        return 1 * (x > 0)\n",
    "\n",
    "class Sigmoid():\n",
    "    @staticmethod\n",
    "    def f(x):\n",
    "        return 1.0 / (1.0 + np.exp(-x))\n",
    "    @staticmethod\n",
    "    def df(x):\n",
    "        return Sigmoid.f(x) * (1 - Sigmoid.f(x))"
   ]
  },
  {
   "cell_type": "markdown",
   "metadata": {},
   "source": [
    "### Loss functions"
   ]
  },
  {
   "cell_type": "code",
   "execution_count": 32,
   "metadata": {},
   "outputs": [],
   "source": [
    "def MSE(target, output):\n",
    "    return np.mean((target - output) **2)"
   ]
  },
  {
   "cell_type": "markdown",
   "metadata": {},
   "source": [
    "### Dense layer"
   ]
  },
  {
   "cell_type": "code",
   "execution_count": 11,
   "metadata": {},
   "outputs": [],
   "source": [
    "class Layer:\n",
    "    def __init__(self, neurons, activation=Linear):\n",
    "        self.neurons = neurons\n",
    "        self.activation = activation\n",
    "        self.weights = None\n",
    "        self.biases = None\n",
    "        self.lr = 0.02 # Snelheid waarmee de model traint -> staat nu hardcoded\n",
    "\n",
    "    def initialize(self, prev_neurons):\n",
    "        self.weights = np.random.normal(0.0, 1.0, (self.neurons, prev_neurons))\n",
    "        self.biases = np.random.normal(size=(self.neurons, 1))\n",
    "\n",
    "    def feed_forward(self, input_array):\n",
    "        # Input en output opslaan -> zijn nodig voor gradient descent\n",
    "        self.inputs = input_array \n",
    "        \n",
    "        # Y = W * I + B (matrix * vector)\n",
    "        self.output = self.activation.f(np.dot(self.weights, self.inputs) + self.biases) \n",
    "        return self.output\n",
    "\n",
    "    def gradient_descent(self, errors):\n",
    "        delta_weights = self.lr * np.dot((errors * self.activation.df(self.output)), self.inputs.T)\n",
    "        delta_biases = self.lr * errors * self.activation.df(self.output)\n",
    "\n",
    "        self.weights = np.add(self.weights, delta_weights)\n",
    "        self.biases = np.add(self.biases, delta_biases)"
   ]
  },
  {
   "cell_type": "markdown",
   "metadata": {},
   "source": [
    "### Neurale netwerk"
   ]
  },
  {
   "cell_type": "code",
   "execution_count": 33,
   "metadata": {},
   "outputs": [],
   "source": [
    "class NeuralNetwork():\n",
    "    def __init__(self):\n",
    "        self.layers = []\n",
    "\n",
    "    def add(self, layer):\n",
    "        # Initialiseer de laag met weights en biases alleen als het niet de input laag is.\n",
    "        if len(self.layers) > 0:\n",
    "            prev_neurons = self.layers[-1].neurons\n",
    "            layer.initialize(prev_neurons)\n",
    "        \n",
    "        self.layers.append(layer)\n",
    "        \n",
    "\n",
    "    def predict(self, input_array, transposed = False):\n",
    "        output = input_array\n",
    "        if not transposed:\n",
    "            output = output.T\n",
    "\n",
    "        for lay in self.layers[1:]:\n",
    "            output = lay.feed_forward(output)\n",
    "        return output\n",
    "\n",
    "    def fit(self, X_values ,y_true, epochs=10):          \n",
    "        for epoch in range(epochs):\n",
    "            sum_errors = 0\n",
    "            for x, y in zip(X_values, y_true):\n",
    "                # feedforward\n",
    "                prediction = self.predict(x.reshape(-1,1), transposed = True) # Reshape maatkt ndmin 2 en transposed het al\n",
    "                \n",
    "                # bereken error\n",
    "                error = (y - prediction)\n",
    "                sum_errors += MSE(y, prediction) # houdt mse bij om het te visualiseren\n",
    "                \n",
    "                # backward propagation\n",
    "                # error = mse_derivative(y, prediction)\n",
    "                for lay in reversed(self.layers[1:]):\n",
    "                    lay.gradient_descent(error)\n",
    "                    error = np.dot(lay.weights.T, error)\n",
    "            sum_errors /= len(X_values)\n",
    "            print(f\"Epoch {epoch+1}/{epochs}:\")\n",
    "            print(f\"Error: {sum_errors}\\n\")\n",
    "        print(f\"\\nFinished Training\\n{'=' * 50}\")\n",
    "\n"
   ]
  },
  {
   "cell_type": "markdown",
   "metadata": {},
   "source": [
    "### Train\n",
    "\n",
    "Getallen optellen\n",
    "\n",
    "e.g. array van [0.23, 0.56] = 0.79"
   ]
  },
  {
   "cell_type": "code",
   "execution_count": 36,
   "metadata": {},
   "outputs": [
    {
     "name": "stdout",
     "output_type": "stream",
     "text": [
      "Epoch 1/5:\n",
      "Error: 0.11088301575230647\n",
      "\n",
      "Epoch 2/5:\n",
      "Error: 0.0070471463506549484\n",
      "\n",
      "Epoch 3/5:\n",
      "Error: 0.00017965201895630005\n",
      "\n",
      "Epoch 4/5:\n",
      "Error: 4.8942662358929857e-05\n",
      "\n",
      "Epoch 5/5:\n",
      "Error: 2.4816648280527504e-05\n",
      "\n",
      "\n",
      "Finished Training\n",
      "==================================================\n"
     ]
    }
   ],
   "source": [
    "from random import random\n",
    "\n",
    "nn = NeuralNetwork()\n",
    "\n",
    "nn.add(Layer(2, activation=Relu))\n",
    "nn.add(Layer(3, activation=Relu))\n",
    "nn.add(Layer(1, activation=Relu))\n",
    "\n",
    "X = np.array([[random() for _ in range(2)] for _ in range(1000)])\n",
    "y = np.array([[i[0] + i[1]] for i in X])\n",
    "\n",
    "nn.fit(X, y, epochs=5)"
   ]
  },
  {
   "cell_type": "code",
   "execution_count": 37,
   "metadata": {},
   "outputs": [
    {
     "data": {
      "text/plain": [
       "array([[0.7996045 , 0.58942643, 0.22923837, 0.98030834]])"
      ]
     },
     "execution_count": 37,
     "metadata": {},
     "output_type": "execute_result"
    }
   ],
   "source": [
    "test_set = np.array([[0.4, 0.4], [0.27, 0.32], [0.1, 0.13], [0.76, 0.22]]) # 0.8, 0.59, 0.23,  0.98\n",
    "nn.predict(test_set)"
   ]
  }
 ],
 "metadata": {
  "interpreter": {
   "hash": "055079195073658a51114928e756d4a43022fc1e84eb762010fcf721cf3a9eca"
  },
  "kernelspec": {
   "display_name": "Python 3.9.10 ('base')",
   "language": "python",
   "name": "python3"
  },
  "language_info": {
   "codemirror_mode": {
    "name": "ipython",
    "version": 3
   },
   "file_extension": ".py",
   "mimetype": "text/x-python",
   "name": "python",
   "nbconvert_exporter": "python",
   "pygments_lexer": "ipython3",
   "version": "3.9.10"
  },
  "orig_nbformat": 4
 },
 "nbformat": 4,
 "nbformat_minor": 2
}
