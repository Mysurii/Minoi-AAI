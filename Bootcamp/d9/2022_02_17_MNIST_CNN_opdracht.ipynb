{
 "cells": [
  {
   "cell_type": "markdown",
   "metadata": {
    "id": "zUWF7J_ASRv3"
   },
   "source": [
    "# Herkenning van handgeschreven cijfers met Deep Learning 2\n",
    "\n",
    "## Convolutionele Neurale Netwerken\n",
    "\n",
    "Stijn Oomes\n",
    "\n",
    "donderdag 17 februari 2022"
   ]
  },
  {
   "cell_type": "markdown",
   "metadata": {
    "id": "cRKUniK0SfRg"
   },
   "source": [
    "## Importeer libraries"
   ]
  },
  {
   "cell_type": "code",
   "execution_count": 1,
   "metadata": {
    "id": "S-aMKgrbSl6I"
   },
   "outputs": [],
   "source": [
    "import numpy as np\n",
    "\n",
    "import matplotlib.pyplot as plt\n",
    "import seaborn as sns; sns.set()\n",
    "\n",
    "from tensorflow.keras.utils import to_categorical\n",
    "from keras import models, layers\n",
    "\n",
    "from keras.datasets import mnist\n",
    "from keras.layers import Dense, Dropout, Flatten, Conv2D, MaxPooling2D, AveragePooling2D"
   ]
  },
  {
   "cell_type": "markdown",
   "metadata": {
    "id": "oe0on0c2StYe"
   },
   "source": [
    "## Verover de data"
   ]
  },
  {
   "cell_type": "code",
   "execution_count": 2,
   "metadata": {
    "colab": {
     "base_uri": "https://localhost:8080/"
    },
    "id": "gh2EoCY-Ssg7",
    "outputId": "f52aab3d-b6e9-4490-d5db-612f49a18e1b"
   },
   "outputs": [],
   "source": [
    "(train_images, train_labels), (test_images, test_labels) = mnist.load_data()"
   ]
  },
  {
   "cell_type": "code",
   "execution_count": 3,
   "metadata": {
    "colab": {
     "base_uri": "https://localhost:8080/"
    },
    "id": "7FlNpFtxSrMQ",
    "outputId": "a51d1184-a362-42ee-86cd-50dd4bd018b0"
   },
   "outputs": [
    {
     "data": {
      "text/plain": [
       "(60000, 28, 28)"
      ]
     },
     "execution_count": 3,
     "metadata": {},
     "output_type": "execute_result"
    }
   ],
   "source": [
    "train_images.shape"
   ]
  },
  {
   "cell_type": "code",
   "execution_count": 4,
   "metadata": {
    "colab": {
     "base_uri": "https://localhost:8080/"
    },
    "id": "FBfuBT6ATHyg",
    "outputId": "f6a74f22-c809-4078-a46c-a55b86f0a39b"
   },
   "outputs": [
    {
     "data": {
      "text/plain": [
       "(60000,)"
      ]
     },
     "execution_count": 4,
     "metadata": {},
     "output_type": "execute_result"
    }
   ],
   "source": [
    "train_labels.shape"
   ]
  },
  {
   "cell_type": "markdown",
   "metadata": {
    "id": "jG7BXYcRYY5a"
   },
   "source": [
    "## Prepareer de images\n",
    "\n",
    "* normalizeren --> pixel waardes tussen 0.0 en 1.0\n",
    "* reshapen --> extra dimensie!"
   ]
  },
  {
   "cell_type": "code",
   "execution_count": 5,
   "metadata": {
    "colab": {
     "base_uri": "https://localhost:8080/"
    },
    "id": "dDYk2OREYbGD",
    "outputId": "4c29d829-f413-4789-e870-6611d63cf72a"
   },
   "outputs": [
    {
     "data": {
      "text/plain": [
       "(60000, 28, 28)"
      ]
     },
     "execution_count": 5,
     "metadata": {},
     "output_type": "execute_result"
    }
   ],
   "source": [
    "train_images.shape"
   ]
  },
  {
   "cell_type": "code",
   "execution_count": 6,
   "metadata": {
    "id": "bafaBFuypcEY"
   },
   "outputs": [],
   "source": [
    "train_images_normalized = train_images.astype('float32')/255"
   ]
  },
  {
   "cell_type": "code",
   "execution_count": 7,
   "metadata": {
    "id": "qPLYzqeeYeV0"
   },
   "outputs": [],
   "source": [
    "train_images_enhanced = train_images_normalized.reshape(60000,28,28,1)"
   ]
  },
  {
   "cell_type": "code",
   "execution_count": 8,
   "metadata": {
    "colab": {
     "base_uri": "https://localhost:8080/"
    },
    "id": "h3vOWjp2YwS_",
    "outputId": "aaba4242-1580-4a28-f967-c16c39301fff"
   },
   "outputs": [
    {
     "data": {
      "text/plain": [
       "(60000, 28, 28, 1)"
      ]
     },
     "execution_count": 8,
     "metadata": {},
     "output_type": "execute_result"
    }
   ],
   "source": [
    "train_images_enhanced.shape"
   ]
  },
  {
   "cell_type": "markdown",
   "metadata": {},
   "source": [
    "Doe hetzelfde met de test images:"
   ]
  },
  {
   "cell_type": "code",
   "execution_count": 9,
   "metadata": {
    "id": "Rt4W7_fIYyuA"
   },
   "outputs": [],
   "source": [
    "test_images_normalized = test_images.astype('float32')/255"
   ]
  },
  {
   "cell_type": "code",
   "execution_count": 10,
   "metadata": {},
   "outputs": [],
   "source": [
    "test_images_enhanced = test_images_normalized.reshape(10000,28,28,1)"
   ]
  },
  {
   "cell_type": "code",
   "execution_count": 11,
   "metadata": {
    "colab": {
     "base_uri": "https://localhost:8080/"
    },
    "id": "4C3y58dJY5tp",
    "outputId": "a9253636-a47e-4c43-89e1-49e5d7164dc2"
   },
   "outputs": [
    {
     "data": {
      "text/plain": [
       "(10000, 28, 28, 1)"
      ]
     },
     "execution_count": 11,
     "metadata": {},
     "output_type": "execute_result"
    }
   ],
   "source": [
    "test_images_enhanced.shape"
   ]
  },
  {
   "cell_type": "markdown",
   "metadata": {
    "id": "jb2JCpgYUWlu"
   },
   "source": [
    "## Prepareer de labels"
   ]
  },
  {
   "cell_type": "markdown",
   "metadata": {
    "id": "xB3XhWK_D_ZW"
   },
   "source": [
    "**OPDRACHT**: introduceer \"one-hot encoding\" voor de labels (zowel train set als de test set)"
   ]
  },
  {
   "cell_type": "code",
   "execution_count": 12,
   "metadata": {
    "colab": {
     "base_uri": "https://localhost:8080/"
    },
    "id": "GKRqlPkMU6tj",
    "outputId": "4bf786ce-a08f-4074-9299-1618b6ee2e71"
   },
   "outputs": [
    {
     "data": {
      "text/plain": [
       "array([5, 0, 4, ..., 5, 6, 8], dtype=uint8)"
      ]
     },
     "execution_count": 12,
     "metadata": {},
     "output_type": "execute_result"
    }
   ],
   "source": [
    "train_labels"
   ]
  },
  {
   "cell_type": "code",
   "execution_count": 13,
   "metadata": {
    "id": "8_Jmmw6MUOy-"
   },
   "outputs": [],
   "source": [
    "train_labels_encoded = to_categorical(train_labels)\n",
    "test_labels_encoded = to_categorical(test_labels)"
   ]
  },
  {
   "cell_type": "code",
   "execution_count": 14,
   "metadata": {
    "colab": {
     "base_uri": "https://localhost:8080/"
    },
    "id": "7V_g1CMBUb_7",
    "outputId": "b2fe5641-d4c5-4e33-bbb9-a2851e787f60"
   },
   "outputs": [
    {
     "data": {
      "text/plain": [
       "array([[0., 0., 0., ..., 0., 0., 0.],\n",
       "       [1., 0., 0., ..., 0., 0., 0.],\n",
       "       [0., 0., 0., ..., 0., 0., 0.],\n",
       "       ...,\n",
       "       [0., 0., 0., ..., 0., 0., 0.],\n",
       "       [0., 0., 0., ..., 0., 0., 0.],\n",
       "       [0., 0., 0., ..., 0., 1., 0.]], dtype=float32)"
      ]
     },
     "execution_count": 14,
     "metadata": {},
     "output_type": "execute_result"
    }
   ],
   "source": [
    "train_labels_encoded"
   ]
  },
  {
   "cell_type": "code",
   "execution_count": 15,
   "metadata": {},
   "outputs": [
    {
     "data": {
      "text/plain": [
       "array([[0., 0., 0., ..., 1., 0., 0.],\n",
       "       [0., 0., 1., ..., 0., 0., 0.],\n",
       "       [0., 1., 0., ..., 0., 0., 0.],\n",
       "       ...,\n",
       "       [0., 0., 0., ..., 0., 0., 0.],\n",
       "       [0., 0., 0., ..., 0., 0., 0.],\n",
       "       [0., 0., 0., ..., 0., 0., 0.]], dtype=float32)"
      ]
     },
     "execution_count": 15,
     "metadata": {},
     "output_type": "execute_result"
    }
   ],
   "source": [
    "test_labels_encoded"
   ]
  },
  {
   "cell_type": "markdown",
   "metadata": {
    "id": "m_2zOWq_ZAY-"
   },
   "source": [
    "## Definieeer netwerk / model"
   ]
  },
  {
   "cell_type": "markdown",
   "metadata": {
    "id": "_cS-T3cWEfZh"
   },
   "source": [
    "**OPDRACHT**: voeg nog 1 convolutie laag en nog 1 volledig verbonden laag toe"
   ]
  },
  {
   "cell_type": "code",
   "execution_count": 16,
   "metadata": {
    "id": "yfUEGL0bY77-"
   },
   "outputs": [
    {
     "name": "stdout",
     "output_type": "stream",
     "text": [
      "Metal device set to: Apple M1 Pro\n"
     ]
    },
    {
     "name": "stderr",
     "output_type": "stream",
     "text": [
      "2022-02-17 15:13:37.000078: I tensorflow/core/common_runtime/pluggable_device/pluggable_device_factory.cc:305] Could not identify NUMA node of platform GPU ID 0, defaulting to 0. Your kernel may not have been built with NUMA support.\n",
      "2022-02-17 15:13:37.000183: I tensorflow/core/common_runtime/pluggable_device/pluggable_device_factory.cc:271] Created TensorFlow device (/job:localhost/replica:0/task:0/device:GPU:0 with 0 MB memory) -> physical PluggableDevice (device: 0, name: METAL, pci bus id: <undefined>)\n"
     ]
    }
   ],
   "source": [
    "cnn = models.Sequential()\n",
    "\n",
    "cnn.add(Conv2D(filters=32,\n",
    "                  kernel_size=(3, 3),\n",
    "                  activation='relu', \n",
    "                  input_shape=(28,28,1)))\n",
    "cnn.add(AveragePooling2D())\n",
    "\n",
    "cnn.add(Conv2D(filters=64, kernel_size=(3, 3), activation='relu'))\n",
    "\n",
    "cnn.add(AveragePooling2D())\n",
    "\n",
    "cnn.add(Flatten())\n",
    "cnn.add(Dropout(0.5))\n",
    "\n",
    "cnn.add(Dense(units=64, activation='relu'))\n",
    "cnn.add(Dense(units=10, activation = 'softmax'))"
   ]
  },
  {
   "cell_type": "code",
   "execution_count": 17,
   "metadata": {
    "colab": {
     "base_uri": "https://localhost:8080/"
    },
    "id": "XsJ8orLUZRR5",
    "outputId": "b22c4db0-254b-4e86-83e3-76131e183e1c"
   },
   "outputs": [
    {
     "name": "stdout",
     "output_type": "stream",
     "text": [
      "Model: \"sequential\"\n",
      "_________________________________________________________________\n",
      " Layer (type)                Output Shape              Param #   \n",
      "=================================================================\n",
      " conv2d (Conv2D)             (None, 26, 26, 32)        320       \n",
      "                                                                 \n",
      " average_pooling2d (AverageP  (None, 13, 13, 32)       0         \n",
      " ooling2D)                                                       \n",
      "                                                                 \n",
      " conv2d_1 (Conv2D)           (None, 11, 11, 64)        18496     \n",
      "                                                                 \n",
      " average_pooling2d_1 (Averag  (None, 5, 5, 64)         0         \n",
      " ePooling2D)                                                     \n",
      "                                                                 \n",
      " flatten (Flatten)           (None, 1600)              0         \n",
      "                                                                 \n",
      " dropout (Dropout)           (None, 1600)              0         \n",
      "                                                                 \n",
      " dense (Dense)               (None, 64)                102464    \n",
      "                                                                 \n",
      " dense_1 (Dense)             (None, 10)                650       \n",
      "                                                                 \n",
      "=================================================================\n",
      "Total params: 121,930\n",
      "Trainable params: 121,930\n",
      "Non-trainable params: 0\n",
      "_________________________________________________________________\n"
     ]
    }
   ],
   "source": [
    "cnn.summary()"
   ]
  },
  {
   "cell_type": "code",
   "execution_count": 18,
   "metadata": {
    "id": "FXYJJMAJa_Tf"
   },
   "outputs": [],
   "source": [
    "cnn.compile(optimizer='adam',\n",
    "            metrics = ['accuracy'],\n",
    "            loss = 'categorical_crossentropy')"
   ]
  },
  {
   "cell_type": "markdown",
   "metadata": {
    "id": "qQqs0gLGGony"
   },
   "source": [
    "**OPDRACHT**: meet hoe lang het trainen duurt, niet met %%timeit maar met time.time().\n"
   ]
  },
  {
   "cell_type": "code",
   "execution_count": 19,
   "metadata": {
    "colab": {
     "base_uri": "https://localhost:8080/"
    },
    "id": "fsCH8KqEbR2P",
    "outputId": "e3d03e5d-e3e7-4225-ba65-605eb2d295aa"
   },
   "outputs": [
    {
     "name": "stdout",
     "output_type": "stream",
     "text": [
      "Epoch 1/10\n"
     ]
    },
    {
     "name": "stderr",
     "output_type": "stream",
     "text": [
      "2022-02-17 15:13:37.143529: W tensorflow/core/platform/profile_utils/cpu_utils.cc:128] Failed to get CPU frequency: 0 Hz\n"
     ]
    },
    {
     "name": "stdout",
     "output_type": "stream",
     "text": [
      "  5/469 [..............................] - ETA: 6s - loss: 2.2753 - accuracy: 0.1656  "
     ]
    },
    {
     "name": "stderr",
     "output_type": "stream",
     "text": [
      "2022-02-17 15:13:37.396794: I tensorflow/core/grappler/optimizers/custom_graph_optimizer_registry.cc:113] Plugin optimizer for device_type GPU is enabled.\n"
     ]
    },
    {
     "name": "stdout",
     "output_type": "stream",
     "text": [
      "469/469 [==============================] - ETA: 0s - loss: 0.3365 - accuracy: 0.8987"
     ]
    },
    {
     "name": "stderr",
     "output_type": "stream",
     "text": [
      "2022-02-17 15:13:42.867331: I tensorflow/core/grappler/optimizers/custom_graph_optimizer_registry.cc:113] Plugin optimizer for device_type GPU is enabled.\n"
     ]
    },
    {
     "name": "stdout",
     "output_type": "stream",
     "text": [
      "469/469 [==============================] - 6s 12ms/step - loss: 0.3365 - accuracy: 0.8987 - val_loss: 0.1002 - val_accuracy: 0.9707\n",
      "Epoch 2/10\n",
      "469/469 [==============================] - 6s 12ms/step - loss: 0.1103 - accuracy: 0.9668 - val_loss: 0.0641 - val_accuracy: 0.9793\n",
      "Epoch 3/10\n",
      "469/469 [==============================] - 6s 13ms/step - loss: 0.0839 - accuracy: 0.9744 - val_loss: 0.0511 - val_accuracy: 0.9846\n",
      "Epoch 4/10\n",
      "469/469 [==============================] - 6s 12ms/step - loss: 0.0666 - accuracy: 0.9801 - val_loss: 0.0387 - val_accuracy: 0.9879\n",
      "Epoch 5/10\n",
      "469/469 [==============================] - 6s 12ms/step - loss: 0.0584 - accuracy: 0.9822 - val_loss: 0.0363 - val_accuracy: 0.9876\n",
      "Epoch 6/10\n",
      "469/469 [==============================] - 6s 13ms/step - loss: 0.0499 - accuracy: 0.9847 - val_loss: 0.0324 - val_accuracy: 0.9892\n",
      "Epoch 7/10\n",
      "469/469 [==============================] - 6s 13ms/step - loss: 0.0449 - accuracy: 0.9856 - val_loss: 0.0312 - val_accuracy: 0.9899\n",
      "Epoch 8/10\n",
      "469/469 [==============================] - 6s 13ms/step - loss: 0.0416 - accuracy: 0.9863 - val_loss: 0.0270 - val_accuracy: 0.9916\n",
      "Epoch 9/10\n",
      "469/469 [==============================] - 6s 12ms/step - loss: 0.0386 - accuracy: 0.9875 - val_loss: 0.0294 - val_accuracy: 0.9894\n",
      "Epoch 10/10\n",
      "469/469 [==============================] - 6s 12ms/step - loss: 0.0361 - accuracy: 0.9886 - val_loss: 0.0247 - val_accuracy: 0.9913\n",
      "train time:  58.7055299282074\n"
     ]
    }
   ],
   "source": [
    "import time\n",
    "start = time.time()\n",
    "history_cnn = cnn.fit(train_images_enhanced,\n",
    "        train_labels_encoded,\n",
    "        epochs = 10, # varieer het aantal epochs\n",
    "        batch_size = 128,\n",
    "        validation_data = (test_images_enhanced, test_labels_encoded))\n",
    "\n",
    "end = time.time()\n",
    "train_time = end - start\n",
    "print('train time: ', train_time)"
   ]
  },
  {
   "cell_type": "markdown",
   "metadata": {
    "id": "hYi1uJV-Gxgn"
   },
   "source": [
    "**OPDRACHT**: meet hoe lang het testen duurt, niet met %%timeit maar met time.time()."
   ]
  },
  {
   "cell_type": "code",
   "execution_count": 20,
   "metadata": {
    "colab": {
     "base_uri": "https://localhost:8080/"
    },
    "id": "S52r-pcHbtJJ",
    "outputId": "4a887c82-761c-44fa-86a6-d0fd48ce0300"
   },
   "outputs": [
    {
     "name": "stdout",
     "output_type": "stream",
     "text": [
      "313/313 [==============================] - 2s 6ms/step - loss: 0.0247 - accuracy: 0.9913\n",
      "test time:  1.8300449848175049\n",
      "acc:  0.9913000464439392\n"
     ]
    }
   ],
   "source": [
    "start = time.time()\n",
    "loss, acc = cnn.evaluate(test_images_enhanced,\n",
    "                         test_labels_encoded)\n",
    "end = time.time()\n",
    "test_time = end - start\n",
    "print('test time: ', test_time)\n",
    "print('acc: ', acc)"
   ]
  },
  {
   "cell_type": "markdown",
   "metadata": {},
   "source": [
    "**OPDRACHT**: voeg labels aan deze grafiek toe"
   ]
  },
  {
   "cell_type": "code",
   "execution_count": 21,
   "metadata": {
    "colab": {
     "base_uri": "https://localhost:8080/",
     "height": 269
    },
    "id": "fspLE94uj_0p",
    "outputId": "fe013ce6-10a1-4585-e1a8-eddf471cdca9"
   },
   "outputs": [
    {
     "data": {
      "image/png": "[encoded data removed]",
      "text/plain": [
       "<Figure size 432x288 with 1 Axes>"
      ]
     },
     "metadata": {},
     "output_type": "display_data"
    }
   ],
   "source": [
    "plt.plot(history_cnn.history['accuracy'])\n",
    "plt.plot(history_cnn.history['val_accuracy'],'r')\n",
    "plt.ylim(0.75,1.0)\n",
    "plt.show()"
   ]
  },
  {
   "cell_type": "markdown",
   "metadata": {
    "id": "PKVFGXpIFa-v"
   },
   "source": [
    "**OPDRACHT**: evalueer je resultaten:\n",
    "\n",
    "* hoe is de nauwkeurigheid?\n",
    "* is het netwerk onder- of over-trained?\n",
    "* laat een paar fouten zien\n",
    " * wat kun je zeggen over de aard van de fouten?\n",
    "* wat is sneller: het trainen of het testen?\n",
    "* wat kun je nog doen om de nauwkeurigheid te verhogen?\n",
    "\n",
    "(noteer de veranderingen die je hebt aangebracht en wat daar de resultaten van zijn)\n",
    "\n",
    "**Antwoord**\n",
    "\n",
    "Het is redelijk nauwkeurig. De loss is enorm klein en er is ook geen sprake van overfitting of underfitting. Testen is heel wat sneller dan trainen. Testen duurde maar 2 seconden, terwijl trainen bijna een minuut duurde met 10 epochs. Om de nauwkeurigheid te verhogen kun je altijd nog gaan spelen met het aantal layers van het model, aantal neuronen misschien en misschien nog layers aanpassen."
   ]
  },
  {
   "cell_type": "markdown",
   "metadata": {
    "id": "ycBT1S6wIK7y"
   },
   "source": [
    "## Evalueer cijferherkenning met kNN, NN, en CNN"
   ]
  },
  {
   "cell_type": "markdown",
   "metadata": {
    "id": "xm7oOIZxGFYw"
   },
   "source": [
    "**OPDRACHT**: evalueer je resultaten:\n",
    "\n",
    "vergelijk de resultaten van kNN, NN, en CNN\n",
    "\n",
    "* wat concludeer je hieruit?\n",
    "* welke type fouten maken de verschillende classifiers?\n",
    "\n",
    "**Antwoord**\n",
    "\n",
    "Tot nu toe heb ik de CNN en KNN gebruikt. Ik moet zeggen dat de accuracy van CNN heel wat beter is dan die van KNN. Dit zou kunnen komen, omdat de 2d structuur nog intact blijft bij CNN, terwijl bij kNN we die 2-dimensionaal maken. Bovendien kan het toepassen van convulition ook hier een rol bij spelen."
   ]
  }
 ],
 "metadata": {
  "accelerator": "GPU",
  "colab": {
   "name": "2021_02_11 MNIST CNN uitwerking.ipynb",
   "provenance": []
  },
  "kernelspec": {
   "display_name": "Python 3 (ipykernel)",
   "language": "python",
   "name": "python3"
  },
  "language_info": {
   "codemirror_mode": {
    "name": "ipython",
    "version": 3
   },
   "file_extension": ".py",
   "mimetype": "text/x-python",
   "name": "python",
   "nbconvert_exporter": "python",
   "pygments_lexer": "ipython3",
   "version": "3.9.10"
  }
 },
 "nbformat": 4,
 "nbformat_minor": 1
}
