{
 "cells": [
  {
   "cell_type": "markdown",
   "metadata": {
    "_cell_guid": "337d2561-9751-43ab-85b0-1ff1eb484a50",
    "_uuid": "2cdd31268c6901e4be816854bd57c9e757c066ec"
   },
   "source": [
    "#### Hello !!\n",
    "Dit notebook en een vliegende start in data-analyse en machinelearning.\n",
    "\n",
    "1)Feature Selection\n",
    "\n",
    "2)Model selection\n",
    "\n",
    "3)Input validation\n",
    "\n",
    "....\n",
    "\n",
    "Voordat je begint moet je voor jezelf beantwoorden:\n",
    "- Wat is diabetes?\n",
    "- Hoe krijg je het?\n",
    "- Zijn er verschillende soorten?\n",
    "- Wat zijn de gevolgen?\n",
    "- Hoe wordt het gediagnostiseerd?\n",
    "- Hoe wordt het behandeld?\n",
    "\n"
   ]
  },
  {
   "cell_type": "markdown",
   "metadata": {},
   "source": [
    "#### Antwoorden:\n",
    "\n",
    "**Wat is diabetes?**\n",
    "\n",
    "Diabetes (suikerziekte) is een chronische stofwisselingsziekte. Bij diabetes zit er te veel suiker in het bloed. Het lichaam kan de bloedsuiker niet op peil houden.\n",
    "\n",
    "**Hoe krijg je het?**\n",
    "\n",
    "Er zijn twee bekende diabetes types: 1 & 2.\n",
    "\n",
    "Type 1:\n",
    "1. virussen\n",
    "2. voeding\n",
    "3. erfelijkheid (in geringe mate)\n",
    "\n",
    "Type 2:\n",
    "1. erfelijke aanleg\n",
    "2. (ernstig) overgewicht\n",
    "3. te weinig bewegen\n",
    "4. roken\n",
    "5. voeding\n",
    "\n",
    "**Zijn er verschillende soorten?**\n",
    "\n",
    "Ja er zijn verschillende soorten. Bekendste zijn type 1 & 2. Daarnaast zijn er nog een aantal, zoals: MODY, LADA en zwangerschapsdiabetes\n",
    "\n",
    "**Wat zijn de gevolgen?**\n",
    "\n",
    "Top 5 gevolgen die kunnen voorkomen zijn:\n",
    "\n",
    "1. wondjes aan de voeten\n",
    "2. nierschade\n",
    "3. zenuwbeschadiging\n",
    "4. hart-vaat ziektes\n",
    "5. slaapstoornis\n",
    "\n",
    "**Hoe wordt het gediagnoseerd?**\n",
    "\n",
    "Door bloed te prikken kan ene arts weten of je de ziekte hebt. Als je glucosewaarde hoger dan 7 mmol/l is (nucther), dan heb je diabetes.\n",
    "Je kunt diabetes herkennen aan:\n",
    "\n",
    "1. veel dorst\n",
    "2. vaak plassen\n",
    "3. droge mond\n",
    "4. moe voelen\n",
    "5. oogontsteking of wazig zien\n",
    "6. gewicht verliezen\n",
    "7. (urineweg)infecties\n",
    "\n",
    "**Hoe wordt het behandeld?**\n",
    "\n",
    "Type 1 is er geen genezing mogelijk. Voor type 2 kun je zelf afvallen en medicijnen zoals insuline gebruiken.\n",
    "\n",
    "\n",
    "\n",
    "\n",
    "\n",
    "\n",
    "\n",
    "\n",
    "\n"
   ]
  },
  {
   "cell_type": "markdown",
   "metadata": {},
   "source": [
    "####  Test voor benodigde modules. Heb je een foutmelding installeer dan met Pip de ontbrekende modules."
   ]
  },
  {
   "cell_type": "code",
   "execution_count": 57,
   "metadata": {
    "_cell_guid": "0cb67764-53d0-4532-bd46-0d244615eb22",
    "_uuid": "d2792fa5793698bcab3aca4e99c5cba382edc042"
   },
   "outputs": [],
   "source": [
    "# Import nodige modules\n",
    "\n",
    "import pandas as pd\n",
    "import matplotlib.pyplot as plt\n",
    "import seaborn as sns\n",
    "import numpy as np\n",
    "import itertools\n",
    "plt.style.use('fivethirtyeight')\n"
   ]
  },
  {
   "cell_type": "markdown",
   "metadata": {},
   "source": [
    "### Opdracht 1: \n",
    "Gebruik pandas (pd) om het bestand diabetes.csv in te lezen en toe te kennen aan variable genaamd diab. "
   ]
  },
  {
   "cell_type": "code",
   "execution_count": 58,
   "metadata": {
    "_cell_guid": "f2ebf534-cd7d-40cb-94f1-d01d3b47854b",
    "_uuid": "7701a4dec64aac2cb2207d948daac81609fce014"
   },
   "outputs": [
    {
     "data": {
      "text/html": [
       "<div>\n",
       "<style scoped>\n",
       "    .dataframe tbody tr th:only-of-type {\n",
       "        vertical-align: middle;\n",
       "    }\n",
       "\n",
       "    .dataframe tbody tr th {\n",
       "        vertical-align: top;\n",
       "    }\n",
       "\n",
       "    .dataframe thead th {\n",
       "        text-align: right;\n",
       "    }\n",
       "</style>\n",
       "<table border=\"1\" class=\"dataframe\">\n",
       "  <thead>\n",
       "    <tr style=\"text-align: right;\">\n",
       "      <th></th>\n",
       "      <th>Pregnancies</th>\n",
       "      <th>Glucose</th>\n",
       "      <th>BloodPressure</th>\n",
       "      <th>SkinThickness</th>\n",
       "      <th>Insulin</th>\n",
       "      <th>BMI</th>\n",
       "      <th>DiabetesPedigreeFunction</th>\n",
       "      <th>Age</th>\n",
       "      <th>Outcome</th>\n",
       "    </tr>\n",
       "  </thead>\n",
       "  <tbody>\n",
       "    <tr>\n",
       "      <th>0</th>\n",
       "      <td>6</td>\n",
       "      <td>148</td>\n",
       "      <td>72</td>\n",
       "      <td>35</td>\n",
       "      <td>0</td>\n",
       "      <td>33.6</td>\n",
       "      <td>0.627</td>\n",
       "      <td>50</td>\n",
       "      <td>1</td>\n",
       "    </tr>\n",
       "    <tr>\n",
       "      <th>1</th>\n",
       "      <td>1</td>\n",
       "      <td>85</td>\n",
       "      <td>66</td>\n",
       "      <td>29</td>\n",
       "      <td>0</td>\n",
       "      <td>26.6</td>\n",
       "      <td>0.351</td>\n",
       "      <td>31</td>\n",
       "      <td>0</td>\n",
       "    </tr>\n",
       "    <tr>\n",
       "      <th>2</th>\n",
       "      <td>8</td>\n",
       "      <td>183</td>\n",
       "      <td>64</td>\n",
       "      <td>0</td>\n",
       "      <td>0</td>\n",
       "      <td>23.3</td>\n",
       "      <td>0.672</td>\n",
       "      <td>32</td>\n",
       "      <td>1</td>\n",
       "    </tr>\n",
       "    <tr>\n",
       "      <th>3</th>\n",
       "      <td>1</td>\n",
       "      <td>89</td>\n",
       "      <td>66</td>\n",
       "      <td>23</td>\n",
       "      <td>94</td>\n",
       "      <td>28.1</td>\n",
       "      <td>0.167</td>\n",
       "      <td>21</td>\n",
       "      <td>0</td>\n",
       "    </tr>\n",
       "    <tr>\n",
       "      <th>4</th>\n",
       "      <td>0</td>\n",
       "      <td>137</td>\n",
       "      <td>40</td>\n",
       "      <td>35</td>\n",
       "      <td>168</td>\n",
       "      <td>43.1</td>\n",
       "      <td>2.288</td>\n",
       "      <td>33</td>\n",
       "      <td>1</td>\n",
       "    </tr>\n",
       "  </tbody>\n",
       "</table>\n",
       "</div>"
      ],
      "text/plain": [
       "   Pregnancies  Glucose  BloodPressure  SkinThickness  Insulin   BMI  \\\n",
       "0            6      148             72             35        0  33.6   \n",
       "1            1       85             66             29        0  26.6   \n",
       "2            8      183             64              0        0  23.3   \n",
       "3            1       89             66             23       94  28.1   \n",
       "4            0      137             40             35      168  43.1   \n",
       "\n",
       "   DiabetesPedigreeFunction  Age  Outcome  \n",
       "0                     0.627   50        1  \n",
       "1                     0.351   31        0  \n",
       "2                     0.672   32        1  \n",
       "3                     0.167   21        0  \n",
       "4                     2.288   33        1  "
      ]
     },
     "execution_count": 58,
     "metadata": {},
     "output_type": "execute_result"
    }
   ],
   "source": [
    "diab = pd.read_csv('diabetes.csv')\n",
    "diab.head()"
   ]
  },
  {
   "cell_type": "markdown",
   "metadata": {
    "_cell_guid": "0e022346-7c51-4286-a6a3-02bb594d368b",
    "_uuid": "09f9a42a9b766b0895f15ee8a20236ccf20a3edb"
   },
   "source": [
    "### Opdracht 2:\n",
    "Check de data zijn alle records in de tabel juist.\n",
    "Maak drie tests in python om te zien of de data correct is. \n",
    "\n",
    "TIP: het pandas object heeft hiervoor ook een aantal ingebouwde functies. (desscribe())"
   ]
  },
  {
   "cell_type": "code",
   "execution_count": 59,
   "metadata": {
    "_cell_guid": "931c0fa8-1a89-4b3f-80cb-f5e3892cab3c",
    "_uuid": "6f867ac1b1d695f031ade5ab50d1e7b354369057",
    "scrolled": true
   },
   "outputs": [
    {
     "data": {
      "text/html": [
       "<div>\n",
       "<style scoped>\n",
       "    .dataframe tbody tr th:only-of-type {\n",
       "        vertical-align: middle;\n",
       "    }\n",
       "\n",
       "    .dataframe tbody tr th {\n",
       "        vertical-align: top;\n",
       "    }\n",
       "\n",
       "    .dataframe thead th {\n",
       "        text-align: right;\n",
       "    }\n",
       "</style>\n",
       "<table border=\"1\" class=\"dataframe\">\n",
       "  <thead>\n",
       "    <tr style=\"text-align: right;\">\n",
       "      <th></th>\n",
       "      <th>Pregnancies</th>\n",
       "      <th>Glucose</th>\n",
       "      <th>BloodPressure</th>\n",
       "      <th>SkinThickness</th>\n",
       "      <th>Insulin</th>\n",
       "      <th>BMI</th>\n",
       "      <th>DiabetesPedigreeFunction</th>\n",
       "      <th>Age</th>\n",
       "      <th>Outcome</th>\n",
       "    </tr>\n",
       "  </thead>\n",
       "  <tbody>\n",
       "    <tr>\n",
       "      <th>count</th>\n",
       "      <td>768.000000</td>\n",
       "      <td>768.000000</td>\n",
       "      <td>768.000000</td>\n",
       "      <td>768.000000</td>\n",
       "      <td>768.000000</td>\n",
       "      <td>768.000000</td>\n",
       "      <td>768.000000</td>\n",
       "      <td>768.000000</td>\n",
       "      <td>768.000000</td>\n",
       "    </tr>\n",
       "    <tr>\n",
       "      <th>mean</th>\n",
       "      <td>3.845052</td>\n",
       "      <td>120.894531</td>\n",
       "      <td>69.105469</td>\n",
       "      <td>20.536458</td>\n",
       "      <td>79.799479</td>\n",
       "      <td>31.992578</td>\n",
       "      <td>0.471876</td>\n",
       "      <td>33.240885</td>\n",
       "      <td>0.348958</td>\n",
       "    </tr>\n",
       "    <tr>\n",
       "      <th>std</th>\n",
       "      <td>3.369578</td>\n",
       "      <td>31.972618</td>\n",
       "      <td>19.355807</td>\n",
       "      <td>15.952218</td>\n",
       "      <td>115.244002</td>\n",
       "      <td>7.884160</td>\n",
       "      <td>0.331329</td>\n",
       "      <td>11.760232</td>\n",
       "      <td>0.476951</td>\n",
       "    </tr>\n",
       "    <tr>\n",
       "      <th>min</th>\n",
       "      <td>0.000000</td>\n",
       "      <td>0.000000</td>\n",
       "      <td>0.000000</td>\n",
       "      <td>0.000000</td>\n",
       "      <td>0.000000</td>\n",
       "      <td>0.000000</td>\n",
       "      <td>0.078000</td>\n",
       "      <td>21.000000</td>\n",
       "      <td>0.000000</td>\n",
       "    </tr>\n",
       "    <tr>\n",
       "      <th>25%</th>\n",
       "      <td>1.000000</td>\n",
       "      <td>99.000000</td>\n",
       "      <td>62.000000</td>\n",
       "      <td>0.000000</td>\n",
       "      <td>0.000000</td>\n",
       "      <td>27.300000</td>\n",
       "      <td>0.243750</td>\n",
       "      <td>24.000000</td>\n",
       "      <td>0.000000</td>\n",
       "    </tr>\n",
       "    <tr>\n",
       "      <th>50%</th>\n",
       "      <td>3.000000</td>\n",
       "      <td>117.000000</td>\n",
       "      <td>72.000000</td>\n",
       "      <td>23.000000</td>\n",
       "      <td>30.500000</td>\n",
       "      <td>32.000000</td>\n",
       "      <td>0.372500</td>\n",
       "      <td>29.000000</td>\n",
       "      <td>0.000000</td>\n",
       "    </tr>\n",
       "    <tr>\n",
       "      <th>75%</th>\n",
       "      <td>6.000000</td>\n",
       "      <td>140.250000</td>\n",
       "      <td>80.000000</td>\n",
       "      <td>32.000000</td>\n",
       "      <td>127.250000</td>\n",
       "      <td>36.600000</td>\n",
       "      <td>0.626250</td>\n",
       "      <td>41.000000</td>\n",
       "      <td>1.000000</td>\n",
       "    </tr>\n",
       "    <tr>\n",
       "      <th>max</th>\n",
       "      <td>17.000000</td>\n",
       "      <td>199.000000</td>\n",
       "      <td>122.000000</td>\n",
       "      <td>99.000000</td>\n",
       "      <td>846.000000</td>\n",
       "      <td>67.100000</td>\n",
       "      <td>2.420000</td>\n",
       "      <td>81.000000</td>\n",
       "      <td>1.000000</td>\n",
       "    </tr>\n",
       "  </tbody>\n",
       "</table>\n",
       "</div>"
      ],
      "text/plain": [
       "       Pregnancies     Glucose  BloodPressure  SkinThickness     Insulin  \\\n",
       "count   768.000000  768.000000     768.000000     768.000000  768.000000   \n",
       "mean      3.845052  120.894531      69.105469      20.536458   79.799479   \n",
       "std       3.369578   31.972618      19.355807      15.952218  115.244002   \n",
       "min       0.000000    0.000000       0.000000       0.000000    0.000000   \n",
       "25%       1.000000   99.000000      62.000000       0.000000    0.000000   \n",
       "50%       3.000000  117.000000      72.000000      23.000000   30.500000   \n",
       "75%       6.000000  140.250000      80.000000      32.000000  127.250000   \n",
       "max      17.000000  199.000000     122.000000      99.000000  846.000000   \n",
       "\n",
       "              BMI  DiabetesPedigreeFunction         Age     Outcome  \n",
       "count  768.000000                768.000000  768.000000  768.000000  \n",
       "mean    31.992578                  0.471876   33.240885    0.348958  \n",
       "std      7.884160                  0.331329   11.760232    0.476951  \n",
       "min      0.000000                  0.078000   21.000000    0.000000  \n",
       "25%     27.300000                  0.243750   24.000000    0.000000  \n",
       "50%     32.000000                  0.372500   29.000000    0.000000  \n",
       "75%     36.600000                  0.626250   41.000000    1.000000  \n",
       "max     67.100000                  2.420000   81.000000    1.000000  "
      ]
     },
     "execution_count": 59,
     "metadata": {},
     "output_type": "execute_result"
    }
   ],
   "source": [
    "diab.describe()\n"
   ]
  },
  {
   "cell_type": "code",
   "execution_count": 60,
   "metadata": {},
   "outputs": [
    {
     "name": "stdout",
     "output_type": "stream",
     "text": [
      "0 in bloodpressure: True\n"
     ]
    },
    {
     "data": {
      "text/plain": [
       "Pregnancies                  True\n",
       "Glucose                      True\n",
       "BloodPressure                True\n",
       "SkinThickness                True\n",
       "Insulin                      True\n",
       "BMI                          True\n",
       "DiabetesPedigreeFunction    False\n",
       "Age                         False\n",
       "Outcome                      True\n",
       "dtype: bool"
      ]
     },
     "execution_count": 60,
     "metadata": {},
     "output_type": "execute_result"
    }
   ],
   "source": [
    "# test 1 (b.v nul waarden)\n",
    "print(f\"0 in bloodpressure: {0 in diab['BloodPressure']}\" ) # voorbeeld van 1 kolom\n",
    "diab.eq(0).any() # alle kollommen\n",
    "\n"
   ]
  },
  {
   "cell_type": "code",
   "execution_count": 61,
   "metadata": {},
   "outputs": [
    {
     "data": {
      "text/plain": [
       "False"
      ]
     },
     "execution_count": 61,
     "metadata": {},
     "output_type": "execute_result"
    }
   ],
   "source": [
    "# test 2 (b.v nan waarden)\n",
    "diab.isnull().values.any()"
   ]
  },
  {
   "cell_type": "code",
   "execution_count": 62,
   "metadata": {},
   "outputs": [
    {
     "data": {
      "text/plain": [
       "0"
      ]
     },
     "execution_count": 62,
     "metadata": {},
     "output_type": "execute_result"
    }
   ],
   "source": [
    "# test 3 (Wat kan je nog meer testen)\n",
    "diab.duplicated().sum()"
   ]
  },
  {
   "cell_type": "markdown",
   "metadata": {
    "_cell_guid": "f495e65e-93d2-42b3-9f40-e2c412264312",
    "_uuid": "7a503dd630720dd8d8b2ac55d16d3a8f6fea8239",
    "collapsed": true
   },
   "source": [
    "### Opdracht 3:\n",
    "\n",
    "Hoeveel gevallen van diabetes zijn er?\n",
    "Is het volgens jouw een probleem dat er een verschil is tussen het aantal diabetes gevallen en geen diabetes?\n",
    "Kan je een uitspraak doen over het aantal mannen?\n",
    "\n",
    "Reken de waarden hieronder uit.\n"
   ]
  },
  {
   "cell_type": "code",
   "execution_count": 63,
   "metadata": {
    "_cell_guid": "364e6842-8a4b-4993-bad8-0aa67a4fa541",
    "_uuid": "3ee22c0b27b1a221d8a01f6b7cf67114d5d1ac0e"
   },
   "outputs": [
    {
     "data": {
      "text/plain": [
       "0      1\n",
       "2      1\n",
       "4      1\n",
       "6      1\n",
       "8      1\n",
       "      ..\n",
       "755    1\n",
       "757    1\n",
       "759    1\n",
       "761    1\n",
       "766    1\n",
       "Name: Outcome, Length: 268, dtype: int64"
      ]
     },
     "execution_count": 63,
     "metadata": {},
     "output_type": "execute_result"
    }
   ],
   "source": [
    "# 268 gevallen van diabetes\n",
    "# Het kan een probleem zijn, want de model kan voorkeur krijgen naar mensen zonder diabetes.\n",
    "# Meeste kolommen waarbij 0 pregnancies zijn, zijn hoogstwaarschijnlijk mannen. \n",
    "\n",
    "diab[diab['Outcome'] != 0]['Outcome']\n",
    "\n"
   ]
  },
  {
   "cell_type": "markdown",
   "metadata": {
    "_cell_guid": "6cc6058a-062a-4292-a6fb-bd873a537711",
    "_uuid": "5ee171bf18e79548189aae81dfa0761dc2ec6917"
   },
   "source": [
    "### Een korte analyse.\n",
    "\n",
    "Bekijk de onderstaande plots, valt er iets op? "
   ]
  },
  {
   "cell_type": "code",
   "execution_count": 64,
   "metadata": {
    "_cell_guid": "5920f160-a4f9-43db-944b-017fef35ffab",
    "_uuid": "183d0cd54b205fb5d3e1e1b2113d93b54f80aaec",
    "scrolled": true
   },
   "outputs": [
    {
     "data": {
      "image/png": "[encoded data removed]",
      "text/plain": [
       "<Figure size 1080x1080 with 9 Axes>"
      ]
     },
     "metadata": {},
     "output_type": "display_data"
    }
   ],
   "source": [
    "columns=diab.columns[:9]\n",
    "plt.subplots(figsize=(15,15))\n",
    "length=len(columns)\n",
    "for i,j in itertools.zip_longest(columns,range(length)):\n",
    "    plt.subplot(int(length/2),3,j+1)\n",
    "    plt.subplots_adjust(wspace=0.2,hspace=0.5)\n",
    "    diab[i].hist(bins=20,edgecolor='black')\n",
    "    plt.title(i)\n",
    "plt.show()"
   ]
  },
  {
   "cell_type": "markdown",
   "metadata": {},
   "source": [
    "### Opdracht 4:\n",
    "Wat valt er op?\n",
    "\n",
    "\n"
   ]
  },
  {
   "cell_type": "markdown",
   "metadata": {},
   "source": [
    "Er valt op dat er een aantal features normaal verdeeld is, zoals BloodPressure en BMI. Wel zie je dat er ook een aantal afwijkingen zijn. Ook valt op dat het aantal pregnancies geen 5 is in de grafiek, maar wel in de tabel. \n",
    "\n",
    "Ook zijn er heel wat data die niet klopt, zoals bloodpressure met waarde 0.\n",
    "\n"
   ]
  },
  {
   "cell_type": "markdown",
   "metadata": {
    "_cell_guid": "9737bf15-480f-4a80-aa4e-2f335bbd1434",
    "_uuid": "c09beedb6314e0c543c6d93352f1f99a0762f74d"
   },
   "source": [
    "### Opdracht  5:\n",
    "\n",
    "Doe de zelfde test maar selecteer nu alleen op de gevallen met diabetes. Is er een verschill met de plots waarin alle gevallen staan. Geef een motivatie? \n",
    "\n",
    "Bevatten sommige kolommen ongeldige waarden?\n",
    "\n",
    "Repareer de tabel zo dat er geen nul waarden instaan? \n",
    "\n",
    "Welke waarde zou je kiezen als vervanging van de nul waarden?\n",
    "\n",
    "\n",
    "TIP: Maak eerst een tabel met alleen de diabetes gevallen en gebruik de onderstaande cellen. "
   ]
  },
  {
   "cell_type": "code",
   "execution_count": 65,
   "metadata": {},
   "outputs": [
    {
     "data": {
      "image/png": "[encoded data removed]",
      "text/plain": [
       "<Figure size 1080x1080 with 9 Axes>"
      ]
     },
     "metadata": {},
     "output_type": "display_data"
    }
   ],
   "source": [
    "# Er zijn een aantal verschillen te zien. Zo heeft leeftijd een andere grafiek gekregen. \n",
    "# Ook heeft glucosegehalte een ander grafiek. Dit komt doordat de glucosegehalte bij diabetes patienten hoger is.\n",
    "# Voor de rest lijken de grafieken wel op elkaar. Dus Glocose en leeftijd heeft de meeste invloed op diabetes\n",
    "\n",
    "data = diab[diab['Outcome'] > 0]\n",
    "columns=data.columns[:9]\n",
    "plt.subplots(figsize=(15,15))\n",
    "length=len(columns)\n",
    "for i,j in itertools.zip_longest(columns,range(length)):\n",
    "    plt.subplot(int(length/2),3,j+1)\n",
    "    plt.subplots_adjust(wspace=0.2,hspace=0.5)\n",
    "    data[i].hist(bins=20,edgecolor='black')\n",
    "    plt.title(i)\n",
    "plt.show()\n"
   ]
  },
  {
   "cell_type": "code",
   "execution_count": 66,
   "metadata": {},
   "outputs": [
    {
     "data": {
      "text/plain": [
       "False"
      ]
     },
     "execution_count": 66,
     "metadata": {},
     "output_type": "execute_result"
    }
   ],
   "source": [
    "# De tabel bevat geen ongeldige waarden\n",
    "data.isnull().values.any()"
   ]
  },
  {
   "cell_type": "code",
   "execution_count": 67,
   "metadata": {},
   "outputs": [
    {
     "data": {
      "text/plain": [
       "Pregnancies                  True\n",
       "Glucose                     False\n",
       "BloodPressure               False\n",
       "SkinThickness               False\n",
       "Insulin                     False\n",
       "BMI                         False\n",
       "DiabetesPedigreeFunction    False\n",
       "Age                         False\n",
       "Outcome                     False\n",
       "dtype: bool"
      ]
     },
     "execution_count": 67,
     "metadata": {},
     "output_type": "execute_result"
    }
   ],
   "source": [
    "gem_glucose = data['Glucose'].mean()\n",
    "gem_blood_pressure = data['BloodPressure'].mean()\n",
    "gem_insuline =  data['Insulin'].mean()\n",
    "gem_bmi = data['BMI'].mean()\n",
    "gem_skin_thickness = data['SkinThickness'].mean()\n",
    "\n",
    "# Change the columns where the colum equals zero\n",
    "data['Glucose'] = np.where((data.Glucose == 0),gem_glucose, data.Glucose)\n",
    "data['BloodPressure'] = np.where((data.BloodPressure == 0),gem_blood_pressure, data.BloodPressure)\n",
    "data['Insulin'] = np.where((data.Insulin == 0),gem_insuline, data.Insulin)\n",
    "data['BMI'] = np.where((data.BMI == 0),gem_bmi, data.BMI)\n",
    "data['SkinThickness'] = np.where((data.SkinThickness == 0),gem_skin_thickness, data.SkinThickness)\n",
    "    \n",
    "data.eq(0).any() # Check wheter the columns contains zero as value"
   ]
  },
  {
   "cell_type": "markdown",
   "metadata": {},
   "source": [
    "### Opdracht  6 \n",
    "\n",
    "Hoe bepaal je in pandas de correlatie tussen twee of meerdere kolomen\n",
    "Wat betekent het als er sprake is van een correlatie?\n",
    "\n"
   ]
  },
  {
   "cell_type": "code",
   "execution_count": 68,
   "metadata": {},
   "outputs": [
    {
     "name": "stdout",
     "output_type": "stream",
     "text": [
      "0.3313571099202094\n"
     ]
    },
    {
     "data": {
      "text/html": [
       "<div>\n",
       "<style scoped>\n",
       "    .dataframe tbody tr th:only-of-type {\n",
       "        vertical-align: middle;\n",
       "    }\n",
       "\n",
       "    .dataframe tbody tr th {\n",
       "        vertical-align: top;\n",
       "    }\n",
       "\n",
       "    .dataframe thead th {\n",
       "        text-align: right;\n",
       "    }\n",
       "</style>\n",
       "<table border=\"1\" class=\"dataframe\">\n",
       "  <thead>\n",
       "    <tr style=\"text-align: right;\">\n",
       "      <th></th>\n",
       "      <th>Pregnancies</th>\n",
       "      <th>Glucose</th>\n",
       "      <th>BloodPressure</th>\n",
       "      <th>SkinThickness</th>\n",
       "      <th>Insulin</th>\n",
       "      <th>BMI</th>\n",
       "      <th>DiabetesPedigreeFunction</th>\n",
       "      <th>Age</th>\n",
       "      <th>Outcome</th>\n",
       "    </tr>\n",
       "  </thead>\n",
       "  <tbody>\n",
       "    <tr>\n",
       "      <th>Pregnancies</th>\n",
       "      <td>1.000000</td>\n",
       "      <td>0.129459</td>\n",
       "      <td>0.141282</td>\n",
       "      <td>-0.081672</td>\n",
       "      <td>-0.073535</td>\n",
       "      <td>0.017683</td>\n",
       "      <td>-0.033523</td>\n",
       "      <td>0.544341</td>\n",
       "      <td>0.221898</td>\n",
       "    </tr>\n",
       "    <tr>\n",
       "      <th>Glucose</th>\n",
       "      <td>0.129459</td>\n",
       "      <td>1.000000</td>\n",
       "      <td>0.152590</td>\n",
       "      <td>0.057328</td>\n",
       "      <td>0.331357</td>\n",
       "      <td>0.221071</td>\n",
       "      <td>0.137337</td>\n",
       "      <td>0.263514</td>\n",
       "      <td>0.466581</td>\n",
       "    </tr>\n",
       "    <tr>\n",
       "      <th>BloodPressure</th>\n",
       "      <td>0.141282</td>\n",
       "      <td>0.152590</td>\n",
       "      <td>1.000000</td>\n",
       "      <td>0.207371</td>\n",
       "      <td>0.088933</td>\n",
       "      <td>0.281805</td>\n",
       "      <td>0.041265</td>\n",
       "      <td>0.239528</td>\n",
       "      <td>0.065068</td>\n",
       "    </tr>\n",
       "    <tr>\n",
       "      <th>SkinThickness</th>\n",
       "      <td>-0.081672</td>\n",
       "      <td>0.057328</td>\n",
       "      <td>0.207371</td>\n",
       "      <td>1.000000</td>\n",
       "      <td>0.436783</td>\n",
       "      <td>0.392573</td>\n",
       "      <td>0.183928</td>\n",
       "      <td>-0.113970</td>\n",
       "      <td>0.074752</td>\n",
       "    </tr>\n",
       "    <tr>\n",
       "      <th>Insulin</th>\n",
       "      <td>-0.073535</td>\n",
       "      <td>0.331357</td>\n",
       "      <td>0.088933</td>\n",
       "      <td>0.436783</td>\n",
       "      <td>1.000000</td>\n",
       "      <td>0.197859</td>\n",
       "      <td>0.185071</td>\n",
       "      <td>-0.042163</td>\n",
       "      <td>0.130548</td>\n",
       "    </tr>\n",
       "    <tr>\n",
       "      <th>BMI</th>\n",
       "      <td>0.017683</td>\n",
       "      <td>0.221071</td>\n",
       "      <td>0.281805</td>\n",
       "      <td>0.392573</td>\n",
       "      <td>0.197859</td>\n",
       "      <td>1.000000</td>\n",
       "      <td>0.140647</td>\n",
       "      <td>0.036242</td>\n",
       "      <td>0.292695</td>\n",
       "    </tr>\n",
       "    <tr>\n",
       "      <th>DiabetesPedigreeFunction</th>\n",
       "      <td>-0.033523</td>\n",
       "      <td>0.137337</td>\n",
       "      <td>0.041265</td>\n",
       "      <td>0.183928</td>\n",
       "      <td>0.185071</td>\n",
       "      <td>0.140647</td>\n",
       "      <td>1.000000</td>\n",
       "      <td>0.033561</td>\n",
       "      <td>0.173844</td>\n",
       "    </tr>\n",
       "    <tr>\n",
       "      <th>Age</th>\n",
       "      <td>0.544341</td>\n",
       "      <td>0.263514</td>\n",
       "      <td>0.239528</td>\n",
       "      <td>-0.113970</td>\n",
       "      <td>-0.042163</td>\n",
       "      <td>0.036242</td>\n",
       "      <td>0.033561</td>\n",
       "      <td>1.000000</td>\n",
       "      <td>0.238356</td>\n",
       "    </tr>\n",
       "    <tr>\n",
       "      <th>Outcome</th>\n",
       "      <td>0.221898</td>\n",
       "      <td>0.466581</td>\n",
       "      <td>0.065068</td>\n",
       "      <td>0.074752</td>\n",
       "      <td>0.130548</td>\n",
       "      <td>0.292695</td>\n",
       "      <td>0.173844</td>\n",
       "      <td>0.238356</td>\n",
       "      <td>1.000000</td>\n",
       "    </tr>\n",
       "  </tbody>\n",
       "</table>\n",
       "</div>"
      ],
      "text/plain": [
       "                          Pregnancies   Glucose  BloodPressure  SkinThickness  \\\n",
       "Pregnancies                  1.000000  0.129459       0.141282      -0.081672   \n",
       "Glucose                      0.129459  1.000000       0.152590       0.057328   \n",
       "BloodPressure                0.141282  0.152590       1.000000       0.207371   \n",
       "SkinThickness               -0.081672  0.057328       0.207371       1.000000   \n",
       "Insulin                     -0.073535  0.331357       0.088933       0.436783   \n",
       "BMI                          0.017683  0.221071       0.281805       0.392573   \n",
       "DiabetesPedigreeFunction    -0.033523  0.137337       0.041265       0.183928   \n",
       "Age                          0.544341  0.263514       0.239528      -0.113970   \n",
       "Outcome                      0.221898  0.466581       0.065068       0.074752   \n",
       "\n",
       "                           Insulin       BMI  DiabetesPedigreeFunction  \\\n",
       "Pregnancies              -0.073535  0.017683                 -0.033523   \n",
       "Glucose                   0.331357  0.221071                  0.137337   \n",
       "BloodPressure             0.088933  0.281805                  0.041265   \n",
       "SkinThickness             0.436783  0.392573                  0.183928   \n",
       "Insulin                   1.000000  0.197859                  0.185071   \n",
       "BMI                       0.197859  1.000000                  0.140647   \n",
       "DiabetesPedigreeFunction  0.185071  0.140647                  1.000000   \n",
       "Age                      -0.042163  0.036242                  0.033561   \n",
       "Outcome                   0.130548  0.292695                  0.173844   \n",
       "\n",
       "                               Age   Outcome  \n",
       "Pregnancies               0.544341  0.221898  \n",
       "Glucose                   0.263514  0.466581  \n",
       "BloodPressure             0.239528  0.065068  \n",
       "SkinThickness            -0.113970  0.074752  \n",
       "Insulin                  -0.042163  0.130548  \n",
       "BMI                       0.036242  0.292695  \n",
       "DiabetesPedigreeFunction  0.033561  0.173844  \n",
       "Age                       1.000000  0.238356  \n",
       "Outcome                   0.238356  1.000000  "
      ]
     },
     "execution_count": 68,
     "metadata": {},
     "output_type": "execute_result"
    }
   ],
   "source": [
    "# Een correlatie tussen kolommen betekent dat ze afhankelijk zijn van elkaar. Als bijvoorbeeld col1 een correlatie \n",
    "# van 0.85 heeft met col2, betekent het dat als col1 2x zo groot of klein wordt, col2 1.85x zo groot of klein wordt.\n",
    "# to do it for 2columns: col1.corr(coll2)\n",
    "\n",
    "print(diab['Glucose'].corr(diab['Insulin'])) # correlatie tussen 2 tabellen\n",
    "\n",
    "diab.corr() # all correlations\n",
    "\n"
   ]
  },
  {
   "cell_type": "markdown",
   "metadata": {},
   "source": [
    "### Opdracht 7:\n",
    "\n",
    "Hoe maak je in SNS een heatmap, wat is een heatmap eigenlijk?\n",
    "Maak een correlatie tabel in pandas en geef die weer in een heatmap"
   ]
  },
  {
   "cell_type": "code",
   "execution_count": 69,
   "metadata": {},
   "outputs": [
    {
     "data": {
      "text/plain": [
       "<AxesSubplot:>"
      ]
     },
     "execution_count": 69,
     "metadata": {},
     "output_type": "execute_result"
    },
    {
     "data": {
      "image/png": "[encoded data removed]",
      "text/plain": [
       "<Figure size 432x288 with 2 Axes>"
      ]
     },
     "metadata": {},
     "output_type": "display_data"
    }
   ],
   "source": [
    "# Een heatmap is een datavisualisatietechniek die de omvang van \n",
    "# een fenomeen als kleur in twee dimensies laat zien. De kler laat duidelijk zien hoe de correlatie is.\n",
    "\n",
    "import seaborn as sns\n",
    "\n",
    "sns.heatmap(diab.corr(), annot=True)"
   ]
  },
  {
   "cell_type": "markdown",
   "metadata": {
    "_cell_guid": "d1714227-b678-4590-a1f3-65418ee42983",
    "_uuid": "68fff0bba19fa506cb14a6fa4ca838bc5a5e6d1a"
   },
   "source": [
    "### Laten we eens wat voorspellen!\n",
    "\n",
    "Gevraagd bekijk van eenieder hier ondergenoemde classifier de mediawiki pagina. \n",
    "Welke denk je dat voor ons probleem het meeste geschikt is en waarom?\n",
    "\n",
    "\n",
    "Wat zijn de verschillen tussen de clasifier?\n",
    "\n",
    "Om welke reden zou je een bepaalde clasifier kiezen?\n",
    ".\n",
    ".\n",
    ".\n",
    ".\n",
    "\n",
    "\n"
   ]
  },
  {
   "cell_type": "code",
   "execution_count": 70,
   "metadata": {
    "_cell_guid": "3492b216-111e-4bff-8655-649c467d05dd",
    "_uuid": "a4523a727c262dde118f48f10852441c138bbbe9"
   },
   "outputs": [],
   "source": [
    "# Importeen aantal standaard systeem voor machine-learning gebruik pip om de ontbrekende modules te installeren.\n",
    "\n",
    "from sklearn import svm\n",
    "from sklearn.neighbors import KNeighborsClassifier\n",
    "from sklearn.tree import DecisionTreeClassifier\n",
    "from sklearn.linear_model import LogisticRegression\n",
    "\n",
    "from sklearn.model_selection import train_test_split\n",
    "from sklearn import metrics\n",
    "import warnings\n",
    "warnings.filterwarnings('ignore')"
   ]
  },
  {
   "cell_type": "markdown",
   "metadata": {
    "_cell_guid": "f948a9ec-cf4c-4b0c-8255-cbfbbc3d9a58",
    "_uuid": "aa1227d23a4f5b53268ecb111604d1eaa9023f54"
   },
   "source": [
    "### Opdracht 8:\n",
    "\n",
    "Zoek uit wat er in het onderstaande blok gebeurt, geef hieronder de beschrijving:\n",
    "\n",
    ". Zet de kolom outcome in een apart variabele. Dit is de label\n",
    ". De rest van de kolommen komen in een ander variabele. Dit zijn de features\n",
    ". De train en test data worden van elkaar gesplit. 25% test en 75% train data. De verhouding is wel dezelfde qua outcome.\n",
    "\n",
    ". De head laat de eerste vijf rijen zien."
   ]
  },
  {
   "cell_type": "code",
   "execution_count": 71,
   "metadata": {
    "_cell_guid": "36345868-0e3d-4bc3-8b0d-fe9d4d020cb9",
    "_uuid": "5c5fff2094840f3dec40ee70b760116423a68057"
   },
   "outputs": [],
   "source": [
    "# De code hieronder is absuluut noodzakelijk voor een ML training.\n",
    "\n",
    "outcome=diab['Outcome']\n",
    "data=diab[diab.columns[:8]]\n",
    "train,test=train_test_split(diab,test_size=0.25,random_state=0,stratify=diab['Outcome'])# stratify the outcome\n",
    "train_X=train[train.columns[:8]]\n",
    "test_X=test[test.columns[:8]]\n",
    "train_Y=train['Outcome']\n",
    "test_Y=test['Outcome']"
   ]
  },
  {
   "cell_type": "code",
   "execution_count": 72,
   "metadata": {
    "_cell_guid": "2c2ccd13-f1cc-4ae3-8cc2-b16789944e8b",
    "_uuid": "419e9b6e00fcd6c5ddf8b6a960ca22ab58077eb3"
   },
   "outputs": [
    {
     "data": {
      "text/html": [
       "<div>\n",
       "<style scoped>\n",
       "    .dataframe tbody tr th:only-of-type {\n",
       "        vertical-align: middle;\n",
       "    }\n",
       "\n",
       "    .dataframe tbody tr th {\n",
       "        vertical-align: top;\n",
       "    }\n",
       "\n",
       "    .dataframe thead th {\n",
       "        text-align: right;\n",
       "    }\n",
       "</style>\n",
       "<table border=\"1\" class=\"dataframe\">\n",
       "  <thead>\n",
       "    <tr style=\"text-align: right;\">\n",
       "      <th></th>\n",
       "      <th>Pregnancies</th>\n",
       "      <th>Glucose</th>\n",
       "      <th>BloodPressure</th>\n",
       "      <th>SkinThickness</th>\n",
       "      <th>Insulin</th>\n",
       "      <th>BMI</th>\n",
       "      <th>DiabetesPedigreeFunction</th>\n",
       "      <th>Age</th>\n",
       "    </tr>\n",
       "  </thead>\n",
       "  <tbody>\n",
       "    <tr>\n",
       "      <th>432</th>\n",
       "      <td>1</td>\n",
       "      <td>80</td>\n",
       "      <td>74</td>\n",
       "      <td>11</td>\n",
       "      <td>60</td>\n",
       "      <td>30.0</td>\n",
       "      <td>0.527</td>\n",
       "      <td>22</td>\n",
       "    </tr>\n",
       "    <tr>\n",
       "      <th>453</th>\n",
       "      <td>2</td>\n",
       "      <td>119</td>\n",
       "      <td>0</td>\n",
       "      <td>0</td>\n",
       "      <td>0</td>\n",
       "      <td>19.6</td>\n",
       "      <td>0.832</td>\n",
       "      <td>72</td>\n",
       "    </tr>\n",
       "    <tr>\n",
       "      <th>706</th>\n",
       "      <td>10</td>\n",
       "      <td>115</td>\n",
       "      <td>0</td>\n",
       "      <td>0</td>\n",
       "      <td>0</td>\n",
       "      <td>0.0</td>\n",
       "      <td>0.261</td>\n",
       "      <td>30</td>\n",
       "    </tr>\n",
       "    <tr>\n",
       "      <th>606</th>\n",
       "      <td>1</td>\n",
       "      <td>181</td>\n",
       "      <td>78</td>\n",
       "      <td>42</td>\n",
       "      <td>293</td>\n",
       "      <td>40.0</td>\n",
       "      <td>1.258</td>\n",
       "      <td>22</td>\n",
       "    </tr>\n",
       "    <tr>\n",
       "      <th>118</th>\n",
       "      <td>4</td>\n",
       "      <td>97</td>\n",
       "      <td>60</td>\n",
       "      <td>23</td>\n",
       "      <td>0</td>\n",
       "      <td>28.2</td>\n",
       "      <td>0.443</td>\n",
       "      <td>22</td>\n",
       "    </tr>\n",
       "  </tbody>\n",
       "</table>\n",
       "</div>"
      ],
      "text/plain": [
       "     Pregnancies  Glucose  BloodPressure  SkinThickness  Insulin   BMI  \\\n",
       "432            1       80             74             11       60  30.0   \n",
       "453            2      119              0              0        0  19.6   \n",
       "706           10      115              0              0        0   0.0   \n",
       "606            1      181             78             42      293  40.0   \n",
       "118            4       97             60             23        0  28.2   \n",
       "\n",
       "     DiabetesPedigreeFunction  Age  \n",
       "432                     0.527   22  \n",
       "453                     0.832   72  \n",
       "706                     0.261   30  \n",
       "606                     1.258   22  \n",
       "118                     0.443   22  "
      ]
     },
     "execution_count": 72,
     "metadata": {},
     "output_type": "execute_result"
    }
   ],
   "source": [
    "train_X.head(5)"
   ]
  },
  {
   "cell_type": "code",
   "execution_count": 73,
   "metadata": {
    "_cell_guid": "80066677-3032-49b4-af09-110ee1e20f83",
    "_uuid": "731f83e0ffdda584c9454133bc5f907b4205cdfc"
   },
   "outputs": [
    {
     "data": {
      "text/plain": [
       "432    0\n",
       "453    0\n",
       "706    1\n",
       "606    1\n",
       "118    0\n",
       "Name: Outcome, dtype: int64"
      ]
     },
     "execution_count": 73,
     "metadata": {},
     "output_type": "execute_result"
    }
   ],
   "source": [
    "train_Y.head(5)"
   ]
  },
  {
   "cell_type": "markdown",
   "metadata": {},
   "source": [
    "### Opdracht 9:\n",
    "\n",
    "Wat zie je in de output van de bovenstaande cellen? (2 stuks)\n",
    "\n",
    "\n",
    "Antwoord: Bovenaan is er een tabel met de features en onder is er een tabel met de label (outcome)\n",
    "    \n",
    "    \n",
    "   "
   ]
  },
  {
   "cell_type": "markdown",
   "metadata": {
    "_cell_guid": "efa32cb6-4dac-4905-abe5-4e808197bfc7",
    "_uuid": "e17ee6e52773b9936bc6be87adfba86a155844a1"
   },
   "source": [
    "### SVM (Zoek uit wat een SVM model is?) \n",
    "\n",
    "Support vector machine is een algoritme op het gebied van machine learning. Met SVM kun je voorspellingen doen door data in groepen te verdelen. Het valt binnen Supervised Learning. Je kunt SVM gebruiken om zowel numerieke waarden te voorspellen (regressie) als om een groep of label te bepalen (classificatie)."
   ]
  },
  {
   "cell_type": "code",
   "execution_count": 74,
   "metadata": {
    "_cell_guid": "9887e614-fb5a-4067-a059-271ac6d994b3",
    "_uuid": "728b32875673127f319cf9d45d4a848cdc8aed31"
   },
   "outputs": [
    {
     "name": "stdout",
     "output_type": "stream",
     "text": [
      "Accuracy for SVM kernel= rbf is 0.765625\n",
      "Accuracy for SVM kernel= linear is 0.7708333333333334\n"
     ]
    }
   ],
   "source": [
    "types=['rbf','linear']\n",
    "for i in types:\n",
    "    model=svm.SVC(kernel=i)\n",
    "    model.fit(train_X,train_Y)\n",
    "    prediction=model.predict(test_X)\n",
    "    print('Accuracy for SVM kernel=',i,'is',metrics.accuracy_score(prediction,test_Y))"
   ]
  },
  {
   "cell_type": "markdown",
   "metadata": {
    "_cell_guid": "72e6654b-2c01-4f22-9c58-6aed889d458d",
    "_uuid": "1f0cd5a502b787d63761b87c00456ce570357da5"
   },
   "source": [
    "### Logistic Regression (Wat is een Logistic Regression model?)\n",
    "\n",
    "Logistic Regression is een model waarmee je voorspellingen kan maken om de kans op een positieve uitkomst van een categorische afhankelijke variabele te voorspellen. Hierbij voorspel je dus bijvoorbeeld de kans op titanic survived ja of nee."
   ]
  },
  {
   "cell_type": "code",
   "execution_count": 75,
   "metadata": {
    "_cell_guid": "099625fb-d9ed-484f-9599-8e05fd39c9b7",
    "_uuid": "55d6acaa51e5df9132763e87c0c70ed2008b2456"
   },
   "outputs": [
    {
     "name": "stdout",
     "output_type": "stream",
     "text": [
      "The accuracy of the Logistic Regression is 0.78125\n"
     ]
    }
   ],
   "source": [
    "model = LogisticRegression()\n",
    "model.fit(train_X,train_Y)\n",
    "prediction=model.predict(test_X)\n",
    "print('The accuracy of the Logistic Regression is',metrics.accuracy_score(prediction,test_Y))"
   ]
  },
  {
   "cell_type": "markdown",
   "metadata": {
    "_cell_guid": "902eb2cd-5ea4-4288-a94a-03b0e0cf1379",
    "_uuid": "069c0bada2a225d5f7915029160b8168e4dd8771"
   },
   "source": [
    "### Opdracht  10:\n",
    "Maak voor de decision tree classifier een getraind model en test de nauwkeurigheid."
   ]
  },
  {
   "cell_type": "code",
   "execution_count": 76,
   "metadata": {
    "_cell_guid": "cc47efd2-f2a1-437c-8bbf-e9ca099066df",
    "_uuid": "ed96e98502d5bada87b40cc2e69889999abefac1"
   },
   "outputs": [
    {
     "data": {
      "text/plain": [
       "0.78125"
      ]
     },
     "execution_count": 76,
     "metadata": {},
     "output_type": "execute_result"
    }
   ],
   "source": [
    "model=DecisionTreeClassifier()\n",
    "  \n",
    "model.fit(train_X,train_Y)\n",
    "prediction=model.predict(test_X)\n",
    "\n",
    "metrics.accuracy_score(prediction, test_Y) # getal rond de 0.75 - 0.80"
   ]
  },
  {
   "cell_type": "markdown",
   "metadata": {
    "_cell_guid": "f1bb369d-7c6d-4c93-ab4b-a44895e3eb48",
    "_uuid": "6e1396a981a019de67d863edd784995eda77a724"
   },
   "source": [
    "### Alle systemen op een rijtje.\n"
   ]
  },
  {
   "cell_type": "code",
   "execution_count": 77,
   "metadata": {
    "_cell_guid": "9b23851c-0819-4f96-9932-15f9f445a930",
    "_uuid": "3973357baed566d5f3dc484506a6a0c1a3938856"
   },
   "outputs": [
    {
     "data": {
      "text/html": [
       "<div>\n",
       "<style scoped>\n",
       "    .dataframe tbody tr th:only-of-type {\n",
       "        vertical-align: middle;\n",
       "    }\n",
       "\n",
       "    .dataframe tbody tr th {\n",
       "        vertical-align: top;\n",
       "    }\n",
       "\n",
       "    .dataframe thead th {\n",
       "        text-align: right;\n",
       "    }\n",
       "</style>\n",
       "<table border=\"1\" class=\"dataframe\">\n",
       "  <thead>\n",
       "    <tr style=\"text-align: right;\">\n",
       "      <th></th>\n",
       "      <th>Accuracy</th>\n",
       "    </tr>\n",
       "  </thead>\n",
       "  <tbody>\n",
       "    <tr>\n",
       "      <th>Linear Svm</th>\n",
       "      <td>0.770833</td>\n",
       "    </tr>\n",
       "    <tr>\n",
       "      <th>Radial Svm</th>\n",
       "      <td>0.765625</td>\n",
       "    </tr>\n",
       "    <tr>\n",
       "      <th>Logistic Regression</th>\n",
       "      <td>0.781250</td>\n",
       "    </tr>\n",
       "    <tr>\n",
       "      <th>KNN</th>\n",
       "      <td>0.729167</td>\n",
       "    </tr>\n",
       "    <tr>\n",
       "      <th>Decision Tree</th>\n",
       "      <td>0.760417</td>\n",
       "    </tr>\n",
       "  </tbody>\n",
       "</table>\n",
       "</div>"
      ],
      "text/plain": [
       "                     Accuracy\n",
       "Linear Svm           0.770833\n",
       "Radial Svm           0.765625\n",
       "Logistic Regression  0.781250\n",
       "KNN                  0.729167\n",
       "Decision Tree        0.760417"
      ]
     },
     "execution_count": 77,
     "metadata": {},
     "output_type": "execute_result"
    }
   ],
   "source": [
    "abc=[]\n",
    "classifiers=['Linear Svm','Radial Svm','Logistic Regression','KNN','Decision Tree']\n",
    "models=[svm.SVC(kernel='linear'),svm.SVC(kernel='rbf'),LogisticRegression(),KNeighborsClassifier(n_neighbors=3),DecisionTreeClassifier()]\n",
    "for i in models:\n",
    "    model = i\n",
    "    model.fit(train_X,train_Y)\n",
    "    prediction=model.predict(test_X)\n",
    "    abc.append(metrics.accuracy_score(prediction,test_Y))\n",
    "models_dataframe=pd.DataFrame(abc,index=classifiers)   \n",
    "models_dataframe.columns=['Accuracy']\n",
    "models_dataframe"
   ]
  },
  {
   "cell_type": "markdown",
   "metadata": {
    "_cell_guid": "2c1f0b59-cf6c-4d01-9c1e-d8a6e185e10d",
    "_uuid": "a0f1bc9771625fade491871b7f0310a73b9e43dd"
   },
   "source": [
    "De bovenstaande algoritmen geven geen erg hoge nauwkeurigheid. Dit kan worden verbeterd door attributeselectie te gebruiken en alleen relevante kolommen te gebruiken. We kunnen ook gebruik maken van ensembling of middeling van verschillende algoritmen. "
   ]
  },
  {
   "cell_type": "code",
   "execution_count": 78,
   "metadata": {},
   "outputs": [],
   "source": [
    "### Wat is Ensemble?\n",
    "\n",
    "# The goal of ensemble methods is to combine the predictions of several base estimators built with a given learning \n",
    "# algorithm in order to improve generalizability / robustness over a single estimator.\n",
    "\n"
   ]
  },
  {
   "cell_type": "markdown",
   "metadata": {},
   "source": [
    "### Opdracht 11\n",
    "\n",
    "Om de nauwkeurigheid van een model te bepalen wordt ook wel gebruik \n",
    "gemaakt van een confusion matrix, maak voor een van de get bruikte modelen een confusion \n",
    "matrix en doe een uitspraak over de betrouwbaarheid van het model?\n",
    "\n"
   ]
  },
  {
   "cell_type": "code",
   "execution_count": 79,
   "metadata": {},
   "outputs": [
    {
     "data": {
      "text/plain": [
       "array([[104,  25],\n",
       "       [ 21,  42]], dtype=int64)"
      ]
     },
     "execution_count": 79,
     "metadata": {},
     "output_type": "execute_result"
    }
   ],
   "source": [
    "#  Confusion matrix.\n",
    "from sklearn.metrics import confusion_matrix\n",
    "\n",
    "confusion_matrix(prediction, test_Y)\n",
    "\n",
    "\n"
   ]
  },
  {
   "cell_type": "markdown",
   "metadata": {
    "_cell_guid": "3a7c30af-d1a8-4e79-8ba0-1b30cd16d1b1",
    "_uuid": "449c2e9a459aab17f4c68d7eb3a001d4bf4f92cd"
   },
   "source": [
    "## Feature Extraction/ Selection:\n",
    "\n",
    "- Veel attributen beïnvloeden de nauwkeurigheid van het algoritme.\n",
    "\n",
    "- Feature extractie betekent dat je alleen de belangrijkste attributen selecteert om de nauwkeurigheid te verbeteren. \n",
    "\n",
    "- Selectie van de belangrijkste attributen verkleint de kans op overfitting en versnelt de training.\n",
    "\n",
    "- Je kan op twee manieren de belangrijkste attributen selecteren:\n",
    " - Via de correlatie matrix en dan de attributen met een lage onderlinge correlatie\n",
    " - Via een RandomforestClassifier deze geeft het belang van de attributen aan.\n",
    "\n"
   ]
  },
  {
   "cell_type": "code",
   "execution_count": 80,
   "metadata": {
    "_cell_guid": "b3830717-b30d-4d81-aa08-476dab5c3948",
    "_uuid": "9050d261535cacfe5ea0d6283b747a7ec25750b3"
   },
   "outputs": [
    {
     "data": {
      "text/plain": [
       "Glucose                     0.242098\n",
       "BMI                         0.172574\n",
       "Age                         0.135220\n",
       "DiabetesPedigreeFunction    0.128324\n",
       "BloodPressure               0.092903\n",
       "Pregnancies                 0.086774\n",
       "SkinThickness               0.073109\n",
       "Insulin                     0.068999\n",
       "dtype: float64"
      ]
     },
     "execution_count": 80,
     "metadata": {},
     "output_type": "execute_result"
    }
   ],
   "source": [
    "from sklearn.ensemble import RandomForestClassifier \n",
    "model= RandomForestClassifier(n_estimators=100,random_state=0)\n",
    "X=diab[diab.columns[:8]]\n",
    "Y=diab['Outcome']\n",
    "model.fit(X,Y)\n",
    "pd.Series(model.feature_importances_,index=X.columns).sort_values(ascending=False)"
   ]
  },
  {
   "cell_type": "markdown",
   "metadata": {
    "_cell_guid": "88bb0462-0caf-4e63-9ca2-b8da6d31eb21",
    "_uuid": "061d92f855b34661fc84da49cee38c1e1153f262"
   },
   "source": [
    "### Gevraagd :Observations:\n",
    "\n",
    "Wat betekenen de verschillende getallen in de velden. Ga nu terug naar je correlatie matrix en kies de 5 attributen met de laagste onderlinge correlatie en vergelijk deze met de top 5 van de RandomForestClassifier?\n",
    "\n",
    "De getallen betekenen hoe de correlatie is met de outcome kolom. Hogere getal is een grotere correlatie.\n",
    "\n",
    "Verschil:   ....\n",
    "\n",
    "Overeenkomst: ......\n",
    "\n"
   ]
  },
  {
   "cell_type": "markdown",
   "metadata": {
    "_cell_guid": "f11632b8-4bc6-4820-941a-b8bc22a5d4d6",
    "_uuid": "c8fb4fc2bd247e5040bb6f3535a28ab53fcb2acb"
   },
   "source": [
    "### Vraag wat zijn volgens jouw de belangrijkste features voor het bepalen van diabetes en geef aan waarop je dat baseert?\n",
    "\n",
    "Antwoord:\n",
    "Glucose, BMI en leeftijd. Dit kun je terugzien in de heatmap. Ook kon je dit verwachten sinds we onderzoek aan het begin hebben gedaan.\n"
   ]
  },
  {
   "cell_type": "markdown",
   "metadata": {},
   "source": [
    "### Tot slot: \n",
    "Gezien de resultaten van de voorspellingen zou je een systeem van ML advisreen om disgnose te stellen of iemand diabetes heeft of niet\n"
   ]
  },
  {
   "cell_type": "code",
   "execution_count": 81,
   "metadata": {},
   "outputs": [
    {
     "ename": "SyntaxError",
     "evalue": "invalid syntax (364900216.py, line 1)",
     "output_type": "error",
     "traceback": [
      "\u001b[1;36m  Input \u001b[1;32mIn [81]\u001b[1;36m\u001b[0m\n\u001b[1;33m    Antwoord: geef minimaal twee argumenten.\u001b[0m\n\u001b[1;37m                   ^\u001b[0m\n\u001b[1;31mSyntaxError\u001b[0m\u001b[1;31m:\u001b[0m invalid syntax\n"
     ]
    }
   ],
   "source": [
    "Antwoord: geef minimaal twee argumenten.\n",
    "    \n",
    "    \n",
    "    "
   ]
  }
 ],
 "metadata": {
  "kernelspec": {
   "display_name": "Python 3 (ipykernel)",
   "language": "python",
   "name": "python3"
  },
  "language_info": {
   "codemirror_mode": {
    "name": "ipython",
    "version": 3
   },
   "file_extension": ".py",
   "mimetype": "text/x-python",
   "name": "python",
   "nbconvert_exporter": "python",
   "pygments_lexer": "ipython3",
   "version": "3.10.2"
  }
 },
 "nbformat": 4,
 "nbformat_minor": 1
}
