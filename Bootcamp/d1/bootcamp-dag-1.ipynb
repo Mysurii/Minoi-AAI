{
 "cells": [
  {
   "cell_type": "markdown",
   "id": "18f7dc32",
   "metadata": {},
   "source": [
    "# Bootcamp dag 1"
   ]
  },
  {
   "cell_type": "markdown",
   "id": "f12e54e4",
   "metadata": {},
   "source": [
    "## Hello World!"
   ]
  },
  {
   "cell_type": "code",
   "execution_count": 1,
   "id": "6ed621d4",
   "metadata": {},
   "outputs": [
    {
     "name": "stdout",
     "output_type": "stream",
     "text": [
      "Hello world!\n"
     ]
    }
   ],
   "source": [
    "print(\"Hello world!\")"
   ]
  },
  {
   "cell_type": "code",
   "execution_count": 2,
   "id": "ba3b9557",
   "metadata": {},
   "outputs": [
    {
     "name": "stdout",
     "output_type": "stream",
     "text": [
      "Hello world!\n"
     ]
    }
   ],
   "source": [
    "hw = \"Hello world!\"\n",
    "print(hw)"
   ]
  },
  {
   "cell_type": "code",
   "execution_count": 3,
   "id": "b9f9c098",
   "metadata": {},
   "outputs": [
    {
     "name": "stdout",
     "output_type": "stream",
     "text": [
      "l\n"
     ]
    }
   ],
   "source": [
    "print(hw[2])"
   ]
  },
  {
   "cell_type": "code",
   "execution_count": 4,
   "id": "3d5fda0d",
   "metadata": {},
   "outputs": [
    {
     "name": "stdout",
     "output_type": "stream",
     "text": [
      "Hello\n"
     ]
    }
   ],
   "source": [
    "print(hw.split()[0])"
   ]
  },
  {
   "cell_type": "code",
   "execution_count": 5,
   "id": "7269cf06",
   "metadata": {},
   "outputs": [
    {
     "name": "stdout",
     "output_type": "stream",
     "text": [
      "world!\n"
     ]
    }
   ],
   "source": [
    "print(hw.split()[-1])"
   ]
  },
  {
   "cell_type": "markdown",
   "id": "dea176b7",
   "metadata": {},
   "source": [
    "## Functions"
   ]
  },
  {
   "cell_type": "code",
   "execution_count": 1,
   "id": "2398e7a4",
   "metadata": {},
   "outputs": [
    {
     "name": "stdout",
     "output_type": "stream",
     "text": [
      "Hello world!\n"
     ]
    }
   ],
   "source": [
    "# Functie print Hello world als het aangeroepen wordt \n",
    "def print_hello():\n",
    "    print(\"Hello world!\")\n",
    "    \n",
    "print_hello()\n"
   ]
  },
  {
   "cell_type": "code",
   "execution_count": 8,
   "id": "0fbd4814",
   "metadata": {},
   "outputs": [
    {
     "name": "stdout",
     "output_type": "stream",
     "text": [
      "Hello world!\n"
     ]
    }
   ],
   "source": [
    "# geeft de string 'Hello world!' terug\n",
    "def get_hello():\n",
    "    return \"Hello world!\"\n",
    "print(get_hello())"
   ]
  },
  {
   "cell_type": "code",
   "execution_count": 7,
   "id": "0218d711",
   "metadata": {},
   "outputs": [
    {
     "name": "stdout",
     "output_type": "stream",
     "text": [
      "Dit is een test!\n"
     ]
    }
   ],
   "source": [
    "# Print een gegeven string\n",
    "def print_text(text):\n",
    "    print(text)\n",
    "print_text(\"Dit is een test!\")"
   ]
  },
  {
   "cell_type": "markdown",
   "id": "b674d121",
   "metadata": {},
   "source": [
    "## sommetjes en lijstjes"
   ]
  },
  {
   "cell_type": "code",
   "execution_count": 8,
   "id": "82bbb022",
   "metadata": {},
   "outputs": [
    {
     "name": "stdout",
     "output_type": "stream",
     "text": [
      "2\n",
      "[1, 2, 3, 4, 5, 6, 7, 8, 9, 10]\n"
     ]
    }
   ],
   "source": [
    "print (1 + 1)\n",
    "\n",
    "a = list(range(1, 11))\n",
    "print(a)"
   ]
  },
  {
   "cell_type": "code",
   "execution_count": 9,
   "id": "53345564",
   "metadata": {},
   "outputs": [
    {
     "name": "stdout",
     "output_type": "stream",
     "text": [
      "[1, 2, 3, 4, 5, 6, 7, 8, 9, 10, 11, 12, 13, 14, 15]\n"
     ]
    }
   ],
   "source": [
    "b=[11,12,13,14,15] \n",
    "\n",
    "a.extend(b)\n",
    "\n",
    "print(a)"
   ]
  },
  {
   "cell_type": "code",
   "execution_count": 10,
   "id": "44da0b23",
   "metadata": {},
   "outputs": [
    {
     "name": "stdout",
     "output_type": "stream",
     "text": [
      "som van list: 120\n"
     ]
    }
   ],
   "source": [
    "print(\"som van list:\", sum(a))"
   ]
  },
  {
   "cell_type": "code",
   "execution_count": 11,
   "id": "ee15a219",
   "metadata": {},
   "outputs": [
    {
     "name": "stdout",
     "output_type": "stream",
     "text": [
      "sommatie van 100: 5050\n"
     ]
    }
   ],
   "source": [
    "print(\"sommatie van 100:\", sum(range(101)))"
   ]
  },
  {
   "cell_type": "markdown",
   "id": "a80888d9",
   "metadata": {},
   "source": [
    "## Meer functies en conditionals"
   ]
  },
  {
   "cell_type": "code",
   "execution_count": 24,
   "id": "8755541c",
   "metadata": {},
   "outputs": [
    {
     "name": "stdout",
     "output_type": "stream",
     "text": [
      "False\n",
      "True\n",
      "True\n",
      "False\n",
      "False\n",
      "True\n"
     ]
    }
   ],
   "source": [
    "print(5 == 6) # kijkt of 5 gelijk is aan 6\n",
    "print(5 != 6) # kijkt of 5 niet gelijk is aan 6\n",
    "print(5 < 6) # kijkt of 5 kleiner is dan 6\n",
    "print(5 > 6) # kijkt of 5 groter is dan 6\n",
    "print(5 >= 6) # kijkt of 5 groter of gelijk is aan 6\n",
    "print(5 <= 6) # kijkt 5 kleiner of gelijk is aan 6"
   ]
  },
  {
   "cell_type": "code",
   "execution_count": 13,
   "id": "63699010",
   "metadata": {},
   "outputs": [
    {
     "name": "stdout",
     "output_type": "stream",
     "text": [
      "True\n",
      "True\n",
      "False\n"
     ]
    }
   ],
   "source": [
    "print ('s' in 'Mississippi') # bekijkt of s in Mississippi zit\n",
    "print('sip' in 'Mississippi') # bekijkt of sip in Mississippi zit\n",
    "print('mis' in 'Mississippi') # bekijkt of mis in Mississippi zit (hoofdletter gevoelig) "
   ]
  },
  {
   "cell_type": "code",
   "execution_count": 12,
   "id": "aecc234b",
   "metadata": {},
   "outputs": [
    {
     "name": "stdout",
     "output_type": "stream",
     "text": [
      "Hello world!\n"
     ]
    }
   ],
   "source": [
    "def paste_two_strings_and_print(text1, text2):\n",
    "    if isinstance(text1, str) and isinstance(text2, str):\n",
    "        print(text1 + text2)\n",
    "        \n",
    "paste_two_strings_and_print(\"Hello\", \" world!\")\n",
    "paste_two_strings_and_print(\"Hello\", 5) # wordt niet uitgeprint"
   ]
  },
  {
   "cell_type": "code",
   "execution_count": 18,
   "id": "8ba75628",
   "metadata": {},
   "outputs": [
    {
     "name": "stdout",
     "output_type": "stream",
     "text": [
      "Sommatie: 12\n",
      "num1 * pi = 15.707963267948966\n",
      "hoogste getal:  7\n",
      "7\n",
      "Sommatie: 8\n",
      "num1 * pi = 12.566370614359172\n",
      "hoogste getal:  4\n",
      "4\n",
      "num1 * pi = 31.41592653589793\n",
      "hoogste getal:  10\n",
      "10\n"
     ]
    }
   ],
   "source": [
    "import math\n",
    "\n",
    "def sum_numbers(num1, num2):\n",
    "    if num2 > num1 or num1 == num2:\n",
    "        print(\"Sommatie:\", num1 + num2)\n",
    "        \n",
    "    lowest_number = min((num1, num2))\n",
    "    highest_number = max((num1, num2))\n",
    "    \n",
    "    num1_pi = num1 * math.pi\n",
    "    \n",
    "    print('num1 * pi =', str(num1_pi))\n",
    "    print('hoogste getal: ', highest_number)\n",
    "            \n",
    "    while lowest_number != highest_number:\n",
    "        lowest_number += 1\n",
    "        \n",
    "    return lowest_number\n",
    "        \n",
    "\n",
    "print(sum_numbers(5, 7)) \n",
    "print(sum_numbers(4, 4)) \n",
    "print(sum_numbers(10, 2)) "
   ]
  },
  {
   "cell_type": "markdown",
   "id": "237eb8c7",
   "metadata": {},
   "source": [
    "## Dictionary"
   ]
  },
  {
   "cell_type": "code",
   "execution_count": 85,
   "id": "35c1ba63",
   "metadata": {},
   "outputs": [
    {
     "name": "stdout",
     "output_type": "stream",
     "text": [
      "{'a': 1, 'b': 20, 'c': 5}\n"
     ]
    }
   ],
   "source": [
    "a = { 'a' : 1, 'b' : 20}\n",
    "\n",
    "a['c'] = 5\n",
    "\n",
    "print (a)\n"
   ]
  },
  {
   "cell_type": "code",
   "execution_count": 86,
   "id": "f913bcff",
   "metadata": {},
   "outputs": [
    {
     "name": "stdout",
     "output_type": "stream",
     "text": [
      "True\n"
     ]
    }
   ],
   "source": [
    "print('c' in a)"
   ]
  },
  {
   "cell_type": "code",
   "execution_count": 87,
   "id": "6638edb3",
   "metadata": {},
   "outputs": [
    {
     "name": "stdout",
     "output_type": "stream",
     "text": [
      "keys: dict_keys(['a', 'b', 'c'])\n",
      "values: dict_values([1, 20, 5])\n"
     ]
    }
   ],
   "source": [
    "print('keys:', a.keys())\n",
    "print('values:', a.values())"
   ]
  },
  {
   "cell_type": "code",
   "execution_count": 88,
   "id": "e53297d6",
   "metadata": {},
   "outputs": [
    {
     "name": "stdout",
     "output_type": "stream",
     "text": [
      "1\n",
      "20\n",
      "5\n"
     ]
    }
   ],
   "source": [
    "for i in a.values():\n",
    "    print(i)"
   ]
  },
  {
   "cell_type": "code",
   "execution_count": 89,
   "id": "c40d3dcf",
   "metadata": {},
   "outputs": [
    {
     "name": "stdout",
     "output_type": "stream",
     "text": [
      "a\n",
      "b\n",
      "c\n"
     ]
    }
   ],
   "source": [
    "for i in sorted(a.keys()):\n",
    "    print(i)"
   ]
  },
  {
   "cell_type": "code",
   "execution_count": 91,
   "id": "c2a44375",
   "metadata": {},
   "outputs": [
    {
     "name": "stdout",
     "output_type": "stream",
     "text": [
      "1\n",
      "5\n",
      "20\n"
     ]
    }
   ],
   "source": [
    "\n",
    "for i in sorted(a.values()):\n",
    "    print(i)\n",
    "    "
   ]
  },
  {
   "cell_type": "code",
   "execution_count": 20,
   "id": "f65c5157",
   "metadata": {},
   "outputs": [
    {
     "name": "stdout",
     "output_type": "stream",
     "text": [
      "{'d': 1, 'o': 2, '!': 1, 'l': 3, 'H': 1, ' ': 1, 'W': 1, 'e': 1, 'r': 1}\n"
     ]
    }
   ],
   "source": [
    "def print_length_of_string(text):\n",
    "    dict = {e:text.count(e) for e in set(text)}\n",
    "    print(dict)\n",
    " \n",
    "\n",
    "print_length_of_string(\"Hello World!\")"
   ]
  },
  {
   "cell_type": "markdown",
   "id": "7e727eea",
   "metadata": {},
   "source": [
    "## Oefening individueel"
   ]
  },
  {
   "cell_type": "code",
   "execution_count": 10,
   "id": "cd96173a",
   "metadata": {},
   "outputs": [
    {
     "name": "stdout",
     "output_type": "stream",
     "text": [
      "Hello world!\n",
      "Som a: 20\n",
      "Som b: 35\n",
      "Som c: 30\n",
      "sommatie van 100:  5050\n",
      "{'brand': 'Ford', 'model': 'Mustang', 'year': 1963}\n"
     ]
    }
   ],
   "source": [
    "print(\"Hello world!\")\n",
    "\n",
    "a = [1,2,3,4,5]\n",
    "b = [1,3,5,7,9]\n",
    "c = [4,5,6,7,8]\n",
    "\n",
    "\n",
    "a = [x+1 for x in a]\n",
    "b = [x+1 for x in b]\n",
    "b = [x+1 for x in c]\n",
    "\n",
    "print(\"Som a:\", sum(a))\n",
    "print(\"Som b:\", sum(b))\n",
    "print(\"Som c:\", sum(c))\n",
    "\n",
    "som = sum(range(101))\n",
    "    \n",
    "print('sommatie van 100: ', som)\n",
    "\n",
    "car = {\n",
    "     'brand': \"Ford\",\n",
    "  \"model\": \"Mustang\",\n",
    "  \"year\": 1964\n",
    "}\n",
    "\n",
    "car['year'] = 1963\n",
    "\n",
    "print(car)"
   ]
  }
 ],
 "metadata": {
  "kernelspec": {
   "display_name": "Python 3 (ipykernel)",
   "language": "python",
   "name": "python3"
  },
  "language_info": {
   "codemirror_mode": {
    "name": "ipython",
    "version": 3
   },
   "file_extension": ".py",
   "mimetype": "text/x-python",
   "name": "python",
   "nbconvert_exporter": "python",
   "pygments_lexer": "ipython3",
   "version": "3.10.2"
  }
 },
 "nbformat": 4,
 "nbformat_minor": 5
}
