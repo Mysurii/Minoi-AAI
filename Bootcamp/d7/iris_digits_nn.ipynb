{
 "cells": [
  {
   "cell_type": "markdown",
   "metadata": {},
   "source": [
    "# Bootcamp dag 7 - ochtend\n",
    "\n",
    "In deze opgave classificeren afbeeldingen van bloemen uit de iris dataset met behulp van een neuraal netwerk.\n",
    "\n",
    "### Imports"
   ]
  },
  {
   "cell_type": "code",
   "execution_count": 1,
   "metadata": {},
   "outputs": [],
   "source": [
    "import numpy as np\n",
    "import pandas as pd\n",
    "from matplotlib import pyplot as plt\n",
    "import seaborn as sns\n",
    "from sklearn.model_selection import train_test_split\n",
    "from sklearn.preprocessing import OneHotEncoder"
   ]
  },
  {
   "cell_type": "markdown",
   "metadata": {},
   "source": [
    "### Dataset laden\n",
    "Laad de dataset en maak een feature matrix X en een target vector y."
   ]
  },
  {
   "cell_type": "code",
   "execution_count": 2,
   "metadata": {},
   "outputs": [],
   "source": [
    "iris = sns.load_dataset('iris')\n",
    "\n",
    "# we gebruiken .values om een Numpy array te krijgen in plaats van een Pandas DataFrame\n",
    "X_iris = iris.drop('species', axis=1).values \n",
    "y_iris = iris['species'].values"
   ]
  },
  {
   "cell_type": "code",
   "execution_count": 3,
   "metadata": {},
   "outputs": [
    {
     "name": "stdout",
     "output_type": "stream",
     "text": [
      "[['setosa']\n",
      " ['setosa']\n",
      " ['setosa']\n",
      " ['setosa']\n",
      " ['setosa']\n",
      " ['setosa']\n",
      " ['setosa']\n",
      " ['setosa']\n",
      " ['setosa']\n",
      " ['setosa']]\n"
     ]
    }
   ],
   "source": [
    "y_iris = y_iris.reshape(-1, 1) # maak een array van array's, dit is nodig voor de volgende stap\n",
    "print(y_iris[:10])"
   ]
  },
  {
   "cell_type": "markdown",
   "metadata": {},
   "source": [
    "### One Hot Encoding\n",
    "Een neuraal netwerk kan niet omgaan met categorische labels zoals de namen van de planten, maar heeft getallen als uitput nodig. We hebben hier drie klassen (setosa, versicolor, virginica) daarom maken we een target vector met per label drie waarden. Een 1 voor de eerste waarde correspondeert met 'setosa', een 1 voor de 2e waade met 'versicolor' en een 1 voor de derde waarde met 'virginica'."
   ]
  },
  {
   "cell_type": "markdown",
   "metadata": {},
   "source": [
    "Doe dit met behulp van het `OneHotEncoder` object uit sklearn."
   ]
  },
  {
   "cell_type": "code",
   "execution_count": 4,
   "metadata": {},
   "outputs": [],
   "source": [
    "enc = OneHotEncoder(sparse=False)\n",
    "encoded_y_iris = enc.fit_transform(y_iris)\n",
    "\n"
   ]
  },
  {
   "cell_type": "markdown",
   "metadata": {},
   "source": [
    "We hebben de data nu in een geschikt formaat. Splits de data in training en test data."
   ]
  },
  {
   "cell_type": "code",
   "execution_count": 5,
   "metadata": {},
   "outputs": [],
   "source": [
    "X_train, X_test, y_train, y_test = train_test_split(X_iris, encoded_y_iris, test_size=0.2, random_state=6)"
   ]
  },
  {
   "cell_type": "markdown",
   "metadata": {},
   "source": [
    "### Layers\n",
    "Maak een eenvoudig neuraal netwerk met 3 lagen, waarin elke neuron in een laag met elk neuron in de vorige laag verbonden is ('Dense'). \n",
    "Voeg voor de eeste laag een parameter `input_shape` toe die aangeeft hoeveel features een element in 'X' heeft.\n",
    "Het aantal neuronen in de laaste laag is gelijk aan het aantal waarden in een label in `y`. "
   ]
  },
  {
   "cell_type": "code",
   "execution_count": 21,
   "metadata": {},
   "outputs": [
    {
     "data": {
      "text/plain": [
       "(150, 4)"
      ]
     },
     "execution_count": 21,
     "metadata": {},
     "output_type": "execute_result"
    }
   ],
   "source": [
    "from keras.models import Sequential\n",
    "from keras.layers import Dense\n",
    "\n",
    "model = Sequential()\n",
    "\n",
    "model.add(Dense(4, input_shape = [4], activation = 'relu'))\n",
    "model.add(Dense(3, activation = 'relu'))\n",
    "model.add(Dense(3, activation = 'relu'))\n",
    "model.add(Dense(3, activation = 'softmax'))\n",
    "X_iris.shape\n",
    "\n",
    "\n",
    "\n",
    "#voeg lagen toe met model.add()"
   ]
  },
  {
   "cell_type": "markdown",
   "metadata": {},
   "source": [
    "### Compiling\n",
    "Compileer en bekijk het netwerk door onderstaande code te runnen."
   ]
  },
  {
   "cell_type": "code",
   "execution_count": 22,
   "metadata": {},
   "outputs": [
    {
     "name": "stdout",
     "output_type": "stream",
     "text": [
      "Model: \"sequential_2\"\n",
      "_________________________________________________________________\n",
      " Layer (type)                Output Shape              Param #   \n",
      "=================================================================\n",
      " dense_7 (Dense)             (None, 4)                 20        \n",
      "                                                                 \n",
      " dense_8 (Dense)             (None, 3)                 15        \n",
      "                                                                 \n",
      " dense_9 (Dense)             (None, 3)                 12        \n",
      "                                                                 \n",
      " dense_10 (Dense)            (None, 3)                 12        \n",
      "                                                                 \n",
      "=================================================================\n",
      "Total params: 59\n",
      "Trainable params: 59\n",
      "Non-trainable params: 0\n",
      "_________________________________________________________________\n"
     ]
    }
   ],
   "source": [
    "from tensorflow.keras.optimizers import Adam\n",
    "\n",
    "model.compile(Adam(lr=0.01),'categorical_crossentropy',metrics=['accuracy'])\n",
    "\n",
    "model.summary()"
   ]
  },
  {
   "cell_type": "markdown",
   "metadata": {},
   "source": [
    "### Training\n",
    "Nu kunnen we ons model trainen met behulp van de `fit` methode."
   ]
  },
  {
   "cell_type": "code",
   "execution_count": 23,
   "metadata": {},
   "outputs": [
    {
     "name": "stdout",
     "output_type": "stream",
     "text": [
      "Epoch 1/35\n",
      "19/24 [======================>.......] - ETA: 0s - loss: 0.9758 - accuracy: 0.4947"
     ]
    },
    {
     "name": "stderr",
     "output_type": "stream",
     "text": [
      "2022-02-15 12:27:14.034182: I tensorflow/core/grappler/optimizers/custom_graph_optimizer_registry.cc:113] Plugin optimizer for device_type GPU is enabled.\n"
     ]
    },
    {
     "name": "stdout",
     "output_type": "stream",
     "text": [
      "24/24 [==============================] - 0s 6ms/step - loss: 0.9828 - accuracy: 0.5000\n",
      "Epoch 2/35\n",
      "24/24 [==============================] - 0s 6ms/step - loss: 0.8622 - accuracy: 0.6667\n",
      "Epoch 3/35\n",
      "24/24 [==============================] - 0s 6ms/step - loss: 0.7494 - accuracy: 0.6750\n",
      "Epoch 4/35\n",
      "24/24 [==============================] - 0s 6ms/step - loss: 0.6711 - accuracy: 0.8500\n",
      "Epoch 5/35\n",
      "24/24 [==============================] - 0s 6ms/step - loss: 0.6194 - accuracy: 0.6917\n",
      "Epoch 6/35\n",
      "24/24 [==============================] - 0s 6ms/step - loss: 0.5695 - accuracy: 0.7417\n",
      "Epoch 7/35\n",
      "24/24 [==============================] - 0s 6ms/step - loss: 0.5296 - accuracy: 0.7750\n",
      "Epoch 8/35\n",
      "24/24 [==============================] - 0s 7ms/step - loss: 0.5002 - accuracy: 0.8750\n",
      "Epoch 9/35\n",
      "24/24 [==============================] - 0s 6ms/step - loss: 0.4701 - accuracy: 0.8000\n",
      "Epoch 10/35\n",
      "24/24 [==============================] - 0s 7ms/step - loss: 0.4558 - accuracy: 0.9167\n",
      "Epoch 11/35\n",
      "24/24 [==============================] - 0s 6ms/step - loss: 0.4237 - accuracy: 0.9167\n",
      "Epoch 12/35\n",
      "24/24 [==============================] - 0s 6ms/step - loss: 0.4196 - accuracy: 0.7917\n",
      "Epoch 13/35\n",
      "24/24 [==============================] - 0s 6ms/step - loss: 0.3917 - accuracy: 0.8750\n",
      "Epoch 14/35\n",
      "24/24 [==============================] - 0s 6ms/step - loss: 0.3545 - accuracy: 0.9167\n",
      "Epoch 15/35\n",
      "24/24 [==============================] - 0s 6ms/step - loss: 0.3387 - accuracy: 0.9333\n",
      "Epoch 16/35\n",
      "24/24 [==============================] - 0s 6ms/step - loss: 0.3198 - accuracy: 0.9333\n",
      "Epoch 17/35\n",
      "24/24 [==============================] - 0s 6ms/step - loss: 0.3023 - accuracy: 0.9333\n",
      "Epoch 18/35\n",
      "24/24 [==============================] - 0s 6ms/step - loss: 0.2934 - accuracy: 0.9583\n",
      "Epoch 19/35\n",
      "24/24 [==============================] - 0s 6ms/step - loss: 0.2712 - accuracy: 0.9500\n",
      "Epoch 20/35\n",
      "24/24 [==============================] - 0s 6ms/step - loss: 0.2649 - accuracy: 0.9583\n",
      "Epoch 21/35\n",
      "24/24 [==============================] - 0s 6ms/step - loss: 0.2604 - accuracy: 0.9417\n",
      "Epoch 22/35\n",
      "24/24 [==============================] - 0s 6ms/step - loss: 0.2302 - accuracy: 0.9500\n",
      "Epoch 23/35\n",
      "24/24 [==============================] - 0s 6ms/step - loss: 0.2123 - accuracy: 0.9667\n",
      "Epoch 24/35\n",
      "24/24 [==============================] - 0s 6ms/step - loss: 0.2040 - accuracy: 0.9750\n",
      "Epoch 25/35\n",
      "24/24 [==============================] - 0s 6ms/step - loss: 0.1941 - accuracy: 0.9667\n",
      "Epoch 26/35\n",
      "24/24 [==============================] - 0s 6ms/step - loss: 0.1822 - accuracy: 0.9750\n",
      "Epoch 27/35\n",
      "24/24 [==============================] - 0s 6ms/step - loss: 0.1992 - accuracy: 0.9417\n",
      "Epoch 28/35\n",
      "24/24 [==============================] - 0s 6ms/step - loss: 0.1683 - accuracy: 0.9750\n",
      "Epoch 29/35\n",
      "24/24 [==============================] - 0s 6ms/step - loss: 0.1604 - accuracy: 0.9667\n",
      "Epoch 30/35\n",
      "24/24 [==============================] - 0s 6ms/step - loss: 0.1659 - accuracy: 0.9583\n",
      "Epoch 31/35\n",
      "24/24 [==============================] - 0s 6ms/step - loss: 0.1469 - accuracy: 0.9750\n",
      "Epoch 32/35\n",
      "24/24 [==============================] - 0s 6ms/step - loss: 0.1439 - accuracy: 0.9833\n",
      "Epoch 33/35\n",
      "24/24 [==============================] - 0s 6ms/step - loss: 0.1535 - accuracy: 0.9667\n",
      "Epoch 34/35\n",
      "24/24 [==============================] - 0s 6ms/step - loss: 0.1507 - accuracy: 0.9750\n",
      "Epoch 35/35\n",
      "24/24 [==============================] - 0s 6ms/step - loss: 0.1466 - accuracy: 0.9583\n"
     ]
    },
    {
     "data": {
      "text/plain": [
       "<keras.callbacks.History at 0x16b3a6bb0>"
      ]
     },
     "execution_count": 23,
     "metadata": {},
     "output_type": "execute_result"
    }
   ],
   "source": [
    "model.fit(X_train, y_train, epochs = 35, batch_size = 5)"
   ]
  },
  {
   "cell_type": "markdown",
   "metadata": {},
   "source": [
    "Met `model_evaluate` kunnen we bepalen hoe goed het model werkt op de test data."
   ]
  },
  {
   "cell_type": "code",
   "execution_count": 24,
   "metadata": {},
   "outputs": [
    {
     "name": "stdout",
     "output_type": "stream",
     "text": [
      "1/1 [==============================] - 0s 87ms/step - loss: 0.1186 - accuracy: 1.0000\n",
      "1.0\n"
     ]
    },
    {
     "name": "stderr",
     "output_type": "stream",
     "text": [
      "2022-02-15 12:27:25.010274: I tensorflow/core/grappler/optimizers/custom_graph_optimizer_registry.cc:113] Plugin optimizer for device_type GPU is enabled.\n"
     ]
    }
   ],
   "source": [
    "test_loss, test_acc = model.evaluate(X_test, y_test)\n",
    "print(test_acc)"
   ]
  },
  {
   "cell_type": "markdown",
   "metadata": {},
   "source": [
    "Experimenteer met bovenstaand model. Wat gebeurt er als je meer lagen toevoegt of een laag weghaalt of het aantal neuronen in een laag verandert? \n",
    "\n",
    "Probeer ook eens andere activatiefuncties dan `relu`, zoals `tanh` of `sigmoid`.\n",
    "\n",
    "Welke invloed heeft het aantal epochs?"
   ]
  },
  {
   "cell_type": "code",
   "execution_count": 10,
   "metadata": {},
   "outputs": [],
   "source": [
    "# Door 2 layer erbij toe te voegen werd de accuracy van van .96 naar 1\n",
    "# Door 1 layer weg te halen, werd de accuracy lager (0.95)\n",
    "# Teveel layers toevoegen, verlaagt het weer\n",
    "# Door activation te veranderen naar tanh, is de accuracy weer 0.95\n",
    "# Door activision te veranderen naar sigmoid, is de accuracy lager geworden (0.93)\n",
    "# Door aantal epochs van 25 naar 30 te veranderen, wordt de accuracy ook verhoogd. Het wordt dus vaker getrained, wat beter is\n",
    "# Tot een bepaald punt heeft het aantal epochs invloed op de accuracy"
   ]
  },
  {
   "cell_type": "markdown",
   "metadata": {},
   "source": [
    "### Mnist dataset\n",
    "We kunnen dezelfde aanpak gebruiken voor andere data, bijvoorbeeld voor het herkennen van cijfers. We gebruiken de `MNist` dataset die bestaat uit plaatjes van cijfers. Ieder plaatje bestaat uit 28 x 28 pixels."
   ]
  },
  {
   "cell_type": "code",
   "execution_count": 11,
   "metadata": {},
   "outputs": [],
   "source": [
    "from keras.datasets import mnist\n",
    "\n",
    "(train_images, train_labels), (test_images, test_labels) = mnist.load_data()\n",
    "\n",
    "import warnings\n",
    "warnings.filterwarnings('ignore')"
   ]
  },
  {
   "cell_type": "code",
   "execution_count": 12,
   "metadata": {},
   "outputs": [
    {
     "data": {
      "text/plain": [
       "(60000, 28, 28)"
      ]
     },
     "execution_count": 12,
     "metadata": {},
     "output_type": "execute_result"
    }
   ],
   "source": [
    "train_images.shape"
   ]
  },
  {
   "cell_type": "code",
   "execution_count": 13,
   "metadata": {},
   "outputs": [
    {
     "data": {
      "text/plain": [
       "60000"
      ]
     },
     "execution_count": 13,
     "metadata": {},
     "output_type": "execute_result"
    }
   ],
   "source": [
    "len(train_labels)"
   ]
  },
  {
   "cell_type": "code",
   "execution_count": 14,
   "metadata": {},
   "outputs": [
    {
     "name": "stdout",
     "output_type": "stream",
     "text": [
      "[5 0 4 ... 5 6 8]\n"
     ]
    }
   ],
   "source": [
    "print(train_labels)"
   ]
  },
  {
   "cell_type": "markdown",
   "metadata": {},
   "source": [
    "Een eenvoudig neuraal netwerk heeft een array van inputwaarden nodig i.p.v. een 2D afbeelding.\n",
    "We maken van de inputs (waarden tussen 0 en 255) getallen tussen 0 en 1."
   ]
  },
  {
   "cell_type": "code",
   "execution_count": 15,
   "metadata": {},
   "outputs": [],
   "source": [
    "train_images = train_images.reshape((60000, 28 * 28)) # lijst van waarden i.p.v. 2D afbeelding\n",
    "train_images = train_images.astype('float32') / 255 # getallen tussen 0 en 1\n",
    "\n",
    "test_images = test_images.reshape((10000, 28 * 28))\n",
    "test_images = test_images.astype('float32') / 255"
   ]
  },
  {
   "cell_type": "markdown",
   "metadata": {},
   "source": [
    "Voor elk label (een cijfer) maken we een array met 10 waarden: 9 nullen en een één, waarbij de positie van de één aangeeft om welk cijfer het gaat (One hot encoding). Dit keer gebruiken we hiervoor de `keras` functie `to_categorical`."
   ]
  },
  {
   "cell_type": "code",
   "execution_count": 16,
   "metadata": {},
   "outputs": [],
   "source": [
    "from tensorflow.keras.utils import to_categorical\n",
    "\n",
    "train_labels = to_categorical(train_labels)\n",
    "test_labels = to_categorical(test_labels)\n"
   ]
  },
  {
   "cell_type": "markdown",
   "metadata": {},
   "source": [
    "Maak nu een neuraal netwerk met twee lagen, een eerste laag met 512 neuronen en een output laag met 10 neuronen. Geef bij de eerste laag aan hoeveel inputs er zijn en wat de activatiefunctie is. De output laag heeft een `softmax` activatiefunctie."
   ]
  },
  {
   "cell_type": "code",
   "execution_count": 17,
   "metadata": {},
   "outputs": [],
   "source": [
    "network_seq = Sequential()\n",
    "\n",
    "network_seq.add(Dense(512, activation=\"relu\", input_shape=[28*28]))\n",
    "network_seq.add(Dense(10, activation=\"softmax\"))\n"
   ]
  },
  {
   "cell_type": "markdown",
   "metadata": {},
   "source": [
    "compileer het netwerk."
   ]
  },
  {
   "cell_type": "code",
   "execution_count": 18,
   "metadata": {},
   "outputs": [
    {
     "name": "stdout",
     "output_type": "stream",
     "text": [
      "Model: \"sequential_1\"\n",
      "_________________________________________________________________\n",
      " Layer (type)                Output Shape              Param #   \n",
      "=================================================================\n",
      " dense_5 (Dense)             (None, 512)               401920    \n",
      "                                                                 \n",
      " dense_6 (Dense)             (None, 10)                5130      \n",
      "                                                                 \n",
      "=================================================================\n",
      "Total params: 407,050\n",
      "Trainable params: 407,050\n",
      "Non-trainable params: 0\n",
      "_________________________________________________________________\n"
     ]
    }
   ],
   "source": [
    "network_seq.compile(Adam(lr=0.01),'categorical_crossentropy',metrics=['accuracy'])\n",
    "\n",
    "network_seq.summary()"
   ]
  },
  {
   "cell_type": "markdown",
   "metadata": {},
   "source": [
    "train het netwerk 5 epochs met een batch_size van 128."
   ]
  },
  {
   "cell_type": "code",
   "execution_count": 19,
   "metadata": {},
   "outputs": [
    {
     "name": "stdout",
     "output_type": "stream",
     "text": [
      "Epoch 1/5\n"
     ]
    },
    {
     "name": "stderr",
     "output_type": "stream",
     "text": [
      "2022-02-15 12:26:15.193011: I tensorflow/core/grappler/optimizers/custom_graph_optimizer_registry.cc:113] Plugin optimizer for device_type GPU is enabled.\n"
     ]
    },
    {
     "name": "stdout",
     "output_type": "stream",
     "text": [
      "469/469 [==============================] - 4s 7ms/step - loss: 0.2129 - accuracy: 0.9384\n",
      "Epoch 2/5\n",
      "469/469 [==============================] - 3s 6ms/step - loss: 0.1080 - accuracy: 0.9672\n",
      "Epoch 3/5\n",
      "469/469 [==============================] - 3s 6ms/step - loss: 0.0869 - accuracy: 0.9736\n",
      "Epoch 4/5\n",
      "469/469 [==============================] - 3s 6ms/step - loss: 0.0781 - accuracy: 0.9777\n",
      "Epoch 5/5\n",
      "469/469 [==============================] - 3s 6ms/step - loss: 0.0706 - accuracy: 0.9799\n"
     ]
    },
    {
     "data": {
      "text/plain": [
       "<keras.callbacks.History at 0x177677a90>"
      ]
     },
     "execution_count": 19,
     "metadata": {},
     "output_type": "execute_result"
    }
   ],
   "source": [
    "network_seq.fit(train_images, train_labels, epochs = 5, batch_size = 128)"
   ]
  },
  {
   "cell_type": "markdown",
   "metadata": {},
   "source": [
    "Evalueer het netwerk op de test set."
   ]
  },
  {
   "cell_type": "code",
   "execution_count": 29,
   "metadata": {},
   "outputs": [
    {
     "name": "stdout",
     "output_type": "stream",
     "text": [
      " 19/313 [>.............................] - ETA: 1s - loss: 0.1263 - accuracy: 0.9671"
     ]
    },
    {
     "name": "stderr",
     "output_type": "stream",
     "text": [
      "2022-02-15 12:30:24.887341: I tensorflow/core/grappler/optimizers/custom_graph_optimizer_registry.cc:113] Plugin optimizer for device_type GPU is enabled.\n"
     ]
    },
    {
     "name": "stdout",
     "output_type": "stream",
     "text": [
      "313/313 [==============================] - 2s 6ms/step - loss: 0.1387 - accuracy: 0.9690\n",
      "0.9690000414848328\n"
     ]
    }
   ],
   "source": [
    "test_loss, test_acc = network_seq.evaluate(test_images, test_labels)\n",
    "print(test_acc)"
   ]
  },
  {
   "cell_type": "markdown",
   "metadata": {},
   "source": [
    "Experimenteer met verschillende netwerken. Varieer het aantal lagen, het aantal neuronen, de activatiefunties en het aantal epochs.\n",
    "\n",
    "### Test 1 - Batch size increase"
   ]
  },
  {
   "cell_type": "code",
   "execution_count": 31,
   "metadata": {},
   "outputs": [
    {
     "name": "stdout",
     "output_type": "stream",
     "text": [
      "Model: \"sequential_1\"\n",
      "_________________________________________________________________\n",
      " Layer (type)                Output Shape              Param #   \n",
      "=================================================================\n",
      " dense_5 (Dense)             (None, 512)               401920    \n",
      "                                                                 \n",
      " dense_6 (Dense)             (None, 10)                5130      \n",
      "                                                                 \n",
      " dense_11 (Dense)            (None, 512)               5632      \n",
      "                                                                 \n",
      " dense_12 (Dense)            (None, 10)                5130      \n",
      "                                                                 \n",
      " dense_13 (Dense)            (None, 512)               5632      \n",
      "                                                                 \n",
      " dense_14 (Dense)            (None, 10)                5130      \n",
      "                                                                 \n",
      "=================================================================\n",
      "Total params: 428,574\n",
      "Trainable params: 428,574\n",
      "Non-trainable params: 0\n",
      "_________________________________________________________________\n",
      "None\n",
      "Epoch 1/25\n",
      "  7/469 [..............................] - ETA: 4s - loss: 1.5508 - accuracy: 0.8103  "
     ]
    },
    {
     "name": "stderr",
     "output_type": "stream",
     "text": [
      "2022-02-15 12:55:04.452239: I tensorflow/core/grappler/optimizers/custom_graph_optimizer_registry.cc:113] Plugin optimizer for device_type GPU is enabled.\n"
     ]
    },
    {
     "name": "stdout",
     "output_type": "stream",
     "text": [
      "469/469 [==============================] - 4s 8ms/step - loss: 0.2130 - accuracy: 0.9665\n",
      "Epoch 2/25\n",
      "469/469 [==============================] - 4s 8ms/step - loss: 0.2451 - accuracy: 0.9573\n",
      "Epoch 3/25\n",
      "469/469 [==============================] - 4s 8ms/step - loss: 0.2600 - accuracy: 0.9533\n",
      "Epoch 4/25\n",
      "469/469 [==============================] - 4s 8ms/step - loss: 0.2382 - accuracy: 0.9582\n",
      "Epoch 5/25\n",
      "469/469 [==============================] - 4s 8ms/step - loss: 0.2691 - accuracy: 0.9481\n",
      "Epoch 6/25\n",
      "469/469 [==============================] - 4s 8ms/step - loss: 0.3433 - accuracy: 0.9252\n",
      "Epoch 7/25\n",
      "469/469 [==============================] - 4s 8ms/step - loss: 0.3033 - accuracy: 0.9385\n",
      "Epoch 8/25\n",
      "469/469 [==============================] - 4s 8ms/step - loss: 0.3202 - accuracy: 0.9365\n",
      "Epoch 9/25\n",
      "469/469 [==============================] - 4s 8ms/step - loss: 0.3154 - accuracy: 0.9341\n",
      "Epoch 10/25\n",
      "469/469 [==============================] - 4s 8ms/step - loss: 0.3177 - accuracy: 0.9387\n",
      "Epoch 11/25\n",
      "469/469 [==============================] - 4s 8ms/step - loss: 0.2796 - accuracy: 0.9485\n",
      "Epoch 12/25\n",
      "469/469 [==============================] - 4s 8ms/step - loss: 0.3153 - accuracy: 0.9392\n",
      "Epoch 13/25\n",
      "469/469 [==============================] - 4s 8ms/step - loss: 0.4073 - accuracy: 0.9091\n",
      "Epoch 14/25\n",
      "469/469 [==============================] - 4s 8ms/step - loss: 0.3289 - accuracy: 0.9334\n",
      "Epoch 15/25\n",
      "469/469 [==============================] - 4s 8ms/step - loss: 0.3418 - accuracy: 0.9282\n",
      "Epoch 16/25\n",
      "469/469 [==============================] - 4s 8ms/step - loss: 0.3213 - accuracy: 0.9346\n",
      "Epoch 17/25\n",
      "469/469 [==============================] - 4s 8ms/step - loss: 0.3443 - accuracy: 0.9304\n",
      "Epoch 18/25\n",
      "469/469 [==============================] - 4s 8ms/step - loss: 0.3676 - accuracy: 0.9204\n",
      "Epoch 19/25\n",
      "469/469 [==============================] - 4s 8ms/step - loss: 0.3632 - accuracy: 0.9250\n",
      "Epoch 20/25\n",
      "469/469 [==============================] - 4s 9ms/step - loss: 0.3398 - accuracy: 0.9336\n",
      "Epoch 21/25\n",
      "469/469 [==============================] - 4s 8ms/step - loss: 0.4482 - accuracy: 0.8945\n",
      "Epoch 22/25\n",
      "469/469 [==============================] - 4s 8ms/step - loss: 0.4738 - accuracy: 0.8801\n",
      "Epoch 23/25\n",
      "469/469 [==============================] - 4s 8ms/step - loss: 0.3848 - accuracy: 0.9163\n",
      "Epoch 24/25\n",
      "469/469 [==============================] - 4s 9ms/step - loss: 0.4465 - accuracy: 0.8831\n",
      "Epoch 25/25\n",
      "469/469 [==============================] - 4s 8ms/step - loss: 0.3860 - accuracy: 0.9210\n",
      " 10/313 [..............................] - ETA: 1s - loss: 0.3608 - accuracy: 0.9281 "
     ]
    },
    {
     "name": "stderr",
     "output_type": "stream",
     "text": [
      "2022-02-15 12:56:43.103349: I tensorflow/core/grappler/optimizers/custom_graph_optimizer_registry.cc:113] Plugin optimizer for device_type GPU is enabled.\n"
     ]
    },
    {
     "name": "stdout",
     "output_type": "stream",
     "text": [
      "313/313 [==============================] - 2s 6ms/step - loss: 0.4432 - accuracy: 0.8964\n",
      "0.8964000344276428\n"
     ]
    }
   ],
   "source": [
    "model = Sequential()\n",
    "\n",
    "network_seq.add(Dense(512, activation=\"relu\", input_shape=[28*28]))\n",
    "network_seq.add(Dense(10, activation=\"softmax\"))\n",
    "\n",
    "network_seq.compile(Adam(lr=0.01),'categorical_crossentropy',metrics=['accuracy'])\n",
    "\n",
    "print(network_seq.summary())\n",
    "\n",
    "network_seq.fit(train_images, train_labels, epochs = 25, batch_size = 128)\n",
    "\n",
    "test_loss, test_acc = network_seq.evaluate(test_images, test_labels)\n",
    "print(test_acc)"
   ]
  },
  {
   "cell_type": "markdown",
   "metadata": {},
   "source": [
    "### Test 2 - More layers"
   ]
  },
  {
   "cell_type": "code",
   "execution_count": 32,
   "metadata": {},
   "outputs": [
    {
     "name": "stdout",
     "output_type": "stream",
     "text": [
      "Model: \"sequential_1\"\n",
      "_________________________________________________________________\n",
      " Layer (type)                Output Shape              Param #   \n",
      "=================================================================\n",
      " dense_5 (Dense)             (None, 512)               401920    \n",
      "                                                                 \n",
      " dense_6 (Dense)             (None, 10)                5130      \n",
      "                                                                 \n",
      " dense_11 (Dense)            (None, 512)               5632      \n",
      "                                                                 \n",
      " dense_12 (Dense)            (None, 10)                5130      \n",
      "                                                                 \n",
      " dense_13 (Dense)            (None, 512)               5632      \n",
      "                                                                 \n",
      " dense_14 (Dense)            (None, 10)                5130      \n",
      "                                                                 \n",
      " dense_15 (Dense)            (None, 512)               5632      \n",
      "                                                                 \n",
      " dense_16 (Dense)            (None, 10)                5130      \n",
      "                                                                 \n",
      " dense_17 (Dense)            (None, 10)                110       \n",
      "                                                                 \n",
      " dense_18 (Dense)            (None, 10)                110       \n",
      "                                                                 \n",
      " dense_19 (Dense)            (None, 10)                110       \n",
      "                                                                 \n",
      "=================================================================\n",
      "Total params: 439,666\n",
      "Trainable params: 439,666\n",
      "Non-trainable params: 0\n",
      "_________________________________________________________________\n",
      "None\n",
      "Epoch 1/5\n"
     ]
    },
    {
     "name": "stderr",
     "output_type": "stream",
     "text": [
      "2022-02-15 12:59:13.503106: I tensorflow/core/grappler/optimizers/custom_graph_optimizer_registry.cc:113] Plugin optimizer for device_type GPU is enabled.\n"
     ]
    },
    {
     "name": "stdout",
     "output_type": "stream",
     "text": [
      "469/469 [==============================] - 6s 11ms/step - loss: 0.5467 - accuracy: 0.8703\n",
      "Epoch 2/5\n",
      "469/469 [==============================] - 5s 11ms/step - loss: 0.4713 - accuracy: 0.8898\n",
      "Epoch 3/5\n",
      "469/469 [==============================] - 5s 11ms/step - loss: 0.7446 - accuracy: 0.7840\n",
      "Epoch 4/5\n",
      "469/469 [==============================] - 5s 11ms/step - loss: 0.9942 - accuracy: 0.6664\n",
      "Epoch 5/5\n",
      "469/469 [==============================] - 5s 11ms/step - loss: 1.0731 - accuracy: 0.6266\n",
      " 17/313 [>.............................] - ETA: 1s - loss: 1.1383 - accuracy: 0.5938"
     ]
    },
    {
     "name": "stderr",
     "output_type": "stream",
     "text": [
      "2022-02-15 12:59:38.993898: I tensorflow/core/grappler/optimizers/custom_graph_optimizer_registry.cc:113] Plugin optimizer for device_type GPU is enabled.\n"
     ]
    },
    {
     "name": "stdout",
     "output_type": "stream",
     "text": [
      "313/313 [==============================] - 2s 6ms/step - loss: 1.0989 - accuracy: 0.6109\n",
      "0.6109000444412231\n"
     ]
    }
   ],
   "source": [
    "model = Sequential()\n",
    "\n",
    "network_seq.add(Dense(512, activation=\"relu\", input_shape=[28*28]))\n",
    "network_seq.add(Dense(10, activation=\"relu\"))\n",
    "network_seq.add(Dense(10, activation=\"relu\"))\n",
    "network_seq.add(Dense(10, activation=\"relu\"))\n",
    "network_seq.add(Dense(10, activation=\"softmax\"))\n",
    "\n",
    "network_seq.compile(Adam(lr=0.01),'categorical_crossentropy',metrics=['accuracy'])\n",
    "\n",
    "print(network_seq.summary())\n",
    "\n",
    "network_seq.fit(train_images, train_labels, epochs = 5, batch_size = 128)\n",
    "\n",
    "test_loss, test_acc = network_seq.evaluate(test_images, test_labels)\n",
    "print(test_acc)"
   ]
  },
  {
   "cell_type": "markdown",
   "metadata": {},
   "source": [
    "### Test 3- check for tanh activation"
   ]
  },
  {
   "cell_type": "code",
   "execution_count": 37,
   "metadata": {},
   "outputs": [
    {
     "name": "stdout",
     "output_type": "stream",
     "text": [
      "Model: \"sequential_1\"\n",
      "_________________________________________________________________\n",
      " Layer (type)                Output Shape              Param #   \n",
      "=================================================================\n",
      " dense_5 (Dense)             (None, 512)               401920    \n",
      "                                                                 \n",
      " dense_6 (Dense)             (None, 10)                5130      \n",
      "                                                                 \n",
      " dense_11 (Dense)            (None, 512)               5632      \n",
      "                                                                 \n",
      " dense_12 (Dense)            (None, 10)                5130      \n",
      "                                                                 \n",
      " dense_13 (Dense)            (None, 512)               5632      \n",
      "                                                                 \n",
      " dense_14 (Dense)            (None, 10)                5130      \n",
      "                                                                 \n",
      " dense_15 (Dense)            (None, 512)               5632      \n",
      "                                                                 \n",
      " dense_16 (Dense)            (None, 10)                5130      \n",
      "                                                                 \n",
      " dense_17 (Dense)            (None, 10)                110       \n",
      "                                                                 \n",
      " dense_18 (Dense)            (None, 10)                110       \n",
      "                                                                 \n",
      " dense_19 (Dense)            (None, 10)                110       \n",
      "                                                                 \n",
      " dense_20 (Dense)            (None, 512)               5632      \n",
      "                                                                 \n",
      " dense_21 (Dense)            (None, 10)                5130      \n",
      "                                                                 \n",
      " dense_22 (Dense)            (None, 512)               5632      \n",
      "                                                                 \n",
      " dense_23 (Dense)            (None, 35)                17955     \n",
      "                                                                 \n",
      " dense_24 (Dense)            (None, 35)                1260      \n",
      "                                                                 \n",
      " dense_25 (Dense)            (None, 512)               18432     \n",
      "                                                                 \n",
      " dense_26 (Dense)            (None, 35)                17955     \n",
      "                                                                 \n",
      " dense_27 (Dense)            (None, 512)               18432     \n",
      "                                                                 \n",
      " dense_28 (Dense)            (None, 15)                7695      \n",
      "                                                                 \n",
      " dense_29 (Dense)            (None, 512)               8192      \n",
      "                                                                 \n",
      " dense_30 (Dense)            (None, 10)                5130      \n",
      "                                                                 \n",
      "=================================================================\n",
      "Total params: 551,111\n",
      "Trainable params: 551,111\n",
      "Non-trainable params: 0\n",
      "_________________________________________________________________\n",
      "None\n",
      "Epoch 1/15\n"
     ]
    },
    {
     "name": "stderr",
     "output_type": "stream",
     "text": [
      "2022-02-15 13:03:12.550520: I tensorflow/core/grappler/optimizers/custom_graph_optimizer_registry.cc:113] Plugin optimizer for device_type GPU is enabled.\n"
     ]
    },
    {
     "name": "stdout",
     "output_type": "stream",
     "text": [
      "469/469 [==============================] - 8s 15ms/step - loss: 2.1140 - accuracy: 0.1570\n",
      "Epoch 2/15\n",
      "469/469 [==============================] - 7s 15ms/step - loss: 1.9983 - accuracy: 0.1864\n",
      "Epoch 3/15\n",
      "469/469 [==============================] - 7s 15ms/step - loss: 1.9989 - accuracy: 0.1893\n",
      "Epoch 4/15\n",
      "469/469 [==============================] - 7s 15ms/step - loss: 1.9986 - accuracy: 0.1880\n",
      "Epoch 5/15\n",
      "469/469 [==============================] - 7s 15ms/step - loss: 1.9975 - accuracy: 0.1878\n",
      "Epoch 6/15\n",
      "469/469 [==============================] - 7s 15ms/step - loss: 1.9981 - accuracy: 0.1866\n",
      "Epoch 7/15\n",
      "469/469 [==============================] - 7s 15ms/step - loss: 1.9998 - accuracy: 0.1877\n",
      "Epoch 8/15\n",
      "469/469 [==============================] - 7s 15ms/step - loss: 1.9957 - accuracy: 0.1898\n",
      "Epoch 9/15\n",
      "469/469 [==============================] - 7s 15ms/step - loss: 1.9966 - accuracy: 0.1890\n",
      "Epoch 10/15\n",
      "469/469 [==============================] - 7s 15ms/step - loss: 1.9964 - accuracy: 0.1861\n",
      "Epoch 11/15\n",
      "469/469 [==============================] - 7s 16ms/step - loss: 1.9969 - accuracy: 0.1870\n",
      "Epoch 12/15\n",
      "469/469 [==============================] - 7s 15ms/step - loss: 1.9983 - accuracy: 0.1873\n",
      "Epoch 13/15\n",
      "469/469 [==============================] - 7s 15ms/step - loss: 1.9968 - accuracy: 0.1878\n",
      "Epoch 14/15\n",
      "469/469 [==============================] - 7s 15ms/step - loss: 1.9978 - accuracy: 0.1864\n",
      "Epoch 15/15\n",
      "469/469 [==============================] - 7s 15ms/step - loss: 1.9977 - accuracy: 0.1898\n",
      "  1/313 [..............................] - ETA: 1:09 - loss: 1.8891 - accuracy: 0.3125"
     ]
    },
    {
     "name": "stderr",
     "output_type": "stream",
     "text": [
      "2022-02-15 13:04:59.878720: I tensorflow/core/grappler/optimizers/custom_graph_optimizer_registry.cc:113] Plugin optimizer for device_type GPU is enabled.\n"
     ]
    },
    {
     "name": "stdout",
     "output_type": "stream",
     "text": [
      "313/313 [==============================] - 3s 7ms/step - loss: 2.0121 - accuracy: 0.1993\n",
      "0.19930000603199005\n"
     ]
    }
   ],
   "source": [
    "model = Sequential()\n",
    "\n",
    "network_seq.add(Dense(512, activation=\"tanh\", input_shape=[28*28]))\n",
    "network_seq.add(Dense(10, activation=\"softmax\"))\n",
    "\n",
    "\n",
    "network_seq.compile(Adam(lr=0.01),'categorical_crossentropy',metrics=['accuracy'])\n",
    "\n",
    "print(network_seq.summary())\n",
    "\n",
    "network_seq.fit(train_images, train_labels, epochs = 15, batch_size = 128)\n",
    "\n",
    "test_loss, test_acc = network_seq.evaluate(test_images, test_labels)\n",
    "print(test_acc)"
   ]
  },
  {
   "cell_type": "markdown",
   "metadata": {},
   "source": [
    "### Summary\n",
    "\n",
    "Activation gebruik is echt afhankelijk van aantal factoren. Tahn aan het begin gebruiken in is dus niet optimaal met deze dataset. Het aantal epochs zijn ook van belang. Ook heeft het toevoegen van layers een positief of netagief effect op de accuracy.\n",
    "\n",
    "Uiteindelijk is de eerste test bij mij wel de beste uitgekomen. een 90% rate is niet verkeerd. Natuurlijk kan het beter, maar voor nu is dat voldoende."
   ]
  },
  {
   "cell_type": "code",
   "execution_count": null,
   "metadata": {},
   "outputs": [],
   "source": []
  }
 ],
 "metadata": {
  "kernelspec": {
   "display_name": "Python 3 (ipykernel)",
   "language": "python",
   "name": "python3"
  },
  "language_info": {
   "codemirror_mode": {
    "name": "ipython",
    "version": 3
   },
   "file_extension": ".py",
   "mimetype": "text/x-python",
   "name": "python",
   "nbconvert_exporter": "python",
   "pygments_lexer": "ipython3",
   "version": "3.9.10"
  }
 },
 "nbformat": 4,
 "nbformat_minor": 2
}
