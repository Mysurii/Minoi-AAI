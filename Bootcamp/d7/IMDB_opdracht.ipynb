{
 "cells": [
  {
   "cell_type": "markdown",
   "metadata": {},
   "source": [
    "# Bootcamp opdracht dag 7 - Middag\n",
    "\n",
    "### Imports"
   ]
  },
  {
   "cell_type": "code",
   "execution_count": 1,
   "metadata": {},
   "outputs": [],
   "source": [
    "import numpy as np\n",
    "import pandas as pd\n",
    "import warnings\n",
    "warnings.filterwarnings('ignore')\n",
    "from keras import models\n",
    "from keras import layers\n",
    "import matplotlib.pyplot as plt"
   ]
  },
  {
   "cell_type": "markdown",
   "metadata": {},
   "source": [
    "### Data\n",
    "\n",
    "Verover de data. Het is een dataset van IMDB met filmrecensies. De labels zijn binair en geven aan of een film wel of geen aanrader is volgens de reviews."
   ]
  },
  {
   "cell_type": "code",
   "execution_count": 2,
   "metadata": {},
   "outputs": [],
   "source": [
    "from keras.datasets import imdb\n",
    "\n",
    "(X_train, y_train), (X_test, y_test) = imdb.load_data(path=\"imdb.npz\",\n",
    "                                                      num_words=10000,\n",
    "                                                      skip_top=0,\n",
    "                                                      maxlen=None,\n",
    "                                                      seed=42,\n",
    "                                                      start_char=1,\n",
    "                                                      oov_char=2,\n",
    "                                                      index_from=3)"
   ]
  },
  {
   "cell_type": "markdown",
   "metadata": {},
   "source": [
    "bekijk de geimporteerde data."
   ]
  },
  {
   "cell_type": "code",
   "execution_count": 3,
   "metadata": {},
   "outputs": [
    {
     "name": "stdout",
     "output_type": "stream",
     "text": [
      "[list([1, 11, 4079, 11, 4, 1986, 745, 3304, 299, 1206, 590, 3029, 1042, 37, 47, 27, 1269, 2, 7637, 19, 6, 3586, 15, 1367, 3196, 17, 1002, 723, 1768, 2887, 757, 46, 4, 232, 1131, 39, 107, 3589, 11, 4, 4539, 198, 24, 4, 1834, 133, 4, 107, 7, 98, 413, 8911, 5835, 11, 35, 781, 8, 169, 4, 2179, 5, 259, 334, 3773, 8, 4, 3497, 10, 10, 17, 16, 3381, 46, 34, 101, 612, 7, 84, 18, 49, 282, 167, 2, 7173, 122, 24, 1414, 8, 177, 4, 392, 531, 19, 259, 15, 934, 40, 507, 39, 2, 260, 77, 8, 162, 5097, 121, 4, 65, 304, 273, 13, 70, 1276, 2, 8, 15, 745, 3304, 5, 27, 322, 2197, 2, 2, 70, 30, 2, 88, 17, 6, 3029, 1042, 29, 100, 30, 4943, 50, 21, 18, 148, 15, 26, 5980, 12, 152, 157, 10, 10, 21, 19, 3196, 46, 50, 5, 4, 1636, 112, 828, 6, 1003, 4, 162, 5097, 2, 517, 6, 2, 7, 4, 9527, 5593, 4, 351, 232, 385, 125, 6, 1693, 39, 2383, 5, 29, 69, 5593, 5670, 6, 162, 5097, 1567, 232, 256, 34, 718, 5612, 2980, 8, 6, 226, 762, 7, 2, 7830, 5, 517, 2, 6, 3242, 7, 4, 351, 232, 37, 9, 1861, 8, 123, 3196, 2, 5612, 188, 5165, 857, 11, 4, 86, 22, 121, 29, 1990, 1495, 10, 10, 1276, 61, 514, 11, 14, 22, 9, 1456, 9533, 14, 575, 208, 159, 9533, 16, 2, 5, 187, 15, 58, 29, 93, 6, 2, 7, 395, 62, 30, 1211, 493, 37, 26, 66, 2, 29, 299, 4, 172, 243, 7, 217, 11, 4, 2, 7106, 22, 4, 2, 1038, 13, 70, 243, 7, 3468, 19, 9533, 11, 15, 236, 1313, 136, 121, 29, 5, 5612, 26, 112, 4382, 180, 34, 3304, 1768, 5, 320, 4, 162, 5097, 568, 319, 4, 3324, 5235, 1456, 269, 8, 401, 56, 19, 5612, 16, 142, 334, 88, 146, 243, 7, 11, 2, 2756, 150, 11, 4, 2, 2550, 10, 10, 7173, 828, 4, 206, 170, 33, 6, 52, 4968, 225, 55, 117, 180, 58, 11, 14, 22, 48, 50, 16, 101, 329, 12, 62, 30, 35, 6637, 1532, 22, 4079, 11, 4, 1986, 1199, 35, 735, 18, 118, 204, 881, 15, 291, 10, 10, 7173, 82, 93, 52, 361, 7, 4, 162, 5097, 2, 5, 4, 785, 6542, 49, 7, 4, 172, 2572, 7, 665, 26, 303, 343, 11, 23, 4, 2, 11, 192, 4079, 11, 4, 1986, 9, 44, 84, 24, 2, 54, 36, 66, 144, 11, 68, 205, 118, 602, 55, 729, 174, 8, 23, 4, 2, 10, 10, 4079, 11, 4, 1986, 127, 316, 2606, 37, 16, 3445, 19, 12, 150, 138, 426, 2, 7173, 79, 49, 542, 162, 5097, 4413, 84, 11, 4, 392, 555])\n",
      " list([1, 48, 25, 942, 72, 4, 86, 31, 16, 66, 128, 31, 168, 33, 2695, 1983, 1331, 59, 9, 147, 384, 2747, 250, 168, 33, 4232, 4601, 59, 9, 43, 117, 2418, 2348, 187, 59, 9, 164, 84, 92, 6467, 41, 333, 7422, 16, 1036, 5, 893, 11, 86, 20, 150, 29, 9, 896, 393, 65, 9, 24, 15, 52, 5, 13, 81, 24, 391, 138, 161, 36, 97, 14, 31, 86, 12, 9, 4, 454, 2, 156, 164, 19, 65, 14, 9, 24, 2747, 14, 9, 395, 86, 31, 47, 128, 156, 128, 65, 5, 94, 384, 13, 104, 15, 4, 228, 9, 128, 11, 2747, 2998, 300, 5, 4, 228, 9, 128, 11, 2747, 2998, 342, 12, 9, 24, 4, 249, 20, 13, 219, 21, 11, 2, 19, 86, 31, 94, 31, 194, 194, 194, 164])\n",
      " list([1, 13, 244, 6, 194, 337, 6, 2, 787, 1716, 5, 207, 110, 98, 32, 5, 14, 9, 31, 7, 4, 118, 45, 163, 731, 5, 6, 356, 13, 386, 14, 18, 32, 2088, 45, 87, 18, 117, 362, 88, 45, 73, 2379, 5, 87, 18, 1473, 5, 1629, 88, 45, 163, 5, 24, 120, 4, 350, 13, 296, 12, 54, 13, 16, 117, 5, 13, 131, 106, 12, 150, 12, 47, 87, 411, 15, 61, 223, 5, 13, 3194, 32, 4, 58, 4, 116, 9, 87, 5, 12, 115, 214, 154, 48, 25, 40, 2447, 2953, 5, 6978, 25, 80, 119, 14, 207, 296, 111, 6, 2379, 20, 11, 61, 58, 5, 14, 9, 4, 118, 7, 98, 32, 806, 910, 13, 545, 386, 14, 20, 5, 32, 4, 2, 787, 1716, 287, 36, 32, 1271, 8, 32, 2088, 5, 26, 32, 955, 5, 55, 441])\n",
      " list([1, 13, 43, 1769, 886, 6, 274, 44, 8269, 14, 20, 16, 2357, 6213, 45, 40, 36, 188, 6, 1029, 7, 1433, 5, 43, 93, 285, 56, 27, 2, 5, 2, 71, 73, 4261, 180, 8, 4, 333, 54, 4, 58, 16, 56, 36, 317, 726, 36, 69, 32, 7, 4, 278, 42, 24, 36, 69, 3628, 7, 175, 1320, 121, 8, 471, 525, 2, 115, 219, 90, 33, 4, 3756, 29, 16, 579, 15, 8269, 1539, 18, 27, 6979, 103, 8269, 317, 2, 115, 60, 219, 8269, 159, 4, 314, 8269, 16, 556, 64, 4453, 7, 90, 4, 96, 27, 1366, 1066, 1131, 71, 2, 8269, 115, 8138, 6, 1982, 34, 309, 40, 29, 122, 11, 14, 20, 48, 13, 69, 115, 332, 4, 274, 279, 13, 100, 28, 510, 4, 20, 4, 116, 16, 6, 227, 120, 4, 350, 11, 1370, 4, 206, 16, 3701, 17, 73, 23, 333, 197, 13, 824, 48, 13, 62, 28, 510, 12, 76, 60, 48, 13, 1869, 332, 4, 274])\n",
      " list([1, 5060, 1712, 5, 9774, 2, 193, 49, 5142, 7025, 34, 6, 4847, 763, 49, 1702, 34, 6, 762, 7, 9325, 208, 2, 2, 4, 91, 1572, 9775, 7, 4, 91, 2, 2, 23, 4, 1225, 8, 316, 37, 2018, 533, 6, 2, 5, 2423, 14, 17, 4, 2, 7, 9174, 279, 68, 375, 22, 80, 4337, 2, 1802, 2, 5, 4, 2, 7, 4, 2, 2, 1416, 2893, 1702, 34, 49, 2, 2, 2, 5, 683, 68, 22, 51, 4, 182, 738, 8, 124, 44, 5281, 1116, 14, 22, 2478, 39, 199, 338, 365, 1234, 5, 583, 7, 692, 8, 4, 91, 1121, 1553, 7, 2, 92, 437, 129, 58, 5, 278, 43, 471, 23, 129, 244, 1878, 5, 1632, 8, 3409, 2, 18, 6, 378, 7, 504, 18, 879, 5, 490, 79, 4, 172, 749, 19, 4, 172, 651, 7, 2772, 4762])]\n",
      "[1 0 1 0 0]\n"
     ]
    }
   ],
   "source": [
    "print(X_train[:5])\n",
    "print(y_train[:5])"
   ]
  },
  {
   "cell_type": "markdown",
   "metadata": {},
   "source": [
    "### Reverse data\n",
    "Zoals je kunt zien bevat `X_train` vectoren met getallen. Elke vector staat voor een review. Elk getal staat voor een woord.\n",
    "\n",
    "Met onderstaande code kun je een vector met getallen terugvertalen naar woorden. Run deze code."
   ]
  },
  {
   "cell_type": "code",
   "execution_count": 4,
   "metadata": {},
   "outputs": [
    {
     "data": {
      "text/plain": [
       "\"? in panic in the streets richard widmark plays u s navy doctor who has his week ? interrupted with a corpse that contains plague as cop paul douglas properly points out the guy died from two bullets in the chest that's not the issue here the two of them become unwilling partners in an effort to find the killers and anyone else exposed to the disease br br as was pointed out by any number of people for some reason director ? kazan did not bother to cast the small parts with anyone that sounds like they're from ? having been to new orleans where the story takes place i can personally ? to that richard widmark and his wife barbara ? ? can be ? because as a navy doctor he could be assigned there but for those that are natives it doesn't work br br but with plague out there and the news being kept a secret the new orleans ? starts a ? of the city's underworld the dead guy came off a ship from europe and he had underworld connections a new orleans wise guy played by jack palance jumps to a whole bunch of ? conclusions and starts ? a cousin of the dead guy who is starting to show plague ? palance got rave reviews in the first film where he received notice br br personally my favorite in this film is zero mostel this happened right before mostel was ? and around that time he made a ? of playing would be tough guys who are really ? he plays the same kind of role in the ? bogart film the ? sadly i can kind of identify with mostel in that last chase scene where he and palance are being chased down by widmark douglas and half the new orleans police seeing the weight challenged zero trying to keep up with palance was something else because i'm kind of in ? league now in the ? department br br kazan kept the action going at a good clip there's very little down time in this film if there was any less it would be an indiana jones film panic in the streets won an oscar for best original screenplay that year br br kazan also made good use of the new orleans ? and the french quarter some of the same kinds of shots are later used in on the ? in fact panic in the streets is about people not ? when they really should in their own best interest very similar again to on the ? br br panic in the streets does everyone proud who was associated with it now why couldn't ? kazan get some decent new orleans sounding people in the small roles\""
      ]
     },
     "execution_count": 4,
     "metadata": {},
     "output_type": "execute_result"
    }
   ],
   "source": [
    "word_index = imdb.get_word_index()\n",
    "reverse_word_index = dict([(value, key) for (key, value) in word_index.items()])\n",
    "\n",
    "decoded_review = ' '.join([reverse_word_index.get(i - 3, '?') for i in X_train[0]])\n",
    "decoded_review"
   ]
  },
  {
   "cell_type": "markdown",
   "metadata": {},
   "source": [
    "### Encoding\n",
    "\n",
    "In de tekst zie je een aantal vraagtekens. Een vraagteken staat in dit geval voor 'onbekend woord'."
   ]
  },
  {
   "cell_type": "markdown",
   "metadata": {},
   "source": [
    "De input is in deze vorm lastig te verwerken voor een neuraal netwerk. De getallen zijn categorische labels. Daarom gebruiken we One-hot-encoding. Helaas kan de `OneHotEncoder` uit sklearn niet overweg met deze input. Daarom maken we de input handmatig geschikt voor het neurale netwerk."
   ]
  },
  {
   "cell_type": "code",
   "execution_count": 5,
   "metadata": {},
   "outputs": [],
   "source": [
    "def vectorize_sequences(sequences, dimension=10000):\n",
    "    # Maak een matrix van de vorm (len(sequences), dimension) met nullen\n",
    "    results = np.zeros((len(sequences), dimension))\n",
    "    for i, sequence in enumerate(sequences):\n",
    "        results[i, sequence] = 1.  # zet de juiste waarden in results[i] op 1\n",
    "    return results"
   ]
  },
  {
   "cell_type": "code",
   "execution_count": 6,
   "metadata": {},
   "outputs": [],
   "source": [
    "X_train = vectorize_sequences(X_train)\n",
    "X_test = vectorize_sequences(X_test)\n",
    "\n",
    "y_train = np.asarray(y_train).astype('float32')\n",
    "y_test = np.asarray(y_test).astype('float32')"
   ]
  },
  {
   "cell_type": "markdown",
   "metadata": {},
   "source": [
    "Controleer of het omzetten van de data goed gegaan is"
   ]
  },
  {
   "cell_type": "code",
   "execution_count": 7,
   "metadata": {},
   "outputs": [
    {
     "name": "stdout",
     "output_type": "stream",
     "text": [
      "[[0. 1. 1. ... 0. 0. 0.]\n",
      " [0. 1. 1. ... 0. 0. 0.]\n",
      " [0. 1. 1. ... 0. 0. 0.]\n",
      " ...\n",
      " [0. 1. 1. ... 0. 0. 0.]\n",
      " [0. 1. 1. ... 0. 0. 0.]\n",
      " [0. 1. 1. ... 0. 0. 0.]]\n",
      "[1. 0. 1. ... 1. 0. 0.]\n"
     ]
    }
   ],
   "source": [
    "print(X_train)\n",
    "\n",
    "print(y_train)"
   ]
  },
  {
   "cell_type": "markdown",
   "metadata": {},
   "source": [
    "### Neural Network\n",
    "\n",
    "Maak een neuraal netwerk dat met deze data overweg kan."
   ]
  },
  {
   "cell_type": "code",
   "execution_count": 8,
   "metadata": {},
   "outputs": [
    {
     "name": "stdout",
     "output_type": "stream",
     "text": [
      "(25000, 10000)\n",
      "Metal device set to: Apple M1 Pro\n"
     ]
    },
    {
     "name": "stderr",
     "output_type": "stream",
     "text": [
      "2022-02-18 12:02:38.589810: I tensorflow/core/common_runtime/pluggable_device/pluggable_device_factory.cc:305] Could not identify NUMA node of platform GPU ID 0, defaulting to 0. Your kernel may not have been built with NUMA support.\n",
      "2022-02-18 12:02:38.589918: I tensorflow/core/common_runtime/pluggable_device/pluggable_device_factory.cc:271] Created TensorFlow device (/job:localhost/replica:0/task:0/device:GPU:0 with 0 MB memory) -> physical PluggableDevice (device: 0, name: METAL, pci bus id: <undefined>)\n"
     ]
    }
   ],
   "source": [
    "from keras.models import Sequential\n",
    "from keras.layers import Dense\n",
    "\n",
    "print(X_train.shape)\n",
    "\n",
    "model = Sequential()\n",
    "\n",
    "model.add(layers.Dense(4, activation='relu', input_shape=(10000,)))\n",
    "model.add(layers.Dense(1, activation='sigmoid'))\n",
    "\n",
    "\n"
   ]
  },
  {
   "cell_type": "markdown",
   "metadata": {},
   "source": [
    "Kies een loss function en optimizer en compileer het netwerk. Bedenk hierbij goed welke het meest geschikt is voor het probleem dat je aan het oplossen bent en voor de vorm van de output."
   ]
  },
  {
   "cell_type": "code",
   "execution_count": 9,
   "metadata": {},
   "outputs": [
    {
     "name": "stdout",
     "output_type": "stream",
     "text": [
      "Model: \"sequential\"\n",
      "_________________________________________________________________\n",
      " Layer (type)                Output Shape              Param #   \n",
      "=================================================================\n",
      " dense (Dense)               (None, 4)                 40004     \n",
      "                                                                 \n",
      " dense_1 (Dense)             (None, 1)                 5         \n",
      "                                                                 \n",
      "=================================================================\n",
      "Total params: 40,009\n",
      "Trainable params: 40,009\n",
      "Non-trainable params: 0\n",
      "_________________________________________________________________\n"
     ]
    }
   ],
   "source": [
    "model.compile(optimizer='adam',\n",
    "            metrics = ['accuracy'],\n",
    "            loss = 'binary_crossentropy')\n",
    "\n",
    "model.summary()"
   ]
  },
  {
   "cell_type": "markdown",
   "metadata": {},
   "source": [
    "### Split data\n",
    "\n",
    "Split in train en validatieset"
   ]
  },
  {
   "cell_type": "code",
   "execution_count": 10,
   "metadata": {},
   "outputs": [],
   "source": [
    "from sklearn.model_selection import train_test_split\n",
    "\n",
    "X_train, X_val, y_train, y_val = train_test_split(X_train, y_train, test_size=0.1)\n"
   ]
  },
  {
   "cell_type": "markdown",
   "metadata": {},
   "source": [
    "## Training & output\n",
    "Train je model model met de gemaakte train- en validatieset. "
   ]
  },
  {
   "cell_type": "code",
   "execution_count": 11,
   "metadata": {},
   "outputs": [
    {
     "name": "stdout",
     "output_type": "stream",
     "text": [
      "Epoch 1/10\n"
     ]
    },
    {
     "name": "stderr",
     "output_type": "stream",
     "text": [
      "2022-02-18 12:02:39.320420: W tensorflow/core/platform/profile_utils/cpu_utils.cc:128] Failed to get CPU frequency: 0 Hz\n",
      "2022-02-18 12:02:39.471954: I tensorflow/core/grappler/optimizers/custom_graph_optimizer_registry.cc:113] Plugin optimizer for device_type GPU is enabled.\n"
     ]
    },
    {
     "name": "stdout",
     "output_type": "stream",
     "text": [
      "352/352 [==============================] - 2s 6ms/step - loss: 0.4031 - accuracy: 0.8473 - val_loss: 0.3096 - val_accuracy: 0.8820\n",
      "Epoch 2/10\n",
      "  1/352 [..............................] - ETA: 1s - loss: 0.2404 - accuracy: 0.9062"
     ]
    },
    {
     "name": "stderr",
     "output_type": "stream",
     "text": [
      "2022-02-18 12:02:41.555119: I tensorflow/core/grappler/optimizers/custom_graph_optimizer_registry.cc:113] Plugin optimizer for device_type GPU is enabled.\n"
     ]
    },
    {
     "name": "stdout",
     "output_type": "stream",
     "text": [
      "352/352 [==============================] - 2s 5ms/step - loss: 0.2260 - accuracy: 0.9182 - val_loss: 0.2864 - val_accuracy: 0.8892\n",
      "Epoch 3/10\n",
      "352/352 [==============================] - 2s 5ms/step - loss: 0.1763 - accuracy: 0.9377 - val_loss: 0.2961 - val_accuracy: 0.8900\n",
      "Epoch 4/10\n",
      "352/352 [==============================] - 2s 5ms/step - loss: 0.1449 - accuracy: 0.9506 - val_loss: 0.3068 - val_accuracy: 0.8912\n",
      "Epoch 5/10\n",
      "352/352 [==============================] - 2s 5ms/step - loss: 0.1225 - accuracy: 0.9596 - val_loss: 0.3393 - val_accuracy: 0.8828\n",
      "Epoch 6/10\n",
      "352/352 [==============================] - 2s 5ms/step - loss: 0.1043 - accuracy: 0.9674 - val_loss: 0.3643 - val_accuracy: 0.8828\n",
      "Epoch 7/10\n",
      "352/352 [==============================] - 2s 5ms/step - loss: 0.0886 - accuracy: 0.9744 - val_loss: 0.3909 - val_accuracy: 0.8788\n",
      "Epoch 8/10\n",
      "352/352 [==============================] - 2s 5ms/step - loss: 0.0757 - accuracy: 0.9788 - val_loss: 0.4243 - val_accuracy: 0.8760\n",
      "Epoch 9/10\n",
      "352/352 [==============================] - 2s 5ms/step - loss: 0.0650 - accuracy: 0.9826 - val_loss: 0.4606 - val_accuracy: 0.8740\n",
      "Epoch 10/10\n",
      "352/352 [==============================] - 2s 5ms/step - loss: 0.0545 - accuracy: 0.9871 - val_loss: 0.4950 - val_accuracy: 0.8728\n"
     ]
    }
   ],
   "source": [
    "history = model.fit(X_train, y_train, batch_size=64, epochs=10, validation_data=(X_val, y_val))"
   ]
  },
  {
   "cell_type": "markdown",
   "metadata": {},
   "source": [
    "Plot een learning curve. Zet de accuraatheid uit tegen de epochs en maak onderscheid tussen de training en validatie data. Wat zou volgens dit figuur het optimale aantal epochs zijn?"
   ]
  },
  {
   "cell_type": "code",
   "execution_count": 17,
   "metadata": {},
   "outputs": [
    {
     "data": {
      "image/png": "[encoded data removed]",
      "text/plain": [
       "<Figure size 432x288 with 1 Axes>"
      ]
     },
     "metadata": {
      "needs_background": "light"
     },
     "output_type": "display_data"
    }
   ],
   "source": [
    "plt.plot(history.history['accuracy'])\n",
    "plt.plot(history.history['val_accuracy'])\n",
    "plt.title('model accuracy')\n",
    "plt.ylabel('accuracy')\n",
    "plt.xlabel('epoch')\n",
    "plt.legend(['train', 'test'], loc='upper left')\n",
    "plt.show()\n"
   ]
  },
  {
   "cell_type": "markdown",
   "metadata": {},
   "source": [
    "Plot een foutcurve. Zet de loss uit tegen de epochs en maak onderscheid tussen de training en validatie data. Bekijk of er misschien sprake is van overfitting/underfitting."
   ]
  },
  {
   "cell_type": "code",
   "execution_count": 16,
   "metadata": {},
   "outputs": [
    {
     "data": {
      "image/png": "[encoded data removed]",
      "text/plain": [
       "<Figure size 432x288 with 1 Axes>"
      ]
     },
     "metadata": {
      "needs_background": "light"
     },
     "output_type": "display_data"
    }
   ],
   "source": [
    "plt.plot(history.history['loss'])\n",
    "plt.plot(history.history['val_loss'])\n",
    "plt.title('model loss')\n",
    "plt.ylabel('loss')\n",
    "plt.xlabel('epoch')\n",
    "plt.legend(['train', 'test'], loc='upper left')\n",
    "plt.show()\n"
   ]
  },
  {
   "cell_type": "markdown",
   "metadata": {},
   "source": [
    "Test je model"
   ]
  },
  {
   "cell_type": "code",
   "execution_count": 14,
   "metadata": {},
   "outputs": [
    {
     "name": "stdout",
     "output_type": "stream",
     "text": [
      "782/782 [==============================] - 3s 3ms/step - loss: 0.4813 - accuracy: 0.8592\n",
      "0.8591600656509399\n"
     ]
    }
   ],
   "source": [
    "test_loss, test_acc = model.evaluate(X_test, y_test)\n",
    "print(test_acc)"
   ]
  },
  {
   "cell_type": "markdown",
   "metadata": {},
   "source": [
    "Kijk wat er gebeurt met de foutcurves van de train en validatiedata en met de testscore als je verschillende netwerken maakt met verschillende instellingen (aantal lagen, aantal neuronen, optimizer).\n",
    "\n",
    "### Test 1 - meerdere layers"
   ]
  },
  {
   "cell_type": "code",
   "execution_count": 18,
   "metadata": {},
   "outputs": [
    {
     "name": "stdout",
     "output_type": "stream",
     "text": [
      "Model: \"sequential_2\"\n",
      "_________________________________________________________________\n",
      " Layer (type)                Output Shape              Param #   \n",
      "=================================================================\n",
      " dense_6 (Dense)             (None, 4)                 40004     \n",
      "                                                                 \n",
      " dense_7 (Dense)             (None, 2)                 10        \n",
      "                                                                 \n",
      " dense_8 (Dense)             (None, 2)                 6         \n",
      "                                                                 \n",
      " dense_9 (Dense)             (None, 1)                 3         \n",
      "                                                                 \n",
      "=================================================================\n",
      "Total params: 40,023\n",
      "Trainable params: 40,023\n",
      "Non-trainable params: 0\n",
      "_________________________________________________________________\n",
      "Epoch 1/10\n",
      "  9/352 [..............................] - ETA: 2s - loss: 0.6920 - accuracy: 0.4896  "
     ]
    },
    {
     "name": "stderr",
     "output_type": "stream",
     "text": [
      "2022-02-18 12:03:47.233851: I tensorflow/core/grappler/optimizers/custom_graph_optimizer_registry.cc:113] Plugin optimizer for device_type GPU is enabled.\n"
     ]
    },
    {
     "name": "stdout",
     "output_type": "stream",
     "text": [
      "352/352 [==============================] - 3s 7ms/step - loss: 0.4948 - accuracy: 0.8024 - val_loss: 0.3280 - val_accuracy: 0.8844\n",
      "Epoch 2/10\n",
      "  1/352 [..............................] - ETA: 2s - loss: 0.2918 - accuracy: 0.8906"
     ]
    },
    {
     "name": "stderr",
     "output_type": "stream",
     "text": [
      "2022-02-18 12:03:49.473571: I tensorflow/core/grappler/optimizers/custom_graph_optimizer_registry.cc:113] Plugin optimizer for device_type GPU is enabled.\n"
     ]
    },
    {
     "name": "stdout",
     "output_type": "stream",
     "text": [
      "352/352 [==============================] - 2s 6ms/step - loss: 0.2238 - accuracy: 0.9222 - val_loss: 0.3049 - val_accuracy: 0.8900\n",
      "Epoch 3/10\n",
      "352/352 [==============================] - 2s 6ms/step - loss: 0.1569 - accuracy: 0.9501 - val_loss: 0.3395 - val_accuracy: 0.8860\n",
      "Epoch 4/10\n",
      "352/352 [==============================] - 2s 6ms/step - loss: 0.1200 - accuracy: 0.9636 - val_loss: 0.3872 - val_accuracy: 0.8808\n",
      "Epoch 5/10\n",
      "352/352 [==============================] - 2s 6ms/step - loss: 0.0965 - accuracy: 0.9709 - val_loss: 0.4396 - val_accuracy: 0.8740\n",
      "Epoch 6/10\n",
      "352/352 [==============================] - 2s 6ms/step - loss: 0.0785 - accuracy: 0.9784 - val_loss: 0.4858 - val_accuracy: 0.8740\n",
      "Epoch 7/10\n",
      "352/352 [==============================] - 2s 6ms/step - loss: 0.0605 - accuracy: 0.9844 - val_loss: 0.5472 - val_accuracy: 0.8680\n",
      "Epoch 8/10\n",
      "352/352 [==============================] - 2s 6ms/step - loss: 0.0486 - accuracy: 0.9884 - val_loss: 0.6224 - val_accuracy: 0.8636\n",
      "Epoch 9/10\n",
      "352/352 [==============================] - 2s 6ms/step - loss: 0.0403 - accuracy: 0.9906 - val_loss: 0.6794 - val_accuracy: 0.8672\n",
      "Epoch 10/10\n",
      "352/352 [==============================] - 2s 6ms/step - loss: 0.0378 - accuracy: 0.9894 - val_loss: 0.7459 - val_accuracy: 0.8640\n"
     ]
    },
    {
     "data": {
      "image/png": "[encoded data removed]",
      "text/plain": [
       "<Figure size 432x288 with 1 Axes>"
      ]
     },
     "metadata": {
      "needs_background": "light"
     },
     "output_type": "display_data"
    },
    {
     "data": {
      "image/png": "[encoded data removed]",
      "text/plain": [
       "<Figure size 432x288 with 1 Axes>"
      ]
     },
     "metadata": {
      "needs_background": "light"
     },
     "output_type": "display_data"
    },
    {
     "name": "stdout",
     "output_type": "stream",
     "text": [
      "782/782 [==============================] - 3s 4ms/step - loss: 0.7557 - accuracy: 0.8498\n",
      "0.8498400449752808\n"
     ]
    }
   ],
   "source": [
    "model = Sequential()\n",
    "\n",
    "model.add(Dense(4, input_shape = (10000,), activation = 'relu'))\n",
    "model.add(Dense(2, activation = 'relu'))\n",
    "model.add(Dense(2, activation = 'relu'))\n",
    "model.add(Dense(1, activation = 'sigmoid'))\n",
    "\n",
    "model.compile(optimizer='adam',\n",
    "            metrics = ['accuracy'],\n",
    "            loss = 'binary_crossentropy')\n",
    "\n",
    "model.summary()\n",
    "\n",
    "history = model.fit(X_train, y_train, batch_size=64, epochs=10, validation_data=(X_val, y_val))\n",
    "\n",
    "plt.plot(history.history['accuracy'])\n",
    "plt.plot(history.history['val_accuracy'])\n",
    "plt.title('model accuracy')\n",
    "plt.ylabel('accuracy')\n",
    "plt.xlabel('epoch')\n",
    "plt.legend(['train', 'test'], loc='upper left')\n",
    "plt.show()\n",
    "\n",
    "plt.plot(history.history['loss'])\n",
    "plt.plot(history.history['val_loss'])\n",
    "plt.title('model loss')\n",
    "plt.ylabel('loss')\n",
    "plt.xlabel('epoch')\n",
    "plt.legend(['train', 'test'], loc='upper left')\n",
    "plt.show()\n",
    "\n",
    "test_loss, test_acc = model.evaluate(X_test, y_test)\n",
    "print(test_acc)"
   ]
  },
  {
   "cell_type": "markdown",
   "metadata": {},
   "source": [
    "### Test 2 - Andere loss functie (Verslechterd resultaat)"
   ]
  },
  {
   "cell_type": "code",
   "execution_count": null,
   "metadata": {},
   "outputs": [
    {
     "name": "stdout",
     "output_type": "stream",
     "text": [
      "Model: \"sequential_4\"\n",
      "_________________________________________________________________\n",
      " Layer (type)                Output Shape              Param #   \n",
      "=================================================================\n",
      " dense_12 (Dense)            (None, 4)                 40004     \n",
      "                                                                 \n",
      " dense_13 (Dense)            (None, 1)                 5         \n",
      "                                                                 \n",
      "=================================================================\n",
      "Total params: 40,009\n",
      "Trainable params: 40,009\n",
      "Non-trainable params: 0\n",
      "_________________________________________________________________\n",
      "Epoch 1/10\n",
      " 17/352 [>.............................] - ETA: 2s - loss: 0.0000e+00 - accuracy: 0.4890"
     ]
    },
    {
     "name": "stderr",
     "output_type": "stream",
     "text": [
      "2022-02-18 12:05:04.378981: I tensorflow/core/grappler/optimizers/custom_graph_optimizer_registry.cc:113] Plugin optimizer for device_type GPU is enabled.\n"
     ]
    },
    {
     "name": "stdout",
     "output_type": "stream",
     "text": [
      "349/352 [============================>.] - ETA: 0s - loss: 0.0000e+00 - accuracy: 0.4978"
     ]
    },
    {
     "name": "stderr",
     "output_type": "stream",
     "text": [
      "2022-02-18 12:05:06.732088: I tensorflow/core/grappler/optimizers/custom_graph_optimizer_registry.cc:113] Plugin optimizer for device_type GPU is enabled.\n"
     ]
    },
    {
     "name": "stdout",
     "output_type": "stream",
     "text": [
      "352/352 [==============================] - 3s 7ms/step - loss: 0.0000e+00 - accuracy: 0.4979 - val_loss: 0.0000e+00 - val_accuracy: 0.5188\n",
      "Epoch 2/10\n",
      "352/352 [==============================] - 2s 7ms/step - loss: 0.0000e+00 - accuracy: 0.4979 - val_loss: 0.0000e+00 - val_accuracy: 0.5188\n",
      "Epoch 3/10\n",
      "352/352 [==============================] - 2s 7ms/step - loss: 0.0000e+00 - accuracy: 0.4979 - val_loss: 0.0000e+00 - val_accuracy: 0.5188\n",
      "Epoch 4/10\n",
      "352/352 [==============================] - 2s 7ms/step - loss: 0.0000e+00 - accuracy: 0.4979 - val_loss: 0.0000e+00 - val_accuracy: 0.5188\n",
      "Epoch 5/10\n",
      "352/352 [==============================] - 2s 7ms/step - loss: 0.0000e+00 - accuracy: 0.4979 - val_loss: 0.0000e+00 - val_accuracy: 0.5188\n",
      "Epoch 6/10\n",
      "352/352 [==============================] - 2s 7ms/step - loss: 0.0000e+00 - accuracy: 0.4979 - val_loss: 0.0000e+00 - val_accuracy: 0.5188\n",
      "Epoch 7/10\n",
      "352/352 [==============================] - 2s 7ms/step - loss: 0.0000e+00 - accuracy: 0.4979 - val_loss: 0.0000e+00 - val_accuracy: 0.5188\n",
      "Epoch 8/10\n",
      "352/352 [==============================] - 2s 7ms/step - loss: 0.0000e+00 - accuracy: 0.4979 - val_loss: 0.0000e+00 - val_accuracy: 0.5188\n",
      "Epoch 9/10\n",
      "352/352 [==============================] - 2s 7ms/step - loss: 0.0000e+00 - accuracy: 0.4979 - val_loss: 0.0000e+00 - val_accuracy: 0.5188\n",
      "Epoch 10/10\n",
      "206/352 [================>.............] - ETA: 0s - loss: 0.0000e+00 - accuracy: 0.4992"
     ]
    }
   ],
   "source": [
    "model = Sequential()\n",
    "\n",
    "model.add(Dense(4, input_shape = [10000], activation = 'relu'))\n",
    "model.add(Dense(1, activation = 'sigmoid'))\n",
    "\n",
    "model.compile(optimizer='adam',\n",
    "            metrics = ['accuracy'],\n",
    "            loss = 'categorical_crossentropy')\n",
    "\n",
    "model.summary()\n",
    "\n",
    "history = model.fit(X_train, y_train, batch_size=64, epochs=10, validation_data=(X_val, y_val))\n",
    "\n",
    "plt.plot(history.history['accuracy'])\n",
    "plt.plot(history.history['val_accuracy'])\n",
    "plt.title('model accuracy')\n",
    "plt.ylabel('accuracy')\n",
    "plt.xlabel('epoch')\n",
    "plt.legend(['train', 'test'], loc='upper left')\n",
    "plt.show()\n",
    "\n",
    "plt.plot(history.history['loss'])\n",
    "plt.plot(history.history['val_loss'])\n",
    "plt.title('model loss')\n",
    "plt.ylabel('loss')\n",
    "plt.xlabel('epoch')\n",
    "plt.legend(['train', 'test'], loc='upper left')\n",
    "plt.show()\n",
    "\n",
    "test_loss, test_acc = model.evaluate(X_test, y_test)\n",
    "print(test_acc)"
   ]
  },
  {
   "cell_type": "markdown",
   "metadata": {},
   "source": [
    "### Test 3 - aantal neuronen vergroten & meerdere layers (overfitting)"
   ]
  },
  {
   "cell_type": "code",
   "execution_count": null,
   "metadata": {},
   "outputs": [],
   "source": [
    "model = Sequential()\n",
    "\n",
    "model.add(Dense(300, input_shape = [10000], activation = 'relu'))\n",
    "model.add(Dense(1, activation = 'sigmoid'))\n",
    "\n",
    "model.compile(optimizer='adam',\n",
    "            metrics = ['accuracy'],\n",
    "            loss = 'binary_crossentropy')\n",
    "\n",
    "model.summary()\n",
    "\n",
    "history = model.fit(X_train, y_train, batch_size=64, epochs=10, validation_data=(X_val, y_val))\n",
    "\n",
    "plt.plot(history.history['accuracy'])\n",
    "plt.plot(history.history['val_accuracy'])\n",
    "plt.title('model accuracy')\n",
    "plt.ylabel('accuracy')\n",
    "plt.xlabel('epoch')\n",
    "plt.legend(['train', 'test'], loc='upper left')\n",
    "plt.show()\n",
    "\n",
    "plt.plot(history.history['loss'])\n",
    "plt.plot(history.history['val_loss'])\n",
    "plt.title('model loss')\n",
    "plt.ylabel('loss')\n",
    "plt.xlabel('epoch')\n",
    "plt.legend(['train', 'test'], loc='upper left')\n",
    "plt.show()\n",
    "\n",
    "test_loss, test_acc = model.evaluate(X_test, y_test)\n",
    "print(test_acc)"
   ]
  },
  {
   "cell_type": "markdown",
   "metadata": {},
   "source": [
    "### Dropout layer\n",
    "Bonusvraag: Zoek uit wat dropout lagen voor deep learning zijn en experimenteer met dropout lagen in jouw netwerk. Welke effect heeft dit op de resultaten?\n",
    "\n",
    "Dropout is een techniek waarbij willekeurig geselecteerde neuronen tijdens de training worden genegeerd. Ze worden willekeurig \"uitgevallen\". Dit betekent dat hun bijdrage aan de activering van stroomafwaartse neuronen tijdelijk wordt verwijderd bij de voorwaartse doorgang en dat eventuele gewichtsupdates niet worden toegepast op de neuron bij de achterwaartse doorgang."
   ]
  },
  {
   "cell_type": "code",
   "execution_count": null,
   "metadata": {},
   "outputs": [],
   "source": [
    "model = Sequential()\n",
    "\n",
    "model.add(Dense(4, input_shape = (10000,), activation = 'relu'))\n",
    "model.add(layers.Dropout(.5))\n",
    "model.add(Dense(1,activation = 'sigmoid'))\n",
    "\n",
    "model.compile(optimizer='adam',\n",
    "            metrics = ['accuracy'],\n",
    "            loss = 'binary_crossentropy')\n",
    "\n",
    "model.summary()\n",
    "\n",
    "history = model.fit(X_train, y_train, batch_size=64, epochs=10, validation_data=(X_val, y_val))\n",
    "\n",
    "plt.plot(history.history['accuracy'])\n",
    "plt.plot(history.history['val_accuracy'])\n",
    "plt.title('model accuracy')\n",
    "plt.ylabel('accuracy')\n",
    "plt.xlabel('epoch')\n",
    "plt.legend(['train', 'test'], loc='upper left')\n",
    "plt.show()\n",
    "\n",
    "plt.plot(history.history['loss'])\n",
    "plt.plot(history.history['val_loss'])\n",
    "plt.title('model loss')\n",
    "plt.ylabel('loss')\n",
    "plt.xlabel('epoch')\n",
    "plt.legend(['train', 'test'], loc='upper left')\n",
    "plt.show()\n",
    "\n",
    "test_loss, test_acc = model.evaluate(X_test, y_test)\n",
    "print(test_acc)"
   ]
  },
  {
   "cell_type": "markdown",
   "metadata": {},
   "source": [
    "# Evaluatie\n",
    "\n",
    "Deeplearning is niet als makkelijk als gedacht. Je hebt veel vrijheid met hoe je dingen aanpakt in vergelijking met machine learning. Zo heb ik geleerd dat de optimer functie, aantal epochs, aantal layers en het aantal neuronen o.a. een invloed hebben op de accuracy.\n",
    "\n",
    "Toch heb ik er van genoten. Het zit ingewikkeld in elkaar, zoals backpropagation enzo, maar ik kijk ernaar uit om dit allemaal te leren."
   ]
  }
 ],
 "metadata": {
  "kernelspec": {
   "display_name": "Python 3 (ipykernel)",
   "language": "python",
   "name": "python3"
  },
  "language_info": {
   "codemirror_mode": {
    "name": "ipython",
    "version": 3
   },
   "file_extension": ".py",
   "mimetype": "text/x-python",
   "name": "python",
   "nbconvert_exporter": "python",
   "pygments_lexer": "ipython3",
   "version": "3.9.10"
  }
 },
 "nbformat": 4,
 "nbformat_minor": 2
}
