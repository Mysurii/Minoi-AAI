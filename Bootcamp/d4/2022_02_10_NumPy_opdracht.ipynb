{
 "cells": [
  {
   "cell_type": "markdown",
   "metadata": {
    "id": "Nn4Qzgx-2m9Y"
   },
   "source": [
    "# Python versus Numpy\n",
    "\n",
    "### Stijn Oomes\n",
    "\n",
    "donderdag 10 februari 2022\n",
    "\n",
    "---\n",
    " \n",
    "**Python Data Science Handbook**\n",
    "\n",
    "Chapter 2. Introduction to NumPy\n",
    "\n",
    "https://learning.oreilly.com/library/view/python-data-science/9781491912126/ch02.html#introduction-to-numpy"
   ]
  },
  {
   "cell_type": "markdown",
   "metadata": {
    "id": "QFTVWQPu1fAf"
   },
   "source": [
    "## Importeer libraries"
   ]
  },
  {
   "cell_type": "markdown",
   "metadata": {
    "id": "AuuPF_Q43f90"
   },
   "source": [
    "Controleer welke version van Python in dit notebook wordt gerund."
   ]
  },
  {
   "cell_type": "code",
   "execution_count": 121,
   "metadata": {
    "colab": {
     "base_uri": "https://localhost:8080/"
    },
    "id": "34e1blkU1jVf",
    "outputId": "f75ca1a0-1c29-4c45-8f67-2a2c8f3c7c5f"
   },
   "outputs": [
    {
     "name": "stdout",
     "output_type": "stream",
     "text": [
      "3.10.2\n"
     ]
    }
   ],
   "source": [
    "from platform import python_version\n",
    "\n",
    "print(python_version())"
   ]
  },
  {
   "cell_type": "markdown",
   "metadata": {
    "id": "pIhpnHi_4Laf"
   },
   "source": [
    "Importeer Numpy en OpenCV en controleer welke versie worden gerund."
   ]
  },
  {
   "cell_type": "code",
   "execution_count": 122,
   "metadata": {
    "colab": {
     "base_uri": "https://localhost:8080/",
     "height": 35
    },
    "id": "6E1LpQe11u24",
    "outputId": "4a87d865-1292-4bd0-d5c9-6f3e0a8adcf9"
   },
   "outputs": [
    {
     "name": "stdout",
     "output_type": "stream",
     "text": [
      "1.22.2\n"
     ]
    }
   ],
   "source": [
    "import numpy as np\n",
    "print(np.__version__)"
   ]
  },
  {
   "cell_type": "code",
   "execution_count": 123,
   "metadata": {
    "colab": {
     "base_uri": "https://localhost:8080/",
     "height": 35
    },
    "id": "cDXGHao61zWn",
    "outputId": "526fc409-7a5a-4a8f-a63c-0010ab628068",
    "scrolled": true
   },
   "outputs": [
    {
     "name": "stdout",
     "output_type": "stream",
     "text": [
      "4.5.5\n"
     ]
    }
   ],
   "source": [
    "import cv2 as cv # Je ziet dat ik efficient ben en liever niet elke keer de '2' achter 'cv' wil typen.\n",
    "print(cv.__version__)"
   ]
  },
  {
   "cell_type": "markdown",
   "metadata": {
    "id": "TyJ5LW-S64zm"
   },
   "source": [
    "Ik check ook meteen even de versies van Scikit-Learn, TensorFlow, en Keras. Deze libraries gaan we volgende week gebruiken."
   ]
  },
  {
   "cell_type": "code",
   "execution_count": 124,
   "metadata": {
    "colab": {
     "base_uri": "https://localhost:8080/",
     "height": 35
    },
    "id": "687_2sjo7Ey-",
    "outputId": "12d52e5f-e589-497b-926d-513dcb635d1d"
   },
   "outputs": [
    {
     "name": "stdout",
     "output_type": "stream",
     "text": [
      "1.0.2\n"
     ]
    }
   ],
   "source": [
    "import sklearn as sk\n",
    "print(sk.__version__)"
   ]
  },
  {
   "cell_type": "code",
   "execution_count": 125,
   "metadata": {
    "colab": {
     "base_uri": "https://localhost:8080/",
     "height": 35
    },
    "id": "tFBiuEiO12jj",
    "outputId": "6a6cc585-a38f-4ffc-bc4c-f92ab98b0e22"
   },
   "outputs": [
    {
     "name": "stdout",
     "output_type": "stream",
     "text": [
      "2.8.0\n"
     ]
    }
   ],
   "source": [
    "import tensorflow as tf\n",
    "print(tf.__version__)"
   ]
  },
  {
   "cell_type": "code",
   "execution_count": 126,
   "metadata": {
    "colab": {
     "base_uri": "https://localhost:8080/",
     "height": 35
    },
    "id": "xlfjAAVJ15Ce",
    "outputId": "31aaf7d1-624e-4374-eebd-fdb8481e6dd6"
   },
   "outputs": [
    {
     "name": "stdout",
     "output_type": "stream",
     "text": [
      "2.8.0\n"
     ]
    }
   ],
   "source": [
    "import keras as ks\n",
    "print(ks.__version__)"
   ]
  },
  {
   "cell_type": "markdown",
   "metadata": {
    "id": "vxmGsI5J1qqn"
   },
   "source": [
    "## Definieer een parameter"
   ]
  },
  {
   "cell_type": "markdown",
   "metadata": {
    "id": "W10S21jl8NBl"
   },
   "source": [
    "Definieer een parameter n en geef het voorlopig even een relatief kleine waarde, bijvoorbeeld 4.\n",
    "\n",
    "We beginnen de test met een datastructuur met weinig elementen. Daarna mag je die waarde zo groot maken als je computer aan kan."
   ]
  },
  {
   "cell_type": "code",
   "execution_count": 127,
   "metadata": {
    "id": "lJa6RHyKIc18"
   },
   "outputs": [],
   "source": [
    "n = 4"
   ]
  },
  {
   "cell_type": "markdown",
   "metadata": {
    "id": "RlRD_h2K8ep6"
   },
   "source": [
    "## Meet hoeveel geheugen wordt gebruikt"
   ]
  },
  {
   "cell_type": "markdown",
   "metadata": {
    "id": "Ws-WGiKV8qaz"
   },
   "source": [
    "Hoe kunnen we zien hoeveel geheugen een datastructuur inneemt?\n",
    "\n",
    "Definieer een lijst in Python met `n` elementen met een random waarde.\n",
    "\n",
    "Hint: `import random`"
   ]
  },
  {
   "cell_type": "code",
   "execution_count": 128,
   "metadata": {
    "colab": {
     "base_uri": "https://localhost:8080/"
    },
    "id": "fq6OZosi9xuu",
    "outputId": "7c79bba1-34b7-4a73-8369-840ee22cb7cd"
   },
   "outputs": [
    {
     "data": {
      "text/plain": [
       "[0.8757207129567962,\n",
       " 0.06770071135317057,\n",
       " 0.9806135210611548,\n",
       " 0.22109728607738266]"
      ]
     },
     "execution_count": 128,
     "metadata": {},
     "output_type": "execute_result"
    }
   ],
   "source": [
    "import random\n",
    "\n",
    "# jouw code\n",
    "\n",
    "python_list = [random.random() for _ in range(n)]\n",
    "\n",
    "python_list"
   ]
  },
  {
   "cell_type": "markdown",
   "metadata": {
    "id": "h_Se7xe_Aqp0"
   },
   "source": [
    "\n",
    "Kijk daarna hoeveel bytes deze lijst in het geheugen inneemt.\n",
    "\n",
    "Hint: `import sys`"
   ]
  },
  {
   "cell_type": "code",
   "execution_count": 129,
   "metadata": {
    "colab": {
     "base_uri": "https://localhost:8080/"
    },
    "id": "AD5-VV1s-7ER",
    "outputId": "58f9dc14-ee3f-42f0-c1b6-c2cefaac4e56"
   },
   "outputs": [
    {
     "data": {
      "text/plain": [
       "88"
      ]
     },
     "execution_count": 129,
     "metadata": {},
     "output_type": "execute_result"
    }
   ],
   "source": [
    "import sys\n",
    "\n",
    "# jouw code\n",
    "sys.getsizeof(python_list)"
   ]
  },
  {
   "cell_type": "markdown",
   "metadata": {
    "id": "5wObavLdAUSa"
   },
   "source": [
    "Kijk ook hoeveel één element van deze lijst in het geheugen inneemt."
   ]
  },
  {
   "cell_type": "code",
   "execution_count": 130,
   "metadata": {
    "colab": {
     "base_uri": "https://localhost:8080/"
    },
    "id": "wjod3XRw_Xqn",
    "outputId": "ddaa10ec-8a20-4212-9743-a4eedc0e7961"
   },
   "outputs": [
    {
     "data": {
      "text/plain": [
       "24"
      ]
     },
     "execution_count": 130,
     "metadata": {},
     "output_type": "execute_result"
    }
   ],
   "source": [
    "# jouw code\n",
    "first_item = python_list[0]\n",
    "\n",
    "sys.getsizeof(first_item)"
   ]
  },
  {
   "cell_type": "markdown",
   "metadata": {
    "id": "9CaosQyD2GPK"
   },
   "source": [
    "Experimenteer eens met de grootte van andere datatypes. \n",
    "\n",
    "Hoeveel geheugen neemt een Boolean in? Verbaast je dat? => Ja, hoezo zou true meer geheugen innemen dan false? Boolean neemt bijne evenveel als een int in beslag"
   ]
  },
  {
   "cell_type": "code",
   "execution_count": 131,
   "metadata": {
    "colab": {
     "base_uri": "https://localhost:8080/"
    },
    "id": "4Uy3GWaphNYv",
    "outputId": "3ec9ea77-40da-45db-fb57-d617824533ae"
   },
   "outputs": [
    {
     "data": {
      "text/plain": [
       "28"
      ]
     },
     "execution_count": 131,
     "metadata": {},
     "output_type": "execute_result"
    }
   ],
   "source": [
    "p = True\n",
    "\n",
    "# jouw code\n",
    "sys.getsizeof(p)\n"
   ]
  },
  {
   "cell_type": "code",
   "execution_count": 132,
   "metadata": {},
   "outputs": [
    {
     "data": {
      "text/plain": [
       "24"
      ]
     },
     "execution_count": 132,
     "metadata": {},
     "output_type": "execute_result"
    }
   ],
   "source": [
    "p = False\n",
    "\n",
    "# jouw code\n",
    "sys.getsizeof(p)\n"
   ]
  },
  {
   "cell_type": "code",
   "execution_count": 133,
   "metadata": {},
   "outputs": [],
   "source": [
    "import time\n",
    "\n",
    "def print_time(list):\n",
    "    start = time.time()\n",
    "    sum(list)\n",
    "    end = time.time()\n",
    "    print(end-start)\n",
    "    "
   ]
  },
  {
   "cell_type": "markdown",
   "metadata": {
    "id": "forC9GEBC7CC"
   },
   "source": [
    "## Meet hoe lang een berekening duurt"
   ]
  },
  {
   "cell_type": "markdown",
   "metadata": {
    "id": "ynDy0tphDAv4"
   },
   "source": [
    "Hoe lang duurt het om bijvoorbeeld alle getallen in onze lijst op te tellen?"
   ]
  },
  {
   "cell_type": "code",
   "execution_count": 134,
   "metadata": {
    "colab": {
     "base_uri": "https://localhost:8080/"
    },
    "id": "RvSDJUxqC6uC",
    "outputId": "a51b9295-ff00-4360-ad64-6caac53d4834"
   },
   "outputs": [
    {
     "data": {
      "text/plain": [
       "2.145132231448504"
      ]
     },
     "execution_count": 134,
     "metadata": {},
     "output_type": "execute_result"
    }
   ],
   "source": [
    "sum(python_list)"
   ]
  },
  {
   "cell_type": "markdown",
   "metadata": {
    "id": "JWE3vFZpDNpT"
   },
   "source": [
    "Meet de starttijd, voer de sommatie uit, meet de eindtijd. Bepaal het verschil tusen eindtijd en begintijd. \n",
    "\n",
    "time.time() returns the number of seconds passed since epoch.\n",
    "\n",
    "Hint: `import time`"
   ]
  },
  {
   "cell_type": "code",
   "execution_count": 135,
   "metadata": {
    "colab": {
     "base_uri": "https://localhost:8080/"
    },
    "id": "jedyLrvED20O",
    "outputId": "95bd2d78-2087-4d8f-dff1-6280395ac3c4"
   },
   "outputs": [
    {
     "name": "stdout",
     "output_type": "stream",
     "text": [
      "0.0\n"
     ]
    }
   ],
   "source": [
    "import time\n",
    "\n",
    "print_time(python_list)\n"
   ]
  },
  {
   "cell_type": "markdown",
   "metadata": {},
   "source": [
    "In welke eenheid wordt de tijd gemeten?"
   ]
  },
  {
   "cell_type": "markdown",
   "metadata": {
    "id": "ZakyZzozJpC8"
   },
   "source": [
    "## Python list"
   ]
  },
  {
   "cell_type": "markdown",
   "metadata": {
    "id": "V3hOvXpt2tGW"
   },
   "source": [
    "Maak twee Python lists van lengte ``n``. Vermenigvuldig die twee lists elementsgewijs. Tel vervolgens alle getallen bij elkaar op.\n",
    "\n",
    "Bepaal hoeveel bytes de Python list in neemt.\n",
    "\n",
    "Meet ook hoe lang deze berekeningen duren. Let op je parameter ``n`` is nu nog klein."
   ]
  },
  {
   "cell_type": "code",
   "execution_count": 144,
   "metadata": {
    "colab": {
     "base_uri": "https://localhost:8080/"
    },
    "id": "klxdgEJrKscp",
    "outputId": "65d4e670-2403-4ede-84bd-23d15f0848c0",
    "scrolled": true
   },
   "outputs": [
    {
     "name": "stdout",
     "output_type": "stream",
     "text": [
      "8856\n",
      "0.00018780003301799297\n"
     ]
    }
   ],
   "source": [
    "# jouw code\n",
    "from timeit import default_timer as timer\n",
    "\n",
    "list2 = [random.random() for i in range(n)]\n",
    "\n",
    "multiplied_list = [a * b for a, b in zip(python_list, list2)]\n",
    "\n",
    "\n",
    "print(sys.getsizeof(multiplied_list))\n",
    "start = timer()\n",
    "sum(multiplied_list)\n",
    "end = timer()\n",
    "print(end-start)\n",
    "\n",
    "\n",
    "\n"
   ]
  },
  {
   "cell_type": "markdown",
   "metadata": {
    "id": "hy31aEn3Jsw0"
   },
   "source": [
    "## NumPy array"
   ]
  },
  {
   "cell_type": "markdown",
   "metadata": {
    "id": "KFj6xMSn3Ozs"
   },
   "source": [
    "Maak twee NumPy arrays van lengte ``n``. Vermenigvuldig de twee arrays elementsgewijs. Tel vervolgens alle getallen bij elkaar op.\n",
    "\n",
    "Bepaal hoeveel bytes de NumPy array in neemt.\n",
    "\n",
    "Meet hoe lang deze berekeningen duren. Let op je parameter ``n`` is nu nog klein."
   ]
  },
  {
   "cell_type": "code",
   "execution_count": 145,
   "metadata": {
    "colab": {
     "base_uri": "https://localhost:8080/"
    },
    "id": "EGNyDT93KTRj",
    "outputId": "32689d33-2635-4be5-88b1-5180ab0cc843"
   },
   "outputs": [
    {
     "name": "stdout",
     "output_type": "stream",
     "text": [
      "8304\n",
      "0.0002777001354843378\n"
     ]
    }
   ],
   "source": [
    "# jouw code\n",
    "\n",
    "numpy_array1 = np.random.randint(255, size=n)\n",
    "numpy_array2 = np.random.randint(255, size=n)\n",
    "\n",
    "\n",
    "multiplied_list = np.multiply(numpy_array1, numpy_array2)\n",
    "\n",
    "print(sys.getsizeof(multiplied_list))\n",
    "\n",
    "\n",
    "start = timer()\n",
    "multiplied_list.sum()\n",
    "end = timer()\n",
    "print(end-start)\n"
   ]
  },
  {
   "cell_type": "markdown",
   "metadata": {
    "id": "kt25l3SH1oS_"
   },
   "source": [
    "## Vergelijking Python list versus NumPy array"
   ]
  },
  {
   "cell_type": "markdown",
   "metadata": {
    "id": "uvnfhHXX3fmQ"
   },
   "source": [
    "Kijk nu voor verschillende waardes van de parameter ``n`` hoe lang de berekeningen duren.\n",
    "\n",
    "Bereken voor elke ``n`` de tijd voor de Python berekening gedeeld door de NumPy berekening.\n",
    "\n",
    "Kies als verschillende ``n`` waardes bijvoorbeeld 4, 8, 16, 32, 64, 128, 256, 1024."
   ]
  },
  {
   "cell_type": "code",
   "execution_count": 138,
   "metadata": {
    "id": "eS7EexvmR8av"
   },
   "outputs": [
    {
     "name": "stdout",
     "output_type": "stream",
     "text": [
      "{4: 3.2999087125062943e-06, 8: 1.800013706088066e-06, 16: 1.400010660290718e-06, 32: 1.500127837061882e-06, 64: 4.599802196025848e-06, 128: 3.8000289350748062e-06, 256: 4.500150680541992e-06, 512: 6.800051778554916e-06, 1024: 2.269982360303402e-05}\n",
      "{4: 1.8800143152475357e-05, 8: 1.1700205504894257e-05, 16: 7.00005330145359e-06, 32: 6.6999346017837524e-06, 64: 2.650008536875248e-05, 128: 9.800074622035027e-06, 256: 8.19982960820198e-06, 512: 1.3299984857439995e-05, 1024: 4.0300190448760986e-05}\n"
     ]
    }
   ],
   "source": [
    "# jouw code\n",
    "n = 4\n",
    "\n",
    "timing_python = {}\n",
    "timing_numpy = {}\n",
    "\n",
    "while n <= 1024:\n",
    "    python_list = [random.random() for i in range(n)]\n",
    "    numpy_array = np.random.randint(255, size=n)\n",
    "    \n",
    "    start = timer()\n",
    "    sum(python_list)\n",
    "    end = timer()\n",
    "    timing_python[n] = (end-start)\n",
    "    \n",
    "    start = timer()\n",
    "    numpy_array.sum()\n",
    "    end = timer()\n",
    "    timing_numpy[n] = (end-start)\n",
    "    \n",
    "    n *= 2\n",
    "    \n",
    "print(timing_python)\n",
    "print(timing_numpy)\n",
    "    \n",
    "    \n",
    "    \n",
    "\n",
    "\n",
    "\n"
   ]
  },
  {
   "cell_type": "markdown",
   "metadata": {},
   "source": [
    "## Bonus: maak een grafiek"
   ]
  },
  {
   "cell_type": "code",
   "execution_count": 139,
   "metadata": {},
   "outputs": [
    {
     "data": {
      "text/plain": [
       "[<matplotlib.lines.Line2D at 0x160065f1b70>]"
      ]
     },
     "execution_count": 139,
     "metadata": {},
     "output_type": "execute_result"
    },
    {
     "data": {
      "image/png": "[encoded data removed]",
      "text/plain": [
       "<Figure size 432x288 with 1 Axes>"
      ]
     },
     "metadata": {
      "needs_background": "light"
     },
     "output_type": "display_data"
    }
   ],
   "source": [
    "# jouw code\n",
    "\n",
    "import matplotlib.pyplot as plt\n",
    "\n",
    "# plot lines\n",
    "plt.plot(timing_python.keys(), timing_python.values())\n",
    "plt.plot(timing_numpy.keys(), timing_numpy.values())\n",
    "\n",
    "\n"
   ]
  }
 ],
 "metadata": {
  "accelerator": "GPU",
  "colab": {
   "collapsed_sections": [],
   "name": "2021_02_04_NumPy_uitwerking.ipynb",
   "provenance": []
  },
  "kernelspec": {
   "display_name": "Python 3 (ipykernel)",
   "language": "python",
   "name": "python3"
  },
  "language_info": {
   "codemirror_mode": {
    "name": "ipython",
    "version": 3
   },
   "file_extension": ".py",
   "mimetype": "text/x-python",
   "name": "python",
   "nbconvert_exporter": "python",
   "pygments_lexer": "ipython3",
   "version": "3.10.2"
  }
 },
 "nbformat": 4,
 "nbformat_minor": 1
}
